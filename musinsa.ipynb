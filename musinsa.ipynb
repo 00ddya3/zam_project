{
 "cells": [
  {
   "cell_type": "code",
   "execution_count": 7,
   "metadata": {},
   "outputs": [],
   "source": [
    "from selenium import webdriver\n",
    "from selenium.webdriver.common.keys import Keys\n",
    "import time\n",
    "from selenium.webdriver.common.by import By\n",
    "import re\n",
    "from selenium.common.exceptions import NoSuchElementException\n",
    "import pandas as pd"
   ]
  },
  {
   "cell_type": "code",
   "execution_count": 8,
   "metadata": {},
   "outputs": [
    {
     "name": "stderr",
     "output_type": "stream",
     "text": [
      "C:\\Users\\User\\AppData\\Local\\Temp/ipykernel_26000/4267082619.py:5: DeprecationWarning: executable_path has been deprecated, please pass in a Service object\n",
      "  driver = webdriver.Chrome('C:\\chromedriver.exe')\n"
     ]
    }
   ],
   "source": [
    "#003005 레깅스, 003010 점프슈트/오버롤, 003006 기타바지\n",
    "category_number =['003008', '003010', '003004', '003006']\n",
    "\n",
    "category = ['슈트팬츠/슬렉스', '점프슈트/오버롤', '트레이닝/조거팬츠', '기타바지']\n",
    "\n",
    "driver = webdriver.Chrome('C:\\chromedriver.exe')\n",
    "\n"
   ]
  },
  {
   "cell_type": "code",
   "execution_count": 19,
   "metadata": {},
   "outputs": [
    {
     "name": "stderr",
     "output_type": "stream",
     "text": [
      "C:\\Users\\User\\AppData\\Local\\Temp/ipykernel_26000/2235526827.py:14: DeprecationWarning: find_element_by_class_name is deprecated. Please use find_element(by=By.CLASS_NAME, value=name) instead\n",
      "  e = driver.find_element_by_class_name(\"box.list-box\")\n",
      "C:\\Users\\User\\AppData\\Local\\Temp/ipykernel_26000/2235526827.py:18: DeprecationWarning: find_element_by_class_name is deprecated. Please use find_element(by=By.CLASS_NAME, value=name) instead\n",
      "  e = driver.find_element_by_class_name(\"box.list-box\")\n"
     ]
    },
    {
     "name": "stdout",
     "output_type": "stream",
     "text": [
      "0\n",
      "1\n",
      "2\n",
      "15\n",
      "20\n",
      "49\n",
      "71\n",
      "73\n",
      "83\n",
      "84\n"
     ]
    }
   ],
   "source": [
    "driver.get('https://www.musinsa.com/category/003006')  #카테고리 넘버 집어넣기\n",
    "\n",
    "product_name = []\n",
    "price = []\n",
    "reviews = []\n",
    "like = []\n",
    "views =[]\n",
    "total_sales =[]\n",
    "type =[]\n",
    "\n",
    "\n",
    "# time.sleep(3)\n",
    "\n",
    "e = driver.find_element_by_class_name(\"box.list-box\")\n",
    "elems = e.find_elements(By.CLASS_NAME, \"li_box\")\n",
    "\n",
    "for j in range(90):\n",
    "        e = driver.find_element_by_class_name(\"box.list-box\")\n",
    "        elems = e.find_elements(By.CLASS_NAME, \"li_box\")\n",
    "        div =elems[j].find_element(By.CLASS_NAME, \"article_info\")\n",
    "\n",
    "        try:\n",
    "                point = div.find_element(By.CLASS_NAME, \"point\")\n",
    "        except NoSuchElementException:\n",
    "                continue\n",
    "\n",
    "        product_name.append(div.find_element(By.CLASS_NAME, \"list_info\").text)\n",
    "        price.append(div.find_element(By.CLASS_NAME, \"price\").text)\n",
    "        # point = elems[0].find_element(By.CLASS_NAME, 'point')\n",
    "        reviews.append(point.find_element(By.CLASS_NAME, 'count').text)\n",
    "\n",
    "        like.append(div.find_element(By.CLASS_NAME, \"txt_cnt_like\").text)\n",
    "        elems[j].find_element(By.NAME, \"goods_link\").send_keys(Keys.ENTER)\n",
    "        time.sleep(8)\n",
    "        driver.get(driver.current_url)\n",
    "        views.append(driver.find_element(By.ID, \"pageview_1m\").text)\n",
    "        total_sales.append(driver.find_element(By.ID, 'sales_1y_qty').text)\n",
    "        driver.back()\n",
    "        print(j)\n",
    "        time.sleep(5)"
   ]
  },
  {
   "cell_type": "code",
   "execution_count": 18,
   "metadata": {},
   "outputs": [],
   "source": [
    "# Create dictionary my_dict with three key:value pairs: my_dict\n",
    "my_dict = {'product_name' : product_name, 'price' : price, 'review' : reviews, \"likes\" : like, \"views\" : views, \"total_sales\": total_sales}\n",
    "\n",
    "# Build a DataFrame cars from my_dict: cars\n",
    "df = pd.DataFrame(my_dict)\n",
    "\n",
    "# Print cars\n",
    "df['type'] = '기타바지'  #정확한 카테고리명 적어야함!\n",
    "df\n",
    "\n",
    "df.to_csv(\"무신사_기타바지.csv\", mode='w',encoding='cp949')  #정확한 카테고리명 적어야함!"
   ]
  },
  {
   "cell_type": "code",
   "execution_count": 20,
   "metadata": {},
   "outputs": [
    {
     "data": {
      "text/plain": [
       "'c:\\\\jupiter_workspace\\\\zam_project'"
      ]
     },
     "execution_count": 20,
     "metadata": {},
     "output_type": "execute_result"
    }
   ],
   "source": [
    "pwd"
   ]
  },
  {
   "cell_type": "code",
   "execution_count": null,
   "metadata": {},
   "outputs": [],
   "source": []
  }
 ],
 "metadata": {
  "interpreter": {
   "hash": "f08154012ddadd8e950e6e9e035c7a7b32c136e7647e9b7c77e02eb723a8bedb"
  },
  "kernelspec": {
   "display_name": "Python 3.9.7 ('base')",
   "language": "python",
   "name": "python3"
  },
  "language_info": {
   "codemirror_mode": {
    "name": "ipython",
    "version": 3
   },
   "file_extension": ".py",
   "mimetype": "text/x-python",
   "name": "python",
   "nbconvert_exporter": "python",
   "pygments_lexer": "ipython3",
   "version": "3.9.7"
  },
  "orig_nbformat": 4
 },
 "nbformat": 4,
 "nbformat_minor": 2
}
