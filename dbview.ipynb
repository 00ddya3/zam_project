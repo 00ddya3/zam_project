{
 "cells": [
  {
   "cell_type": "markdown",
   "metadata": {},
   "source": [
    "# 네이버뷰 크롤링 후 DB 적재"
   ]
  },
  {
   "cell_type": "code",
   "execution_count": 1,
   "metadata": {},
   "outputs": [],
   "source": [
    "#모듈 import\n",
    "from bs4 import BeautifulSoup\n",
    "from selenium import webdriver\n",
    "import time\n",
    "import pandas  as pd \n",
    "import psycopg2\n",
    "from datetime import date, timedelta\n",
    "import re"
   ]
  },
  {
   "cell_type": "code",
   "execution_count": 2,
   "metadata": {},
   "outputs": [],
   "source": [
    "# 자동 스크롤다운 함수\n",
    "def scroll_down(driver):\n",
    "    driver.execute_script(\"window.scrollTo(0,document.body.scrollHeight);\")\n",
    "    time.sleep(5)\n",
    "\n",
    "#select문 만들기\n",
    "def select_command(table) :\n",
    "    command = 'select * from ' + table\n",
    "    return command\n",
    "\n",
    "#insert문 만들기\n",
    "def insert_command(table) :\n",
    "    command = 'insert into ' + table + ' (title, date, url, hashtag) values (%s, %s, %s, %s);'\n",
    "    return command"
   ]
  },
  {
   "cell_type": "markdown",
   "metadata": {},
   "source": [
    "'뷔스티에 원피스', '롱패딩', '숏패딩', '롱코트', '숏코트', '잠옷', '홈웨어', '트위드자켓', '블레이저 자켓', '싱글 자켓', '크롭 자켓', '레더 자켓', '루즈핏', '테일러드자켓', '린넨자켓', '반팔자켓', '라이더 자켓', '오버핏 자켓', '청자켓', '니트가디건', '볼레로', '아가일', '크롭가디건', '반팔가디건', '앙고라', '바람막이', '아노락', '윈드브레이커', '바시티자켓', '바시티점퍼', '야구점퍼', '여름아우터', '간절기아우터', '겨울아우터', '니트 맨투맨', '기모 맨투맨', '크롭 맨투맨', '남자 맨투맨', '반집업', '반팔 맨투맨', '크롭후드', '기모후드', '후드티', '남자 후드', '꾸안꾸', '플리스', '후리스', '반팔티', '크롭 반팔', '블라우스', '와이셔츠', '셔츠', '체크셔츠', '타이다이', '옥스퍼드셔츠', '남방', '슬리브티', '니트', '남자니트', '조끼', '크롭티', '봄슬랙스', '여름슬랙스', '가을슬랙스', '겨울슬랙스', '간절기슬랙스', '데님팬츠', '연청', '진청', '중청', '흑청', '그레이진', '와이드팬츠', '밴딩바지', '스키니진', '린넨팬츠', '반바지', '하이웨스트', '로우웨스트', '부츠컷', '치노팬츠', '트레이닝복', '트레이닝바지', '조거팬츠', '카고바지', '일자팬츠', '냉장고바지', '멜빵바지', '오버롤팬츠', '찢청', '미니스커트', '미디스커트', '롱스커트', '플레어스커트', 'A라인 스커트', 'H라인 스커트', '청치마', '테니스스커트', '프릴스커트', '레더 스커트', '랩스커트', '데님스커트', '플리츠스커트', '미니원피스', '미디원피스', '롱원피스', '나시원피스', '코르셋', '셔츠원피스', '벨벳원피스', '꽃원피스', '골지원피스', '골지티', '쉬폰원피스', '쉬폰블라우스', '린넨원피스', '카라원피스', '랩원피스', '니트원피스', '후드원피스', '코듀로이', '반팔원피스', '점프슈트', '봄룩북', '봄옷쇼핑', '봄코디', '봄옷하울', '여름룩북', '여름옷쇼핑', '여름코디', '여름하울', '가을룩북', '가을옷쇼핑', '가을코디', '가을하울', '겨울룩북', '겨울옷쇼핑', '겨울코디', '겨울하울', '캠퍼스룩', '아메카지룩', '프레피룩', '하객룩', '놈코어룩', '시티보이룩', '미니멀룩', '애슬레저룩', '데이트룩', '출근룩', '데일리룩'"
   ]
  },
  {
   "cell_type": "markdown",
   "metadata": {},
   "source": [
    "'침대', '매트리스', '토퍼', '소파', '테이블', '식탁', '책상', '거실장', 'tv장', '서랍', '수납장', '진열장', '책장', '선반', '행거', '옷장', '의자', '화장대', '콘솔','거울', '침구세트', '이불', '베개', '토퍼', '패드', '매트리스커버', '블라인드', '롤스크린', '커튼', '러그', '카페트', '매트', '쿠션', '방석', '소파커버', '조명', 'led평판등', '천장등', '장스탠드', '단스탠드', '데스크스탠드', '무드등', '장식조명', '벽조명', '센서등', '형광등', '집꾸미기', '방꾸미기', '인테리어', '티비다이', '템바보드', '오픈수납장', '혼수가구', '게이밍의자', '진열장', '장식장', '책꽂이', '와인셀러', '캐비닛', '식탁', '데스크', '콰트로 책상', '주방상판', '프래그마', '사이드책상', '베드테이블', '매쉬 의자', '사무용의자', '학생의자', '공부용의자', '중역의자', '스툴', '헤드형의자', '회전의자', '회의실의자', '팔걸이의자', '발매트', '욕실매트', '주방매트', '놀이매트', '층간소음매트', '극세사매트', '현관매트', '소프트매트', '소음매트', '뽀송매트', '미끄럼방지매트', '사계절매트', '메모리폼', '플라스틱서랍', "
   ]
  },
  {
   "cell_type": "markdown",
   "metadata": {},
   "source": [
    "keyword_list = ['책추천', '책리뷰', '책소개', '인생책', '필독서', '인문서적', '에세이', '여행 책', '라이트노벨 책', '자기계발 책']"
   ]
  },
  {
   "cell_type": "code",
   "execution_count": 25,
   "metadata": {},
   "outputs": [],
   "source": [
    "keyword_list = ['이동형서랍', '와이드서랍', '시스템서랍', '전자렌지선반', '칸칸이서랍', '친환경서랍', '다용도서랍', '레일서랍', '투명서랍']"
   ]
  },
  {
   "cell_type": "code",
   "execution_count": 26,
   "metadata": {},
   "outputs": [
    {
     "name": "stderr",
     "output_type": "stream",
     "text": [
      "C:\\Users\\User\\AppData\\Local\\Temp/ipykernel_13796/2412222373.py:1: DeprecationWarning: executable_path has been deprecated, please pass in a Service object\n",
      "  driver = webdriver.Chrome('C:\\chromedriver.exe')\n",
      "C:\\Users\\User\\AppData\\Local\\Temp/ipykernel_13796/2412222373.py:10: DeprecationWarning: find_element_by_* commands are deprecated. Please use find_element() instead\n",
      "  element = driver.find_element_by_id(\"query\")\n",
      "C:\\Users\\User\\AppData\\Local\\Temp/ipykernel_13796/2412222373.py:15: DeprecationWarning: find_element_by_link_text is deprecated. Please use find_element(by=By.LINK_TEXT, value=link_text) instead\n",
      "  driver.find_element_by_link_text(\"VIEW\").click()\n",
      "C:\\Users\\User\\AppData\\Local\\Temp/ipykernel_13796/2412222373.py:19: DeprecationWarning: find_element_by_xpath is deprecated. Please use find_element(by=By.XPATH, value=xpath) instead\n",
      "  driver.find_element_by_xpath('//*[@id=\"snb\"]/div[1]/div/div[3]/a').click()\n",
      "C:\\Users\\User\\AppData\\Local\\Temp/ipykernel_13796/2412222373.py:23: DeprecationWarning: find_element_by_xpath is deprecated. Please use find_element(by=By.XPATH, value=xpath) instead\n",
      "  driver.find_element_by_xpath('//*[@id=\"snb\"]/div[2]/ul/li[3]/div/div[1]/a[8]').click()\n"
     ]
    },
    {
     "name": "stdout",
     "output_type": "stream",
     "text": [
      "이동형서랍 포스트 개수 : 118\n",
      "1 2 3 4 5 6 7 8 9 10 11 12 13 14 15 16 17 18 19 20 21 22 23 24 25 26 27 28 29 30 31 32 33 34 35 36 37 38 39 40 41 42 43 44 45 46 47 48 49 50 51 52 53 54 55 56 57 58 59 60 61 62 63 64 65 66 67 68 69 70 71 72 73 74 75 76 77 78 79 80 81 82 83 84 85 86 87 88 89 90 91 92 93 94 95 96 97 98 99 100 101 102 103 104 105 106 107 108 109 110 111 112 113 114 115 116 117 118 이동형서랍 끝\n",
      "                                          제목       작성일자  \\\n",
      "113                   아디다스 이동형 항공커버(바퀴O) 팔아요 2022-04-25   \n",
      "114  [판매] 슈퍼랙 이동식 중량랙 1.5톤 고중량 바퀴장착 이동형 철제선반 2022-06-13   \n",
      "115  [판매] 슈퍼랙 이동식 중량랙 1.5톤 고중량 바퀴장착 이동형 철제선반 2022-06-13   \n",
      "116  [판매] 슈퍼랙 이동식 중량랙 1.5톤 고중량 바퀴장착 이동형 철제선반 2022-06-11   \n",
      "117  [판매] 슈퍼랙 이동식 중량랙 1.5톤 고중량 바퀴장착 이동형 철제선반 2022-06-10   \n",
      "\n",
      "                                               주소  \\\n",
      "113      https://cafe.naver.com/golmarket/9721515   \n",
      "114  https://cafe.naver.com/joonggonara/922903873   \n",
      "115  https://cafe.naver.com/joonggonara/922973328   \n",
      "116  https://cafe.naver.com/joonggonara/922579248   \n",
      "117  https://cafe.naver.com/joonggonara/922381281   \n",
      "\n",
      "                                                  해시태그  \n",
      "113                                                     \n",
      "114  #카트 #구르마 #철대차 #이동식선반 #롤테이너 #바퀴 #리어카 #이동랙 #행거 #철카트  \n",
      "115  #카트 #구르마 #철대차 #이동식선반 #롤테이너 #바퀴 #리어카 #이동랙 #행거 #철카트  \n",
      "116  #카트 #구르마 #철대차 #이동식선반 #롤테이너 #바퀴 #리어카 #이동랙 #행거 #철카트  \n",
      "117  #카트 #구르마 #철대차 #이동식선반 #롤테이너 #바퀴 #리어카 #이동랙 #행거 #철카트  \n"
     ]
    },
    {
     "name": "stderr",
     "output_type": "stream",
     "text": [
      "C:\\Users\\User\\AppData\\Local\\Temp/ipykernel_13796/2412222373.py:10: DeprecationWarning: find_element_by_* commands are deprecated. Please use find_element() instead\n",
      "  element = driver.find_element_by_id(\"query\")\n",
      "C:\\Users\\User\\AppData\\Local\\Temp/ipykernel_13796/2412222373.py:15: DeprecationWarning: find_element_by_link_text is deprecated. Please use find_element(by=By.LINK_TEXT, value=link_text) instead\n",
      "  driver.find_element_by_link_text(\"VIEW\").click()\n",
      "C:\\Users\\User\\AppData\\Local\\Temp/ipykernel_13796/2412222373.py:19: DeprecationWarning: find_element_by_xpath is deprecated. Please use find_element(by=By.XPATH, value=xpath) instead\n",
      "  driver.find_element_by_xpath('//*[@id=\"snb\"]/div[1]/div/div[3]/a').click()\n",
      "C:\\Users\\User\\AppData\\Local\\Temp/ipykernel_13796/2412222373.py:23: DeprecationWarning: find_element_by_xpath is deprecated. Please use find_element(by=By.XPATH, value=xpath) instead\n",
      "  driver.find_element_by_xpath('//*[@id=\"snb\"]/div[2]/ul/li[3]/div/div[1]/a[8]').click()\n"
     ]
    },
    {
     "name": "stdout",
     "output_type": "stream",
     "text": [
      "와이드서랍 포스트 개수 : 30\n",
      "1 2 3 4 5 6 7 8 9 10 11 12 13 14 15 16 17 18 19 20 21 22 23 24 25 26 27 28 29 30 와이드서랍 끝\n",
      "                                                   제목       작성일자  \\\n",
      "25   [원목가구 공장 베이직가구] 계절변화로 인한 옷정리가 필요할때 속이깊은 수납가구로 해결 2022-05-19   \n",
      "26     퍼니하우스 헤라 확장형 와이드 서랍 수납 책상 화장대 일반화장대, 그레이화이트 내용 2022-06-03   \n",
      "27  자기계발 목공예 서랍레일 와이드서랍장 협탁 직접 도면 재단 하남 미사 군자역 여성목... 2022-04-11   \n",
      "28                           가구스타 : 화이트 수납 와이드서랍장 화장대 2021-08-05   \n",
      "29               하라데코 와이드 서랍 멀티 책상 정리함 4단, 화이트, 1개 후기 2022-06-09   \n",
      "\n",
      "                                                   주소  \\\n",
      "25            https://cafe.naver.com/moms1004/1510148   \n",
      "26  https://blog.naver.com/zclu6cugsoowy/222758504711   \n",
      "27  https://blog.naver.com/silverline0526/22269806...   \n",
      "28              https://cafe.naver.com/rainup/2611533   \n",
      "29  https://blog.naver.com/vgvy8lyfjmtac/222766403177   \n",
      "\n",
      "                                                 해시태그  \n",
      "25  #베이직가구 #베이직가구옷장 #베이직가구장롱 #베이직가구입본장 #베이직가구추천 #원...  \n",
      "26                                                     \n",
      "27  #목공클래스 #목공정규클래스 #원목가구 #우드카빙수업 #초보가구 #기초목공 #초보목...  \n",
      "28                            #와이드서랍장 #와이드서랍장화장대 #화장대  \n",
      "29                                                     \n"
     ]
    },
    {
     "name": "stderr",
     "output_type": "stream",
     "text": [
      "C:\\Users\\User\\AppData\\Local\\Temp/ipykernel_13796/2412222373.py:10: DeprecationWarning: find_element_by_* commands are deprecated. Please use find_element() instead\n",
      "  element = driver.find_element_by_id(\"query\")\n",
      "C:\\Users\\User\\AppData\\Local\\Temp/ipykernel_13796/2412222373.py:15: DeprecationWarning: find_element_by_link_text is deprecated. Please use find_element(by=By.LINK_TEXT, value=link_text) instead\n",
      "  driver.find_element_by_link_text(\"VIEW\").click()\n",
      "C:\\Users\\User\\AppData\\Local\\Temp/ipykernel_13796/2412222373.py:19: DeprecationWarning: find_element_by_xpath is deprecated. Please use find_element(by=By.XPATH, value=xpath) instead\n",
      "  driver.find_element_by_xpath('//*[@id=\"snb\"]/div[1]/div/div[3]/a').click()\n",
      "C:\\Users\\User\\AppData\\Local\\Temp/ipykernel_13796/2412222373.py:23: DeprecationWarning: find_element_by_xpath is deprecated. Please use find_element(by=By.XPATH, value=xpath) instead\n",
      "  driver.find_element_by_xpath('//*[@id=\"snb\"]/div[2]/ul/li[3]/div/div[1]/a[8]').click()\n"
     ]
    },
    {
     "name": "stdout",
     "output_type": "stream",
     "text": [
      "시스템서랍 포스트 개수 : 30\n",
      "1 2 3 4 5 6 7 8 9 10 11 12 13 14 15 16 17 18 19 20 21 22 23 24 25 26 27 28 29 30 시스템서랍 끝\n",
      "                                              제목       작성일자  \\\n",
      "25                            서랍화장대 추천 넉넉한수납공간~! 2022-04-01   \n",
      "26  주방 조리대 수납장 추천 및 정리 팁 아일랜드 홈바, 룸앤홈 거실장, 히든 서랍 2022-01-09   \n",
      "27            LX Z:IN 지인스퀘어 진주 입이 떡 벌어지는 토탈 인테리어 2022-05-19   \n",
      "28                   포항/경주 시스템행거 유림에서 저렴하게 잘했어요! 2022-05-07   \n",
      "29                                   수쿠퍼니텍 시스템옷장 2022-05-30   \n",
      "\n",
      "                                                주소  \\\n",
      "25  https://blog.naver.com/linefeelso/222688830459   \n",
      "26      https://blog.naver.com/chdl89/222617122853   \n",
      "27     https://blog.naver.com/delidea/222738346489   \n",
      "28    https://blog.naver.com/jajunaga/222723329277   \n",
      "29   https://blog.naver.com/song_7373/222752117353   \n",
      "\n",
      "                                                 해시태그  \n",
      "25  #서랍화장대 #서랍화장대추천 #원목서랍화장대 #원목화장대 #원목화장대추천 #화장대 ...  \n",
      "26  #주방정리 #팬트리정리 #수납장추천 #룸앤홈거실장 #알렉스시스템수납장 #히든서랍 #...  \n",
      "27      #지인인테리어 #지인스퀘어 #진주지인스퀘어 #지인스퀘어갤러리아진주점 #거실인테리어  \n",
      "28                         #유림시스템행거 #포항시스템행거 #경주시스템행거  \n",
      "29  #내돈내산 #시스템옷장 #수쿠퍼니텍 #수쿠퍼니텍시스템옷장 #한샘서랍장 #한샘화장대서...  \n"
     ]
    },
    {
     "name": "stderr",
     "output_type": "stream",
     "text": [
      "C:\\Users\\User\\AppData\\Local\\Temp/ipykernel_13796/2412222373.py:10: DeprecationWarning: find_element_by_* commands are deprecated. Please use find_element() instead\n",
      "  element = driver.find_element_by_id(\"query\")\n",
      "C:\\Users\\User\\AppData\\Local\\Temp/ipykernel_13796/2412222373.py:15: DeprecationWarning: find_element_by_link_text is deprecated. Please use find_element(by=By.LINK_TEXT, value=link_text) instead\n",
      "  driver.find_element_by_link_text(\"VIEW\").click()\n",
      "C:\\Users\\User\\AppData\\Local\\Temp/ipykernel_13796/2412222373.py:19: DeprecationWarning: find_element_by_xpath is deprecated. Please use find_element(by=By.XPATH, value=xpath) instead\n",
      "  driver.find_element_by_xpath('//*[@id=\"snb\"]/div[1]/div/div[3]/a').click()\n",
      "C:\\Users\\User\\AppData\\Local\\Temp/ipykernel_13796/2412222373.py:23: DeprecationWarning: find_element_by_xpath is deprecated. Please use find_element(by=By.XPATH, value=xpath) instead\n",
      "  driver.find_element_by_xpath('//*[@id=\"snb\"]/div[2]/ul/li[3]/div/div[1]/a[8]').click()\n"
     ]
    },
    {
     "name": "stdout",
     "output_type": "stream",
     "text": [
      "전자렌지선반 포스트 개수 : 30\n",
      "1 2 3 4 5 6 7 8 9 10 11 12 13 14 15 16 17 18 19 20 21 22 23 24 25 26 27 28 29 30 전자렌지선반 끝\n",
      "                                          제목       작성일자  \\\n",
      "25                       전자레인지 선반이란게 있답니다 :) 2021-07-05   \n",
      "26               삼성 스마트오븐(전자렌지), HICON 미니냉동고 2022-04-21   \n",
      "27        마켓비 주방 그릇 수납장 전자렌지 보관 수납 선반 부엌인테리어 2021-08-10   \n",
      "28  고양이 주식캔 수납 정리 용 전자렌지 선반 구매 후기 / 저렴한 렌지선반 2021-08-20   \n",
      "29               베란다앵글,전자렌지선반,진열장,선반,무볼트앵글설치 2022-03-24   \n",
      "\n",
      "                                                  주소  \\\n",
      "25       https://cafe.naver.com/newkidsbattle/332435   \n",
      "26          https://cafe.naver.com/gluecklich/139606   \n",
      "27  https://blog.naver.com/bluemarine_7/222464036618   \n",
      "28         https://blog.naver.com/bb-aa/222477727645   \n",
      "29     https://blog.naver.com/jylim1438/222681441620   \n",
      "\n",
      "                                                 해시태그  \n",
      "25                                                     \n",
      "26                                                     \n",
      "27       #마켓비수납장 #전자렌지수납장 #플랩도어수납장 #선반 #부엌인테리어 #그릇수납장  \n",
      "28  #고양이주식캔정리함 #고양이간식정리대 #렌지대 #주식정리 #주식캔정리 #주식캔수납함...  \n",
      "29  #무볼트앵글 #조립식앵글 #앵글 #선반 #경량랙 #건조기선반 #앵글선반 #파레트랙 ...  \n"
     ]
    },
    {
     "name": "stderr",
     "output_type": "stream",
     "text": [
      "C:\\Users\\User\\AppData\\Local\\Temp/ipykernel_13796/2412222373.py:10: DeprecationWarning: find_element_by_* commands are deprecated. Please use find_element() instead\n",
      "  element = driver.find_element_by_id(\"query\")\n",
      "C:\\Users\\User\\AppData\\Local\\Temp/ipykernel_13796/2412222373.py:15: DeprecationWarning: find_element_by_link_text is deprecated. Please use find_element(by=By.LINK_TEXT, value=link_text) instead\n",
      "  driver.find_element_by_link_text(\"VIEW\").click()\n",
      "C:\\Users\\User\\AppData\\Local\\Temp/ipykernel_13796/2412222373.py:19: DeprecationWarning: find_element_by_xpath is deprecated. Please use find_element(by=By.XPATH, value=xpath) instead\n",
      "  driver.find_element_by_xpath('//*[@id=\"snb\"]/div[1]/div/div[3]/a').click()\n",
      "C:\\Users\\User\\AppData\\Local\\Temp/ipykernel_13796/2412222373.py:23: DeprecationWarning: find_element_by_xpath is deprecated. Please use find_element(by=By.XPATH, value=xpath) instead\n",
      "  driver.find_element_by_xpath('//*[@id=\"snb\"]/div[2]/ul/li[3]/div/div[1]/a[8]').click()\n"
     ]
    },
    {
     "name": "stdout",
     "output_type": "stream",
     "text": [
      "칸칸이서랍 포스트 개수 : 30\n",
      "1 2 3 4 5 6 7 8 9 10 11 12 13 14 15 16 17 18 19 20 21 22 23 24 25 26 27 28 29 30 칸칸이서랍 끝\n",
      "                                 제목       작성일자  \\\n",
      "25       스티커 라벨 프린터, 손그림 투명 라벨지 스티커 2022-05-09   \n",
      "26     호텔형맞춤침대-슬립퍼침대 들어온 날(바닥생활 청산) 2022-05-31   \n",
      "27  원목서랍정리함(넥타이보관정리/안경/선글라스/시계/손수건) 2022-03-29   \n",
      "28               캠핑카개조 스타렉스의 변신은 무죄 2022-05-24   \n",
      "29            바람도 머물다 가는 거제'바람곶우체국' 2021-06-21   \n",
      "\n",
      "                                                  주소  \\\n",
      "25        https://blog.naver.com/my1002/222726659508   \n",
      "26      https://blog.naver.com/phamster/222754128693   \n",
      "27  https://blog.naver.com/artistry2001/222686440904   \n",
      "28   https://blog.naver.com/bluedayrain/222744498606   \n",
      "29     https://blog.naver.com/geojecity/222405660101   \n",
      "\n",
      "                                                 해시태그  \n",
      "25  #라벨프린터 #라벨테이프 #휴대용라벨기 #미니라벨기 #스티커프린터 #네임프린터 #스...  \n",
      "26                  #슬립퍼호텔침대 #호텔형침대 #조명침대 #부부침대 #내돈내산  \n",
      "27  #원목서랍정리함 #넥타이보관정리 #안경 #선글라스 #시계 #손수건 #주문제작 #원목...  \n",
      "28                                             #캠핑카개조  \n",
      "29                #거제시 #구조라마을 #바람곶우체국 #구조라해수욕장 #구조라명소  \n"
     ]
    },
    {
     "name": "stderr",
     "output_type": "stream",
     "text": [
      "C:\\Users\\User\\AppData\\Local\\Temp/ipykernel_13796/2412222373.py:10: DeprecationWarning: find_element_by_* commands are deprecated. Please use find_element() instead\n",
      "  element = driver.find_element_by_id(\"query\")\n",
      "C:\\Users\\User\\AppData\\Local\\Temp/ipykernel_13796/2412222373.py:15: DeprecationWarning: find_element_by_link_text is deprecated. Please use find_element(by=By.LINK_TEXT, value=link_text) instead\n",
      "  driver.find_element_by_link_text(\"VIEW\").click()\n",
      "C:\\Users\\User\\AppData\\Local\\Temp/ipykernel_13796/2412222373.py:19: DeprecationWarning: find_element_by_xpath is deprecated. Please use find_element(by=By.XPATH, value=xpath) instead\n",
      "  driver.find_element_by_xpath('//*[@id=\"snb\"]/div[1]/div/div[3]/a').click()\n",
      "C:\\Users\\User\\AppData\\Local\\Temp/ipykernel_13796/2412222373.py:23: DeprecationWarning: find_element_by_xpath is deprecated. Please use find_element(by=By.XPATH, value=xpath) instead\n",
      "  driver.find_element_by_xpath('//*[@id=\"snb\"]/div[2]/ul/li[3]/div/div[1]/a[8]').click()\n"
     ]
    },
    {
     "name": "stdout",
     "output_type": "stream",
     "text": [
      "친환경서랍 포스트 개수 : 30\n",
      "1 2 3 4 5 6 7 8 9 10 11 12 13 14 15 16 17 18 19 20 21 22 23 24 25 26 27 28 29 30 친환경서랍 끝\n",
      "                                                   제목       작성일자  \\\n",
      "25  #수납소파 #서랍소파 #윈도우시트 #원목수납소파 #해운대목수 #유아소파 #맞춤디자인... 2022-05-17   \n",
      "26  함께 사용할 친환경 원목 책상 & 테이블 / 거실 인테리어 책상 / 4~6인용 책상... 2021-07-20   \n",
      "27               (참죽)나무의붉은색서랍으로제작된원목거실장입니... 친환경가구입니다 2022-03-12   \n",
      "28                       사무실가구 튼튼한 책상서랍 '대광' 친환경 책상추천 2021-12-13   \n",
      "29    [명륜진사갈비 착한에코습관] 명륜진사갈비 친환경캠페인도 알고 맛있는 갈비도 먹고 :) 2022-06-10   \n",
      "\n",
      "                                                  주소  \\\n",
      "25        https://blog.naver.com/okjhcc/222735851148   \n",
      "26  https://blog.naver.com/pioneerkh111/222437799047   \n",
      "27       https://blog.naver.com/gru3303/222670389060   \n",
      "28     https://blog.naver.com/soojineda/222593897156   \n",
      "29    https://blog.naver.com/imagineing/222767385153   \n",
      "\n",
      "                                                 해시태그  \n",
      "25  #해운대목수 #세종시한뜰마을 #원목소파 #윈도우시트 #창가소파 #벤치형소파 #맞춤제...  \n",
      "26  #책상 #원목책상 #친환경책상 #테이블 #원목테이블 #서재책상 #컴퓨터책상 #아이들...  \n",
      "27  #통나무원목거실장 #원목거실장 #소나무원목가구 #참죽나무 #원목약장 #원목 #원목협...  \n",
      "28  #사무실책상 #서재책상 #학생책상 #사무실정리함 #사무실테이블 #책상서랍장 #책상서...  \n",
      "29  #착한식당 #착한에코습관 #명륜진사갈비친환경캠페인 #명륜진사갈비 #명륜진사갈비착한에...  \n"
     ]
    },
    {
     "name": "stderr",
     "output_type": "stream",
     "text": [
      "C:\\Users\\User\\AppData\\Local\\Temp/ipykernel_13796/2412222373.py:10: DeprecationWarning: find_element_by_* commands are deprecated. Please use find_element() instead\n",
      "  element = driver.find_element_by_id(\"query\")\n",
      "C:\\Users\\User\\AppData\\Local\\Temp/ipykernel_13796/2412222373.py:15: DeprecationWarning: find_element_by_link_text is deprecated. Please use find_element(by=By.LINK_TEXT, value=link_text) instead\n",
      "  driver.find_element_by_link_text(\"VIEW\").click()\n",
      "C:\\Users\\User\\AppData\\Local\\Temp/ipykernel_13796/2412222373.py:19: DeprecationWarning: find_element_by_xpath is deprecated. Please use find_element(by=By.XPATH, value=xpath) instead\n",
      "  driver.find_element_by_xpath('//*[@id=\"snb\"]/div[1]/div/div[3]/a').click()\n",
      "C:\\Users\\User\\AppData\\Local\\Temp/ipykernel_13796/2412222373.py:23: DeprecationWarning: find_element_by_xpath is deprecated. Please use find_element(by=By.XPATH, value=xpath) instead\n",
      "  driver.find_element_by_xpath('//*[@id=\"snb\"]/div[2]/ul/li[3]/div/div[1]/a[8]').click()\n"
     ]
    },
    {
     "name": "stdout",
     "output_type": "stream",
     "text": [
      "다용도서랍 포스트 개수 : 30\n",
      "1 2 3 4 5 6 7 8 9 10 11 12 13 14 15 16 17 18 19 20 21 22 23 24 25 26 27 28 29 30 다용도서랍 끝\n",
      "                                                   제목       작성일자  \\\n",
      "25                              30칸 다용도 수납장+ 서랍 3개 제작 2022-06-03   \n",
      "26               [★생활용품★] 한샘 S.O.K 팬트리 핸디 다용도 수납박스 3P 2021-10-10   \n",
      "27  키친 서랍 다용도 정리 트레이로 주방도구 완벽하게 정리했어요~ 주방도구 정리 완벽 ... 2021-09-14   \n",
      "28                                이동식 트롤리에 슬라이드 서랍 달기 2022-01-24   \n",
      "29      [신혼가구, 입주가구 전문 베이직가구] 활용도 높은 다용도 수납공간, 원목 렌지대 2021-12-01   \n",
      "\n",
      "                                               주소  \\\n",
      "25    https://blog.naver.com/elihome/222758440383   \n",
      "26            https://cafe.naver.com/tpmom/808651   \n",
      "27  https://blog.naver.com/luvlriwon/222505367651   \n",
      "28  https://blog.naver.com/kkomataku/222630089475   \n",
      "29      https://cafe.naver.com/kyungmammo/5441699   \n",
      "\n",
      "                                                 해시태그  \n",
      "25                                                     \n",
      "26                                                     \n",
      "27  #주방정리 #주방정리트레이 #트레이 #다용도트레이 #정리트레이 #주방도구트레이 #주...  \n",
      "28                       #정리 #트롤리 #히든서랍 #슬라이드서랍 #부착서랍  \n",
      "29  #베이직가구 #원목가구 #친환경가구 #수제가구 #맞춤가구 #인천가구 #렌지대 #아일...  \n"
     ]
    },
    {
     "name": "stderr",
     "output_type": "stream",
     "text": [
      "C:\\Users\\User\\AppData\\Local\\Temp/ipykernel_13796/2412222373.py:10: DeprecationWarning: find_element_by_* commands are deprecated. Please use find_element() instead\n",
      "  element = driver.find_element_by_id(\"query\")\n",
      "C:\\Users\\User\\AppData\\Local\\Temp/ipykernel_13796/2412222373.py:15: DeprecationWarning: find_element_by_link_text is deprecated. Please use find_element(by=By.LINK_TEXT, value=link_text) instead\n",
      "  driver.find_element_by_link_text(\"VIEW\").click()\n",
      "C:\\Users\\User\\AppData\\Local\\Temp/ipykernel_13796/2412222373.py:19: DeprecationWarning: find_element_by_xpath is deprecated. Please use find_element(by=By.XPATH, value=xpath) instead\n",
      "  driver.find_element_by_xpath('//*[@id=\"snb\"]/div[1]/div/div[3]/a').click()\n",
      "C:\\Users\\User\\AppData\\Local\\Temp/ipykernel_13796/2412222373.py:23: DeprecationWarning: find_element_by_xpath is deprecated. Please use find_element(by=By.XPATH, value=xpath) instead\n",
      "  driver.find_element_by_xpath('//*[@id=\"snb\"]/div[2]/ul/li[3]/div/div[1]/a[8]').click()\n"
     ]
    },
    {
     "name": "stdout",
     "output_type": "stream",
     "text": [
      "레일서랍 포스트 개수 : 30\n",
      "1 2 3 4 5 6 7 8 9 10 11 12 13 14 15 16 17 18 19 20 21 22 23 24 25 26 27 28 29 30 레일서랍 끝\n",
      "                                                   제목       작성일자  \\\n",
      "25  광주 싱크대, 오포 문형리 싱크대 상부장 재설치 [싱크대렌지후드, 배수구통, 수전,... 2022-03-24   \n",
      "26             [성남시] 서랍 레일 고장이 나서 레일을 교체/싱크대 하부 서랍 수리 2022-05-25   \n",
      "27  탑실마을 대주피오레2단지아파트 콘센트교체, 싱크대문짝수리, 서랍레일교체, 문짝경첩교... 2021-12-16   \n",
      "28                         송파 방이동 옷장 서랍레일 출장 수리 다녀왔어요 2022-05-30   \n",
      "29                             서랍레일 교체완료(류님~전동드릴 감사요) 2021-12-20   \n",
      "\n",
      "                                                주소  \\\n",
      "25     https://blog.naver.com/jch5311/222666773481   \n",
      "26      https://blog.naver.com/joick5/222744220124   \n",
      "27  https://blog.naver.com/classwar11/222596720483   \n",
      "28     https://blog.naver.com/pdb1914/222751859707   \n",
      "29         https://cafe.naver.com/kdnstorys/550507   \n",
      "\n",
      "                                                 해시태그  \n",
      "25      #싱크대수리 #싱크대리폼 #상부장 #하부장 #배수구 #렌지후드 #문짝 #양념인출망  \n",
      "26  #싱크대부분수리 #싱크대서랍레일교체 #고장이나고망가진서랍레일교체 #부분교체 #인덕션...  \n",
      "27                  #콘센트교체 #싱크문짝경첩교체 #서랍레일교체 #방문짝경첩교체  \n",
      "28  #출장가구수리전문 #넘버원가구수리 #송파구 #방이동 #철레일 #남양주서랍레일수리 #...  \n",
      "29                                                     \n"
     ]
    },
    {
     "name": "stderr",
     "output_type": "stream",
     "text": [
      "C:\\Users\\User\\AppData\\Local\\Temp/ipykernel_13796/2412222373.py:10: DeprecationWarning: find_element_by_* commands are deprecated. Please use find_element() instead\n",
      "  element = driver.find_element_by_id(\"query\")\n",
      "C:\\Users\\User\\AppData\\Local\\Temp/ipykernel_13796/2412222373.py:15: DeprecationWarning: find_element_by_link_text is deprecated. Please use find_element(by=By.LINK_TEXT, value=link_text) instead\n",
      "  driver.find_element_by_link_text(\"VIEW\").click()\n",
      "C:\\Users\\User\\AppData\\Local\\Temp/ipykernel_13796/2412222373.py:19: DeprecationWarning: find_element_by_xpath is deprecated. Please use find_element(by=By.XPATH, value=xpath) instead\n",
      "  driver.find_element_by_xpath('//*[@id=\"snb\"]/div[1]/div/div[3]/a').click()\n",
      "C:\\Users\\User\\AppData\\Local\\Temp/ipykernel_13796/2412222373.py:23: DeprecationWarning: find_element_by_xpath is deprecated. Please use find_element(by=By.XPATH, value=xpath) instead\n",
      "  driver.find_element_by_xpath('//*[@id=\"snb\"]/div[2]/ul/li[3]/div/div[1]/a[8]').click()\n"
     ]
    },
    {
     "name": "stdout",
     "output_type": "stream",
     "text": [
      "투명서랍 포스트 개수 : 30\n",
      "1 2 3 4 5 6 7 8 9 10 11 12 13 14 15 16 17 18 19 20 21 22 23 24 25 26 27 28 29 30 투명서랍 끝\n",
      "                                                  제목       작성일자  \\\n",
      "25                       주방 싱크대 서랍 정리 각양각색 일회용품 정리수납 2022-03-03   \n",
      "26             [1년 전 오늘] 하루 하나 정리>투명컵을 이용한 부엌서랍 정리팁! 2021-09-28   \n",
      "27                          책상서랍정리 트레이 이케아 책상에도 찰떡이네 2022-02-13   \n",
      "28  hillo 다용도 싱크대 주방 서랍 방수 매트 4p, 투명 (21662368-7dda) 2022-04-10   \n",
      "29                      한샘세이즈드레스룸으로 쉽게 드레스룸서랍정리했어요 ~ 2022-04-03   \n",
      "\n",
      "                                                  주소  \\\n",
      "25  https://blog.naver.com/ilovezzangv2/222662689481   \n",
      "26         https://blog.naver.com/logos/222519109444   \n",
      "27     https://blog.naver.com/didvk1318/222646237431   \n",
      "28       https://blog.naver.com/rzngy2w/222696506793   \n",
      "29       https://blog.naver.com/000117k/222690503593   \n",
      "\n",
      "                                                 해시태그  \n",
      "25  #주방서랍정리 #서랍정리 #정리함 #수납함 #정리수납 #일회용품수납 #일회용품정리 ...  \n",
      "26                                                     \n",
      "27  #책상서랍정리 #책상서랍정리함 #책상서랍정리트레이 #이케아책상서랍트레이 #비스프리책...  \n",
      "28                                                     \n",
      "29      #옷장정리 #붙박이장정리 #한샘수납 #한샘몰 #정리수납 #한샘세이지수납 #서랍정리  \n"
     ]
    }
   ],
   "source": [
    "driver = webdriver.Chrome('C:\\chromedriver.exe')\n",
    "\n",
    "for query_txt in keyword_list :\n",
    "\n",
    "    #크롬드라이버 실행\n",
    "    driver.get('http://www.naver.com')\n",
    "    time.sleep(2)\n",
    "\n",
    "    #키워드를 검색한 네이버창 접속\n",
    "    element = driver.find_element_by_id(\"query\")\n",
    "    element.send_keys(query_txt)\n",
    "    element.submit()\n",
    "\n",
    "    # 뷰 클릭\n",
    "    driver.find_element_by_link_text(\"VIEW\").click()\n",
    "    time.sleep(2)\n",
    "\n",
    "    #필터 클릭\n",
    "    driver.find_element_by_xpath('//*[@id=\"snb\"]/div[1]/div/div[3]/a').click()\n",
    "    time.sleep(2)\n",
    "\n",
    "    #기간 1년 설정\n",
    "    driver.find_element_by_xpath('//*[@id=\"snb\"]/div[2]/ul/li[3]/div/div[1]/a[8]').click()\n",
    "\n",
    "    time.sleep(3)\n",
    "\n",
    "    no2 = [ ]           # 게시글 번호 컬럼\n",
    "    title2 = [ ]        # 게시물 제목 컬럼\n",
    "    bdate2 = [ ]        # 작성 일자 컬럼\n",
    "    url2 = [ ]          # url 컬럼\n",
    "    hashtag2 = [ ]      # 해시태그 컬럼\n",
    "\n",
    "    no = 1\n",
    "\n",
    "    #더이상 스크롤이 안되면 종료\n",
    "    i = 1\n",
    "    time.sleep(1)\n",
    "\n",
    "    #현재 스크롤 위치를 last_height로 받아옴\n",
    "    last_height = driver.execute_script(\"return document.documentElement.scrollHeight\")\n",
    "\n",
    "    while True:\n",
    "        #스크롤 한 번 실행 후 스크롤 위치를 new_height로 받아옴\n",
    "        scroll_down(driver)\n",
    "        new_height = driver.execute_script(\"return document.documentElement.scrollHeight\")\n",
    "\n",
    "        #더이상 스크롤이 안되면 종료\n",
    "        if new_height == last_height:\n",
    "            break\n",
    "\n",
    "        last_height = new_height\n",
    "        i += 1\n",
    "\n",
    "\n",
    "    html = driver.page_source\n",
    "    soup = BeautifulSoup(html, 'html.parser')\n",
    "\n",
    "    view_list = soup.find('ul','lst_total').find_all('li')\n",
    "    print(query_txt, '포스트 개수 :', len(view_list))\n",
    "\n",
    "    for i in view_list :\n",
    "        \n",
    "        no2.append(no)                            # 게시물 번호 리스트에 추가\n",
    "        print(no, end=' ')\n",
    "\n",
    "        all_title = i.find_all('a')\n",
    "        title = all_title[5].get_text( )          # 게시물 제목\n",
    "        title2.append(title)                      # 게시물 제목 리스트에 추가\n",
    "\n",
    "        time.sleep(2)\n",
    "\n",
    "        bdate = i.find('span','sub_time sub_txt').get_text( )  # 작성일자\n",
    "        bdate.replace('.', '-')\n",
    "        bdate2.append(bdate)                     # 작성일자 리스트에 추가\n",
    "\n",
    "        time.sleep(2)\n",
    "\n",
    "        url = str(all_title[0])\n",
    "        url = url.split('\"')[5]                 # 게시물 url\n",
    "        url2.append(url)                        # url 리스트에 추가\n",
    "\n",
    "        time.sleep(2)\n",
    "\n",
    "        # 카페글은 hashtag가 없다면 댓글을 보여줌\n",
    "        try :\n",
    "            outline_test = i.find('div', 'total_tag_area').get_text()    \n",
    "            \n",
    "            # hashtag가 안달려있는 블로그 글도 있기때문에 오류 방지\n",
    "            try:\n",
    "                hashtag = \" \".join(re.findall(\"#[가-힣]{1,}\", outline_test))\n",
    "                hashtag2.append(hashtag)\n",
    "                    \n",
    "            except Exception as e:\n",
    "                hashtag = \"\"\n",
    "                hashtag2.append(hashtag)\n",
    "\n",
    "        except : \n",
    "            hashtag = \"\"\n",
    "            hashtag2.append(hashtag)\n",
    "\n",
    "\n",
    "        if no == 200 : #한번에 200개 까지만 크롤링 가능\n",
    "            break\n",
    "            \n",
    "        no += 1\n",
    "\n",
    "    print(query_txt, '끝')\n",
    "\n",
    "    bdate3 = [] #전처리 후 작성일자\n",
    "\n",
    "    # 작성일자를 날짜형식으로 통일화\n",
    "    for day in bdate2 :\n",
    "\n",
    "        if '시간 전' in day :       # n시간 전 업로드 글\n",
    "            day = date.today()\n",
    "        elif '분 전' in day :       # n분 전 업로드 글\n",
    "            day = date.today()\n",
    "        elif '일 전' in day :       # n일 전 업로드 글 \n",
    "            day = date.today() - timedelta(int(day[0])) #8일전 글 부터는 날짜로 반환\n",
    "        elif day == '어제' :        # 어제 업로드 글\n",
    "            day = date.today() - timedelta(1)\n",
    "        else :\n",
    "            day = day.rstrip('.')\n",
    "            day = day.replace('.', '-')\n",
    "        \n",
    "        bdate3.append(day)\n",
    "\n",
    "    # df화\n",
    "    naver_blog = pd.DataFrame()\n",
    "    naver_blog['제목'] = title2\n",
    "    naver_blog['작성일자'] = bdate3\n",
    "    naver_blog['주소'] = url2\n",
    "    naver_blog['해시태그'] = hashtag2\n",
    "\n",
    "    #date-time 타입으로 변환\n",
    "    naver_blog['작성일자'] = pd.to_datetime(naver_blog['작성일자'])\n",
    "\n",
    "    print(naver_blog.tail())\n",
    "\n",
    "    #postgresql 접속\n",
    "    conn_string = \"host='localhost' dbname='postgres' user='postgres' password='admin'\"\n",
    "    conn = psycopg2.connect(conn_string)\n",
    "    cur = conn.cursor()\n",
    "\n",
    "    table = 'view_interior'\n",
    "\n",
    "    #table에 데이터 넣기\n",
    "    for i in range(len(naver_blog)) :\n",
    "        cur.execute(insert_command(table), (naver_blog.iloc[i][0], naver_blog.iloc[i][1], naver_blog.iloc[i][2], naver_blog.iloc[i][3]))\n",
    "        conn.commit()\n",
    "\n",
    "    #postgresql 연결종료\n",
    "    conn.cursor().close()\n",
    "    conn.close()"
   ]
  },
  {
   "cell_type": "markdown",
   "metadata": {},
   "source": [
    "#postgresql 접속\n",
    "conn_string = \"host='localhost' dbname='postgres' user='postgres' password='admin'\"\n",
    "conn = psycopg2.connect(conn_string)\n",
    "cur = conn.cursor()"
   ]
  },
  {
   "cell_type": "code",
   "execution_count": null,
   "metadata": {},
   "outputs": [],
   "source": [
    "#table 확인하기\n",
    "cur.execute(select_command(table))\n",
    "conn.commit()\n",
    "cur.fetchall()"
   ]
  },
  {
   "cell_type": "code",
   "execution_count": 17,
   "metadata": {},
   "outputs": [],
   "source": [
    "#db 연결 종료\n",
    "conn.cursor().close()\n",
    "conn.close()"
   ]
  },
  {
   "cell_type": "code",
   "execution_count": 23,
   "metadata": {},
   "outputs": [
    {
     "name": "stdout",
     "output_type": "stream",
     "text": [
      "0 44\n",
      "2 45\n",
      "4 46\n",
      "8 101\n",
      "9 103\n",
      "87 211\n",
      "88 216\n",
      "플라스틱 수저분리함/ 300 400 500 600 900... 칸칸 싱크대 서랍정리 수저함 트레이 수납장 소개입니다.\n"
     ]
    }
   ],
   "source": [
    "#varchar(500) type에 안들어가면 실행\n",
    "b = 0\n",
    "\n",
    "for i in range(len(url2)) :\n",
    "    a = len(url2[i])\n",
    "\n",
    "    if a > b :\n",
    "        b = a\n",
    "        print(i, b)\n",
    "\n",
    "print(title2[20])"
   ]
  },
  {
   "cell_type": "code",
   "execution_count": 24,
   "metadata": {},
   "outputs": [],
   "source": [
    "#postgresql 접속\n",
    "conn_string = \"host='localhost' dbname='postgres' user='postgres' password='admin'\"\n",
    "conn = psycopg2.connect(conn_string)\n",
    "cur = conn.cursor()\n",
    "\n",
    "table = 'view_interior'\n",
    "\n",
    "#table에 데이터 넣기\n",
    "for i in range(len(naver_blog)) :\n",
    "    cur.execute(insert_command(table), (naver_blog.iloc[i][0], naver_blog.iloc[i][1], naver_blog.iloc[i][2], naver_blog.iloc[i][3]))\n",
    "    conn.commit()\n",
    "\n",
    "#postgresql 연결종료\n",
    "conn.cursor().close()\n",
    "conn.close()"
   ]
  },
  {
   "cell_type": "code",
   "execution_count": null,
   "metadata": {},
   "outputs": [],
   "source": []
  }
 ],
 "metadata": {
  "interpreter": {
   "hash": "f08154012ddadd8e950e6e9e035c7a7b32c136e7647e9b7c77e02eb723a8bedb"
  },
  "kernelspec": {
   "display_name": "Python 3.9.7 ('base')",
   "language": "python",
   "name": "python3"
  },
  "language_info": {
   "codemirror_mode": {
    "name": "ipython",
    "version": 3
   },
   "file_extension": ".py",
   "mimetype": "text/x-python",
   "name": "python",
   "nbconvert_exporter": "python",
   "pygments_lexer": "ipython3",
   "version": "3.9.7"
  },
  "orig_nbformat": 4
 },
 "nbformat": 4,
 "nbformat_minor": 2
}
