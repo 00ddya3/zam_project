{
 "cells": [
  {
   "cell_type": "code",
   "execution_count": 29,
   "metadata": {},
   "outputs": [],
   "source": [
    "#모듈 import\n",
    "from bs4 import BeautifulSoup\n",
    "from selenium import webdriver\n",
    "import time\n",
    "import pandas  as pd \n",
    "import psycopg2\n",
    "from datetime import date, timedelta"
   ]
  },
  {
   "cell_type": "code",
   "execution_count": 30,
   "metadata": {},
   "outputs": [],
   "source": [
    "# 자동 스크롤다운 함수\n",
    "def scroll_down(driver):\n",
    "    driver.execute_script(\"window.scrollTo(0,document.body.scrollHeight);\")\n",
    "    time.sleep(5)\n",
    "\n",
    "#select문 만들기\n",
    "def select_command(table) :\n",
    "    command = 'select * from ' + table\n",
    "    return command\n",
    "\n",
    "#insert문 만들기\n",
    "def insert_command(table) :\n",
    "    command = 'insert into ' + table + ' (title, date, url) values (%s, %s, %s);'\n",
    "    return command"
   ]
  },
  {
   "cell_type": "markdown",
   "metadata": {},
   "source": [
    "뷔스티에 원피스, 롱패딩, 숏패딩, 롱코트, 숏코트, 잠옷, 홈웨어, 트위드자켓, 블레이저 자켓, 싱글 자켓, 크롭 자켓, 레더 자켓, 루즈핏, 테일러드자켓, 린넨자켓, 반팔자켓, 라이더 자켓, 오버핏 자켓, 청자켓, 니트가디건, 볼레로, 아가일, 크롭가디건, 반팔가디건, 앙고라, 바람막이, 아노락, 윈드브레이커, 바시티자켓, 바시티점퍼, 야구점퍼, '여름아우터', '간절기아우터', '겨울아우터', '니트 맨투맨', '기모 맨투맨', '크롭 맨투맨', '남자 맨투맨', '반집업'"
   ]
  },
  {
   "cell_type": "code",
   "execution_count": 33,
   "metadata": {},
   "outputs": [],
   "source": [
    "keyword_list = ['반팔 맨투맨', '크롭후드', '기모후드', '후드티', '남자 후드', '꾸안꾸', '플리스']"
   ]
  },
  {
   "cell_type": "code",
   "execution_count": 32,
   "metadata": {},
   "outputs": [
    {
     "name": "stderr",
     "output_type": "stream",
     "text": [
      "C:\\Users\\User\\AppData\\Local\\Temp/ipykernel_8928/4100996902.py:1: DeprecationWarning: executable_path has been deprecated, please pass in a Service object\n",
      "  driver = webdriver.Chrome('C:\\chromedriver.exe')\n",
      "C:\\Users\\User\\AppData\\Local\\Temp/ipykernel_8928/4100996902.py:10: DeprecationWarning: find_element_by_* commands are deprecated. Please use find_element() instead\n",
      "  element = driver.find_element_by_id(\"query\")\n",
      "C:\\Users\\User\\AppData\\Local\\Temp/ipykernel_8928/4100996902.py:15: DeprecationWarning: find_element_by_link_text is deprecated. Please use find_element(by=By.LINK_TEXT, value=link_text) instead\n",
      "  driver.find_element_by_link_text(\"VIEW\").click()\n",
      "C:\\Users\\User\\AppData\\Local\\Temp/ipykernel_8928/4100996902.py:19: DeprecationWarning: find_element_by_xpath is deprecated. Please use find_element(by=By.XPATH, value=xpath) instead\n",
      "  driver.find_element_by_xpath('//*[@id=\"snb\"]/div[1]/div/div[3]/a').click()\n",
      "C:\\Users\\User\\AppData\\Local\\Temp/ipykernel_8928/4100996902.py:23: DeprecationWarning: find_element_by_xpath is deprecated. Please use find_element(by=By.XPATH, value=xpath) instead\n",
      "  driver.find_element_by_xpath('//*[@id=\"snb\"]/div[2]/ul/li[3]/div/div[1]/a[8]').click()\n"
     ]
    },
    {
     "name": "stdout",
     "output_type": "stream",
     "text": [
      "여름아우터 포스트 개수 : 107\n",
      "1 2 3 4 5 6 7 8 9 10 11 12 13 14 15 16 17 18 19 20 21 22 23 24 25 26 27 28 29 30 31 32 33 34 35 36 37 38 39 40 41 42 43 44 45 46 47 48 49 50 51 52 53 54 55 56 57 58 59 60 61 62 63 64 65 66 67 68 69 70 71 72 73 74 75 76 77 78 79 80 81 82 83 84 85 86 87 88 89 90 91 92 93 94 95 96 97 98 99 100 101 102 103 104 105 106 107 여름아우터 끝\n",
      "                                              제목       작성일자  \\\n",
      "102                        여아 옷 2세~ 4,5세 아우터 여름옷 2021-06-07   \n",
      "103                                     여름 원피스 등 2022-03-27   \n",
      "104                   여름 기본티/여름까지 쭈욱~경량점퍼등 구경하세요 2022-04-29   \n",
      "105  단스킨 여자 여름 경량 아우터 (새상품) 등산하려고 1+1 사서 하나 팔아요! 2022-04-12   \n",
      "106                                쟈딕 모닝 셔츠 XS/S 2022-04-27   \n",
      "\n",
      "                                           주소  \n",
      "102    https://cafe.naver.com/pajumom/3943701  \n",
      "103  https://cafe.naver.com/jinheemom/2417637  \n",
      "104      https://cafe.naver.com/mjann/3118851  \n",
      "105    https://cafe.naver.com/pajumom/4120046  \n",
      "106   https://cafe.naver.com/ttoksun2/4004392  \n"
     ]
    },
    {
     "name": "stderr",
     "output_type": "stream",
     "text": [
      "C:\\Users\\User\\AppData\\Local\\Temp/ipykernel_8928/4100996902.py:10: DeprecationWarning: find_element_by_* commands are deprecated. Please use find_element() instead\n",
      "  element = driver.find_element_by_id(\"query\")\n",
      "C:\\Users\\User\\AppData\\Local\\Temp/ipykernel_8928/4100996902.py:15: DeprecationWarning: find_element_by_link_text is deprecated. Please use find_element(by=By.LINK_TEXT, value=link_text) instead\n",
      "  driver.find_element_by_link_text(\"VIEW\").click()\n",
      "C:\\Users\\User\\AppData\\Local\\Temp/ipykernel_8928/4100996902.py:19: DeprecationWarning: find_element_by_xpath is deprecated. Please use find_element(by=By.XPATH, value=xpath) instead\n",
      "  driver.find_element_by_xpath('//*[@id=\"snb\"]/div[1]/div/div[3]/a').click()\n",
      "C:\\Users\\User\\AppData\\Local\\Temp/ipykernel_8928/4100996902.py:23: DeprecationWarning: find_element_by_xpath is deprecated. Please use find_element(by=By.XPATH, value=xpath) instead\n",
      "  driver.find_element_by_xpath('//*[@id=\"snb\"]/div[2]/ul/li[3]/div/div[1]/a[8]').click()\n"
     ]
    },
    {
     "name": "stdout",
     "output_type": "stream",
     "text": [
      "간절기아우터 포스트 개수 : 116\n",
      "1 2 3 4 5 6 7 8 9 10 11 12 13 14 15 16 17 18 19 20 21 22 23 24 25 26 27 28 29 30 31 32 33 34 35 36 37 38 39 40 41 42 43 44 45 46 47 48 49 50 51 52 53 54 55 56 57 58 59 60 61 62 63 64 65 66 67 68 69 70 71 72 73 74 75 76 77 78 79 80 81 82 83 84 85 86 87 88 89 90 91 92 93 94 95 96 97 98 99 100 101 102 103 104 105 106 107 108 109 110 111 112 113 114 115 116 간절기아우터 끝\n",
      "                                      제목       작성일자  \\\n",
      "111                     간절기 아우터 44~55사이즈 2022-03-12   \n",
      "112        마시모두띠,바버,띠어리 등 간절기 아우터 새상품입니다 2022-03-30   \n",
      "113                         모이몰른 간절기 아우터 2022-05-13   \n",
      "114  빅사이즈,여성의류) 봄, 간절기 아우터,상의 (장당 3823원) 2022-02-24   \n",
      "115                              간절기 아우터 2021-10-23   \n",
      "\n",
      "                                          주소  \n",
      "111    https://cafe.naver.com/yangmom/491265  \n",
      "112     https://cafe.naver.com/mjann/3104334  \n",
      "113  https://cafe.naver.com/imsanbu/60872048  \n",
      "114      https://cafe.naver.com/soho/2921051  \n",
      "115  https://cafe.naver.com/gloseems1/619241  \n"
     ]
    },
    {
     "name": "stderr",
     "output_type": "stream",
     "text": [
      "C:\\Users\\User\\AppData\\Local\\Temp/ipykernel_8928/4100996902.py:10: DeprecationWarning: find_element_by_* commands are deprecated. Please use find_element() instead\n",
      "  element = driver.find_element_by_id(\"query\")\n",
      "C:\\Users\\User\\AppData\\Local\\Temp/ipykernel_8928/4100996902.py:15: DeprecationWarning: find_element_by_link_text is deprecated. Please use find_element(by=By.LINK_TEXT, value=link_text) instead\n",
      "  driver.find_element_by_link_text(\"VIEW\").click()\n",
      "C:\\Users\\User\\AppData\\Local\\Temp/ipykernel_8928/4100996902.py:19: DeprecationWarning: find_element_by_xpath is deprecated. Please use find_element(by=By.XPATH, value=xpath) instead\n",
      "  driver.find_element_by_xpath('//*[@id=\"snb\"]/div[1]/div/div[3]/a').click()\n",
      "C:\\Users\\User\\AppData\\Local\\Temp/ipykernel_8928/4100996902.py:23: DeprecationWarning: find_element_by_xpath is deprecated. Please use find_element(by=By.XPATH, value=xpath) instead\n",
      "  driver.find_element_by_xpath('//*[@id=\"snb\"]/div[2]/ul/li[3]/div/div[1]/a[8]').click()\n"
     ]
    },
    {
     "name": "stdout",
     "output_type": "stream",
     "text": [
      "겨울아우터 포스트 개수 : 92\n",
      "1 2 3 4 5 6 7 8 9 10 11 12 13 14 15 16 17 18 19 20 21 22 23 24 25 26 27 28 29 30 31 32 33 34 35 36 37 38 39 40 41 42 43 44 45 46 47 48 49 50 51 52 53 54 55 56 57 58 59 60 61 62 63 64 65 66 67 68 69 70 71 72 73 74 75 76 77 78 79 80 81 82 83 84 85 86 87 88 89 90 91 92 겨울아우터 끝\n",
      "                                        제목       작성일자  \\\n",
      "87                          겨울아우터, 신랑신부 한복 2021-11-03   \n",
      "88                           겨울아우터정리 55-66 2022-03-06   \n",
      "89              코스 겨울 아우터 반코트(자켓) 아이보리 크림색 2022-01-24   \n",
      "90            아기옷 아우터 본딩자켓 리버시블 자켓 5호 겨울점퍼 2021-09-17   \n",
      "91  에이블리 사복 팝니다. (원피스/겨울 아우터) 10~20대 여성 추천 2021-10-30   \n",
      "\n",
      "                                           주소  \n",
      "87   https://cafe.naver.com/samwonmoms/876687  \n",
      "88  https://cafe.naver.com/no1cheonan/3141623  \n",
      "89    https://cafe.naver.com/imsanbu/59255563  \n",
      "90  https://cafe.naver.com/kyungmammo/5352920  \n",
      "91      https://cafe.naver.com/tictoc/2736650  \n"
     ]
    },
    {
     "name": "stderr",
     "output_type": "stream",
     "text": [
      "C:\\Users\\User\\AppData\\Local\\Temp/ipykernel_8928/4100996902.py:10: DeprecationWarning: find_element_by_* commands are deprecated. Please use find_element() instead\n",
      "  element = driver.find_element_by_id(\"query\")\n",
      "C:\\Users\\User\\AppData\\Local\\Temp/ipykernel_8928/4100996902.py:15: DeprecationWarning: find_element_by_link_text is deprecated. Please use find_element(by=By.LINK_TEXT, value=link_text) instead\n",
      "  driver.find_element_by_link_text(\"VIEW\").click()\n",
      "C:\\Users\\User\\AppData\\Local\\Temp/ipykernel_8928/4100996902.py:19: DeprecationWarning: find_element_by_xpath is deprecated. Please use find_element(by=By.XPATH, value=xpath) instead\n",
      "  driver.find_element_by_xpath('//*[@id=\"snb\"]/div[1]/div/div[3]/a').click()\n",
      "C:\\Users\\User\\AppData\\Local\\Temp/ipykernel_8928/4100996902.py:23: DeprecationWarning: find_element_by_xpath is deprecated. Please use find_element(by=By.XPATH, value=xpath) instead\n",
      "  driver.find_element_by_xpath('//*[@id=\"snb\"]/div[2]/ul/li[3]/div/div[1]/a[8]').click()\n"
     ]
    },
    {
     "name": "stdout",
     "output_type": "stream",
     "text": [
      "니트 맨투맨 포스트 개수 : 104\n",
      "1 2 3 4 5 6 7 8 9 10 11 12 13 14 15 16 17 18 19 20 21 22 23 24 25 26 27 28 29 30 31 32 33 34 35 36 37 38 39 40 41 42 43 44 45 46 47 48 49 50 51 52 53 54 55 56 57 58 59 60 61 62 63 64 65 66 67 68 69 70 71 72 73 74 75 76 77 78 79 80 81 82 83 84 85 86 87 88 89 90 91 92 93 94 95 96 97 98 99 100 101 102 103 104 니트 맨투맨 끝\n",
      "                                   제목       작성일자  \\\n",
      "99      나이스클랍] 23. 균일 텍스트자수 브이넥 니트맨투맨 2022-02-04   \n",
      "100    간절기 외투(퍼자켓, 가디건) 및 상의(니트, 맨투맨) 2022-03-22   \n",
      "101       가을의류 사용 니트,가디건,맨투맨,슬랙스,후드•• 2021-09-11   \n",
      "102   새옷 정리 - 플라워 블랏, 청바지, 롱니트, 맨투맨 등 2022-02-07   \n",
      "103  라코스테 집업 가디건. 맨투맨. 노스페이스 후드티 팝니다. 2022-03-12   \n",
      "\n",
      "                                               주소  \n",
      "99   https://cafe.naver.com/familysaleshop/682674  \n",
      "100       https://cafe.naver.com/imsanbu/60109519  \n",
      "101       https://cafe.naver.com/ro11ypop/4116810  \n",
      "102          https://cafe.naver.com/mjann/3079402  \n",
      "103          https://cafe.naver.com/glove/7397288  \n"
     ]
    },
    {
     "name": "stderr",
     "output_type": "stream",
     "text": [
      "C:\\Users\\User\\AppData\\Local\\Temp/ipykernel_8928/4100996902.py:10: DeprecationWarning: find_element_by_* commands are deprecated. Please use find_element() instead\n",
      "  element = driver.find_element_by_id(\"query\")\n",
      "C:\\Users\\User\\AppData\\Local\\Temp/ipykernel_8928/4100996902.py:15: DeprecationWarning: find_element_by_link_text is deprecated. Please use find_element(by=By.LINK_TEXT, value=link_text) instead\n",
      "  driver.find_element_by_link_text(\"VIEW\").click()\n",
      "C:\\Users\\User\\AppData\\Local\\Temp/ipykernel_8928/4100996902.py:19: DeprecationWarning: find_element_by_xpath is deprecated. Please use find_element(by=By.XPATH, value=xpath) instead\n",
      "  driver.find_element_by_xpath('//*[@id=\"snb\"]/div[1]/div/div[3]/a').click()\n",
      "C:\\Users\\User\\AppData\\Local\\Temp/ipykernel_8928/4100996902.py:23: DeprecationWarning: find_element_by_xpath is deprecated. Please use find_element(by=By.XPATH, value=xpath) instead\n",
      "  driver.find_element_by_xpath('//*[@id=\"snb\"]/div[2]/ul/li[3]/div/div[1]/a[8]').click()\n"
     ]
    },
    {
     "name": "stdout",
     "output_type": "stream",
     "text": [
      "기모 맨투맨 포스트 개수 : 111\n",
      "1 2 3 4 5 6 7 8 9 10 11 12 13 14 15 16 17 18 19 20 21 22 23 24 25 26 27 28 29 30 31 32 33 34 35 36 37 38 39 40 41 42 43 44 45 46 47 48 49 50 51 52 53 54 55 56 57 58 59 60 61 62 63 64 65 66 67 68 69 70 71 72 73 74 75 76 77 78 79 80 81 82 83 84 85 86 87 88 89 90 91 92 93 94 95 96 97 98 99 100 101 102 103 104 105 106 107 108 109 110 111 기모 맨투맨 끝\n",
      "                                     제목       작성일자  \\\n",
      "106                  겨울 기모 맨투맨 - m,l사이즈 2022-01-24   \n",
      "107                       MSGM기모 맨투맨 라지 2022-01-09   \n",
      "108  말본(malbon) 쿠퍼 기모 맨투맨 팝니다.(그레이, XL) 2022-03-17   \n",
      "109                        유아 맨투맨 스몰 기모 2022-02-25   \n",
      "110                  기모 맨투맨 새거 득템하세영!!! 2022-01-08   \n",
      "\n",
      "                                             주소  \n",
      "106    https://cafe.naver.com/dogpalza/17486059  \n",
      "107     https://cafe.naver.com/ttoksun2/3620643  \n",
      "108    https://cafe.naver.com/golmarket/9605188  \n",
      "109  https://cafe.naver.com/jungnangbaby/631875  \n",
      "110     https://cafe.naver.com/gloseems1/654402  \n"
     ]
    },
    {
     "name": "stderr",
     "output_type": "stream",
     "text": [
      "C:\\Users\\User\\AppData\\Local\\Temp/ipykernel_8928/4100996902.py:10: DeprecationWarning: find_element_by_* commands are deprecated. Please use find_element() instead\n",
      "  element = driver.find_element_by_id(\"query\")\n",
      "C:\\Users\\User\\AppData\\Local\\Temp/ipykernel_8928/4100996902.py:15: DeprecationWarning: find_element_by_link_text is deprecated. Please use find_element(by=By.LINK_TEXT, value=link_text) instead\n",
      "  driver.find_element_by_link_text(\"VIEW\").click()\n",
      "C:\\Users\\User\\AppData\\Local\\Temp/ipykernel_8928/4100996902.py:19: DeprecationWarning: find_element_by_xpath is deprecated. Please use find_element(by=By.XPATH, value=xpath) instead\n",
      "  driver.find_element_by_xpath('//*[@id=\"snb\"]/div[1]/div/div[3]/a').click()\n",
      "C:\\Users\\User\\AppData\\Local\\Temp/ipykernel_8928/4100996902.py:23: DeprecationWarning: find_element_by_xpath is deprecated. Please use find_element(by=By.XPATH, value=xpath) instead\n",
      "  driver.find_element_by_xpath('//*[@id=\"snb\"]/div[2]/ul/li[3]/div/div[1]/a[8]').click()\n"
     ]
    },
    {
     "name": "stdout",
     "output_type": "stream",
     "text": [
      "크롭 맨투맨 포스트 개수 : 115\n",
      "1 2 3 4 5 6 7 8 9 10 11 12 13 14 15 16 17 18 19 20 21 22 23 24 25 26 27 28 29 30 31 32 33 34 35 36 37 38 39 40 41 42 43 44 45 46 47 48 49 50 51 52 53 54 55 56 57 58 59 60 61 62 63 64 65 66 67 68 69 70 71 72 73 74 75 76 77 78 79 80 81 82 83 84 85 86 87 88 89 90 91 92 93 94 95 96 97 98 99 100 101 102 103 104 105 106 107 108 109 110 111 112 113 114 115 크롭 맨투맨 끝\n",
      "                                제목       작성일자  \\\n",
      "110         타오 / 조공용 나이키 크롭맨투맨 / s 2022-01-14   \n",
      "111           유니클로 +J 크롭 맨투맨 그레이 M 2022-01-21   \n",
      "112                          크롭맨투맨 2021-10-01   \n",
      "113                [드림 완료] 크롭 맨투맨S 2022-01-25   \n",
      "114  [만원] 새상품급 로엠 장미 레터링 크롭 후드 맨투맨 2022-01-23   \n",
      "\n",
      "                                              주소  \n",
      "110    https://cafe.naver.com/2ndkalsuma/4097206  \n",
      "111     https://cafe.naver.com/cosmania/33986214  \n",
      "112  https://cafe.naver.com/homaesilville/665600  \n",
      "113      https://cafe.naver.com/magoklove/267627  \n",
      "114      https://cafe.naver.com/gloseems1/663081  \n"
     ]
    },
    {
     "name": "stderr",
     "output_type": "stream",
     "text": [
      "C:\\Users\\User\\AppData\\Local\\Temp/ipykernel_8928/4100996902.py:10: DeprecationWarning: find_element_by_* commands are deprecated. Please use find_element() instead\n",
      "  element = driver.find_element_by_id(\"query\")\n",
      "C:\\Users\\User\\AppData\\Local\\Temp/ipykernel_8928/4100996902.py:15: DeprecationWarning: find_element_by_link_text is deprecated. Please use find_element(by=By.LINK_TEXT, value=link_text) instead\n",
      "  driver.find_element_by_link_text(\"VIEW\").click()\n",
      "C:\\Users\\User\\AppData\\Local\\Temp/ipykernel_8928/4100996902.py:19: DeprecationWarning: find_element_by_xpath is deprecated. Please use find_element(by=By.XPATH, value=xpath) instead\n",
      "  driver.find_element_by_xpath('//*[@id=\"snb\"]/div[1]/div/div[3]/a').click()\n",
      "C:\\Users\\User\\AppData\\Local\\Temp/ipykernel_8928/4100996902.py:23: DeprecationWarning: find_element_by_xpath is deprecated. Please use find_element(by=By.XPATH, value=xpath) instead\n",
      "  driver.find_element_by_xpath('//*[@id=\"snb\"]/div[2]/ul/li[3]/div/div[1]/a[8]').click()\n"
     ]
    },
    {
     "name": "stdout",
     "output_type": "stream",
     "text": [
      "남자 맨투맨 포스트 개수 : 89\n",
      "1 2 3 4 5 6 7 8 9 10 11 12 13 14 15 16 17 18 19 20 21 22 23 24 25 26 27 28 29 30 31 32 33 34 35 36 37 38 39 40 41 42 43 44 45 46 47 48 49 50 51 52 53 54 55 56 57 58 59 60 61 62 63 64 65 66 67 68 69 70 71 72 73 74 75 76 77 78 79 80 81 82 83 84 85 86 87 88 89 남자 맨투맨 끝\n",
      "                            제목       작성일자  \\\n",
      "84               남자 맨투맨 3장 새상품 2022-01-11   \n",
      "85               메종키츠네 남성맨투맨 M 2022-01-22   \n",
      "86  msgm 남성 맨투맨 사이즈 교환이나 판매합니다 2021-09-25   \n",
      "87                       남자맨투맨 2022-02-09   \n",
      "88          에르메스 22신상 남성맨투맨그린색 2022-02-08   \n",
      "\n",
      "                                               주소  \n",
      "84       https://cafe.naver.com/no1sejong/3203206  \n",
      "85        https://cafe.naver.com/ttoksun2/3666861  \n",
      "86        https://cafe.naver.com/kockoc11/2325857  \n",
      "87  https://cafe.naver.com/chengnamomlife/1771620  \n",
      "88    https://cafe.naver.com/parisienlook/3323440  \n"
     ]
    },
    {
     "name": "stderr",
     "output_type": "stream",
     "text": [
      "C:\\Users\\User\\AppData\\Local\\Temp/ipykernel_8928/4100996902.py:10: DeprecationWarning: find_element_by_* commands are deprecated. Please use find_element() instead\n",
      "  element = driver.find_element_by_id(\"query\")\n",
      "C:\\Users\\User\\AppData\\Local\\Temp/ipykernel_8928/4100996902.py:15: DeprecationWarning: find_element_by_link_text is deprecated. Please use find_element(by=By.LINK_TEXT, value=link_text) instead\n",
      "  driver.find_element_by_link_text(\"VIEW\").click()\n",
      "C:\\Users\\User\\AppData\\Local\\Temp/ipykernel_8928/4100996902.py:19: DeprecationWarning: find_element_by_xpath is deprecated. Please use find_element(by=By.XPATH, value=xpath) instead\n",
      "  driver.find_element_by_xpath('//*[@id=\"snb\"]/div[1]/div/div[3]/a').click()\n",
      "C:\\Users\\User\\AppData\\Local\\Temp/ipykernel_8928/4100996902.py:23: DeprecationWarning: find_element_by_xpath is deprecated. Please use find_element(by=By.XPATH, value=xpath) instead\n",
      "  driver.find_element_by_xpath('//*[@id=\"snb\"]/div[2]/ul/li[3]/div/div[1]/a[8]').click()\n"
     ]
    },
    {
     "name": "stdout",
     "output_type": "stream",
     "text": [
      "반집업 포스트 개수 : 109\n",
      "1 2 3 4 5 6 7 8 9 10 11 12 13 14 15 16 17 18 19 20 21 22 23 24 25 26 27 28 29 30 31 32 33 34 35 36 37 38 39 40 41 42 43 44 45 46 47 48 49 50 51 52 53 54 55 56 57 58 59 60 61 62 63 64 65 66 67 68 69 70 71 72 73 74 75 76 77 78 79 80 81 82 83 84 85 86 87 88 89 90 91 92 93 94 95 96 97 98 99 100 101 102 103 104 105 106 107 108 109 반집업 끝\n",
      "                                    제목       작성일자  \\\n",
      "104                  나이키 반집업 판매합니다 3만원 2022-05-15   \n",
      "105                파타고니아, 마무트, 몬츄라 반집업 2022-03-12   \n",
      "106                   에이마켓 헤리티지반집업 구해요 2022-03-29   \n",
      "107  일괄판매완료]나이키골프 반집업 바람막이,오클리스컬 반팔카라티 2022-05-24   \n",
      "108                     폼스튜디오 세일러반집업세트 2022-04-19   \n",
      "\n",
      "                                            주소  \n",
      "104   https://cafe.naver.com/golmarket/9776711  \n",
      "105  https://cafe.naver.com/chocammall/7404707  \n",
      "106     https://cafe.naver.com/asadalin/502075  \n",
      "107   https://cafe.naver.com/golmarket/9802991  \n",
      "108      https://cafe.naver.com/gosaib/1015599  \n"
     ]
    },
    {
     "name": "stderr",
     "output_type": "stream",
     "text": [
      "C:\\Users\\User\\AppData\\Local\\Temp/ipykernel_8928/4100996902.py:10: DeprecationWarning: find_element_by_* commands are deprecated. Please use find_element() instead\n",
      "  element = driver.find_element_by_id(\"query\")\n",
      "C:\\Users\\User\\AppData\\Local\\Temp/ipykernel_8928/4100996902.py:15: DeprecationWarning: find_element_by_link_text is deprecated. Please use find_element(by=By.LINK_TEXT, value=link_text) instead\n",
      "  driver.find_element_by_link_text(\"VIEW\").click()\n",
      "C:\\Users\\User\\AppData\\Local\\Temp/ipykernel_8928/4100996902.py:19: DeprecationWarning: find_element_by_xpath is deprecated. Please use find_element(by=By.XPATH, value=xpath) instead\n",
      "  driver.find_element_by_xpath('//*[@id=\"snb\"]/div[1]/div/div[3]/a').click()\n"
     ]
    },
    {
     "ename": "KeyboardInterrupt",
     "evalue": "",
     "output_type": "error",
     "traceback": [
      "\u001b[1;31m---------------------------------------------------------------------------\u001b[0m",
      "\u001b[1;31mKeyboardInterrupt\u001b[0m                         Traceback (most recent call last)",
      "\u001b[1;32m~\\AppData\\Local\\Temp/ipykernel_8928/4100996902.py\u001b[0m in \u001b[0;36m<module>\u001b[1;34m\u001b[0m\n\u001b[0;32m     18\u001b[0m     \u001b[1;31m#필터 클릭\u001b[0m\u001b[1;33m\u001b[0m\u001b[1;33m\u001b[0m\u001b[0m\n\u001b[0;32m     19\u001b[0m     \u001b[0mdriver\u001b[0m\u001b[1;33m.\u001b[0m\u001b[0mfind_element_by_xpath\u001b[0m\u001b[1;33m(\u001b[0m\u001b[1;34m'//*[@id=\"snb\"]/div[1]/div/div[3]/a'\u001b[0m\u001b[1;33m)\u001b[0m\u001b[1;33m.\u001b[0m\u001b[0mclick\u001b[0m\u001b[1;33m(\u001b[0m\u001b[1;33m)\u001b[0m\u001b[1;33m\u001b[0m\u001b[1;33m\u001b[0m\u001b[0m\n\u001b[1;32m---> 20\u001b[1;33m     \u001b[0mtime\u001b[0m\u001b[1;33m.\u001b[0m\u001b[0msleep\u001b[0m\u001b[1;33m(\u001b[0m\u001b[1;36m2\u001b[0m\u001b[1;33m)\u001b[0m\u001b[1;33m\u001b[0m\u001b[1;33m\u001b[0m\u001b[0m\n\u001b[0m\u001b[0;32m     21\u001b[0m \u001b[1;33m\u001b[0m\u001b[0m\n\u001b[0;32m     22\u001b[0m     \u001b[1;31m#기간 1년 설정\u001b[0m\u001b[1;33m\u001b[0m\u001b[1;33m\u001b[0m\u001b[0m\n",
      "\u001b[1;31mKeyboardInterrupt\u001b[0m: "
     ]
    }
   ],
   "source": [
    "driver = webdriver.Chrome('C:\\chromedriver.exe')\n",
    "\n",
    "for query_txt in keyword_list :\n",
    "\n",
    "    #크롬드라이버 실행\n",
    "    driver.get('http://www.naver.com')\n",
    "    time.sleep(2)\n",
    "\n",
    "    #키워드를 검색한 네이버창 접속\n",
    "    element = driver.find_element_by_id(\"query\")\n",
    "    element.send_keys(query_txt)\n",
    "    element.submit()\n",
    "\n",
    "    # 뷰 클릭\n",
    "    driver.find_element_by_link_text(\"VIEW\").click()\n",
    "    time.sleep(2)\n",
    "\n",
    "    #필터 클릭\n",
    "    driver.find_element_by_xpath('//*[@id=\"snb\"]/div[1]/div/div[3]/a').click()\n",
    "    time.sleep(2)\n",
    "\n",
    "    #기간 1년 설정\n",
    "    driver.find_element_by_xpath('//*[@id=\"snb\"]/div[2]/ul/li[3]/div/div[1]/a[8]').click()\n",
    "\n",
    "    time.sleep(3)\n",
    "\n",
    "    no2 = [ ]           # 게시글 번호 컬럼\n",
    "    title2 = [ ]        # 게시물 제목 컬럼\n",
    "    bdate2 = [ ]        # 작성 일자 컬럼\n",
    "    url2 = [ ]          # 블로그 url 주소\n",
    "\n",
    "    no = 1\n",
    "\n",
    "    #더이상 스크롤이 안되면 종료\n",
    "    i = 1\n",
    "    time.sleep(1)\n",
    "\n",
    "    #현재 스크롤 위치를 last_height로 받아옴\n",
    "    last_height = driver.execute_script(\"return document.documentElement.scrollHeight\")\n",
    "\n",
    "    while True:\n",
    "        #스크롤 한 번 실행 후 스크롤 위치를 new_height로 받아옴\n",
    "        scroll_down(driver)\n",
    "        new_height = driver.execute_script(\"return document.documentElement.scrollHeight\")\n",
    "\n",
    "        #더이상 스크롤이 안되면 종료\n",
    "        if new_height == last_height:\n",
    "            break\n",
    "\n",
    "        last_height = new_height\n",
    "        i += 1\n",
    "\n",
    "\n",
    "    html = driver.page_source\n",
    "    soup = BeautifulSoup(html, 'html.parser')\n",
    "\n",
    "    view_list = soup.find('ul','lst_total').find_all('li')\n",
    "    print(query_txt, '포스트 개수 :', len(view_list))\n",
    "\n",
    "    for i in view_list :\n",
    "        \n",
    "        no2.append(no)                            # 게시물 번호 리스트에 추가\n",
    "        print(no, end=' ')\n",
    "\n",
    "        all_title = i.find_all('a')\n",
    "        title = all_title[5].get_text( )          # 게시물 제목\n",
    "        title2.append(title)                      # 게시물 제목 리스트에 추가\n",
    "\n",
    "        time.sleep(2)\n",
    "\n",
    "        bdate = i.find('span','sub_time sub_txt').get_text( )  # 작성일자\n",
    "        bdate.replace('.', '-')\n",
    "        bdate2.append(bdate)                     # 작성일자 리스트에 추가\n",
    "\n",
    "        time.sleep(2)\n",
    "\n",
    "        url = str(all_title[0])\n",
    "        url = url.split('\"')[5]                 # 게시물 url\n",
    "        url2.append(url)                        # url 리스트에 추가\n",
    "\n",
    "        time.sleep(2)\n",
    "\n",
    "        if no == 200 : #한번에 200개 까지만 크롤링 가능\n",
    "            break\n",
    "            \n",
    "        no += 1\n",
    "\n",
    "    print(query_txt, '끝')\n",
    "\n",
    "    bdate3 = [] #전처리 후 작성일자\n",
    "\n",
    "    # 작성일자를 날짜형식으로 통일화\n",
    "    for day in bdate2 :\n",
    "\n",
    "        if '시간 전' in day :       # n시간 전 업로드 글\n",
    "            day = date.today()\n",
    "        elif '분 전' in day :       # n분 전 업로드 글\n",
    "            day = date.today()\n",
    "        elif '일 전' in day :       # n일 전 업로드 글 \n",
    "            day = date.today() - timedelta(int(day[0])) #8일전 글 부터는 날짜로 반환\n",
    "        elif day == '어제' :        # 어제 업로드 글\n",
    "            day = date.today() - timedelta(1)\n",
    "        else :\n",
    "            day = day.rstrip('.')\n",
    "            day = day.replace('.', '-')\n",
    "        \n",
    "        bdate3.append(day)\n",
    "\n",
    "    # df화\n",
    "    naver_blog = pd.DataFrame()\n",
    "    naver_blog['제목'] = title2\n",
    "    naver_blog['작성일자'] = bdate3\n",
    "    naver_blog['주소'] = url2\n",
    "\n",
    "    #date-time 타입으로 변환\n",
    "    naver_blog['작성일자'] = pd.to_datetime(naver_blog['작성일자'])\n",
    "\n",
    "    print(naver_blog.tail())\n",
    "\n",
    "    #postgresql 접속\n",
    "    conn_string = \"host='localhost' dbname='postgres' user='postgres' password='admin'\"\n",
    "    conn = psycopg2.connect(conn_string)\n",
    "    cur = conn.cursor()\n",
    "\n",
    "    table = 'view_clothes'\n",
    "\n",
    "    #table에 데이터 넣기\n",
    "    for i in range(len(naver_blog)) :\n",
    "        cur.execute(insert_command(table), (naver_blog.iloc[i][0], naver_blog.iloc[i][1], naver_blog.iloc[i][2]))\n",
    "        conn.commit()\n",
    "\n",
    "    conn.cursor().close()\n",
    "    conn.close()"
   ]
  },
  {
   "cell_type": "markdown",
   "metadata": {},
   "source": [
    "#postgresql 접속\n",
    "conn_string = \"host='localhost' dbname='postgres' user='postgres' password='admin'\"\n",
    "conn = psycopg2.connect(conn_string)\n",
    "cur = conn.cursor()"
   ]
  },
  {
   "cell_type": "code",
   "execution_count": null,
   "metadata": {},
   "outputs": [],
   "source": [
    "#table 확인하기\n",
    "cur.execute(select_command(table))\n",
    "conn.commit()\n",
    "cur.fetchall()"
   ]
  },
  {
   "cell_type": "code",
   "execution_count": 17,
   "metadata": {},
   "outputs": [],
   "source": [
    "#db 연결 종료\n",
    "conn.cursor().close()\n",
    "conn.close()"
   ]
  },
  {
   "cell_type": "code",
   "execution_count": null,
   "metadata": {},
   "outputs": [],
   "source": []
  }
 ],
 "metadata": {
  "interpreter": {
   "hash": "f08154012ddadd8e950e6e9e035c7a7b32c136e7647e9b7c77e02eb723a8bedb"
  },
  "kernelspec": {
   "display_name": "Python 3.9.7 ('base')",
   "language": "python",
   "name": "python3"
  },
  "language_info": {
   "codemirror_mode": {
    "name": "ipython",
    "version": 3
   },
   "file_extension": ".py",
   "mimetype": "text/x-python",
   "name": "python",
   "nbconvert_exporter": "python",
   "pygments_lexer": "ipython3",
   "version": "3.9.7"
  },
  "orig_nbformat": 4
 },
 "nbformat": 4,
 "nbformat_minor": 2
}
