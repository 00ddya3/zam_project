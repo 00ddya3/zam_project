{
 "cells": [
  {
   "cell_type": "markdown",
   "metadata": {},
   "source": [
    "# 네이버뷰 크롤링 후 DB 적재"
   ]
  },
  {
   "cell_type": "code",
   "execution_count": 36,
   "metadata": {},
   "outputs": [],
   "source": [
    "#모듈 import\n",
    "from bs4 import BeautifulSoup\n",
    "from selenium import webdriver\n",
    "import time\n",
    "import pandas  as pd \n",
    "import psycopg2\n",
    "from datetime import date, timedelta\n",
    "import re"
   ]
  },
  {
   "cell_type": "code",
   "execution_count": 37,
   "metadata": {},
   "outputs": [],
   "source": [
    "# 자동 스크롤다운 함수\n",
    "def scroll_down(driver):\n",
    "    driver.execute_script(\"window.scrollTo(0,document.body.scrollHeight);\")\n",
    "    time.sleep(5)\n",
    "\n",
    "#select문 만들기\n",
    "def select_command(table) :\n",
    "    command = 'select * from ' + table\n",
    "    return command\n",
    "\n",
    "#insert문 만들기\n",
    "def insert_command(table) :\n",
    "    command = 'insert into ' + table + ' (title, date, url, hashtag) values (%s, %s, %s, %s);'\n",
    "    return command"
   ]
  },
  {
   "cell_type": "markdown",
   "metadata": {},
   "source": [
    "'뷔스티에 원피스', '롱패딩', '숏패딩', '롱코트', '숏코트', '잠옷', '홈웨어', '트위드자켓', '블레이저 자켓', '싱글 자켓', '크롭 자켓', '레더 자켓', '루즈핏', '테일러드자켓', '린넨자켓', '반팔자켓', '라이더 자켓', '오버핏 자켓', '청자켓', '니트가디건', '볼레로', '아가일', '크롭가디건', '반팔가디건', '앙고라', '바람막이', '아노락', '윈드브레이커', '바시티자켓', '바시티점퍼', '야구점퍼', '여름아우터', '간절기아우터', '겨울아우터', '니트 맨투맨', '기모 맨투맨', '크롭 맨투맨', '남자 맨투맨', '반집업', '반팔 맨투맨', '크롭후드', '기모후드', '후드티', '남자 후드', '꾸안꾸', '플리스', '후리스', '반팔티', '크롭 반팔', '블라우스', '와이셔츠', '셔츠', '체크셔츠', '타이다이', '옥스퍼드셔츠', '남방', '슬리브티', '니트', '남자니트', '조끼', '크롭티', '봄슬랙스', '여름슬랙스', '가을슬랙스', '겨울슬랙스', '간절기슬랙스', '데님팬츠', '연청', '진청', '중청', '흑청', '그레이진', '와이드팬츠', '밴딩바지', '스키니진', '린넨팬츠', '반바지', '하이웨스트', '로우웨스트', '부츠컷', '치노팬츠', '트레이닝복', '트레이닝바지', '조거팬츠', '카고바지', '일자팬츠', '냉장고바지', '멜빵바지', '오버롤팬츠', '찢청', '미니스커트', '미디스커트', '롱스커트', '플레어스커트', 'A라인 스커트', 'H라인 스커트', '청치마', '테니스스커트', '프릴스커트', '레더 스커트', '랩스커트', '데님스커트', '플리츠스커트', '미니원피스', '미디원피스', '롱원피스', '나시원피스', '코르셋', '셔츠원피스', '벨벳원피스', '꽃원피스', '골지원피스', '골지티', '쉬폰원피스', '쉬폰블라우스', '린넨원피스', '카라원피스', '랩원피스', '니트원피스', '후드원피스', '코듀로이', '반팔원피스', '점프슈트', '봄룩북', '봄옷쇼핑', '봄코디', '봄옷하울', '여름룩북', '여름옷쇼핑', '여름코디', '여름하울', '가을룩북', '가을옷쇼핑', '가을코디', '가을하울', '겨울룩북', '겨울옷쇼핑', '겨울코디', '겨울하울', '캠퍼스룩', '아메카지룩', '프레피룩', '하객룩', '놈코어룩', '시티보이룩', '미니멀룩', '애슬레저룩', '데이트룩', '출근룩', '데일리룩'"
   ]
  },
  {
   "cell_type": "markdown",
   "metadata": {},
   "source": [
    "'침대', '매트리스', '토퍼', '소파', '테이블', '식탁', '책상', '거실장', 'tv장', '서랍', '수납장', '진열장', '책장', '선반', '행거', '옷장', '의자', '화장대', '콘솔','거울', '침구세트', '이불', '베개', '토퍼', '패드', '매트리스커버', '블라인드', '롤스크린', '커튼', '러그', '카페트', '매트', '쿠션', '방석', '소파커버', '조명', 'led평판등', '천장등', '장스탠드', '단스탠드', '데스크스탠드', '무드등', '장식조명', '벽조명', '센서등', '형광등', '집꾸미기', '방꾸미기', '인테리어'"
   ]
  },
  {
   "cell_type": "code",
   "execution_count": 62,
   "metadata": {},
   "outputs": [],
   "source": [
    "keyword_list = []"
   ]
  },
  {
   "cell_type": "code",
   "execution_count": 63,
   "metadata": {},
   "outputs": [
    {
     "name": "stderr",
     "output_type": "stream",
     "text": [
      "C:\\Users\\User\\AppData\\Local\\Temp/ipykernel_8928/2412222373.py:1: DeprecationWarning: executable_path has been deprecated, please pass in a Service object\n",
      "  driver = webdriver.Chrome('C:\\chromedriver.exe')\n",
      "C:\\Users\\User\\AppData\\Local\\Temp/ipykernel_8928/2412222373.py:10: DeprecationWarning: find_element_by_* commands are deprecated. Please use find_element() instead\n",
      "  element = driver.find_element_by_id(\"query\")\n",
      "C:\\Users\\User\\AppData\\Local\\Temp/ipykernel_8928/2412222373.py:15: DeprecationWarning: find_element_by_link_text is deprecated. Please use find_element(by=By.LINK_TEXT, value=link_text) instead\n",
      "  driver.find_element_by_link_text(\"VIEW\").click()\n",
      "C:\\Users\\User\\AppData\\Local\\Temp/ipykernel_8928/2412222373.py:19: DeprecationWarning: find_element_by_xpath is deprecated. Please use find_element(by=By.XPATH, value=xpath) instead\n",
      "  driver.find_element_by_xpath('//*[@id=\"snb\"]/div[1]/div/div[3]/a').click()\n",
      "C:\\Users\\User\\AppData\\Local\\Temp/ipykernel_8928/2412222373.py:23: DeprecationWarning: find_element_by_xpath is deprecated. Please use find_element(by=By.XPATH, value=xpath) instead\n",
      "  driver.find_element_by_xpath('//*[@id=\"snb\"]/div[2]/ul/li[3]/div/div[1]/a[8]').click()\n"
     ]
    },
    {
     "name": "stdout",
     "output_type": "stream",
     "text": [
      "조명 포스트 개수 : 82\n",
      "1 2 3 4 5 6 7 8 9 10 11 12 13 14 15 16 17 18 19 20 21 22 23 24 25 26 27 28 29 30 31 32 33 34 35 36 37 38 39 40 41 42 43 44 45 46 47 48 49 50 51 52 53 54 55 56 57 58 59 60 61 62 63 64 65 66 67 68 69 70 71 72 73 74 75 76 77 78 79 80 81 82 조명 끝\n",
      "                                  제목       작성일자  \\\n",
      "77                       간접조명 질문드립니다 2022-05-03   \n",
      "78            식탁 조명등 루이스 로즈골드 골라봤어요. 2022-05-09   \n",
      "79                 간접조명 무슨색으로 하셨나요?? 2022-05-30   \n",
      "80  광명조명 광명역써밋플레이스 거실과 주방 천장 조명시공 후기 2022-05-04   \n",
      "81                                조명 2022-05-27   \n",
      "\n",
      "                                              주소 해시태그  \n",
      "77        https://cafe.naver.com/kimyoooo/892283       \n",
      "78        https://cafe.naver.com/overseer/769072       \n",
      "79        https://cafe.naver.com/overseer/779847       \n",
      "80        https://cafe.naver.com/overseer/766953       \n",
      "81  https://cafe.naver.com/jihosoccer123/1469698       \n"
     ]
    },
    {
     "name": "stderr",
     "output_type": "stream",
     "text": [
      "C:\\Users\\User\\AppData\\Local\\Temp/ipykernel_8928/2412222373.py:10: DeprecationWarning: find_element_by_* commands are deprecated. Please use find_element() instead\n",
      "  element = driver.find_element_by_id(\"query\")\n",
      "C:\\Users\\User\\AppData\\Local\\Temp/ipykernel_8928/2412222373.py:15: DeprecationWarning: find_element_by_link_text is deprecated. Please use find_element(by=By.LINK_TEXT, value=link_text) instead\n",
      "  driver.find_element_by_link_text(\"VIEW\").click()\n",
      "C:\\Users\\User\\AppData\\Local\\Temp/ipykernel_8928/2412222373.py:19: DeprecationWarning: find_element_by_xpath is deprecated. Please use find_element(by=By.XPATH, value=xpath) instead\n",
      "  driver.find_element_by_xpath('//*[@id=\"snb\"]/div[1]/div/div[3]/a').click()\n",
      "C:\\Users\\User\\AppData\\Local\\Temp/ipykernel_8928/2412222373.py:23: DeprecationWarning: find_element_by_xpath is deprecated. Please use find_element(by=By.XPATH, value=xpath) instead\n",
      "  driver.find_element_by_xpath('//*[@id=\"snb\"]/div[2]/ul/li[3]/div/div[1]/a[8]').click()\n"
     ]
    },
    {
     "name": "stdout",
     "output_type": "stream",
     "text": [
      "led평판등 포스트 개수 : 89\n",
      "1 2 3 4 5 6 7 8 9 10 11 12 13 14 15 16 17 18 19 20 21 22 23 24 25 26 27 28 29 30 31 32 33 34 35 36 37 38 39 40 41 42 43 44 45 46 47 48 49 50 51 52 53 54 55 56 57 58 59 60 61 62 63 64 65 66 67 68 69 70 71 72 73 74 75 76 77 78 79 80 81 82 83 84 85 86 87 88 89 led평판등 끝\n",
      "                                   제목       작성일자  \\\n",
      "84         DIY용 LED 엣지평판등 본체 새제품 3개일괄 2022-01-18   \n",
      "85         이홈에서 구매한 led 엣지평판등 재판매합니다. 2021-06-04   \n",
      "86                      LED평판등 조명 12개 2022-05-28   \n",
      "87  씨티전기(주) LED평판등600*600/ 15개일괄판매합니다 2022-05-31   \n",
      "88                 LED 평판등 판매합니다(60개) 2021-09-30   \n",
      "\n",
      "                                              주소 해시태그  \n",
      "84          https://cafe.naver.com/hssoon/306961       \n",
      "85          https://cafe.naver.com/hssoon/283284       \n",
      "86  https://cafe.naver.com/joonggonara/919788775  #조명  \n",
      "87  https://cafe.naver.com/joonggonara/920232566       \n",
      "88        https://cafe.naver.com/wjsekdtk/123640       \n"
     ]
    },
    {
     "name": "stderr",
     "output_type": "stream",
     "text": [
      "C:\\Users\\User\\AppData\\Local\\Temp/ipykernel_8928/2412222373.py:10: DeprecationWarning: find_element_by_* commands are deprecated. Please use find_element() instead\n",
      "  element = driver.find_element_by_id(\"query\")\n",
      "C:\\Users\\User\\AppData\\Local\\Temp/ipykernel_8928/2412222373.py:15: DeprecationWarning: find_element_by_link_text is deprecated. Please use find_element(by=By.LINK_TEXT, value=link_text) instead\n",
      "  driver.find_element_by_link_text(\"VIEW\").click()\n",
      "C:\\Users\\User\\AppData\\Local\\Temp/ipykernel_8928/2412222373.py:19: DeprecationWarning: find_element_by_xpath is deprecated. Please use find_element(by=By.XPATH, value=xpath) instead\n",
      "  driver.find_element_by_xpath('//*[@id=\"snb\"]/div[1]/div/div[3]/a').click()\n",
      "C:\\Users\\User\\AppData\\Local\\Temp/ipykernel_8928/2412222373.py:23: DeprecationWarning: find_element_by_xpath is deprecated. Please use find_element(by=By.XPATH, value=xpath) instead\n",
      "  driver.find_element_by_xpath('//*[@id=\"snb\"]/div[2]/ul/li[3]/div/div[1]/a[8]').click()\n"
     ]
    },
    {
     "name": "stdout",
     "output_type": "stream",
     "text": [
      "천장등 포스트 개수 : 99\n",
      "1 2 3 4 5 6 7 8 9 10 11 12 13 14 15 16 17 18 19 20 21 22 23 24 25 26 27 28 29 30 31 32 33 34 35 36 37 38 39 40 41 42 43 44 45 46 47 48 49 50 51 52 53 54 55 56 57 58 59 60 61 62 63 64 65 66 67 68 69 70 71 72 73 74 75 76 77 78 79 80 81 82 83 84 85 86 87 88 89 90 91 92 93 94 95 96 97 98 99 천장등 끝\n",
      "                                    제목       작성일자  \\\n",
      "94             아드리아 아비바 천장등 디머기능이 있군요. 2022-01-22   \n",
      "95                    천장 메인등이 떨어졌어요 ㅜㅜ 2022-04-19   \n",
      "96  레일등 이나 라인등 다는거 석고보드 천장 마감에도 달수있나요? 2022-05-09   \n",
      "97                           우물형천장 간접등 2022-05-04   \n",
      "98                  인테리어 거실등 천장등 시티 조명 2022-04-14   \n",
      "\n",
      "                                              주소 해시태그  \n",
      "94      https://cafe.naver.com/joycamping/695757       \n",
      "95        https://cafe.naver.com/overseer/758529       \n",
      "96  https://cafe.naver.com/jihosoccer123/1430927       \n",
      "97        https://cafe.naver.com/overseer/766824       \n",
      "98       https://cafe.naver.com/imsanbu/60455496       \n"
     ]
    },
    {
     "name": "stderr",
     "output_type": "stream",
     "text": [
      "C:\\Users\\User\\AppData\\Local\\Temp/ipykernel_8928/2412222373.py:10: DeprecationWarning: find_element_by_* commands are deprecated. Please use find_element() instead\n",
      "  element = driver.find_element_by_id(\"query\")\n",
      "C:\\Users\\User\\AppData\\Local\\Temp/ipykernel_8928/2412222373.py:15: DeprecationWarning: find_element_by_link_text is deprecated. Please use find_element(by=By.LINK_TEXT, value=link_text) instead\n",
      "  driver.find_element_by_link_text(\"VIEW\").click()\n",
      "C:\\Users\\User\\AppData\\Local\\Temp/ipykernel_8928/2412222373.py:19: DeprecationWarning: find_element_by_xpath is deprecated. Please use find_element(by=By.XPATH, value=xpath) instead\n",
      "  driver.find_element_by_xpath('//*[@id=\"snb\"]/div[1]/div/div[3]/a').click()\n",
      "C:\\Users\\User\\AppData\\Local\\Temp/ipykernel_8928/2412222373.py:23: DeprecationWarning: find_element_by_xpath is deprecated. Please use find_element(by=By.XPATH, value=xpath) instead\n",
      "  driver.find_element_by_xpath('//*[@id=\"snb\"]/div[2]/ul/li[3]/div/div[1]/a[8]').click()\n"
     ]
    },
    {
     "name": "stdout",
     "output_type": "stream",
     "text": [
      "장스탠드 포스트 개수 : 122\n",
      "1 2 3 4 5 6 7 8 9 10 11 12 13 14 15 16 17 18 19 20 21 22 23 24 25 26 27 28 29 30 31 32 33 34 35 36 37 38 39 40 41 42 43 44 45 46 47 48 49 50 51 52 53 54 55 56 57 58 59 60 61 62 63 64 65 66 67 68 69 70 71 72 73 74 75 76 77 78 79 80 81 82 83 84 85 86 87 88 89 90 91 92 93 94 95 96 97 98 99 100 101 102 103 104 105 106 107 108 109 110 111 112 113 114 115 116 117 118 119 120 121 122 장스탠드 끝\n",
      "           제목       작성일자                                         주소 해시태그\n",
      "117   깃털 장스탠드 2021-10-24        https://cafe.naver.com/tgpia/592557     \n",
      "118      장스탠드 2021-09-26      https://cafe.naver.com/market37/33377     \n",
      "119      장스탠드 2022-04-25    https://cafe.naver.com/anjungmom/964496     \n",
      "120  장스탠드 팔아요 2021-06-24  https://cafe.naver.com/no1cheonan/2864526     \n",
      "121      장스탠드 2021-06-07   https://cafe.naver.com/yulhahanrim/40831     \n"
     ]
    },
    {
     "name": "stderr",
     "output_type": "stream",
     "text": [
      "C:\\Users\\User\\AppData\\Local\\Temp/ipykernel_8928/2412222373.py:10: DeprecationWarning: find_element_by_* commands are deprecated. Please use find_element() instead\n",
      "  element = driver.find_element_by_id(\"query\")\n",
      "C:\\Users\\User\\AppData\\Local\\Temp/ipykernel_8928/2412222373.py:15: DeprecationWarning: find_element_by_link_text is deprecated. Please use find_element(by=By.LINK_TEXT, value=link_text) instead\n",
      "  driver.find_element_by_link_text(\"VIEW\").click()\n",
      "C:\\Users\\User\\AppData\\Local\\Temp/ipykernel_8928/2412222373.py:19: DeprecationWarning: find_element_by_xpath is deprecated. Please use find_element(by=By.XPATH, value=xpath) instead\n",
      "  driver.find_element_by_xpath('//*[@id=\"snb\"]/div[1]/div/div[3]/a').click()\n",
      "C:\\Users\\User\\AppData\\Local\\Temp/ipykernel_8928/2412222373.py:23: DeprecationWarning: find_element_by_xpath is deprecated. Please use find_element(by=By.XPATH, value=xpath) instead\n",
      "  driver.find_element_by_xpath('//*[@id=\"snb\"]/div[2]/ul/li[3]/div/div[1]/a[8]').click()\n"
     ]
    },
    {
     "name": "stdout",
     "output_type": "stream",
     "text": [
      "단스탠드 포스트 개수 : 114\n",
      "1 2 3 4 5 6 7 8 9 10 11 12 13 14 15 16 17 18 19 20 21 22 23 24 25 26 27 28 29 30 31 32 33 34 35 36 37 38 39 40 41 42 43 44 45 46 47 48 49 50 51 52 53 54 55 56 57 58 59 60 61 62 63 64 65 66 67 68 69 70 71 72 73 74 75 76 77 78 79 80 81 82 83 84 85 86 87 88 89 90 91 92 93 94 95 96 97 98 99 100 101 102 103 104 105 106 107 108 109 110 111 112 113 114 단스탠드 끝\n",
      "                                                제목       작성일자  \\\n",
      "109               스노우피크 아스타리스크 포트스탠드(CS-209) ㅡ판매완료 2022-05-23   \n",
      "110                                 조명 ~라루즈엘로 단스탠드 2022-04-24   \n",
      "111  크레모아= 3페이스, 울트라, 캡온, 미니, 헤디플러스, 헤디2 ,5단스탠드 신품 2022-05-25   \n",
      "112                          루이스폴센 단스탠드 VL38 Table 2022-03-01   \n",
      "113                                    허큘리스 3단 스탠드 2021-06-15   \n",
      "\n",
      "                                                    주소 해시태그  \n",
      "109          https://cafe.naver.com/chocammall/7784590       \n",
      "110  https://cafe.naver.com/cheongrajoonggonara/813980       \n",
      "111          https://cafe.naver.com/chocammall/7794008       \n",
      "112       https://cafe.naver.com/joonggonara/901562802       \n",
      "113          https://cafe.naver.com/tongandtong/653001       \n"
     ]
    },
    {
     "name": "stderr",
     "output_type": "stream",
     "text": [
      "C:\\Users\\User\\AppData\\Local\\Temp/ipykernel_8928/2412222373.py:10: DeprecationWarning: find_element_by_* commands are deprecated. Please use find_element() instead\n",
      "  element = driver.find_element_by_id(\"query\")\n",
      "C:\\Users\\User\\AppData\\Local\\Temp/ipykernel_8928/2412222373.py:15: DeprecationWarning: find_element_by_link_text is deprecated. Please use find_element(by=By.LINK_TEXT, value=link_text) instead\n",
      "  driver.find_element_by_link_text(\"VIEW\").click()\n",
      "C:\\Users\\User\\AppData\\Local\\Temp/ipykernel_8928/2412222373.py:19: DeprecationWarning: find_element_by_xpath is deprecated. Please use find_element(by=By.XPATH, value=xpath) instead\n",
      "  driver.find_element_by_xpath('//*[@id=\"snb\"]/div[1]/div/div[3]/a').click()\n",
      "C:\\Users\\User\\AppData\\Local\\Temp/ipykernel_8928/2412222373.py:23: DeprecationWarning: find_element_by_xpath is deprecated. Please use find_element(by=By.XPATH, value=xpath) instead\n",
      "  driver.find_element_by_xpath('//*[@id=\"snb\"]/div[2]/ul/li[3]/div/div[1]/a[8]').click()\n"
     ]
    },
    {
     "name": "stdout",
     "output_type": "stream",
     "text": [
      "데스크스탠드 포스트 개수 : 135\n",
      "1 2 3 4 5 6 7 8 9 10 11 12 13 14 15 16 17 18 19 20 21 22 23 24 25 26 27 28 29 30 31 32 33 34 35 36 37 38 39 40 41 42 43 44 45 46 47 48 49 50 51 52 53 54 55 56 57 58 59 60 61 62 63 64 65 66 67 68 69 70 71 72 73 74 75 76 77 78 79 80 81 82 83 84 85 86 87 88 89 90 91 92 93 94 95 96 97 98 99 100 101 102 103 104 105 106 107 108 109 110 111 112 113 114 115 116 117 118 119 120 121 122 123 124 125 126 127 128 129 130 131 132 133 134 135 데스크스탠드 끝\n",
      "                                              제목       작성일자  \\\n",
      "130               1980s 멤피스 디자인 Circo 데스크 스탠드 조명 2022-04-20   \n",
      "131               칸토오디오 YU + SP6 HD 데스크 스탠드 팝니다. 2022-05-21   \n",
      "132                 클래파 LED 데스크 스탠드 (BFB-LS008W) 2022-04-20   \n",
      "133  루나랩 전동 높이조절 스탠딩 모션데스크 컴퓨터 스탠드 책상 테이블 거치형 블랙 2022-02-05   \n",
      "134      에이원오디오(A1) 오로라1 take2 스피커+데스크 스탠드 판매합니다 2022-03-10   \n",
      "\n",
      "                                               주소  \\\n",
      "130  https://cafe.naver.com/joonggonara/911851216   \n",
      "131  https://cafe.naver.com/joonggonara/918405562   \n",
      "132  https://cafe.naver.com/joonggonara/912003064   \n",
      "133  https://cafe.naver.com/joonggonara/896382721   \n",
      "134  https://cafe.naver.com/joonggonara/903283404   \n",
      "\n",
      "                                   해시태그  \n",
      "130  #멤피스디자인 #루이스폴센 #아르떼미데 #허먼밀러 #프리츠한센  \n",
      "131                                      \n",
      "132                 #책상스탠드 #데스크스탠드 #클래파  \n",
      "133                                      \n",
      "134                      #오로라 #스피커 #북쉘프  \n"
     ]
    },
    {
     "name": "stderr",
     "output_type": "stream",
     "text": [
      "C:\\Users\\User\\AppData\\Local\\Temp/ipykernel_8928/2412222373.py:10: DeprecationWarning: find_element_by_* commands are deprecated. Please use find_element() instead\n",
      "  element = driver.find_element_by_id(\"query\")\n",
      "C:\\Users\\User\\AppData\\Local\\Temp/ipykernel_8928/2412222373.py:15: DeprecationWarning: find_element_by_link_text is deprecated. Please use find_element(by=By.LINK_TEXT, value=link_text) instead\n",
      "  driver.find_element_by_link_text(\"VIEW\").click()\n",
      "C:\\Users\\User\\AppData\\Local\\Temp/ipykernel_8928/2412222373.py:19: DeprecationWarning: find_element_by_xpath is deprecated. Please use find_element(by=By.XPATH, value=xpath) instead\n",
      "  driver.find_element_by_xpath('//*[@id=\"snb\"]/div[1]/div/div[3]/a').click()\n",
      "C:\\Users\\User\\AppData\\Local\\Temp/ipykernel_8928/2412222373.py:23: DeprecationWarning: find_element_by_xpath is deprecated. Please use find_element(by=By.XPATH, value=xpath) instead\n",
      "  driver.find_element_by_xpath('//*[@id=\"snb\"]/div[2]/ul/li[3]/div/div[1]/a[8]').click()\n"
     ]
    },
    {
     "name": "stdout",
     "output_type": "stream",
     "text": [
      "무드등 포스트 개수 : 128\n",
      "1 2 3 4 5 6 7 8 9 10 11 12 13 14 15 16 17 18 19 20 21 22 23 24 25 26 27 28 29 30 31 32 33 34 35 36 37 38 39 40 41 42 43 44 45 46 47 48 49 50 51 52 53 54 55 56 57 58 59 60 61 62 63 64 65 66 67 68 69 70 71 72 73 74 75 76 77 78 79 80 81 82 83 84 85 86 87 88 89 90 91 92 93 94 95 96 97 98 99 100 101 102 103 104 105 106 107 108 109 110 111 112 113 114 115 116 117 118 119 120 121 122 123 124 125 126 127 128 무드등 끝\n",
      "                             제목       작성일자  \\\n",
      "123  무드등 팔아요! 몽슈슈 미러빔 (미개봉 새제품) 2022-04-29   \n",
      "124   [광주]샤오미 무드등(XMCTD01YL)팝니다 2022-03-24   \n",
      "125               (완료)무드등 나눔해요~ 2022-04-11   \n",
      "126                하트,치즈 무드등 정리 2022-04-30   \n",
      "127  배스킨라빈스 보름달 무드등 - 초대 님 드림완료 2022-05-09   \n",
      "\n",
      "                                                주소 해시태그  \n",
      "123  https://cafe.naver.com/chengnamomlife/1813767       \n",
      "124      https://cafe.naver.com/chocammall/7468661       \n",
      "125           https://cafe.naver.com/fmms02/293312       \n",
      "126            https://cafe.naver.com/soho/2982790       \n",
      "127         https://cafe.naver.com/titnic77/153671       \n"
     ]
    },
    {
     "name": "stderr",
     "output_type": "stream",
     "text": [
      "C:\\Users\\User\\AppData\\Local\\Temp/ipykernel_8928/2412222373.py:10: DeprecationWarning: find_element_by_* commands are deprecated. Please use find_element() instead\n",
      "  element = driver.find_element_by_id(\"query\")\n",
      "C:\\Users\\User\\AppData\\Local\\Temp/ipykernel_8928/2412222373.py:15: DeprecationWarning: find_element_by_link_text is deprecated. Please use find_element(by=By.LINK_TEXT, value=link_text) instead\n",
      "  driver.find_element_by_link_text(\"VIEW\").click()\n",
      "C:\\Users\\User\\AppData\\Local\\Temp/ipykernel_8928/2412222373.py:19: DeprecationWarning: find_element_by_xpath is deprecated. Please use find_element(by=By.XPATH, value=xpath) instead\n",
      "  driver.find_element_by_xpath('//*[@id=\"snb\"]/div[1]/div/div[3]/a').click()\n",
      "C:\\Users\\User\\AppData\\Local\\Temp/ipykernel_8928/2412222373.py:23: DeprecationWarning: find_element_by_xpath is deprecated. Please use find_element(by=By.XPATH, value=xpath) instead\n",
      "  driver.find_element_by_xpath('//*[@id=\"snb\"]/div[2]/ul/li[3]/div/div[1]/a[8]').click()\n"
     ]
    },
    {
     "name": "stdout",
     "output_type": "stream",
     "text": [
      "장식조명 포스트 개수 : 135\n",
      "1 2 3 4 5 6 7 8 9 10 11 12 13 14 15 16 17 18 19 20 21 22 23 24 25 26 27 28 29 30 31 32 33 34 35 36 37 38 39 40 41 42 43 44 45 46 47 48 49 50 51 52 53 54 55 56 57 58 59 60 61 62 63 64 65 66 67 68 69 70 71 72 73 74 75 76 77 78 79 80 81 82 83 84 85 86 87 88 89 90 91 92 93 94 95 96 97 98 99 100 101 102 103 104 105 106 107 108 109 110 111 112 113 114 115 116 117 118 119 120 121 122 123 124 125 126 127 128 129 130 131 132 133 134 135 장식조명 끝\n",
      "                                              제목       작성일자  \\\n",
      "130  [거래완료] 빔프로젝터, 바인딩머신, 칫솔살균기, 우쿨렐레, 장식조명 팔아요. 2021-07-05   \n",
      "131                      강남역 교대역 4자어항 돌장식 조명 히터기 2021-11-22   \n",
      "132                       별 조명, 유적 장식 기둥 레시피 구해요 2022-01-23   \n",
      "133                                이케아 솔빈덴 조명 장식 2021-12-16   \n",
      "134                           별모양 우드 장식 (전구 미포함) 2021-12-15   \n",
      "\n",
      "                                             주소 해시태그  \n",
      "130       https://cafe.naver.com/yoehang/281681       \n",
      "131  https://cafe.naver.com/homedarimall/822350       \n",
      "132       https://cafe.naver.com/ghdi58/4880077       \n",
      "133    https://cafe.naver.com/jinhaemam/1899215       \n",
      "134        https://cafe.naver.com/glove/7272527       \n"
     ]
    },
    {
     "name": "stderr",
     "output_type": "stream",
     "text": [
      "C:\\Users\\User\\AppData\\Local\\Temp/ipykernel_8928/2412222373.py:10: DeprecationWarning: find_element_by_* commands are deprecated. Please use find_element() instead\n",
      "  element = driver.find_element_by_id(\"query\")\n",
      "C:\\Users\\User\\AppData\\Local\\Temp/ipykernel_8928/2412222373.py:15: DeprecationWarning: find_element_by_link_text is deprecated. Please use find_element(by=By.LINK_TEXT, value=link_text) instead\n",
      "  driver.find_element_by_link_text(\"VIEW\").click()\n",
      "C:\\Users\\User\\AppData\\Local\\Temp/ipykernel_8928/2412222373.py:19: DeprecationWarning: find_element_by_xpath is deprecated. Please use find_element(by=By.XPATH, value=xpath) instead\n",
      "  driver.find_element_by_xpath('//*[@id=\"snb\"]/div[1]/div/div[3]/a').click()\n",
      "C:\\Users\\User\\AppData\\Local\\Temp/ipykernel_8928/2412222373.py:23: DeprecationWarning: find_element_by_xpath is deprecated. Please use find_element(by=By.XPATH, value=xpath) instead\n",
      "  driver.find_element_by_xpath('//*[@id=\"snb\"]/div[2]/ul/li[3]/div/div[1]/a[8]').click()\n"
     ]
    },
    {
     "name": "stdout",
     "output_type": "stream",
     "text": [
      "벽조명 포스트 개수 : 103\n",
      "1 2 3 4 5 6 7 8 9 10 11 12 13 14 15 16 17 18 19 20 21 22 23 24 25 26 27 28 29 30 31 32 33 34 35 36 37 38 39 40 41 42 43 44 45 46 47 48 49 50 51 52 53 54 55 56 57 58 59 60 61 62 63 64 65 66 67 68 69 70 71 72 73 74 75 76 77 78 79 80 81 82 83 84 85 86 87 88 89 90 91 92 93 94 95 96 97 98 99 100 101 102 103 벽조명 끝\n",
      "                 제목       작성일자  \\\n",
      "98   벽조명, 초등가방 드려요~ 2021-06-06   \n",
      "99      하트 벽조명 드립니다 2021-07-24   \n",
      "100     (예약중)벽조명 판매 2021-10-24   \n",
      "101         이케아 벽조명 2022-05-15   \n",
      "102       라인 스틱 벽조명 2022-02-15   \n",
      "\n",
      "                                                  주소 해시태그  \n",
      "98               https://cafe.naver.com/krokr/609516       \n",
      "99               https://cafe.naver.com/usem/1685743       \n",
      "100  https://cafe.naver.com/sanbonatpnetwork/2351142       \n",
      "101       https://cafe.naver.com/goodshinnung/117889       \n",
      "102     https://cafe.naver.com/joonggonara/898575284       \n"
     ]
    },
    {
     "name": "stderr",
     "output_type": "stream",
     "text": [
      "C:\\Users\\User\\AppData\\Local\\Temp/ipykernel_8928/2412222373.py:10: DeprecationWarning: find_element_by_* commands are deprecated. Please use find_element() instead\n",
      "  element = driver.find_element_by_id(\"query\")\n",
      "C:\\Users\\User\\AppData\\Local\\Temp/ipykernel_8928/2412222373.py:15: DeprecationWarning: find_element_by_link_text is deprecated. Please use find_element(by=By.LINK_TEXT, value=link_text) instead\n",
      "  driver.find_element_by_link_text(\"VIEW\").click()\n",
      "C:\\Users\\User\\AppData\\Local\\Temp/ipykernel_8928/2412222373.py:19: DeprecationWarning: find_element_by_xpath is deprecated. Please use find_element(by=By.XPATH, value=xpath) instead\n",
      "  driver.find_element_by_xpath('//*[@id=\"snb\"]/div[1]/div/div[3]/a').click()\n",
      "C:\\Users\\User\\AppData\\Local\\Temp/ipykernel_8928/2412222373.py:23: DeprecationWarning: find_element_by_xpath is deprecated. Please use find_element(by=By.XPATH, value=xpath) instead\n",
      "  driver.find_element_by_xpath('//*[@id=\"snb\"]/div[2]/ul/li[3]/div/div[1]/a[8]').click()\n"
     ]
    },
    {
     "name": "stdout",
     "output_type": "stream",
     "text": [
      "센서등 포스트 개수 : 123\n",
      "1 2 3 4 5 6 7 8 9 10 11 12 13 14 15 16 17 18 19 20 21 22 23 24 25 26 27 28 29 30 31 32 33 34 35 36 37 38 39 40 41 42 43 44 45 46 47 48 49 50 51 52 53 54 55 56 57 58 59 60 61 62 63 64 65 66 67 68 69 70 71 72 73 74 75 76 77 78 79 80 81 82 83 84 85 86 87 88 89 90 91 92 93 94 95 96 97 98 99 100 101 102 103 104 105 106 107 108 109 110 111 112 113 114 115 116 117 118 119 120 121 122 123 센서등 끝\n",
      "                               제목       작성일자  \\\n",
      "118                    외부 센서등 주문함 2022-05-27   \n",
      "119                   후방감지센서 교정작업 2022-05-18   \n",
      "120  층 센서등 문제로 임차인이 소송을 걸겠다고 합니다. 2022-04-28   \n",
      "121               현관앞 자동센서등 구매처요~ 2022-05-25   \n",
      "122              (도움요청)이 센서등 뭘까요? 2022-05-13   \n",
      "\n",
      "                                              주소 해시태그  \n",
      "118  https://cafe.naver.com/nagajacamping/121314       \n",
      "119      https://cafe.naver.com/mp3vilge/1866206       \n",
      "120          https://cafe.naver.com/knbro/188020       \n",
      "121   https://cafe.naver.com/samgadongweve/18168       \n",
      "122     https://cafe.naver.com/lacettigt/2738778       \n"
     ]
    },
    {
     "name": "stderr",
     "output_type": "stream",
     "text": [
      "C:\\Users\\User\\AppData\\Local\\Temp/ipykernel_8928/2412222373.py:10: DeprecationWarning: find_element_by_* commands are deprecated. Please use find_element() instead\n",
      "  element = driver.find_element_by_id(\"query\")\n",
      "C:\\Users\\User\\AppData\\Local\\Temp/ipykernel_8928/2412222373.py:15: DeprecationWarning: find_element_by_link_text is deprecated. Please use find_element(by=By.LINK_TEXT, value=link_text) instead\n",
      "  driver.find_element_by_link_text(\"VIEW\").click()\n",
      "C:\\Users\\User\\AppData\\Local\\Temp/ipykernel_8928/2412222373.py:19: DeprecationWarning: find_element_by_xpath is deprecated. Please use find_element(by=By.XPATH, value=xpath) instead\n",
      "  driver.find_element_by_xpath('//*[@id=\"snb\"]/div[1]/div/div[3]/a').click()\n",
      "C:\\Users\\User\\AppData\\Local\\Temp/ipykernel_8928/2412222373.py:23: DeprecationWarning: find_element_by_xpath is deprecated. Please use find_element(by=By.XPATH, value=xpath) instead\n",
      "  driver.find_element_by_xpath('//*[@id=\"snb\"]/div[2]/ul/li[3]/div/div[1]/a[8]').click()\n"
     ]
    },
    {
     "name": "stdout",
     "output_type": "stream",
     "text": [
      "형광등 포스트 개수 : 109\n",
      "1 2 3 4 5 6 7 8 9 10 11 12 13 14 15 16 17 18 19 20 21 22 23 24 25 26 27 28 29 30 31 32 33 34 35 36 37 38 39 40 41 42 43 44 45 46 47 48 49 50 51 52 53 54 55 56 57 58 59 60 61 62 63 64 65 66 67 68 69 70 71 72 73 74 75 76 77 78 79 80 81 82 83 84 85 86 87 88 89 90 91 92 93 94 95 96 97 98 99 100 101 102 103 104 105 106 107 108 109 형광등 끝\n",
      "                               제목       작성일자  \\\n",
      "104         55w 형광등 전구색 드림합니다(4개) 2022-03-31   \n",
      "105                 형광등 안정기 드림합니다 2022-05-24   \n",
      "106        형광등 무료드립니다.(엘이디 아닙니다.) 2022-05-17   \n",
      "107                    형광등[나눔완료 ] 2022-05-17   \n",
      "108  형광등 및 안정기 드림(투민B107동님께 나눔완료) 2022-03-20   \n",
      "\n",
      "                                                    주소 해시태그  \n",
      "104             https://cafe.naver.com/goyangwh/124373       \n",
      "105               https://cafe.naver.com/glove/7499345       \n",
      "106        https://cafe.naver.com/clubtosca2005/207525       \n",
      "107  https://cafe.naver.com/chojimajortownprugio/18819       \n",
      "108         https://cafe.naver.com/cleanmegatria/90424       \n"
     ]
    },
    {
     "name": "stderr",
     "output_type": "stream",
     "text": [
      "C:\\Users\\User\\AppData\\Local\\Temp/ipykernel_8928/2412222373.py:10: DeprecationWarning: find_element_by_* commands are deprecated. Please use find_element() instead\n",
      "  element = driver.find_element_by_id(\"query\")\n",
      "C:\\Users\\User\\AppData\\Local\\Temp/ipykernel_8928/2412222373.py:15: DeprecationWarning: find_element_by_link_text is deprecated. Please use find_element(by=By.LINK_TEXT, value=link_text) instead\n",
      "  driver.find_element_by_link_text(\"VIEW\").click()\n",
      "C:\\Users\\User\\AppData\\Local\\Temp/ipykernel_8928/2412222373.py:19: DeprecationWarning: find_element_by_xpath is deprecated. Please use find_element(by=By.XPATH, value=xpath) instead\n",
      "  driver.find_element_by_xpath('//*[@id=\"snb\"]/div[1]/div/div[3]/a').click()\n",
      "C:\\Users\\User\\AppData\\Local\\Temp/ipykernel_8928/2412222373.py:23: DeprecationWarning: find_element_by_xpath is deprecated. Please use find_element(by=By.XPATH, value=xpath) instead\n",
      "  driver.find_element_by_xpath('//*[@id=\"snb\"]/div[2]/ul/li[3]/div/div[1]/a[8]').click()\n"
     ]
    },
    {
     "name": "stdout",
     "output_type": "stream",
     "text": [
      "집꾸미기 포스트 개수 : 89\n",
      "1 2 3 4 5 6 7 8 9 10 11 12 13 14 15 16 17 18 19 20 21 22 23 24 25 26 27 28 29 30 31 32 33 34 35 36 37 38 39 40 41 42 43 44 45 46 47 48 49 50 51 52 53 54 55 56 57 58 59 60 61 62 63 64 65 66 67 68 69 70 71 72 73 74 75 76 77 78 79 80 81 82 83 84 85 86 87 88 89 집꾸미기 끝\n",
      "                        제목       작성일자  \\\n",
      "84               보리집 꾸미기 끝 2021-10-21   \n",
      "85     독립하고 처음 하는 요즘 집 꾸미기 2022-02-20   \n",
      "86                햄스터 집꾸미기 2021-07-06   \n",
      "87  얼른 신혼집 입주해서 집꾸미기 시작하기! 2022-04-13   \n",
      "88          나름 집꾸미기 중입니다.. 2022-05-22   \n",
      "\n",
      "                                             주소 해시태그  \n",
      "84  https://cafe.naver.com/myfriendspet/1527130       \n",
      "85  https://cafe.naver.com/culturebloom/1504353       \n",
      "86  https://cafe.naver.com/myfriendspet/1454654       \n",
      "87     https://cafe.naver.com/wedding055/796692       \n",
      "88        https://cafe.naver.com/ghdi58/5138980       \n"
     ]
    },
    {
     "name": "stderr",
     "output_type": "stream",
     "text": [
      "C:\\Users\\User\\AppData\\Local\\Temp/ipykernel_8928/2412222373.py:10: DeprecationWarning: find_element_by_* commands are deprecated. Please use find_element() instead\n",
      "  element = driver.find_element_by_id(\"query\")\n",
      "C:\\Users\\User\\AppData\\Local\\Temp/ipykernel_8928/2412222373.py:15: DeprecationWarning: find_element_by_link_text is deprecated. Please use find_element(by=By.LINK_TEXT, value=link_text) instead\n",
      "  driver.find_element_by_link_text(\"VIEW\").click()\n",
      "C:\\Users\\User\\AppData\\Local\\Temp/ipykernel_8928/2412222373.py:19: DeprecationWarning: find_element_by_xpath is deprecated. Please use find_element(by=By.XPATH, value=xpath) instead\n",
      "  driver.find_element_by_xpath('//*[@id=\"snb\"]/div[1]/div/div[3]/a').click()\n",
      "C:\\Users\\User\\AppData\\Local\\Temp/ipykernel_8928/2412222373.py:23: DeprecationWarning: find_element_by_xpath is deprecated. Please use find_element(by=By.XPATH, value=xpath) instead\n",
      "  driver.find_element_by_xpath('//*[@id=\"snb\"]/div[2]/ul/li[3]/div/div[1]/a[8]').click()\n"
     ]
    },
    {
     "name": "stdout",
     "output_type": "stream",
     "text": [
      "방꾸미기 포스트 개수 : 99\n",
      "1 2 3 4 5 6 7 8 9 10 11 12 13 14 15 16 17 18 19 20 21 22 23 24 25 26 27 28 29 30 31 32 33 34 35 36 37 38 39 40 41 42 43 44 45 46 47 48 49 50 51 52 53 54 55 56 57 58 59 60 61 62 63 64 65 66 67 68 69 70 71 72 73 74 75 76 77 78 79 80 81 82 83 84 85 86 87 88 89 90 91 92 93 94 95 96 97 98 99 방꾸미기 끝\n",
      "                  제목       작성일자                                         주소  \\\n",
      "94  아이방꾸미기 안전하고 편하고~ 2022-03-03       https://cafe.naver.com/baby8/2291959   \n",
      "95    7세 여아방 공주방 꾸미기 2022-03-24  https://cafe.naver.com/kidsinlove/1015230   \n",
      "96         아기방 꾸미기ㅎㅎ 2022-05-25  https://cafe.naver.com/momroom2013/634876   \n",
      "97    레린이의 가성비 방꾸미기! 2022-04-12       https://cafe.naver.com/fx8300/921351   \n",
      "98         방꾸미기 스티커? 2022-03-13  https://cafe.naver.com/ipocheonmom/447013   \n",
      "\n",
      "       해시태그  \n",
      "94  #아이방꾸미기  \n",
      "95           \n",
      "96           \n",
      "97           \n",
      "98           \n"
     ]
    },
    {
     "name": "stderr",
     "output_type": "stream",
     "text": [
      "C:\\Users\\User\\AppData\\Local\\Temp/ipykernel_8928/2412222373.py:10: DeprecationWarning: find_element_by_* commands are deprecated. Please use find_element() instead\n",
      "  element = driver.find_element_by_id(\"query\")\n",
      "C:\\Users\\User\\AppData\\Local\\Temp/ipykernel_8928/2412222373.py:15: DeprecationWarning: find_element_by_link_text is deprecated. Please use find_element(by=By.LINK_TEXT, value=link_text) instead\n",
      "  driver.find_element_by_link_text(\"VIEW\").click()\n",
      "C:\\Users\\User\\AppData\\Local\\Temp/ipykernel_8928/2412222373.py:19: DeprecationWarning: find_element_by_xpath is deprecated. Please use find_element(by=By.XPATH, value=xpath) instead\n",
      "  driver.find_element_by_xpath('//*[@id=\"snb\"]/div[1]/div/div[3]/a').click()\n",
      "C:\\Users\\User\\AppData\\Local\\Temp/ipykernel_8928/2412222373.py:23: DeprecationWarning: find_element_by_xpath is deprecated. Please use find_element(by=By.XPATH, value=xpath) instead\n",
      "  driver.find_element_by_xpath('//*[@id=\"snb\"]/div[2]/ul/li[3]/div/div[1]/a[8]').click()\n"
     ]
    },
    {
     "name": "stdout",
     "output_type": "stream",
     "text": [
      "인테리어 포스트 개수 : 66\n",
      "1 2 3 4 5 6 7 8 9 10 11 12 13 14 15 16 17 18 19 20 21 22 23 24 25 26 27 28 29 30 31 32 33 34 35 36 37 38 39 40 41 42 43 44 45 46 47 48 49 50 51 52 53 54 55 56 57 58 59 60 61 62 63 64 65 66 인테리어 끝\n",
      "                           제목       작성일자  \\\n",
      "61                   25평 인테리어 2022-05-10   \n",
      "62  10평 작은 술집 반셀프 인테리어 해보신 분? 2022-05-19   \n",
      "63                  인테리어 견적문의 2022-05-27   \n",
      "64                    인테리어 필름 2022-05-09   \n",
      "65           샷시 인테리어 필름 시공 후기 2022-05-18   \n",
      "\n",
      "                                              주소 해시태그  \n",
      "61       https://cafe.naver.com/ilovegm1/2229283       \n",
      "62  https://cafe.naver.com/jihosoccer123/1452659       \n",
      "63        https://cafe.naver.com/overseer/779061       \n",
      "64        https://cafe.naver.com/overseer/769117       \n",
      "65        https://cafe.naver.com/overseer/774181       \n"
     ]
    }
   ],
   "source": [
    "driver = webdriver.Chrome('C:\\chromedriver.exe')\n",
    "\n",
    "for query_txt in keyword_list :\n",
    "\n",
    "    #크롬드라이버 실행\n",
    "    driver.get('http://www.naver.com')\n",
    "    time.sleep(2)\n",
    "\n",
    "    #키워드를 검색한 네이버창 접속\n",
    "    element = driver.find_element_by_id(\"query\")\n",
    "    element.send_keys(query_txt)\n",
    "    element.submit()\n",
    "\n",
    "    # 뷰 클릭\n",
    "    driver.find_element_by_link_text(\"VIEW\").click()\n",
    "    time.sleep(2)\n",
    "\n",
    "    #필터 클릭\n",
    "    driver.find_element_by_xpath('//*[@id=\"snb\"]/div[1]/div/div[3]/a').click()\n",
    "    time.sleep(2)\n",
    "\n",
    "    #기간 1년 설정\n",
    "    driver.find_element_by_xpath('//*[@id=\"snb\"]/div[2]/ul/li[3]/div/div[1]/a[8]').click()\n",
    "\n",
    "    time.sleep(3)\n",
    "\n",
    "    no2 = [ ]           # 게시글 번호 컬럼\n",
    "    title2 = [ ]        # 게시물 제목 컬럼\n",
    "    bdate2 = [ ]        # 작성 일자 컬럼\n",
    "    url2 = [ ]          # url 컬럼\n",
    "    hashtag2 = [ ]      # 해시태그 컬럼\n",
    "\n",
    "    no = 1\n",
    "\n",
    "    #더이상 스크롤이 안되면 종료\n",
    "    i = 1\n",
    "    time.sleep(1)\n",
    "\n",
    "    #현재 스크롤 위치를 last_height로 받아옴\n",
    "    last_height = driver.execute_script(\"return document.documentElement.scrollHeight\")\n",
    "\n",
    "    while True:\n",
    "        #스크롤 한 번 실행 후 스크롤 위치를 new_height로 받아옴\n",
    "        scroll_down(driver)\n",
    "        new_height = driver.execute_script(\"return document.documentElement.scrollHeight\")\n",
    "\n",
    "        #더이상 스크롤이 안되면 종료\n",
    "        if new_height == last_height:\n",
    "            break\n",
    "\n",
    "        last_height = new_height\n",
    "        i += 1\n",
    "\n",
    "\n",
    "    html = driver.page_source\n",
    "    soup = BeautifulSoup(html, 'html.parser')\n",
    "\n",
    "    view_list = soup.find('ul','lst_total').find_all('li')\n",
    "    print(query_txt, '포스트 개수 :', len(view_list))\n",
    "\n",
    "    for i in view_list :\n",
    "        \n",
    "        no2.append(no)                            # 게시물 번호 리스트에 추가\n",
    "        print(no, end=' ')\n",
    "\n",
    "        all_title = i.find_all('a')\n",
    "        title = all_title[5].get_text( )          # 게시물 제목\n",
    "        title2.append(title)                      # 게시물 제목 리스트에 추가\n",
    "\n",
    "        time.sleep(2)\n",
    "\n",
    "        bdate = i.find('span','sub_time sub_txt').get_text( )  # 작성일자\n",
    "        bdate.replace('.', '-')\n",
    "        bdate2.append(bdate)                     # 작성일자 리스트에 추가\n",
    "\n",
    "        time.sleep(2)\n",
    "\n",
    "        url = str(all_title[0])\n",
    "        url = url.split('\"')[5]                 # 게시물 url\n",
    "        url2.append(url)                        # url 리스트에 추가\n",
    "\n",
    "        time.sleep(2)\n",
    "\n",
    "        # 카페글은 hashtag가 없다면 댓글을 보여줌\n",
    "        try :\n",
    "            outline_test = i.find('div', 'total_tag_area').get_text()    \n",
    "            \n",
    "            # hashtag가 안달려있는 블로그 글도 있기때문에 오류 방지\n",
    "            try:\n",
    "                hashtag = \" \".join(re.findall(\"#[가-힣]{1,}\", outline_test))\n",
    "                hashtag2.append(hashtag)\n",
    "                    \n",
    "            except Exception as e:\n",
    "                hashtag = \"\"\n",
    "                hashtag2.append(hashtag)\n",
    "\n",
    "        except : \n",
    "            hashtag = \"\"\n",
    "            hashtag2.append(hashtag)\n",
    "\n",
    "\n",
    "        if no == 200 : #한번에 200개 까지만 크롤링 가능\n",
    "            break\n",
    "            \n",
    "        no += 1\n",
    "\n",
    "    print(query_txt, '끝')\n",
    "\n",
    "    bdate3 = [] #전처리 후 작성일자\n",
    "\n",
    "    # 작성일자를 날짜형식으로 통일화\n",
    "    for day in bdate2 :\n",
    "\n",
    "        if '시간 전' in day :       # n시간 전 업로드 글\n",
    "            day = date.today()\n",
    "        elif '분 전' in day :       # n분 전 업로드 글\n",
    "            day = date.today()\n",
    "        elif '일 전' in day :       # n일 전 업로드 글 \n",
    "            day = date.today() - timedelta(int(day[0])) #8일전 글 부터는 날짜로 반환\n",
    "        elif day == '어제' :        # 어제 업로드 글\n",
    "            day = date.today() - timedelta(1)\n",
    "        else :\n",
    "            day = day.rstrip('.')\n",
    "            day = day.replace('.', '-')\n",
    "        \n",
    "        bdate3.append(day)\n",
    "\n",
    "    # df화\n",
    "    naver_blog = pd.DataFrame()\n",
    "    naver_blog['제목'] = title2\n",
    "    naver_blog['작성일자'] = bdate3\n",
    "    naver_blog['주소'] = url2\n",
    "    naver_blog['해시태그'] = hashtag2\n",
    "\n",
    "    #date-time 타입으로 변환\n",
    "    naver_blog['작성일자'] = pd.to_datetime(naver_blog['작성일자'])\n",
    "\n",
    "    print(naver_blog.tail())\n",
    "\n",
    "    #postgresql 접속\n",
    "    conn_string = \"host='localhost' dbname='postgres' user='postgres' password='admin'\"\n",
    "    conn = psycopg2.connect(conn_string)\n",
    "    cur = conn.cursor()\n",
    "\n",
    "    table = 'view_interior'\n",
    "\n",
    "    #table에 데이터 넣기\n",
    "    for i in range(len(naver_blog)) :\n",
    "        cur.execute(insert_command(table), (naver_blog.iloc[i][0], naver_blog.iloc[i][1], naver_blog.iloc[i][2], naver_blog.iloc[i][3]))\n",
    "        conn.commit()\n",
    "\n",
    "    #postgresql 연결종료\n",
    "    conn.cursor().close()\n",
    "    conn.close()"
   ]
  },
  {
   "cell_type": "markdown",
   "metadata": {},
   "source": [
    "#postgresql 접속\n",
    "conn_string = \"host='localhost' dbname='postgres' user='postgres' password='admin'\"\n",
    "conn = psycopg2.connect(conn_string)\n",
    "cur = conn.cursor()"
   ]
  },
  {
   "cell_type": "code",
   "execution_count": null,
   "metadata": {},
   "outputs": [],
   "source": [
    "#table 확인하기\n",
    "cur.execute(select_command(table))\n",
    "conn.commit()\n",
    "cur.fetchall()"
   ]
  },
  {
   "cell_type": "code",
   "execution_count": 17,
   "metadata": {},
   "outputs": [],
   "source": [
    "#db 연결 종료\n",
    "conn.cursor().close()\n",
    "conn.close()"
   ]
  },
  {
   "cell_type": "code",
   "execution_count": 52,
   "metadata": {},
   "outputs": [
    {
     "name": "stdout",
     "output_type": "stream",
     "text": [
      "0 54\n",
      "4 62\n",
      "20 107\n",
      "< 박강수 화보집 > ( 코드 데이브 Dac + M 스케일러로 들어보기 제3부 9/15회. 하울의 움직이는 성 9회 ) : 박강수 ~ 가을은 참 예쁘다 ( 2009. 3 ) & 기억날 그...\n"
     ]
    }
   ],
   "source": [
    "#varchar(500) type에 안들어가면 실행\n",
    "b = 0\n",
    "\n",
    "for i in range(len(title2)) :\n",
    "    a = len(title2[i])\n",
    "\n",
    "    if a > b :\n",
    "        b = a\n",
    "        print(i, b)\n",
    "\n",
    "print(title2[20])"
   ]
  },
  {
   "cell_type": "code",
   "execution_count": null,
   "metadata": {},
   "outputs": [],
   "source": []
  }
 ],
 "metadata": {
  "interpreter": {
   "hash": "f08154012ddadd8e950e6e9e035c7a7b32c136e7647e9b7c77e02eb723a8bedb"
  },
  "kernelspec": {
   "display_name": "Python 3.9.7 ('base')",
   "language": "python",
   "name": "python3"
  },
  "language_info": {
   "codemirror_mode": {
    "name": "ipython",
    "version": 3
   },
   "file_extension": ".py",
   "mimetype": "text/x-python",
   "name": "python",
   "nbconvert_exporter": "python",
   "pygments_lexer": "ipython3",
   "version": "3.9.7"
  },
  "orig_nbformat": 4
 },
 "nbformat": 4,
 "nbformat_minor": 2
}
