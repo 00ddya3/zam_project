{
 "cells": [
  {
   "cell_type": "code",
   "execution_count": 1,
   "metadata": {},
   "outputs": [],
   "source": [
    "import psycopg2\n",
    "import pandas as pd\n",
    "import numpy as np\n",
    "from tqdm import tqdm\n",
    "import re\n",
    "from tensorflow.keras.preprocessing.text import Tokenizer\n",
    "from sklearn.feature_extraction.text import TfidfVectorizer\n",
    "from ckonlpy.tag import Twitter\n",
    "from pykospacing import Spacing"
   ]
  },
  {
   "cell_type": "code",
   "execution_count": 27,
   "metadata": {},
   "outputs": [
    {
     "name": "stderr",
     "output_type": "stream",
     "text": [
      "c:\\Users\\User\\anaconda3\\lib\\site-packages\\konlpy\\tag\\_okt.py:17: UserWarning: \"Twitter\" has changed to \"Okt\" since KoNLPy v0.4.5.\n",
      "  warn('\"Twitter\" has changed to \"Okt\" since KoNLPy v0.4.5.')\n"
     ]
    },
    {
     "data": {
      "text/plain": [
       "'%크롭%셔츠%'"
      ]
     },
     "execution_count": 27,
     "metadata": {},
     "output_type": "execute_result"
    }
   ],
   "source": [
    "twitter = Twitter()\n",
    "spacing = Spacing()\n",
    "\n",
    "#외래어 읽어오기\n",
    "loanwords = pd.read_csv('loanwords.txt', encoding = 'cp949')\n",
    "loanwords = loanwords['word'].tolist()\n",
    "for word in loanwords :\n",
    "    twitter.add_dictionary(word, 'Noun')\n",
    "\n",
    "#불용어제거 + 토큰화\n",
    "keyword = '크롭셔츠'\n",
    "clean_word = '%'\n",
    "kospacing_word = spacing(keyword) # 띄워쓰기 보완\n",
    "tokenized_word = twitter.morphs(kospacing_word) # 토큰화\n",
    "for tk in tokenized_word :\n",
    "    clean_word = clean_word + tk + '%'\n",
    "#tokenized_word\n",
    "clean_word"
   ]
  },
  {
   "cell_type": "code",
   "execution_count": 28,
   "metadata": {},
   "outputs": [],
   "source": [
    "#postgresql 접속\n",
    "conn_string = \"host='localhost' dbname='postgres' user='postgres' password='admin'\"\n",
    "conn = psycopg2.connect(conn_string)\n",
    "cur = conn.cursor()\n",
    "\n",
    "#데이터 가져오기\n",
    "cur.execute(\"select distinct title, date, url, hashtag from yt_clothes where title like '\" + clean_word + \"'\")\n",
    "conn.commit()\n",
    "data = cur.fetchall()\n",
    "\n",
    "#DF화\n",
    "df = pd.DataFrame(data)\n",
    "df.columns = ['title', 'date', 'url', 'hashtag']\n",
    "\n",
    "#db 연결 종료\n",
    "conn.cursor().close()\n",
    "conn.close()\n",
    "\n"
   ]
  },
  {
   "cell_type": "code",
   "execution_count": 29,
   "metadata": {},
   "outputs": [
    {
     "data": {
      "text/html": [
       "<div>\n",
       "<style scoped>\n",
       "    .dataframe tbody tr th:only-of-type {\n",
       "        vertical-align: middle;\n",
       "    }\n",
       "\n",
       "    .dataframe tbody tr th {\n",
       "        vertical-align: top;\n",
       "    }\n",
       "\n",
       "    .dataframe thead th {\n",
       "        text-align: right;\n",
       "    }\n",
       "</style>\n",
       "<table border=\"1\" class=\"dataframe\">\n",
       "  <thead>\n",
       "    <tr style=\"text-align: right;\">\n",
       "      <th></th>\n",
       "      <th>title</th>\n",
       "      <th>date</th>\n",
       "      <th>url</th>\n",
       "      <th>hashtag</th>\n",
       "    </tr>\n",
       "  </thead>\n",
       "  <tbody>\n",
       "    <tr>\n",
       "      <th>0</th>\n",
       "      <td>(여리핏) 데일리 크롭 골지 티셔츠 3 color</td>\n",
       "      <td>2021-09-28</td>\n",
       "      <td>https://www.youtube.com/shorts/5vcKagq1fVU</td>\n",
       "      <td></td>\n",
       "    </tr>\n",
       "    <tr>\n",
       "      <th>1</th>\n",
       "      <td>[4K] 봄 나들이 룩북 LOOKBOOK | 화이트크롭티셔츠+청미니스커트+테니스스커...</td>\n",
       "      <td>2022-03-25</td>\n",
       "      <td>https://www.youtube.com/watch?v=1b9y2tH93Mk</td>\n",
       "      <td>#룩북 #봄나들이 #스커트 #스타킹 #데이트</td>\n",
       "    </tr>\n",
       "    <tr>\n",
       "      <th>2</th>\n",
       "      <td>[Lookbook] 크롭핏(cropped fit) 코디 / 크롭후드 맨투맨 / 크롭...</td>\n",
       "      <td>2022-01-09</td>\n",
       "      <td>https://www.youtube.com/watch?v=WTV0PbMmLx0</td>\n",
       "      <td></td>\n",
       "    </tr>\n",
       "    <tr>\n",
       "      <th>3</th>\n",
       "      <td>[ootd] 데일리룩 #데일리룩 #데일리룩북 #데일리룩브이로그 #크롭자켓코디 #크롭...</td>\n",
       "      <td>2021-11-03</td>\n",
       "      <td>https://www.youtube.com/shorts/xBz0xaoCYHM</td>\n",
       "      <td>#데일리룩 #데일리룩북 #데일리룩브이로그 #크롭자켓코디 #크롭티셔츠코디 #하이웨이스...</td>\n",
       "    </tr>\n",
       "    <tr>\n",
       "      <th>4</th>\n",
       "      <td>[ZARA]자라 여름 신상 하울 / 린넨자켓 /린넨원피스/버뮤다팬츠 / 데님 /크롭티셔츠</td>\n",
       "      <td>2022-05-31</td>\n",
       "      <td>https://www.youtube.com/watch?v=fDv262rINuA</td>\n",
       "      <td></td>\n",
       "    </tr>\n",
       "  </tbody>\n",
       "</table>\n",
       "</div>"
      ],
      "text/plain": [
       "                                               title        date  \\\n",
       "0                        (여리핏) 데일리 크롭 골지 티셔츠 3 color  2021-09-28   \n",
       "1  [4K] 봄 나들이 룩북 LOOKBOOK | 화이트크롭티셔츠+청미니스커트+테니스스커...  2022-03-25   \n",
       "2  [Lookbook] 크롭핏(cropped fit) 코디 / 크롭후드 맨투맨 / 크롭...  2022-01-09   \n",
       "3  [ootd] 데일리룩 #데일리룩 #데일리룩북 #데일리룩브이로그 #크롭자켓코디 #크롭...  2021-11-03   \n",
       "4  [ZARA]자라 여름 신상 하울 / 린넨자켓 /린넨원피스/버뮤다팬츠 / 데님 /크롭티셔츠  2022-05-31   \n",
       "\n",
       "                                           url  \\\n",
       "0   https://www.youtube.com/shorts/5vcKagq1fVU   \n",
       "1  https://www.youtube.com/watch?v=1b9y2tH93Mk   \n",
       "2  https://www.youtube.com/watch?v=WTV0PbMmLx0   \n",
       "3   https://www.youtube.com/shorts/xBz0xaoCYHM   \n",
       "4  https://www.youtube.com/watch?v=fDv262rINuA   \n",
       "\n",
       "                                             hashtag  \n",
       "0                                                     \n",
       "1                           #룩북 #봄나들이 #스커트 #스타킹 #데이트  \n",
       "2                                                     \n",
       "3  #데일리룩 #데일리룩북 #데일리룩브이로그 #크롭자켓코디 #크롭티셔츠코디 #하이웨이스...  \n",
       "4                                                     "
      ]
     },
     "execution_count": 29,
     "metadata": {},
     "output_type": "execute_result"
    }
   ],
   "source": [
    "df.head()"
   ]
  },
  {
   "cell_type": "code",
   "execution_count": 30,
   "metadata": {},
   "outputs": [
    {
     "name": "stdout",
     "output_type": "stream",
     "text": [
      "<class 'pandas.core.frame.DataFrame'>\n",
      "RangeIndex: 28 entries, 0 to 27\n",
      "Data columns (total 4 columns):\n",
      " #   Column   Non-Null Count  Dtype \n",
      "---  ------   --------------  ----- \n",
      " 0   title    28 non-null     object\n",
      " 1   date     28 non-null     object\n",
      " 2   url      28 non-null     object\n",
      " 3   hashtag  28 non-null     object\n",
      "dtypes: object(4)\n",
      "memory usage: 1.0+ KB\n"
     ]
    }
   ],
   "source": [
    "df.info()"
   ]
  },
  {
   "cell_type": "code",
   "execution_count": 31,
   "metadata": {},
   "outputs": [
    {
     "data": {
      "text/plain": [
       "['(여리핏) 데일리 크롭 골지 티셔츠 3 color',\n",
       " '[4K] 봄 나들이 룩북 LOOKBOOK | 화이트크롭티셔츠+청미니스커트+테니스스커트+H라인스커트+커피색스타킹',\n",
       " '[Lookbook] 크롭핏(cropped fit) 코디 / 크롭후드 맨투맨 / 크롭 반팔티셔츠 / 크롭 슬림핏 맨투맨 / 크롭 오버핏 스웨트 티셔츠/ルックブック/why?shirt🌝',\n",
       " '[ootd] 데일리룩 #데일리룩 #데일리룩북 #데일리룩브이로그 #크롭자켓코디 #크롭티셔츠코디 #하이웨이스트진 #데일리코디 #데일리룩코디 #그레이자켓코디 #크롭티코디 #shorts',\n",
       " '[ZARA]자라 여름 신상 하울 / 린넨자켓 /린넨원피스/버뮤다팬츠 / 데님 /크롭티셔츠']"
      ]
     },
     "execution_count": 31,
     "metadata": {},
     "output_type": "execute_result"
    }
   ],
   "source": [
    "# 모든 타이틀 제목을 연결해서 하나의 텍스트 문서로 만들려 함\n",
    "titles = df['title'].tolist()\n",
    "titles[:5]"
   ]
  },
  {
   "cell_type": "code",
   "execution_count": 32,
   "metadata": {},
   "outputs": [
    {
     "name": "stderr",
     "output_type": "stream",
     "text": [
      "c:\\Users\\User\\anaconda3\\lib\\site-packages\\konlpy\\tag\\_okt.py:17: UserWarning: \"Twitter\" has changed to \"Okt\" since KoNLPy v0.4.5.\n",
      "  warn('\"Twitter\" has changed to \"Okt\" since KoNLPy v0.4.5.')\n",
      "100%|██████████| 28/28 [00:02<00:00, 11.10it/s]\n"
     ]
    }
   ],
   "source": [
    "twitter = Twitter()\n",
    "spacing = Spacing()\n",
    "\n",
    "def rmEmoji(inputData):\n",
    "\n",
    "    emoji_pattern = re.compile(\"[\"\n",
    "        u\"\\U00010000-\\U0010FFFF\"  #BMP characters 이외\n",
    "            \"]+\", flags=re.UNICODE)\n",
    "\n",
    "    return emoji_pattern.sub(r'', inputData) # no emoji\n",
    "\n",
    "#불용어 읽어오기\n",
    "stopwords = pd.read_csv(\"stopwords.txt\")\n",
    "stopwords = stopwords['word'].tolist()\n",
    "stopwords.extend([',', '.', '+', '[', ']', '!', '?', '(', ')', '|', '_', '~', '#', '/'])\n",
    "\n",
    "#외래어 읽어오기\n",
    "loanwords = pd.read_csv('loanwords.txt', encoding = 'cp949')\n",
    "loanwords = loanwords['word'].tolist()\n",
    "for word in loanwords :\n",
    "    twitter.add_dictionary(word, 'Noun')\n",
    "\n",
    "#불용어제거 + 토큰화\n",
    "tks = []\n",
    "for sentence in tqdm(titles) :\n",
    "    reEmoji_sent = rmEmoji(sentence) # 이모티콘 제거\n",
    "    kospacing_sent = spacing(reEmoji_sent) # 띄워쓰기 보완\n",
    "    tokenized_sent = twitter.morphs(kospacing_sent) # 토큰화\n",
    "    stopwords_removed_sentence = [word for word in tokenized_sent if not word in stopwords] # 불용어 제거\n",
    "    tks.append(stopwords_removed_sentence)"
   ]
  },
  {
   "cell_type": "code",
   "execution_count": 60,
   "metadata": {},
   "outputs": [
    {
     "data": {
      "text/plain": [
       "['여리핏 데일리  골지 티 3 color',\n",
       " '4 K 봄 나들이 룩 북 LOOKBOOK 화이트  티 청 미니스커트 테니스 스커트 H 라인 스커트 커피 색 스타킹',\n",
       " 'Lookbook  핏 cropped fit 코디  후드 맨투맨  반팔 티  슬림핏 맨투맨  오버핏 스웨 트 티 ルックブック why shirt',\n",
       " 'ootd 데일리 룩 데일리 룩 데일리 룩 북 데일리 룩 브이로그  자켓 코디  티 코디 하이웨이 스트진 데일리 코디 데일리 룩 코디 그레이 자켓 코디  티코 디 #sh orts',\n",
       " 'ZARA 자라 여름 신상 하울 린넨 자켓 린넨 원피스 버뮤다 팬츠 데님  티',\n",
       " '국내 제작 린넨 패드  티 어깨 끈 랩 롱 원피스',\n",
       " '숩 니 공 방 코바늘 프릴  티 만들기 강아지 티 고양이 티 dog croc het',\n",
       " '패션 하울 COS 세 잘 어울리는 코스 9 가지 여름 추천 템 리넨 점프수트 l 원피스 l 여름 니트 l  원피스 l 쇼츠 l 하이 웨스트 슬랙스 l   l',\n",
       " '하루 한 컷 가을 데일리 룩 ㅣ  체크 남방 ㅣ  코디 ㅣ 여자 룩북',\n",
       " '2021 청 치마 하나로 가을 데일리 룩 코디 완성  가디건 브라 렛 레이스 가디건 오버핏 스트라이프  #Shorts 비바 소 피',\n",
       " '2021년 대세  단가 라 티 !! #shorts apmplace 가을 코디 패션 동대문 도매',\n",
       " 'Haul 여름 쇼핑 하울 ZARA 자라 핏 예쁜 티   쇼핑몰 추천 랄 프로 렌 반팔 NEW 브랜드 소개 테니스 로망템',\n",
       " '드롭숄더 라운드 넥  긴 맨투맨 티',\n",
       " '린넨  체크  3 color',\n",
       " '린넨  체크  3 color 1',\n",
       " '몽실 투 피스  긴 티 H 라인 스커트 3 color',\n",
       " '벨벳 타이 트 핏 프릴 포인트 연말 룩  목 폴라 티 5 컬러',\n",
       " '숏  긴 체크 카라 블라우스 남방 ',\n",
       " '여름 린넨 긴  체크  2 컬러',\n",
       " '여름 룩북 NEW IN 옷 11 벌 팬츠 쳐 돌이 여름 데일리 룩 #오오티디 와이드 데님 슬랙스 탑  여름 니트',\n",
       " '여리 여리 베이지 코디 ♥ 와이드 슬랙스 퍼프 셔링 티  티 여자 봄 슬랙스 슬랙스 코디 톤 온 톤 코디',\n",
       " '여자  흰색 블라우스 쉬폰 시스루 자수 여름 ',\n",
       " '진청 어울리는 여름 상의 추천 ♥   여름 가디건 시스루 반팔 가디건 하울 // 키작녀 여름 코디 상체 통통 여름 코디',\n",
       " '커즌  반팔 티 - 3 color',\n",
       " ' 자켓  #shorts',\n",
       " ' t  입은 연예인 최초 는 남자',\n",
       " '포 근 피치 루즈핏  체크 긴  2 컬러',\n",
       " '한 끗 쉽게 입는 유행 템 봄 코디 TOP 5   오프 숄더 여름 부츠 원피스 가디건 데님 스커트']"
      ]
     },
     "execution_count": 60,
     "metadata": {},
     "output_type": "execute_result"
    }
   ],
   "source": [
    "clean_sentences = []\n",
    "for tk in tks :\n",
    "    clean_sentences.append(\" \".join(tk))\n",
    "\n",
    "replace_sentences = []\n",
    "for sent in clean_sentences :\n",
    "    for tk in tokenized_word :\n",
    "        sent = sent.replace(tk, '')\n",
    "    replace_sentences.append(sent)\n",
    "replace_sentences"
   ]
  },
  {
   "cell_type": "code",
   "execution_count": 61,
   "metadata": {},
   "outputs": [
    {
     "data": {
      "text/html": [
       "<style>#sk-container-id-3 {color: black;background-color: white;}#sk-container-id-3 pre{padding: 0;}#sk-container-id-3 div.sk-toggleable {background-color: white;}#sk-container-id-3 label.sk-toggleable__label {cursor: pointer;display: block;width: 100%;margin-bottom: 0;padding: 0.3em;box-sizing: border-box;text-align: center;}#sk-container-id-3 label.sk-toggleable__label-arrow:before {content: \"▸\";float: left;margin-right: 0.25em;color: #696969;}#sk-container-id-3 label.sk-toggleable__label-arrow:hover:before {color: black;}#sk-container-id-3 div.sk-estimator:hover label.sk-toggleable__label-arrow:before {color: black;}#sk-container-id-3 div.sk-toggleable__content {max-height: 0;max-width: 0;overflow: hidden;text-align: left;background-color: #f0f8ff;}#sk-container-id-3 div.sk-toggleable__content pre {margin: 0.2em;color: black;border-radius: 0.25em;background-color: #f0f8ff;}#sk-container-id-3 input.sk-toggleable__control:checked~div.sk-toggleable__content {max-height: 200px;max-width: 100%;overflow: auto;}#sk-container-id-3 input.sk-toggleable__control:checked~label.sk-toggleable__label-arrow:before {content: \"▾\";}#sk-container-id-3 div.sk-estimator input.sk-toggleable__control:checked~label.sk-toggleable__label {background-color: #d4ebff;}#sk-container-id-3 div.sk-label input.sk-toggleable__control:checked~label.sk-toggleable__label {background-color: #d4ebff;}#sk-container-id-3 input.sk-hidden--visually {border: 0;clip: rect(1px 1px 1px 1px);clip: rect(1px, 1px, 1px, 1px);height: 1px;margin: -1px;overflow: hidden;padding: 0;position: absolute;width: 1px;}#sk-container-id-3 div.sk-estimator {font-family: monospace;background-color: #f0f8ff;border: 1px dotted black;border-radius: 0.25em;box-sizing: border-box;margin-bottom: 0.5em;}#sk-container-id-3 div.sk-estimator:hover {background-color: #d4ebff;}#sk-container-id-3 div.sk-parallel-item::after {content: \"\";width: 100%;border-bottom: 1px solid gray;flex-grow: 1;}#sk-container-id-3 div.sk-label:hover label.sk-toggleable__label {background-color: #d4ebff;}#sk-container-id-3 div.sk-serial::before {content: \"\";position: absolute;border-left: 1px solid gray;box-sizing: border-box;top: 0;bottom: 0;left: 50%;z-index: 0;}#sk-container-id-3 div.sk-serial {display: flex;flex-direction: column;align-items: center;background-color: white;padding-right: 0.2em;padding-left: 0.2em;position: relative;}#sk-container-id-3 div.sk-item {position: relative;z-index: 1;}#sk-container-id-3 div.sk-parallel {display: flex;align-items: stretch;justify-content: center;background-color: white;position: relative;}#sk-container-id-3 div.sk-item::before, #sk-container-id-3 div.sk-parallel-item::before {content: \"\";position: absolute;border-left: 1px solid gray;box-sizing: border-box;top: 0;bottom: 0;left: 50%;z-index: -1;}#sk-container-id-3 div.sk-parallel-item {display: flex;flex-direction: column;z-index: 1;position: relative;background-color: white;}#sk-container-id-3 div.sk-parallel-item:first-child::after {align-self: flex-end;width: 50%;}#sk-container-id-3 div.sk-parallel-item:last-child::after {align-self: flex-start;width: 50%;}#sk-container-id-3 div.sk-parallel-item:only-child::after {width: 0;}#sk-container-id-3 div.sk-dashed-wrapped {border: 1px dashed gray;margin: 0 0.4em 0.5em 0.4em;box-sizing: border-box;padding-bottom: 0.4em;background-color: white;}#sk-container-id-3 div.sk-label label {font-family: monospace;font-weight: bold;display: inline-block;line-height: 1.2em;}#sk-container-id-3 div.sk-label-container {text-align: center;}#sk-container-id-3 div.sk-container {/* jupyter's `normalize.less` sets `[hidden] { display: none; }` but bootstrap.min.css set `[hidden] { display: none !important; }` so we also need the `!important` here to be able to override the default hidden behavior on the sphinx rendered scikit-learn.org. See: https://github.com/scikit-learn/scikit-learn/issues/21755 */display: inline-block !important;position: relative;}#sk-container-id-3 div.sk-text-repr-fallback {display: none;}</style><div id=\"sk-container-id-3\" class=\"sk-top-container\"><div class=\"sk-text-repr-fallback\"><pre>TfidfVectorizer()</pre><b>In a Jupyter environment, please rerun this cell to show the HTML representation or trust the notebook. <br />On GitHub, the HTML representation is unable to render, please try loading this page with nbviewer.org.</b></div><div class=\"sk-container\" hidden><div class=\"sk-item\"><div class=\"sk-estimator sk-toggleable\"><input class=\"sk-toggleable__control sk-hidden--visually\" id=\"sk-estimator-id-3\" type=\"checkbox\" checked><label for=\"sk-estimator-id-3\" class=\"sk-toggleable__label sk-toggleable__label-arrow\">TfidfVectorizer</label><div class=\"sk-toggleable__content\"><pre>TfidfVectorizer()</pre></div></div></div></div></div>"
      ],
      "text/plain": [
       "TfidfVectorizer()"
      ]
     },
     "execution_count": 61,
     "metadata": {},
     "output_type": "execute_result"
    }
   ],
   "source": [
    "# title수 * title수 의 TF-IDF 상관행렬 만들기\n",
    "n = len(replace_sentences)\n",
    "text_mat = np.zeros(shape=(n,n), dtype=np.float64)\n",
    "\n",
    "#TF-IDF\n",
    "tfidf = TfidfVectorizer(analyzer='word', encoding='utf-8')\n",
    "tfidf.fit(replace_sentences)"
   ]
  },
  {
   "cell_type": "code",
   "execution_count": 62,
   "metadata": {},
   "outputs": [
    {
     "data": {
      "text/plain": [
       "{'여리핏': 89,\n",
       " '데일리': 39,\n",
       " '골지': 29,\n",
       " 'color': 4,\n",
       " '나들이': 32,\n",
       " 'lookbook': 13,\n",
       " '화이트': 141,\n",
       " '미니스커트': 55,\n",
       " '테니스': 123,\n",
       " '스커트': 77,\n",
       " '라인': 45,\n",
       " '커피': 116,\n",
       " '스타킹': 78,\n",
       " 'cropped': 7,\n",
       " 'fit': 9,\n",
       " '코디': 118,\n",
       " '후드': 142,\n",
       " '맨투맨': 53,\n",
       " '반팔': 56,\n",
       " '슬림핏': 82,\n",
       " '오버핏': 94,\n",
       " '스웨': 76,\n",
       " 'ルックブック': 23,\n",
       " 'why': 21,\n",
       " 'shirt': 18,\n",
       " 'ootd': 15,\n",
       " '브이로그': 63,\n",
       " '자켓': 106,\n",
       " '하이웨이': 140,\n",
       " '스트진': 80,\n",
       " '그레이': 31,\n",
       " '티코': 125,\n",
       " 'sh': 17,\n",
       " 'orts': 16,\n",
       " 'zara': 22,\n",
       " '자라': 104,\n",
       " '여름': 87,\n",
       " '신상': 84,\n",
       " '하울': 138,\n",
       " '린넨': 51,\n",
       " '원피스': 99,\n",
       " '버뮤다': 57,\n",
       " '팬츠': 128,\n",
       " '데님': 38,\n",
       " '국내': 30,\n",
       " '제작': 108,\n",
       " '패드': 126,\n",
       " '어깨': 85,\n",
       " '코바늘': 119,\n",
       " '프릴': 133,\n",
       " '만들기': 52,\n",
       " '강아지': 27,\n",
       " '고양이': 28,\n",
       " 'dog': 8,\n",
       " 'croc': 6,\n",
       " 'het': 11,\n",
       " '패션': 127,\n",
       " 'cos': 5,\n",
       " '어울리는': 86,\n",
       " '코스': 120,\n",
       " '가지': 26,\n",
       " '추천': 112,\n",
       " '리넨': 50,\n",
       " '점프수트': 107,\n",
       " '니트': 35,\n",
       " '쇼츠': 70,\n",
       " '하이': 139,\n",
       " '웨스트': 100,\n",
       " '슬랙스': 81,\n",
       " '하루': 137,\n",
       " '가을': 25,\n",
       " '체크': 110,\n",
       " '남방': 33,\n",
       " '여자': 90,\n",
       " '룩북': 49,\n",
       " '2021': 1,\n",
       " '치마': 113,\n",
       " '하나로': 136,\n",
       " '완성': 98,\n",
       " '가디건': 24,\n",
       " '브라': 61,\n",
       " '레이스': 46,\n",
       " '스트라이프': 79,\n",
       " 'shorts': 19,\n",
       " '비바': 65,\n",
       " '2021년': 2,\n",
       " '대세': 37,\n",
       " '단가': 36,\n",
       " 'apmplace': 3,\n",
       " '동대문': 42,\n",
       " '도매': 40,\n",
       " 'haul': 10,\n",
       " '쇼핑': 71,\n",
       " '예쁜': 93,\n",
       " '쇼핑몰': 72,\n",
       " '프로': 132,\n",
       " 'new': 14,\n",
       " '브랜드': 62,\n",
       " '소개': 69,\n",
       " '로망템': 47,\n",
       " '드롭숄더': 43,\n",
       " '라운드': 44,\n",
       " '몽실': 54,\n",
       " '피스': 134,\n",
       " '벨벳': 59,\n",
       " '타이': 122,\n",
       " '포인트': 130,\n",
       " '연말': 91,\n",
       " '폴라': 131,\n",
       " '컬러': 117,\n",
       " '카라': 114,\n",
       " '블라우스': 64,\n",
       " 'in': 12,\n",
       " '11': 0,\n",
       " '돌이': 41,\n",
       " '오오티디': 95,\n",
       " '와이드': 97,\n",
       " '여리': 88,\n",
       " '베이지': 58,\n",
       " '퍼프': 129,\n",
       " '셔링': 68,\n",
       " '흰색': 143,\n",
       " '쉬폰': 74,\n",
       " '시스루': 83,\n",
       " '자수': 105,\n",
       " '진청': 109,\n",
       " '상의': 66,\n",
       " '키작녀': 121,\n",
       " '상체': 67,\n",
       " '통통': 124,\n",
       " '커즌': 115,\n",
       " '입은': 103,\n",
       " '연예인': 92,\n",
       " '최초': 111,\n",
       " '남자': 34,\n",
       " '피치': 135,\n",
       " '루즈핏': 48,\n",
       " '쉽게': 75,\n",
       " '입는': 102,\n",
       " '유행': 101,\n",
       " 'top': 20,\n",
       " '오프': 96,\n",
       " '숄더': 73,\n",
       " '부츠': 60}"
      ]
     },
     "execution_count": 62,
     "metadata": {},
     "output_type": "execute_result"
    }
   ],
   "source": [
    "tfidf.vocabulary_"
   ]
  },
  {
   "cell_type": "code",
   "execution_count": 63,
   "metadata": {},
   "outputs": [
    {
     "data": {
      "text/plain": [
       "28"
      ]
     },
     "execution_count": 63,
     "metadata": {},
     "output_type": "execute_result"
    }
   ],
   "source": [
    "len(replace_sentences)"
   ]
  },
  {
   "cell_type": "code",
   "execution_count": 64,
   "metadata": {},
   "outputs": [
    {
     "data": {
      "text/plain": [
       "array([[0.        , 0.        , 0.        , 0.28048102, 0.        ,\n",
       "        0.        , 0.        , 0.        , 0.12508256, 0.07720405,\n",
       "        0.        , 0.        , 0.        , 0.23900809, 0.23900809,\n",
       "        0.14331828, 0.        , 0.        , 0.        , 0.07920175,\n",
       "        0.        , 0.        , 0.        , 0.19848468, 0.        ,\n",
       "        0.        , 0.        , 0.        ],\n",
       "       [0.        , 0.        , 0.06769037, 0.        , 0.        ,\n",
       "        0.        , 0.        , 0.        , 0.        , 0.        ,\n",
       "        0.        , 0.06860347, 0.        , 0.        , 0.        ,\n",
       "        0.33566221, 0.        , 0.        , 0.        , 0.        ,\n",
       "        0.        , 0.        , 0.        , 0.        , 0.        ,\n",
       "        0.        , 0.        , 0.13008091],\n",
       "       [0.        , 0.06769037, 0.        , 0.07753585, 0.        ,\n",
       "        0.        , 0.        , 0.        , 0.04149321, 0.08371626,\n",
       "        0.03245543, 0.04179893, 0.25633264, 0.        , 0.        ,\n",
       "        0.        , 0.        , 0.        , 0.        , 0.        ,\n",
       "        0.06765849, 0.        , 0.08047095, 0.10634157, 0.        ,\n",
       "        0.        , 0.        , 0.02950042],\n",
       "       [0.28048102, 0.        , 0.07753585, 0.        , 0.07158036,\n",
       "        0.        , 0.        , 0.        , 0.3389481 , 0.20920715,\n",
       "        0.09854619, 0.        , 0.        , 0.        , 0.        ,\n",
       "        0.        , 0.        , 0.        , 0.        , 0.13484539,\n",
       "        0.20543512, 0.        , 0.135177  , 0.        , 0.1885214 ,\n",
       "        0.        , 0.        , 0.08957372],\n",
       "       [0.        , 0.        , 0.        , 0.07158036, 0.        ,\n",
       "        0.2275741 , 0.        , 0.19814895, 0.        , 0.        ,\n",
       "        0.        , 0.22640941, 0.        , 0.27319027, 0.27319027,\n",
       "        0.        , 0.        , 0.        , 0.31695266, 0.22994814,\n",
       "        0.        , 0.04882464, 0.15287336, 0.        , 0.18984677,\n",
       "        0.        , 0.        , 0.16244221],\n",
       "       [0.        , 0.        , 0.        , 0.        , 0.2275741 ,\n",
       "        0.        , 0.        , 0.12567902, 0.        , 0.        ,\n",
       "        0.        , 0.        , 0.        , 0.18359903, 0.18359903,\n",
       "        0.        , 0.        , 0.        , 0.15720713, 0.        ,\n",
       "        0.        , 0.        , 0.        , 0.        , 0.        ,\n",
       "        0.        , 0.        , 0.07832747],\n",
       "       [0.        , 0.        , 0.        , 0.        , 0.        ,\n",
       "        0.        , 0.        , 0.        , 0.        , 0.        ,\n",
       "        0.        , 0.        , 0.        , 0.        , 0.        ,\n",
       "        0.        , 0.11164811, 0.        , 0.        , 0.        ,\n",
       "        0.        , 0.        , 0.        , 0.        , 0.        ,\n",
       "        0.        , 0.        , 0.        ],\n",
       "       [0.        , 0.        , 0.        , 0.        , 0.19814895,\n",
       "        0.12567902, 0.        , 0.        , 0.        , 0.        ,\n",
       "        0.06824675, 0.13197603, 0.        , 0.        , 0.        ,\n",
       "        0.        , 0.        , 0.        , 0.12584081, 0.24730174,\n",
       "        0.11833016, 0.07399645, 0.2841057 , 0.        , 0.        ,\n",
       "        0.        , 0.        , 0.14300164],\n",
       "       [0.12508256, 0.        , 0.04149321, 0.3389481 , 0.        ,\n",
       "        0.        , 0.        , 0.        , 0.        , 0.1787611 ,\n",
       "        0.15225237, 0.        , 0.        , 0.1603983 , 0.1603983 ,\n",
       "        0.        , 0.        , 0.31023795, 0.13734145, 0.15699424,\n",
       "        0.17909028, 0.1224017 , 0.07233981, 0.        , 0.        ,\n",
       "        0.        , 0.10857679, 0.04793527],\n",
       "       [0.07720405, 0.        , 0.08371626, 0.20920715, 0.        ,\n",
       "        0.        , 0.        , 0.        , 0.1787611 , 0.        ,\n",
       "        0.15539736, 0.        , 0.        , 0.        , 0.        ,\n",
       "        0.        , 0.        , 0.        , 0.        , 0.03711699,\n",
       "        0.06785667, 0.        , 0.21316045, 0.        , 0.15567487,\n",
       "        0.        , 0.        , 0.14124869],\n",
       "       [0.        , 0.        , 0.03245543, 0.09854619, 0.        ,\n",
       "        0.        , 0.        , 0.06824675, 0.15225237, 0.15539736,\n",
       "        0.        , 0.        , 0.        , 0.        , 0.        ,\n",
       "        0.        , 0.        , 0.        , 0.        , 0.        ,\n",
       "        0.0859923 , 0.        , 0.05658323, 0.        , 0.19728113,\n",
       "        0.        , 0.        , 0.03749432],\n",
       "       [0.        , 0.06860347, 0.04179893, 0.        , 0.22640941,\n",
       "        0.        , 0.        , 0.13197603, 0.        , 0.        ,\n",
       "        0.        , 0.        , 0.        , 0.        , 0.        ,\n",
       "        0.        , 0.        , 0.        , 0.06880404, 0.14029645,\n",
       "        0.        , 0.0404579 , 0.20568412, 0.10777606, 0.        ,\n",
       "        0.        , 0.        , 0.02989836],\n",
       "       [0.        , 0.        , 0.25633264, 0.        , 0.        ,\n",
       "        0.        , 0.        , 0.        , 0.        , 0.        ,\n",
       "        0.        , 0.        , 0.        , 0.        , 0.        ,\n",
       "        0.        , 0.        , 0.        , 0.        , 0.        ,\n",
       "        0.        , 0.        , 0.        , 0.        , 0.        ,\n",
       "        0.        , 0.        , 0.        ],\n",
       "       [0.23900809, 0.        , 0.        , 0.        , 0.27319027,\n",
       "        0.18359903, 0.        , 0.        , 0.1603983 , 0.        ,\n",
       "        0.        , 0.        , 0.        , 0.        , 1.        ,\n",
       "        0.20792754, 0.        , 0.21004334, 0.55934246, 0.        ,\n",
       "        0.        , 0.        , 0.        , 0.2879635 , 0.        ,\n",
       "        0.        , 0.20746881, 0.        ],\n",
       "       [0.23900809, 0.        , 0.        , 0.        , 0.27319027,\n",
       "        0.18359903, 0.        , 0.        , 0.1603983 , 0.        ,\n",
       "        0.        , 0.        , 0.        , 1.        , 0.        ,\n",
       "        0.20792754, 0.        , 0.21004334, 0.55934246, 0.        ,\n",
       "        0.        , 0.        , 0.        , 0.2879635 , 0.        ,\n",
       "        0.        , 0.20746881, 0.        ],\n",
       "       [0.14331828, 0.33566221, 0.        , 0.        , 0.        ,\n",
       "        0.        , 0.        , 0.        , 0.        , 0.        ,\n",
       "        0.        , 0.        , 0.        , 0.20792754, 0.20792754,\n",
       "        0.        , 0.        , 0.        , 0.        , 0.        ,\n",
       "        0.        , 0.        , 0.        , 0.17267379, 0.        ,\n",
       "        0.        , 0.        , 0.10364213],\n",
       "       [0.        , 0.        , 0.        , 0.        , 0.        ,\n",
       "        0.        , 0.11164811, 0.        , 0.        , 0.        ,\n",
       "        0.        , 0.        , 0.        , 0.        , 0.        ,\n",
       "        0.        , 0.        , 0.        , 0.18644126, 0.        ,\n",
       "        0.        , 0.        , 0.        , 0.        , 0.        ,\n",
       "        0.        , 0.14739318, 0.        ],\n",
       "       [0.        , 0.        , 0.        , 0.        , 0.        ,\n",
       "        0.        , 0.        , 0.        , 0.31023795, 0.        ,\n",
       "        0.        , 0.        , 0.        , 0.21004334, 0.21004334,\n",
       "        0.        , 0.        , 0.        , 0.17985013, 0.        ,\n",
       "        0.        , 0.19271608, 0.        , 0.        , 0.        ,\n",
       "        0.        , 0.14218249, 0.        ],\n",
       "       [0.        , 0.        , 0.        , 0.        , 0.31695266,\n",
       "        0.15720713, 0.        , 0.12584081, 0.13734145, 0.        ,\n",
       "        0.        , 0.06880404, 0.        , 0.55934246, 0.55934246,\n",
       "        0.        , 0.18644126, 0.17985013, 0.        , 0.20954676,\n",
       "        0.        , 0.1061277 , 0.23671459, 0.        , 0.        ,\n",
       "        0.        , 0.44689284, 0.07842831],\n",
       "       [0.07920175, 0.        , 0.        , 0.13484539, 0.22994814,\n",
       "        0.        , 0.        , 0.24730174, 0.15699424, 0.03711699,\n",
       "        0.        , 0.14029645, 0.        , 0.        , 0.        ,\n",
       "        0.        , 0.        , 0.        , 0.20954676, 0.        ,\n",
       "        0.18400595, 0.12321692, 0.27483157, 0.        , 0.        ,\n",
       "        0.        , 0.        , 0.14833282],\n",
       "       [0.        , 0.        , 0.06765849, 0.20543512, 0.        ,\n",
       "        0.        , 0.        , 0.11833016, 0.17909028, 0.06785667,\n",
       "        0.0859923 , 0.        , 0.        , 0.        , 0.        ,\n",
       "        0.        , 0.        , 0.        , 0.        , 0.18400595,\n",
       "        0.        , 0.06652907, 0.11795669, 0.        , 0.        ,\n",
       "        0.        , 0.        , 0.07816285],\n",
       "       [0.        , 0.        , 0.        , 0.        , 0.04882464,\n",
       "        0.        , 0.        , 0.07399645, 0.1224017 , 0.        ,\n",
       "        0.        , 0.0404579 , 0.        , 0.        , 0.        ,\n",
       "        0.        , 0.        , 0.19271608, 0.1061277 , 0.12321692,\n",
       "        0.06652907, 0.        , 0.21814205, 0.        , 0.        ,\n",
       "        0.        , 0.        , 0.04611712],\n",
       "       [0.        , 0.        , 0.08047095, 0.135177  , 0.15287336,\n",
       "        0.        , 0.        , 0.2841057 , 0.07233981, 0.21316045,\n",
       "        0.05658323, 0.20568412, 0.        , 0.        , 0.        ,\n",
       "        0.        , 0.        , 0.        , 0.23671459, 0.27483157,\n",
       "        0.11795669, 0.21814205, 0.        , 0.09269864, 0.        ,\n",
       "        0.        , 0.        , 0.25134634],\n",
       "       [0.19848468, 0.        , 0.10634157, 0.        , 0.        ,\n",
       "        0.        , 0.        , 0.        , 0.        , 0.        ,\n",
       "        0.        , 0.10777606, 0.        , 0.2879635 , 0.2879635 ,\n",
       "        0.17267379, 0.        , 0.        , 0.        , 0.        ,\n",
       "        0.        , 0.        , 0.09269864, 0.        , 0.        ,\n",
       "        0.        , 0.        , 0.        ],\n",
       "       [0.        , 0.        , 0.        , 0.1885214 , 0.18984677,\n",
       "        0.        , 0.        , 0.        , 0.        , 0.15567487,\n",
       "        0.19728113, 0.        , 0.        , 0.        , 0.        ,\n",
       "        0.        , 0.        , 0.        , 0.        , 0.        ,\n",
       "        0.        , 0.        , 0.        , 0.        , 0.        ,\n",
       "        0.        , 0.        , 0.        ],\n",
       "       [0.        , 0.        , 0.        , 0.        , 0.        ,\n",
       "        0.        , 0.        , 0.        , 0.        , 0.        ,\n",
       "        0.        , 0.        , 0.        , 0.        , 0.        ,\n",
       "        0.        , 0.        , 0.        , 0.        , 0.        ,\n",
       "        0.        , 0.        , 0.        , 0.        , 0.        ,\n",
       "        0.        , 0.        , 0.        ],\n",
       "       [0.        , 0.        , 0.        , 0.        , 0.        ,\n",
       "        0.        , 0.        , 0.        , 0.10857679, 0.        ,\n",
       "        0.        , 0.        , 0.        , 0.20746881, 0.20746881,\n",
       "        0.        , 0.14739318, 0.14218249, 0.44689284, 0.        ,\n",
       "        0.        , 0.        , 0.        , 0.        , 0.        ,\n",
       "        0.        , 0.        , 0.        ],\n",
       "       [0.        , 0.13008091, 0.02950042, 0.08957372, 0.16244221,\n",
       "        0.07832747, 0.        , 0.14300164, 0.04793527, 0.14124869,\n",
       "        0.03749432, 0.02989836, 0.        , 0.        , 0.        ,\n",
       "        0.10364213, 0.        , 0.        , 0.07842831, 0.14833282,\n",
       "        0.07816285, 0.04611712, 0.25134634, 0.        , 0.        ,\n",
       "        0.        , 0.        , 0.        ]])"
      ]
     },
     "execution_count": 64,
     "metadata": {},
     "output_type": "execute_result"
    }
   ],
   "source": [
    "#문장의 모든 순서쌍마다 vector 간의 cosine similarity를 구함\n",
    "from sklearn.metrics.pairwise import cosine_similarity\n",
    "\n",
    "for idxi, i in enumerate(replace_sentences) :\n",
    "    for idxj, j in enumerate(replace_sentences) :\n",
    "        # row, col이 같으면 스킵\n",
    "        if idxi == idxj:\n",
    "            continue\n",
    "        \n",
    "        text_mat[idxi][idxj] = cosine_similarity(tfidf.transform([i]), tfidf.transform([j]))[0][0]\n",
    "\n",
    "text_mat"
   ]
  },
  {
   "cell_type": "code",
   "execution_count": 92,
   "metadata": {},
   "outputs": [
    {
     "name": "stdout",
     "output_type": "stream",
     "text": [
      "6 2 2 7 10 5 1 8 12 6 3 5 1 10 10 6 3 6 12 10 5 5 10 6 4 0 6 7 "
     ]
    }
   ],
   "source": [
    "# 인접리스트 방식으로 노드 간의 연결관계 표현\n",
    "\n",
    "mat = text_mat.copy()\n",
    "output_node = []\n",
    "\n",
    "for row in mat: # row : 한 title과 다른 title 간의 코사인유사도 array; shape[28,]\n",
    "    tmp=[]\n",
    "    for i in range(len(row) ):\n",
    "        if row[i]>0.1 : # 다른 title과 이루는 내각이 60도 이상이라면\n",
    "            tmp.append(i)\n",
    "    output_node.append(tmp)\n",
    "\n",
    "\n",
    "for i in range(len(output_node)) :\n",
    "    print(len(output_node[i]), end=' ')"
   ]
  },
  {
   "cell_type": "code",
   "execution_count": 93,
   "metadata": {},
   "outputs": [
    {
     "data": {
      "text/plain": [
       "[0.03571428571428571,\n",
       " 0.03571428571428571,\n",
       " 0.03571428571428571,\n",
       " 0.03571428571428571,\n",
       " 0.03571428571428571,\n",
       " 0.03571428571428571,\n",
       " 0.03571428571428571,\n",
       " 0.03571428571428571,\n",
       " 0.03571428571428571,\n",
       " 0.03571428571428571,\n",
       " 0.03571428571428571,\n",
       " 0.03571428571428571,\n",
       " 0.03571428571428571,\n",
       " 0.03571428571428571,\n",
       " 0.03571428571428571,\n",
       " 0.03571428571428571,\n",
       " 0.03571428571428571,\n",
       " 0.03571428571428571,\n",
       " 0.03571428571428571,\n",
       " 0.03571428571428571,\n",
       " 0.03571428571428571,\n",
       " 0.03571428571428571,\n",
       " 0.03571428571428571,\n",
       " 0.03571428571428571,\n",
       " 0.03571428571428571,\n",
       " 0.03571428571428571,\n",
       " 0.03571428571428571,\n",
       " 0.03571428571428571]"
      ]
     },
     "execution_count": 93,
     "metadata": {},
     "output_type": "execute_result"
    }
   ],
   "source": [
    "d = 0.85\n",
    "initial_tr=1/len(mat)\n",
    "TR = [initial_tr]*len(mat)\n",
    "\n",
    "TR"
   ]
  },
  {
   "cell_type": "code",
   "execution_count": 94,
   "metadata": {},
   "outputs": [
    {
     "name": "stdout",
     "output_type": "stream",
     "text": [
      "step: 1  error: 6.174256931243304\n",
      "step: 2  error: 5.302674707744182\n",
      "step: 3  error: 3.981825046561951\n",
      "step: 4  error: 2.9161074082436027\n",
      "step: 5  error: 2.1226488281254285\n",
      "step: 6  error: 1.5434992195380373\n",
      "step: 7  error: 1.1220933772326063\n",
      "step: 8  error: 0.8156754108777896\n",
      "step: 9  error: 0.5929213915922685\n",
      "step: 10  error: 0.43099947523579524\n",
      "step: 11  error: 0.31329883440720124\n",
      "step: 12  error: 0.2277422965241318\n",
      "step: 13  error: 0.1655507815069172\n",
      "step: 14  error: 0.12034302886811044\n",
      "step: 15  error: 0.08748071797460283\n",
      "step: 16  error: 0.06359237376902344\n",
      "step: 17  error: 0.04622731920990114\n",
      "step: 18  error: 0.033604164771501854\n",
      "step: 19  error: 0.024428007095575688\n",
      "step: 20  error: 0.01775756296011105\n",
      "step: 21  error: 0.012908595071832507\n",
      "step: 22  error: 0.009383714886028238\n",
      "step: 23  error: 0.006821357083628243\n",
      "step: 24  error: 0.004958689084638035\n",
      "step: 25  error: 0.003604649604772525\n",
      "step: 26  error: 0.002620349926454102\n",
      "step: 27  error: 0.0019048271500304859\n",
      "step: 28  error: 0.0013846878630737747\n",
      "step: 29  error: 0.0010065798262852144\n",
      "step: 30  error: 0.0007317194103269586\n",
      "step: 31  error: 0.0005319134130152281\n",
      "step: 32  error: 0.00038666718539248635\n",
      "step: 33  error: 0.000281082429762991\n",
      "step: 34  error: 0.0002043290359020622\n",
      "step: 35  error: 0.000148534205035189\n",
      "step: 36  error: 0.00010797491457342767\n",
      "step: 37  error: 7.849089188322056e-05\n",
      "step: 38  error: 5.7057883788236285e-05\n",
      "step: 39  error: 4.147745084864818e-05\n",
      "step: 40  error: 3.015146755552811e-05\n",
      "step: 41  error: 2.191819839919562e-05\n",
      "step: 42  error: 1.5933135614931704e-05\n",
      "step: 43  error: 1.1582375797791755e-05\n",
      "step: 44  error: 8.419650247615262e-06\n",
      "step: 45  error: 6.120550007593373e-06\n",
      "step: 46  error: 4.449250422255968e-06\n",
      "step: 47  error: 3.2343219637520626e-06\n",
      "step: 48  error: 2.351146277224103e-06\n",
      "step: 49  error: 1.7091337484731461e-06\n",
      "step: 50  error: 1.2424314860814967e-06\n",
      "step: 51  error: 9.031686382665605e-07\n",
      "step: 52  error: 6.565461359575586e-07\n",
      "step: 53  error: 4.772672662078925e-07\n",
      "step: 54  error: 3.4694293737924653e-07\n",
      "step: 55  error: 2.522054393661044e-07\n",
      "step: 56  error: 1.8333730533726111e-07\n",
      "step: 57  error: 1.3327455694600587e-07\n",
      "step: 58  error: 9.688212310177136e-08\n",
      "step: 59  error: 7.042713984217741e-08\n",
      "step: 60  error: 5.119604967740443e-08\n",
      "step: 61  error: 3.721627139796624e-08\n",
      "step: 62  error: 2.7053859374959188e-08\n",
      "step: 63  error: 1.9666434480924977e-08\n",
      "step: 64  error: 1.4296247352607594e-08\n",
      "step: 65  error: 1.0392461280428478e-08\n",
      "step: 66  error: 7.554659564590338e-09\n",
      "step: 67  error: 5.491756494002686e-09\n",
      "step: 68  error: 3.992155606091785e-09\n",
      "step: 69  error: 2.902045437291889e-09\n",
      "step: 70  error: 2.109603158828577e-09\n",
      "step: 71  error: 1.5335455683107568e-09\n",
      "step: 72  error: 1.1147907597042206e-09\n",
      "step: 73  error: 8.103822057847765e-10\n",
      "step: 74  error: 5.890952170517494e-10\n",
      "step: 75  error: 4.282353915918691e-10\n",
      "step: 76  error: 3.1130020783365353e-10\n",
      "step: 77  error: 2.2629620399783335e-10\n",
      "step: 78  error: 1.6450046880223113e-10\n",
      "step: 79  error: 1.1958356527230762e-10\n",
      "step: 80  error: 8.692879749361282e-11\n"
     ]
    }
   ],
   "source": [
    "#while문을 탈출하기 위한 boolean 변수\n",
    "stop = False\n",
    "\n",
    "#error 값을 저장하기 위한 변수\n",
    "history = []\n",
    "step = 0\n",
    "\n",
    "while stop == False:\n",
    "    # A,B,C,D를 업데이트할 때 원래값과 수정된 값의 차이의 합\n",
    "    #error = S_k+1(V_i) + S_k(V_i)\n",
    "    total_error = 0\n",
    "    # A,B,C,D를 순회하면서\n",
    "    for node in range(len(mat)):\n",
    "        # 초항 : 1-d\n",
    "        update_val = (1-d)\n",
    "        tmp = 0\n",
    "        # A 노드와 연결된 노드 중에서 (B, D)\n",
    "        for i in output_node[node] :\n",
    "            s=0\n",
    "            # B에 연결된 노드의 가중치 합을 S에 저장\n",
    "            for j in output_node[i] :\n",
    "                s+= mat[i][j]\n",
    "            # TR['B'] * mat[A->B] / sigma(B)\n",
    "            k=TR[i]*(mat[node][i]/s)\n",
    "            tmp += k\n",
    "        # update_val은 기존의 1-d + d*tmp, d=0.85\n",
    "        update_val +=tmp*d\n",
    "        # error는 기존값과 update_val의 차이\n",
    "        error = abs(TR[node] - update_val)\n",
    "        # total_error에 error를 더해줌\n",
    "        total_error += error\n",
    "        TR[node] = update_val\n",
    "        #만약 error가 e^-10보다 작다면 early stop flag\n",
    "    if total_error < 1e-10:\n",
    "        stop = True\n",
    "    \n",
    "    history.append(total_error)\n",
    "    step+=1\n",
    "    print(\"step:\", step, \" error:\", total_error)\n",
    "    if stop == True :\n",
    "        break"
   ]
  },
  {
   "cell_type": "code",
   "execution_count": 95,
   "metadata": {},
   "outputs": [
    {
     "data": {
      "text/plain": [
       "[<matplotlib.lines.Line2D at 0x22874561b50>]"
      ]
     },
     "execution_count": 95,
     "metadata": {},
     "output_type": "execute_result"
    },
    {
     "data": {
      "image/png": "[encoded data removed]",
      "text/plain": [
       "<Figure size 432x288 with 1 Axes>"
      ]
     },
     "metadata": {
      "needs_background": "light"
     },
     "output_type": "display_data"
    }
   ],
   "source": [
    "import matplotlib.pyplot as plt\n",
    "plt.figure.figsize=(10, 10)\n",
    "plt.ylabel('total_error')\n",
    "plt.xlabel('step')\n",
    "plt.plot(history)"
   ]
  },
  {
   "cell_type": "code",
   "execution_count": 96,
   "metadata": {},
   "outputs": [
    {
     "name": "stdout",
     "output_type": "stream",
     "text": [
      "[0.9011935441138164, 0.46685440339287854, 0.7194440859915922, 1.1190839229505936, 1.527318301776126, 0.6475465702170042, 0.27396790577703056, 0.9986166634518001, 1.5037287940056507, 0.8626484408461624, 0.49943692424162117, 0.6454929141464262, 0.5822183577014787, 2.1318538854066236, 2.1318538854082925, 0.9425249207386546, 0.5819285206008802, 0.8867986633181522, 2.140223682696974, 1.301606063428307, 0.6425744922944034, 0.6051385368337225, 1.4809604038108937, 0.9578185394899225, 0.6538744741082528, 0.15000000000000002, 0.9430966999946482, 0.8521964030266692]\n"
     ]
    }
   ],
   "source": [
    "# 업데이트된 TR\n",
    "print(TR)"
   ]
  },
  {
   "cell_type": "code",
   "execution_count": 90,
   "metadata": {},
   "outputs": [
    {
     "data": {
      "text/plain": [
       "[(0.15000000000000002, 25),\n",
       " (0.27396790577703056, 6),\n",
       " (0.46685440339287854, 1),\n",
       " (0.49943692424162117, 10),\n",
       " (0.5819285206008802, 16)]"
      ]
     },
     "execution_count": 90,
     "metadata": {},
     "output_type": "execute_result"
    }
   ],
   "source": [
    "#정렬\n",
    "ans=[]\n",
    "for idx, val in enumerate(TR) :\n",
    "    ans.append((val, idx))\n",
    "\n",
    "# 내림차순 정렬 & 상위 5개 선택\n",
    "bot_5 = sorted(ans, reverse=False)[:5]\n",
    "\n",
    "bot_5"
   ]
  },
  {
   "cell_type": "code",
   "execution_count": 91,
   "metadata": {},
   "outputs": [
    {
     "name": "stdout",
     "output_type": "stream",
     "text": [
      "1 번째:  크롭 t 셔츠 입은 연예인 최초 는 남자 0.15000000000000002\n",
      "2 번째:  숩 니 공 방 코바늘 프릴 크롭 티 만들기 강아지 티셔츠 고양이 티셔츠 dog croc het 0.27396790577703056\n",
      "3 번째:  4 K 봄 나들이 룩 북 LOOKBOOK 화이트 크롭 티셔츠 청 미니스커트 테니스 스커트 H 라인 스커트 커피 색 스타킹 0.46685440339287854\n",
      "4 번째:  2021년 대세 크롭 단가 라 티셔츠 !! #shorts apmplace 가을 코디 패션 동대문 도매 0.49943692424162117\n",
      "5 번째:  벨벳 타이 트 핏 프릴 포인트 연말 룩 크롭 목 폴라 티셔츠 5 컬러 0.5819285206008802\n"
     ]
    }
   ],
   "source": [
    "for idx, i in enumerate(bot_5) :\n",
    "    print(idx+1, '번째: ', clean_sentences[i[1]], i[0])"
   ]
  },
  {
   "cell_type": "code",
   "execution_count": 102,
   "metadata": {},
   "outputs": [
    {
     "data": {
      "text/html": [
       "<div>\n",
       "<style scoped>\n",
       "    .dataframe tbody tr th:only-of-type {\n",
       "        vertical-align: middle;\n",
       "    }\n",
       "\n",
       "    .dataframe tbody tr th {\n",
       "        vertical-align: top;\n",
       "    }\n",
       "\n",
       "    .dataframe thead th {\n",
       "        text-align: right;\n",
       "    }\n",
       "</style>\n",
       "<table border=\"1\" class=\"dataframe\">\n",
       "  <thead>\n",
       "    <tr style=\"text-align: right;\">\n",
       "      <th></th>\n",
       "      <th>title</th>\n",
       "      <th>date</th>\n",
       "      <th>url</th>\n",
       "      <th>hashtag</th>\n",
       "    </tr>\n",
       "  </thead>\n",
       "  <tbody>\n",
       "    <tr>\n",
       "      <th>0</th>\n",
       "      <td>(여리핏) 데일리 크롭 골지 티셔츠 3 color</td>\n",
       "      <td>2021-09-28</td>\n",
       "      <td>https://www.youtube.com/shorts/5vcKagq1fVU</td>\n",
       "      <td></td>\n",
       "    </tr>\n",
       "    <tr>\n",
       "      <th>1</th>\n",
       "      <td>[4K] 봄 나들이 룩북 LOOKBOOK | 화이트크롭티셔츠+청미니스커트+테니스스커...</td>\n",
       "      <td>2022-03-25</td>\n",
       "      <td>https://www.youtube.com/watch?v=1b9y2tH93Mk</td>\n",
       "      <td>#룩북 #봄나들이 #스커트 #스타킹 #데이트</td>\n",
       "    </tr>\n",
       "    <tr>\n",
       "      <th>2</th>\n",
       "      <td>[Lookbook] 크롭핏(cropped fit) 코디 / 크롭후드 맨투맨 / 크롭...</td>\n",
       "      <td>2022-01-09</td>\n",
       "      <td>https://www.youtube.com/watch?v=WTV0PbMmLx0</td>\n",
       "      <td></td>\n",
       "    </tr>\n",
       "    <tr>\n",
       "      <th>3</th>\n",
       "      <td>[ootd] 데일리룩 #데일리룩 #데일리룩북 #데일리룩브이로그 #크롭자켓코디 #크롭...</td>\n",
       "      <td>2021-11-03</td>\n",
       "      <td>https://www.youtube.com/shorts/xBz0xaoCYHM</td>\n",
       "      <td>#데일리룩 #데일리룩북 #데일리룩브이로그 #크롭자켓코디 #크롭티셔츠코디 #하이웨이스...</td>\n",
       "    </tr>\n",
       "    <tr>\n",
       "      <th>4</th>\n",
       "      <td>[ZARA]자라 여름 신상 하울 / 린넨자켓 /린넨원피스/버뮤다팬츠 / 데님 /크롭티셔츠</td>\n",
       "      <td>2022-05-31</td>\n",
       "      <td>https://www.youtube.com/watch?v=fDv262rINuA</td>\n",
       "      <td></td>\n",
       "    </tr>\n",
       "  </tbody>\n",
       "</table>\n",
       "</div>"
      ],
      "text/plain": [
       "                                               title        date  \\\n",
       "0                        (여리핏) 데일리 크롭 골지 티셔츠 3 color  2021-09-28   \n",
       "1  [4K] 봄 나들이 룩북 LOOKBOOK | 화이트크롭티셔츠+청미니스커트+테니스스커...  2022-03-25   \n",
       "2  [Lookbook] 크롭핏(cropped fit) 코디 / 크롭후드 맨투맨 / 크롭...  2022-01-09   \n",
       "3  [ootd] 데일리룩 #데일리룩 #데일리룩북 #데일리룩브이로그 #크롭자켓코디 #크롭...  2021-11-03   \n",
       "4  [ZARA]자라 여름 신상 하울 / 린넨자켓 /린넨원피스/버뮤다팬츠 / 데님 /크롭티셔츠  2022-05-31   \n",
       "\n",
       "                                           url  \\\n",
       "0   https://www.youtube.com/shorts/5vcKagq1fVU   \n",
       "1  https://www.youtube.com/watch?v=1b9y2tH93Mk   \n",
       "2  https://www.youtube.com/watch?v=WTV0PbMmLx0   \n",
       "3   https://www.youtube.com/shorts/xBz0xaoCYHM   \n",
       "4  https://www.youtube.com/watch?v=fDv262rINuA   \n",
       "\n",
       "                                             hashtag  \n",
       "0                                                     \n",
       "1                           #룩북 #봄나들이 #스커트 #스타킹 #데이트  \n",
       "2                                                     \n",
       "3  #데일리룩 #데일리룩북 #데일리룩브이로그 #크롭자켓코디 #크롭티셔츠코디 #하이웨이스...  \n",
       "4                                                     "
      ]
     },
     "execution_count": 102,
     "metadata": {},
     "output_type": "execute_result"
    }
   ],
   "source": [
    "df.head()"
   ]
  },
  {
   "cell_type": "code",
   "execution_count": 108,
   "metadata": {},
   "outputs": [
    {
     "name": "stdout",
     "output_type": "stream",
     "text": [
      "1 번째:  (여리핏) 데일리 크롭 골지 티셔츠 3 color\n",
      "2 번째:  [4K] 봄 나들이 룩북 LOOKBOOK | 화이트크롭티셔츠+청미니스커트+테니스스커트+H라인스커트+커피색스타킹\n",
      "3 번째:  [Lookbook] 크롭핏(cropped fit) 코디 / 크롭후드 맨투맨 / 크롭 반팔티셔츠 / 크롭 슬림핏 맨투맨 / 크롭 오버핏 스웨트 티셔츠/ルックブック/why?shirt🌝\n",
      "4 번째:  [ootd] 데일리룩 #데일리룩 #데일리룩북 #데일리룩브이로그 #크롭자켓코디 #크롭티셔츠코디 #하이웨이스트진 #데일리코디 #데일리룩코디 #그레이자켓코디 #크롭티코디 #shorts\n",
      "5 번째:  [ZARA]자라 여름 신상 하울 / 린넨자켓 /린넨원피스/버뮤다팬츠 / 데님 /크롭티셔츠\n"
     ]
    }
   ],
   "source": [
    "titles = df['title'].tolist()\n",
    "for idx, i in enumerate(bot_5) :\n",
    "    print(idx+1, '번째: ', titles[idx])"
   ]
  },
  {
   "cell_type": "code",
   "execution_count": null,
   "metadata": {},
   "outputs": [],
   "source": []
  }
 ],
 "metadata": {
  "interpreter": {
   "hash": "f08154012ddadd8e950e6e9e035c7a7b32c136e7647e9b7c77e02eb723a8bedb"
  },
  "kernelspec": {
   "display_name": "Python 3.9.7 ('base')",
   "language": "python",
   "name": "python3"
  },
  "language_info": {
   "codemirror_mode": {
    "name": "ipython",
    "version": 3
   },
   "file_extension": ".py",
   "mimetype": "text/x-python",
   "name": "python",
   "nbconvert_exporter": "python",
   "pygments_lexer": "ipython3",
   "version": "3.9.7"
  },
  "orig_nbformat": 4
 },
 "nbformat": 4,
 "nbformat_minor": 2
}
