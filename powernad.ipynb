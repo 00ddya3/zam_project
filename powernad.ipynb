{
 "cells": [
  {
   "cell_type": "code",
   "execution_count": 2,
   "metadata": {},
   "outputs": [],
   "source": [
    "from powernad.API.Campaign import *"
   ]
  },
  {
   "cell_type": "code",
   "execution_count": 3,
   "metadata": {},
   "outputs": [],
   "source": [
    "NAVER_SECRET_KEY = 'AQAAAABZZNcmQnJhsoPKPB+OVnz+yKMx8Mk5JTgbo9VG/XAJEA=='\n",
    "NAVER_API_KEY = '01000000005964d726427261b283ca3c1f8e567cfeff6fee2fb0c3e7915c994f165a35bfbe'\n",
    "CUSTOMER_ID = '910516'\n",
    "NAVER_BASE_URL = 'https://api.naver.com'"
   ]
  },
  {
   "cell_type": "code",
   "execution_count": 4,
   "metadata": {},
   "outputs": [
    {
     "data": {
      "text/plain": [
       "[<powernad.Object.Campaign.CampaignObject.CampaignObject at 0x2412c4a9940>,\n",
       " <powernad.Object.Campaign.CampaignObject.CampaignObject at 0x2412d353940>,\n",
       " <powernad.Object.Campaign.CampaignObject.CampaignObject at 0x2412d353970>,\n",
       " <powernad.Object.Campaign.CampaignObject.CampaignObject at 0x2412d3539a0>]"
      ]
     },
     "execution_count": 4,
     "metadata": {},
     "output_type": "execute_result"
    }
   ],
   "source": [
    "c=Campaign(NAVER_BASE_URL, NAVER_API_KEY, NAVER_SECRET_KEY, CUSTOMER_ID)\n",
    "c.get_campaign_list()"
   ]
  },
  {
   "cell_type": "code",
   "execution_count": 5,
   "metadata": {},
   "outputs": [],
   "source": [
    "from powernad.API.RelKwdStat import *"
   ]
  },
  {
   "cell_type": "code",
   "execution_count": 6,
   "metadata": {},
   "outputs": [],
   "source": [
    "rel = RelKwdStat(NAVER_BASE_URL, NAVER_API_KEY, NAVER_SECRET_KEY, CUSTOMER_ID)"
   ]
  },
  {
   "cell_type": "code",
   "execution_count": 19,
   "metadata": {},
   "outputs": [
    {
     "name": "stdout",
     "output_type": "stream",
     "text": [
      "('샴푸', 13000, 85500, 49.5, 679.3, 0.41, 0.87, 15, '높음')\n"
     ]
    }
   ],
   "source": [
    "searchword = '샴푸'\n",
    "\n",
    "kwdDataList = rel.get_rel_kwd_stat_list(siteId=None, biztpId=None, hintKeywords=searchword, event=None, month=None, showDetail='1')\n",
    "\n",
    "kwd_result = (kwdDataList[0].relKeyword, #연관키워드\n",
    "    kwdDataList[0].monthlyPcQcCnt, #30일간 PC 조회수\n",
    "    kwdDataList[0].monthlyMobileQcCnt, #30일간 모바일 조회수\n",
    "    kwdDataList[0].monthlyAvePcClkCnt, #30일간 평균 PC 클릭수\n",
    "    kwdDataList[0].monthlyAveMobileClkCnt, #30일간 평균 모바일 클릭수\n",
    "    kwdDataList[0].monthlyAvePcCtr, #30일간 평균 PC 클릭율\n",
    "    kwdDataList[0].monthlyAveMobileCtr, #30일간 평균 모바일 클릭율\n",
    "    kwdDataList[0].plAvgDepth, #30일간 평균 PC 광고 수\n",
    "    kwdDataList[0].compIdx #PC 광고 기반 경쟁력\n",
    "    )\n",
    "\n",
    "print(kwd_result)"
   ]
  },
  {
   "cell_type": "code",
   "execution_count": 48,
   "metadata": {},
   "outputs": [
    {
     "data": {
      "text/html": [
       "<div>\n",
       "<style scoped>\n",
       "    .dataframe tbody tr th:only-of-type {\n",
       "        vertical-align: middle;\n",
       "    }\n",
       "\n",
       "    .dataframe tbody tr th {\n",
       "        vertical-align: top;\n",
       "    }\n",
       "\n",
       "    .dataframe thead th {\n",
       "        text-align: right;\n",
       "    }\n",
       "</style>\n",
       "<table border=\"1\" class=\"dataframe\">\n",
       "  <thead>\n",
       "    <tr style=\"text-align: right;\">\n",
       "      <th></th>\n",
       "      <th>연관키워드</th>\n",
       "      <th>30일간 PC 조회수</th>\n",
       "      <th>30일간 모바일 조회수</th>\n",
       "      <th>30일간 평균 PC 클릭수</th>\n",
       "      <th>30일간 평균 모바일 클릭수</th>\n",
       "      <th>30일간 평균 PC 클릭율</th>\n",
       "      <th>30일간 평균 모바일 클릭율</th>\n",
       "      <th>30일간 평균 PC 광고 수</th>\n",
       "      <th>PC 광고 기반 경쟁력</th>\n",
       "    </tr>\n",
       "  </thead>\n",
       "  <tbody>\n",
       "    <tr>\n",
       "      <th>0</th>\n",
       "      <td>샴푸</td>\n",
       "      <td>13000</td>\n",
       "      <td>85500</td>\n",
       "      <td>49.5</td>\n",
       "      <td>679.3</td>\n",
       "      <td>0.41</td>\n",
       "      <td>0.87</td>\n",
       "      <td>15</td>\n",
       "      <td>높음</td>\n",
       "    </tr>\n",
       "    <tr>\n",
       "      <th>1</th>\n",
       "      <td>유아입욕제</td>\n",
       "      <td>200</td>\n",
       "      <td>1350</td>\n",
       "      <td>1.1</td>\n",
       "      <td>21.0</td>\n",
       "      <td>0.57</td>\n",
       "      <td>1.67</td>\n",
       "      <td>15</td>\n",
       "      <td>높음</td>\n",
       "    </tr>\n",
       "    <tr>\n",
       "      <th>2</th>\n",
       "      <td>아기샴푸</td>\n",
       "      <td>410</td>\n",
       "      <td>3370</td>\n",
       "      <td>1.8</td>\n",
       "      <td>32.0</td>\n",
       "      <td>0.46</td>\n",
       "      <td>1.02</td>\n",
       "      <td>15</td>\n",
       "      <td>높음</td>\n",
       "    </tr>\n",
       "    <tr>\n",
       "      <th>3</th>\n",
       "      <td>약산성샴푸</td>\n",
       "      <td>2060</td>\n",
       "      <td>23700</td>\n",
       "      <td>5.5</td>\n",
       "      <td>225.4</td>\n",
       "      <td>0.29</td>\n",
       "      <td>1.03</td>\n",
       "      <td>15</td>\n",
       "      <td>높음</td>\n",
       "    </tr>\n",
       "    <tr>\n",
       "      <th>4</th>\n",
       "      <td>아기로션</td>\n",
       "      <td>1530</td>\n",
       "      <td>20500</td>\n",
       "      <td>2.7</td>\n",
       "      <td>3.3</td>\n",
       "      <td>0.19</td>\n",
       "      <td>0.02</td>\n",
       "      <td>15</td>\n",
       "      <td>높음</td>\n",
       "    </tr>\n",
       "  </tbody>\n",
       "</table>\n",
       "</div>"
      ],
      "text/plain": [
       "   연관키워드 30일간 PC 조회수 30일간 모바일 조회수  30일간 평균 PC 클릭수  30일간 평균 모바일 클릭수  \\\n",
       "0     샴푸       13000        85500            49.5            679.3   \n",
       "1  유아입욕제         200         1350             1.1             21.0   \n",
       "2   아기샴푸         410         3370             1.8             32.0   \n",
       "3  약산성샴푸        2060        23700             5.5            225.4   \n",
       "4   아기로션        1530        20500             2.7              3.3   \n",
       "\n",
       "   30일간 평균 PC 클릭율  30일간 평균 모바일 클릭율 30일간 평균 PC 광고 수 PC 광고 기반 경쟁력  \n",
       "0            0.41             0.87              15           높음  \n",
       "1            0.57             1.67              15           높음  \n",
       "2            0.46             1.02              15           높음  \n",
       "3            0.29             1.03              15           높음  \n",
       "4            0.19             0.02              15           높음  "
      ]
     },
     "execution_count": 48,
     "metadata": {},
     "output_type": "execute_result"
    }
   ],
   "source": [
    "import pandas as pd\n",
    "\n",
    "#df = pd.DataFrame(columns=['연관키워드', '30일간 PC 조회수', '30일간 모바일 조회수', '30일간 평균 PC 클릭수', '30일간 평균 모바일 클릭수', \n",
    "#    '30일간 평균 PC 클릭율', '30일간 평균 모바일 클릭율', '30일간 평균 PC 광고 수', 'PC 광고 기반 경쟁력'])\n",
    "\n",
    "\n",
    "df = pd.DataFrame(\n",
    "    columns=['연관키워드', '30일간 PC 조회수', '30일간 모바일 조회수', '30일간 평균 PC 클릭수', '30일간 평균 모바일 클릭수', \n",
    "        '30일간 평균 PC 클릭율', '30일간 평균 모바일 클릭율', '30일간 평균 PC 광고 수', 'PC 광고 기반 경쟁력']\n",
    "    )\n",
    "\n",
    "\n",
    "for i in range(len(kwdDataList)) :\n",
    "    df.loc[i] = [kwdDataList[i].relKeyword, kwdDataList[i].monthlyPcQcCnt, kwdDataList[i].monthlyMobileQcCnt, kwdDataList[i].monthlyAvePcClkCnt,\n",
    "        kwdDataList[i].monthlyAveMobileClkCnt, kwdDataList[i].monthlyAvePcCtr, kwdDataList[i].monthlyAveMobileCtr, kwdDataList[i].plAvgDepth, kwdDataList[i].compIdx]\n",
    "\n",
    "df.head()"
   ]
  },
  {
   "cell_type": "code",
   "execution_count": 51,
   "metadata": {},
   "outputs": [
    {
     "name": "stdout",
     "output_type": "stream",
     "text": [
      "<class 'pandas.core.frame.DataFrame'>\n",
      "Int64Index: 548 entries, 0 to 547\n",
      "Data columns (total 9 columns):\n",
      " #   Column           Non-Null Count  Dtype  \n",
      "---  ------           --------------  -----  \n",
      " 0   연관키워드            548 non-null    object \n",
      " 1   30일간 PC 조회수      548 non-null    object \n",
      " 2   30일간 모바일 조회수     548 non-null    object \n",
      " 3   30일간 평균 PC 클릭수   548 non-null    float64\n",
      " 4   30일간 평균 모바일 클릭수  548 non-null    float64\n",
      " 5   30일간 평균 PC 클릭율   548 non-null    float64\n",
      " 6   30일간 평균 모바일 클릭율  548 non-null    float64\n",
      " 7   30일간 평균 PC 광고 수  548 non-null    object \n",
      " 8   PC 광고 기반 경쟁력     548 non-null    object \n",
      "dtypes: float64(4), object(5)\n",
      "memory usage: 42.8+ KB\n"
     ]
    }
   ],
   "source": [
    "df.info()"
   ]
  },
  {
   "cell_type": "code",
   "execution_count": 50,
   "metadata": {},
   "outputs": [
    {
     "data": {
      "text/html": [
       "<div>\n",
       "<style scoped>\n",
       "    .dataframe tbody tr th:only-of-type {\n",
       "        vertical-align: middle;\n",
       "    }\n",
       "\n",
       "    .dataframe tbody tr th {\n",
       "        vertical-align: top;\n",
       "    }\n",
       "\n",
       "    .dataframe thead th {\n",
       "        text-align: right;\n",
       "    }\n",
       "</style>\n",
       "<table border=\"1\" class=\"dataframe\">\n",
       "  <thead>\n",
       "    <tr style=\"text-align: right;\">\n",
       "      <th></th>\n",
       "      <th>30일간 평균 PC 클릭수</th>\n",
       "      <th>30일간 평균 모바일 클릭수</th>\n",
       "      <th>30일간 평균 PC 클릭율</th>\n",
       "      <th>30일간 평균 모바일 클릭율</th>\n",
       "    </tr>\n",
       "  </thead>\n",
       "  <tbody>\n",
       "    <tr>\n",
       "      <th>count</th>\n",
       "      <td>548.000000</td>\n",
       "      <td>548.000000</td>\n",
       "      <td>548.000000</td>\n",
       "      <td>548.000000</td>\n",
       "    </tr>\n",
       "    <tr>\n",
       "      <th>mean</th>\n",
       "      <td>0.823358</td>\n",
       "      <td>17.610036</td>\n",
       "      <td>0.497536</td>\n",
       "      <td>1.027245</td>\n",
       "    </tr>\n",
       "    <tr>\n",
       "      <th>std</th>\n",
       "      <td>3.139511</td>\n",
       "      <td>56.163049</td>\n",
       "      <td>1.034813</td>\n",
       "      <td>1.091517</td>\n",
       "    </tr>\n",
       "    <tr>\n",
       "      <th>min</th>\n",
       "      <td>0.000000</td>\n",
       "      <td>0.000000</td>\n",
       "      <td>0.000000</td>\n",
       "      <td>0.000000</td>\n",
       "    </tr>\n",
       "    <tr>\n",
       "      <th>25%</th>\n",
       "      <td>0.000000</td>\n",
       "      <td>0.000000</td>\n",
       "      <td>0.000000</td>\n",
       "      <td>0.000000</td>\n",
       "    </tr>\n",
       "    <tr>\n",
       "      <th>50%</th>\n",
       "      <td>0.100000</td>\n",
       "      <td>1.800000</td>\n",
       "      <td>0.200000</td>\n",
       "      <td>0.805000</td>\n",
       "    </tr>\n",
       "    <tr>\n",
       "      <th>75%</th>\n",
       "      <td>0.600000</td>\n",
       "      <td>9.300000</td>\n",
       "      <td>0.560000</td>\n",
       "      <td>1.580000</td>\n",
       "    </tr>\n",
       "    <tr>\n",
       "      <th>max</th>\n",
       "      <td>49.500000</td>\n",
       "      <td>679.300000</td>\n",
       "      <td>11.120000</td>\n",
       "      <td>5.530000</td>\n",
       "    </tr>\n",
       "  </tbody>\n",
       "</table>\n",
       "</div>"
      ],
      "text/plain": [
       "       30일간 평균 PC 클릭수  30일간 평균 모바일 클릭수  30일간 평균 PC 클릭율  30일간 평균 모바일 클릭율\n",
       "count      548.000000       548.000000      548.000000       548.000000\n",
       "mean         0.823358        17.610036        0.497536         1.027245\n",
       "std          3.139511        56.163049        1.034813         1.091517\n",
       "min          0.000000         0.000000        0.000000         0.000000\n",
       "25%          0.000000         0.000000        0.000000         0.000000\n",
       "50%          0.100000         1.800000        0.200000         0.805000\n",
       "75%          0.600000         9.300000        0.560000         1.580000\n",
       "max         49.500000       679.300000       11.120000         5.530000"
      ]
     },
     "execution_count": 50,
     "metadata": {},
     "output_type": "execute_result"
    }
   ],
   "source": [
    "df.describe()"
   ]
  },
  {
   "cell_type": "code",
   "execution_count": null,
   "metadata": {},
   "outputs": [],
   "source": []
  }
 ],
 "metadata": {
  "interpreter": {
   "hash": "8fac594bfae6525c0c41b4041d2d72effa188cc8ead05f81b1fab2bb098927fb"
  },
  "kernelspec": {
   "display_name": "Python 3.9.7 ('base')",
   "language": "python",
   "name": "python3"
  },
  "language_info": {
   "codemirror_mode": {
    "name": "ipython",
    "version": 3
   },
   "file_extension": ".py",
   "mimetype": "text/x-python",
   "name": "python",
   "nbconvert_exporter": "python",
   "pygments_lexer": "ipython3",
   "version": "3.9.7"
  },
  "orig_nbformat": 4
 },
 "nbformat": 4,
 "nbformat_minor": 2
}
