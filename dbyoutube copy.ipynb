{
 "cells": [
  {
   "cell_type": "markdown",
   "metadata": {},
   "source": [
    "# 유튜브 크롤링 후 DB 적재 자동화"
   ]
  },
  {
   "cell_type": "code",
   "execution_count": 3,
   "metadata": {},
   "outputs": [],
   "source": [
    "from selenium import webdriver\n",
    "from selenium.webdriver.common.keys import Keys\n",
    "from bs4 import BeautifulSoup\n",
    "import pandas as pd\n",
    "import time\n",
    "import warnings\n",
    "import psycopg2\n",
    "import re"
   ]
  },
  {
   "cell_type": "code",
   "execution_count": 4,
   "metadata": {},
   "outputs": [],
   "source": [
    "#스크롤 함수\n",
    "def scroll_down(driver):\n",
    "    driver.execute_script(\"window.scrollTo(0,6000);\")\n",
    "    time.sleep(2)\n",
    "\n",
    "# 해시태그 함수\n",
    "def get_hashtag(outline_test) :\n",
    "    # hash_tag가 안달려있는 영상이 있기때문에 오류 방지\n",
    "    try:\n",
    "        hash_tag = \" \".join(re.findall(\"#[가-힣]{1,}\", outline_test))\n",
    "        #print(hash_tag)\n",
    "        hashtag_list.append(hash_tag)\n",
    "            \n",
    "    except Exception as e:\n",
    "        hash_tag = \"\"\n",
    "        #print(hash_tag)\n",
    "        hashtag_list.append(hash_tag)\n",
    "\n",
    "#select문 만들기\n",
    "def select_command(table) :\n",
    "    command = 'select * from ' + table\n",
    "    return command\n",
    "\n",
    "#insert문 만들기\n",
    "def insert_command(table) :\n",
    "    command = 'insert into ' + table + ' (title, date, url, hashtag) values (%s, %s, %s, %s);'\n",
    "    return command"
   ]
  },
  {
   "cell_type": "markdown",
   "metadata": {},
   "source": [
    "뷔스티에 원피스, 롱패딩, 숏패딩, 롱코트, 숏코트, 잠옷, 홈웨어, 트위드자켓, 블레이저 자켓, 싱글 자켓, 크롭 자켓, 레더 자켓, 루즈핏, 테일러드 자켓, 린넨자켓, 반팔자켓, 라이더자켓, 오버핏자켓, 청자켓, 니트가디건, 볼레로, 아가일, 크롭가디건, 반팔가디건', '앙고라', '바람막이', '아노락', '윈드브레이커', '바시티자켓', '바시티점퍼', '야구점퍼', 후드집업, 투웨이집업, 여름아우터, 간절기아우터, 겨울아우터, 기모맨투맨, 니트맨투맨, 크롭 맨투맨', '남자 맨투맨', '반집업', 후드티, 남자후드, 꾸안꾸, 플리스, 반팔티, 크롭티, 블라우스, 와이셔츠, 셔츠, 체크셔츠, 타이다이, 옥스퍼드셔츠, 남방, 슬리브티, 니트, 남자니트, 조끼, '봄슬랙스', '여름슬랙스', '가을슬랙스', '겨울슬랙스', '간절기슬랙스', '데님팬츠', '연청', '진청', '중청', '흑청', '그레이진', '와이드팬츠', '밴딩바지', '스키니진', '린넨팬츠', '반바지', '하이웨스트', '로우웨스트', '부츠컷', '치노팬츠', '트레이닝복', '트레이닝바지', '조거팬츠', '카고바지', '일자팬츠', '냉장고바지', '멜빵바지', '오버롤팬츠', '찢청', '미니스커트', '미디스커트', '롱스커트', '플레어스커트', 'A라인 스커트', 'H라인 스커트', '청치마', '테니스스커트', '프릴스커트', '레더 스커트', '랩스커트', '데님스커트', '플리츠스커트', '미니원피스', '미디원피스', '롱원피스', '나시원피스', '코르셋', '셔츠원피스', '벨벳원피스', '꽃원피스', '골지원피스', '골지티', '쉬폰원피스', '쉬폰블라우스', '린넨원피스', '카라원피스', '랩원피스', '니트원피스', '후드원피스', '코듀로이', '반팔원피스', '점프슈트', '봄룩북', '봄옷쇼핑', '봄코디', '봄옷하울', '여름룩북', '여름옷쇼핑', '여름코디', '여름하울', '가을룩북', '가을옷쇼핑', '가을코디', '가을하울', '겨울룩북', '겨울옷쇼핑', '겨울코디', '겨울하울'"
   ]
  },
  {
   "cell_type": "markdown",
   "metadata": {},
   "source": [
    "keyword_list = ['블라인드', '롤스크린', '커튼', '러그', '카페트', '매트', '쿠션', '방석', '소파커버', '조명', 'led평판등', '천장등', '장스탠드', '단스탠드', '데스크스탠드', '무드등', '장식조명', '벽조명', '센서등', '형광등', '집꾸미기', '방꾸미기', '인테리어', '선반', '행거', '옷장', '의자', '화장대', '콘솔', '전신거울', '침구세트', '이불', '베개', '토퍼', '패드', '매트리스커버']"
   ]
  },
  {
   "cell_type": "markdown",
   "metadata": {},
   "source": [
    "'책추천', '책리뷰', '책소개', '인생책', '필독서', "
   ]
  },
  {
   "cell_type": "code",
   "execution_count": 33,
   "metadata": {},
   "outputs": [],
   "source": [
    "keyword_list = ['오디오북']"
   ]
  },
  {
   "cell_type": "code",
   "execution_count": 38,
   "metadata": {},
   "outputs": [
    {
     "name": "stdout",
     "output_type": "stream",
     "text": [
      "오디오북 영상 개수:  125\n",
      "1 "
     ]
    },
    {
     "ename": "NoSuchElementException",
     "evalue": "Message: no such element: Unable to locate element: {\"method\":\"css selector\",\"selector\":\"[id=\"info-strings\"]\"}\n  (Session info: chrome=102.0.5005.63)\nStacktrace:\nBacktrace:\n\tOrdinal0 [0x008ED953+2414931]\n\tOrdinal0 [0x0087F5E1+1963489]\n\tOrdinal0 [0x0076C6B8+837304]\n\tOrdinal0 [0x00799500+1021184]\n\tOrdinal0 [0x0079979B+1021851]\n\tOrdinal0 [0x007C6502+1205506]\n\tOrdinal0 [0x007B44E4+1131748]\n\tOrdinal0 [0x007C4812+1198098]\n\tOrdinal0 [0x007B42B6+1131190]\n\tOrdinal0 [0x0078E860+976992]\n\tOrdinal0 [0x0078F756+980822]\n\tGetHandleVerifier [0x00B5CC62+2510274]\n\tGetHandleVerifier [0x00B4F760+2455744]\n\tGetHandleVerifier [0x0097EABA+551962]\n\tGetHandleVerifier [0x0097D916+547446]\n\tOrdinal0 [0x00885F3B+1990459]\n\tOrdinal0 [0x0088A898+2009240]\n\tOrdinal0 [0x0088A985+2009477]\n\tOrdinal0 [0x00893AD1+2046673]\n\tBaseThreadInitThunk [0x75AAFA29+25]\n\tRtlGetAppContainerNamedObjectPath [0x77267A7E+286]\n\tRtlGetAppContainerNamedObjectPath [0x77267A4E+238]\n",
     "output_type": "error",
     "traceback": [
      "\u001b[1;31m---------------------------------------------------------------------------\u001b[0m",
      "\u001b[1;31mNoSuchElementException\u001b[0m                    Traceback (most recent call last)",
      "\u001b[1;32m~\\AppData\\Local\\Temp/ipykernel_15512/1721868644.py\u001b[0m in \u001b[0;36m<module>\u001b[1;34m\u001b[0m\n\u001b[0;32m     96\u001b[0m             \u001b[1;31m#업로드일 정보 가져오기\u001b[0m\u001b[1;33m\u001b[0m\u001b[1;33m\u001b[0m\u001b[0m\n\u001b[0;32m     97\u001b[0m             \u001b[1;31m#day = soup.select('#formatted-snippet-text > span:nth-child(3)')[0].text\u001b[0m\u001b[1;33m\u001b[0m\u001b[1;33m\u001b[0m\u001b[0m\n\u001b[1;32m---> 98\u001b[1;33m             \u001b[0mday\u001b[0m \u001b[1;33m=\u001b[0m \u001b[0mdriver\u001b[0m\u001b[1;33m.\u001b[0m\u001b[0mfind_element_by_id\u001b[0m\u001b[1;33m(\u001b[0m\u001b[1;34m\"info-strings\"\u001b[0m\u001b[1;33m)\u001b[0m\u001b[1;33m.\u001b[0m\u001b[0mtext\u001b[0m\u001b[1;33m.\u001b[0m\u001b[0msplit\u001b[0m\u001b[1;33m(\u001b[0m\u001b[1;34m'\\n'\u001b[0m\u001b[1;33m)\u001b[0m\u001b[1;33m[\u001b[0m\u001b[1;36m0\u001b[0m\u001b[1;33m]\u001b[0m\u001b[1;33m\u001b[0m\u001b[1;33m\u001b[0m\u001b[0m\n\u001b[0m\u001b[0;32m     99\u001b[0m             \u001b[0mday_list\u001b[0m\u001b[1;33m.\u001b[0m\u001b[0mappend\u001b[0m\u001b[1;33m(\u001b[0m\u001b[0mday\u001b[0m\u001b[1;33m)\u001b[0m\u001b[1;33m\u001b[0m\u001b[1;33m\u001b[0m\u001b[0m\n\u001b[0;32m    100\u001b[0m \u001b[1;33m\u001b[0m\u001b[0m\n",
      "\u001b[1;32mc:\\Users\\User\\anaconda3\\lib\\site-packages\\selenium\\webdriver\\remote\\webdriver.py\u001b[0m in \u001b[0;36mfind_element_by_id\u001b[1;34m(self, id_)\u001b[0m\n\u001b[0;32m    471\u001b[0m             \u001b[0mstacklevel\u001b[0m\u001b[1;33m=\u001b[0m\u001b[1;36m2\u001b[0m\u001b[1;33m,\u001b[0m\u001b[1;33m\u001b[0m\u001b[1;33m\u001b[0m\u001b[0m\n\u001b[0;32m    472\u001b[0m         )\n\u001b[1;32m--> 473\u001b[1;33m         \u001b[1;32mreturn\u001b[0m \u001b[0mself\u001b[0m\u001b[1;33m.\u001b[0m\u001b[0mfind_element\u001b[0m\u001b[1;33m(\u001b[0m\u001b[0mby\u001b[0m\u001b[1;33m=\u001b[0m\u001b[0mBy\u001b[0m\u001b[1;33m.\u001b[0m\u001b[0mID\u001b[0m\u001b[1;33m,\u001b[0m \u001b[0mvalue\u001b[0m\u001b[1;33m=\u001b[0m\u001b[0mid_\u001b[0m\u001b[1;33m)\u001b[0m\u001b[1;33m\u001b[0m\u001b[1;33m\u001b[0m\u001b[0m\n\u001b[0m\u001b[0;32m    474\u001b[0m \u001b[1;33m\u001b[0m\u001b[0m\n\u001b[0;32m    475\u001b[0m     \u001b[1;32mdef\u001b[0m \u001b[0mfind_elements_by_id\u001b[0m\u001b[1;33m(\u001b[0m\u001b[0mself\u001b[0m\u001b[1;33m,\u001b[0m \u001b[0mid_\u001b[0m\u001b[1;33m)\u001b[0m \u001b[1;33m->\u001b[0m \u001b[0mList\u001b[0m\u001b[1;33m[\u001b[0m\u001b[0mWebElement\u001b[0m\u001b[1;33m]\u001b[0m\u001b[1;33m:\u001b[0m\u001b[1;33m\u001b[0m\u001b[1;33m\u001b[0m\u001b[0m\n",
      "\u001b[1;32mc:\\Users\\User\\anaconda3\\lib\\site-packages\\selenium\\webdriver\\remote\\webdriver.py\u001b[0m in \u001b[0;36mfind_element\u001b[1;34m(self, by, value)\u001b[0m\n\u001b[0;32m   1246\u001b[0m             \u001b[0mvalue\u001b[0m \u001b[1;33m=\u001b[0m \u001b[1;34m'[name=\"%s\"]'\u001b[0m \u001b[1;33m%\u001b[0m \u001b[0mvalue\u001b[0m\u001b[1;33m\u001b[0m\u001b[1;33m\u001b[0m\u001b[0m\n\u001b[0;32m   1247\u001b[0m \u001b[1;33m\u001b[0m\u001b[0m\n\u001b[1;32m-> 1248\u001b[1;33m         return self.execute(Command.FIND_ELEMENT, {\n\u001b[0m\u001b[0;32m   1249\u001b[0m             \u001b[1;34m'using'\u001b[0m\u001b[1;33m:\u001b[0m \u001b[0mby\u001b[0m\u001b[1;33m,\u001b[0m\u001b[1;33m\u001b[0m\u001b[1;33m\u001b[0m\u001b[0m\n\u001b[0;32m   1250\u001b[0m             'value': value})['value']\n",
      "\u001b[1;32mc:\\Users\\User\\anaconda3\\lib\\site-packages\\selenium\\webdriver\\remote\\webdriver.py\u001b[0m in \u001b[0;36mexecute\u001b[1;34m(self, driver_command, params)\u001b[0m\n\u001b[0;32m    423\u001b[0m         \u001b[0mresponse\u001b[0m \u001b[1;33m=\u001b[0m \u001b[0mself\u001b[0m\u001b[1;33m.\u001b[0m\u001b[0mcommand_executor\u001b[0m\u001b[1;33m.\u001b[0m\u001b[0mexecute\u001b[0m\u001b[1;33m(\u001b[0m\u001b[0mdriver_command\u001b[0m\u001b[1;33m,\u001b[0m \u001b[0mparams\u001b[0m\u001b[1;33m)\u001b[0m\u001b[1;33m\u001b[0m\u001b[1;33m\u001b[0m\u001b[0m\n\u001b[0;32m    424\u001b[0m         \u001b[1;32mif\u001b[0m \u001b[0mresponse\u001b[0m\u001b[1;33m:\u001b[0m\u001b[1;33m\u001b[0m\u001b[1;33m\u001b[0m\u001b[0m\n\u001b[1;32m--> 425\u001b[1;33m             \u001b[0mself\u001b[0m\u001b[1;33m.\u001b[0m\u001b[0merror_handler\u001b[0m\u001b[1;33m.\u001b[0m\u001b[0mcheck_response\u001b[0m\u001b[1;33m(\u001b[0m\u001b[0mresponse\u001b[0m\u001b[1;33m)\u001b[0m\u001b[1;33m\u001b[0m\u001b[1;33m\u001b[0m\u001b[0m\n\u001b[0m\u001b[0;32m    426\u001b[0m             response['value'] = self._unwrap_value(\n\u001b[0;32m    427\u001b[0m                 response.get('value', None))\n",
      "\u001b[1;32mc:\\Users\\User\\anaconda3\\lib\\site-packages\\selenium\\webdriver\\remote\\errorhandler.py\u001b[0m in \u001b[0;36mcheck_response\u001b[1;34m(self, response)\u001b[0m\n\u001b[0;32m    245\u001b[0m                 \u001b[0malert_text\u001b[0m \u001b[1;33m=\u001b[0m \u001b[0mvalue\u001b[0m\u001b[1;33m[\u001b[0m\u001b[1;34m'alert'\u001b[0m\u001b[1;33m]\u001b[0m\u001b[1;33m.\u001b[0m\u001b[0mget\u001b[0m\u001b[1;33m(\u001b[0m\u001b[1;34m'text'\u001b[0m\u001b[1;33m)\u001b[0m\u001b[1;33m\u001b[0m\u001b[1;33m\u001b[0m\u001b[0m\n\u001b[0;32m    246\u001b[0m             \u001b[1;32mraise\u001b[0m \u001b[0mexception_class\u001b[0m\u001b[1;33m(\u001b[0m\u001b[0mmessage\u001b[0m\u001b[1;33m,\u001b[0m \u001b[0mscreen\u001b[0m\u001b[1;33m,\u001b[0m \u001b[0mstacktrace\u001b[0m\u001b[1;33m,\u001b[0m \u001b[0malert_text\u001b[0m\u001b[1;33m)\u001b[0m  \u001b[1;31m# type: ignore[call-arg]  # mypy is not smart enough here\u001b[0m\u001b[1;33m\u001b[0m\u001b[1;33m\u001b[0m\u001b[0m\n\u001b[1;32m--> 247\u001b[1;33m         \u001b[1;32mraise\u001b[0m \u001b[0mexception_class\u001b[0m\u001b[1;33m(\u001b[0m\u001b[0mmessage\u001b[0m\u001b[1;33m,\u001b[0m \u001b[0mscreen\u001b[0m\u001b[1;33m,\u001b[0m \u001b[0mstacktrace\u001b[0m\u001b[1;33m)\u001b[0m\u001b[1;33m\u001b[0m\u001b[1;33m\u001b[0m\u001b[0m\n\u001b[0m\u001b[0;32m    248\u001b[0m \u001b[1;33m\u001b[0m\u001b[0m\n\u001b[0;32m    249\u001b[0m     \u001b[1;32mdef\u001b[0m \u001b[0m_value_or_default\u001b[0m\u001b[1;33m(\u001b[0m\u001b[0mself\u001b[0m\u001b[1;33m,\u001b[0m \u001b[0mobj\u001b[0m\u001b[1;33m:\u001b[0m \u001b[0mMapping\u001b[0m\u001b[1;33m[\u001b[0m\u001b[0m_KT\u001b[0m\u001b[1;33m,\u001b[0m \u001b[0m_VT\u001b[0m\u001b[1;33m]\u001b[0m\u001b[1;33m,\u001b[0m \u001b[0mkey\u001b[0m\u001b[1;33m:\u001b[0m \u001b[0m_KT\u001b[0m\u001b[1;33m,\u001b[0m \u001b[0mdefault\u001b[0m\u001b[1;33m:\u001b[0m \u001b[0m_VT\u001b[0m\u001b[1;33m)\u001b[0m \u001b[1;33m->\u001b[0m \u001b[0m_VT\u001b[0m\u001b[1;33m:\u001b[0m\u001b[1;33m\u001b[0m\u001b[1;33m\u001b[0m\u001b[0m\n",
      "\u001b[1;31mNoSuchElementException\u001b[0m: Message: no such element: Unable to locate element: {\"method\":\"css selector\",\"selector\":\"[id=\"info-strings\"]\"}\n  (Session info: chrome=102.0.5005.63)\nStacktrace:\nBacktrace:\n\tOrdinal0 [0x008ED953+2414931]\n\tOrdinal0 [0x0087F5E1+1963489]\n\tOrdinal0 [0x0076C6B8+837304]\n\tOrdinal0 [0x00799500+1021184]\n\tOrdinal0 [0x0079979B+1021851]\n\tOrdinal0 [0x007C6502+1205506]\n\tOrdinal0 [0x007B44E4+1131748]\n\tOrdinal0 [0x007C4812+1198098]\n\tOrdinal0 [0x007B42B6+1131190]\n\tOrdinal0 [0x0078E860+976992]\n\tOrdinal0 [0x0078F756+980822]\n\tGetHandleVerifier [0x00B5CC62+2510274]\n\tGetHandleVerifier [0x00B4F760+2455744]\n\tGetHandleVerifier [0x0097EABA+551962]\n\tGetHandleVerifier [0x0097D916+547446]\n\tOrdinal0 [0x00885F3B+1990459]\n\tOrdinal0 [0x0088A898+2009240]\n\tOrdinal0 [0x0088A985+2009477]\n\tOrdinal0 [0x00893AD1+2046673]\n\tBaseThreadInitThunk [0x75AAFA29+25]\n\tRtlGetAppContainerNamedObjectPath [0x77267A7E+286]\n\tRtlGetAppContainerNamedObjectPath [0x77267A4E+238]\n"
     ]
    }
   ],
   "source": [
    "warnings.filterwarnings(action='ignore')\n",
    "\n",
    "driver = webdriver.Chrome('C:\\chromedriver.exe')\n",
    "\n",
    "for keyword in keyword_list :\n",
    "\n",
    "    # 키워드를 검색한 유튜브 주소 접속\n",
    "    url = 'https://www.youtube.com/results?search_query={}'.format(keyword)\n",
    "    driver.get(url)\n",
    "\n",
    "    #사이트 최대화\n",
    "    driver.maximize_window()\n",
    "\n",
    "    # 필터 클릭\n",
    "    driver.find_element_by_xpath('/html/body/ytd-app/div/ytd-page-manager/ytd-search/div[1]/ytd-two-column-search-results-renderer/div/ytd-section-list-renderer/div[1]/div[2]/ytd-search-sub-menu-renderer/div[1]/div/ytd-toggle-button-renderer/a/tp-yt-paper-button').click()\n",
    "    time.sleep(1)\n",
    "\n",
    "    # 구분 -> 동영상 클릭\n",
    "    driver.find_element_by_xpath('/html/body/ytd-app/div/ytd-page-manager/ytd-search/div[1]/ytd-two-column-search-results-renderer/div/ytd-section-list-renderer/div[1]/div[2]/ytd-search-sub-menu-renderer/div[1]/iron-collapse/div/ytd-search-filter-group-renderer[2]/ytd-search-filter-renderer[1]/a/div/yt-formatted-string').click()\n",
    "\n",
    "    # 업로드 날짜 -> 올해 클릭\n",
    "    driver.find_element_by_xpath('/html/body/ytd-app/div[1]/ytd-page-manager/ytd-search/div[1]/ytd-two-column-search-results-renderer/div/ytd-section-list-renderer/div[1]/div[2]/ytd-search-sub-menu-renderer/div[1]/iron-collapse/div/ytd-search-filter-group-renderer[1]/ytd-search-filter-renderer[5]/a').click()\n",
    "\n",
    "\n",
    "    # 스크롤 다운 50번 실행\n",
    "    body = driver.find_element_by_tag_name('body')\n",
    "    body.send_keys(Keys.PAGE_DOWN)\n",
    "\n",
    "    for i in range(1,50):\n",
    "        body.send_keys(Keys.PAGE_DOWN)\n",
    "        time.sleep(1)\n",
    "\n",
    "    soup = BeautifulSoup(driver.page_source, 'html.parser')\n",
    "    name = soup.select('a#video-title')\n",
    "    video_url = soup.select('a#video-title')\n",
    "\n",
    "    video_num_list = [] #영상번호\n",
    "    name_list = [] #영상제목\n",
    "    url_list = [] #영상주소\n",
    "\n",
    "    for i in range(len(name)):\n",
    "        video_num_list.append(i+1)\n",
    "        name_list.append(name[i].text.strip())\n",
    "\n",
    "    for i in video_url:\n",
    "        url_list.append('{}{}'.format('https://www.youtube.com',i.get('href')))\n",
    "\n",
    "    print(keyword, '영상 개수: ', len(name_list))\n",
    "\n",
    "    # 업로드일 & 해시태그 가져오기\n",
    "    day_list = [] #업로드일\n",
    "    hashtag_list = [] #해시태그\n",
    "\n",
    "    for i in range(0,len(name_list)):\n",
    "\n",
    "        print(i+1, end=' ')\n",
    "        \n",
    "        if url_list[i].split('/')[3] == 'shorts':  #쇼츠\n",
    "\n",
    "            html_source = driver.page_source\n",
    "            soup = BeautifulSoup(html_source, 'html.parser')\n",
    "            \n",
    "            driver.get(url_list[i])\n",
    "\n",
    "            time.sleep(2)\n",
    "\n",
    "            #더보기 클릭\n",
    "            driver.find_element_by_xpath('/html/body/ytd-app/div[1]/ytd-page-manager/ytd-shorts/div[1]/ytd-reel-video-renderer[1]/div[2]/ytd-reel-player-overlay-renderer/div[2]/div[1]/ytd-menu-renderer/yt-icon-button/button/yt-icon').click()\n",
    "            time.sleep(2)\n",
    "\n",
    "            #설명 클릭\n",
    "            driver.find_element_by_xpath('/html/body/ytd-app/ytd-popup-container/tp-yt-iron-dropdown/div/ytd-menu-popup-renderer/tp-yt-paper-listbox/ytd-menu-service-item-renderer/tp-yt-paper-item').click()\n",
    "            time.sleep(2)\n",
    "\n",
    "            #업로드일 정보 가져오기\n",
    "            day = driver.find_element_by_id(\"publish-time\").text.split(':')[1].strip()\n",
    "            day_list.append(day)\n",
    "\n",
    "            time.sleep(2) \n",
    "\n",
    "            # 해시태그 가져오기\n",
    "            outline_test = driver.find_element_by_class_name(\"style-scope ytd-reel-description-sheet-renderer\").text\n",
    "            get_hashtag(outline_test)\n",
    "\n",
    "        else :\n",
    "\n",
    "            driver.get(url_list[i])\n",
    "                \n",
    "            time.sleep(2)    \n",
    "\n",
    "            html_source = driver.page_source\n",
    "            soup = BeautifulSoup(html_source, 'html.parser')\n",
    "\n",
    "            time.sleep(3)  \n",
    "\n",
    "            #업로드일 정보 가져오기\n",
    "            #day = soup.select('#formatted-snippet-text > span:nth-child(3)')[0].text\n",
    "            day = driver.find_element_by_id(\"info-strings\").text.split('\\n')[0]\n",
    "            day_list.append(day)\n",
    "\n",
    "            if day == \"\" :\n",
    "                print('error in getting day')\n",
    "                break\n",
    "\n",
    "            time.sleep(2) \n",
    "\n",
    "            # 해시태그 가져오기\n",
    "            outline_test = soup.find(\"yt-formatted-string\", {\"class\":\"content style-scope ytd-video-secondary-info-renderer\"}).text    \n",
    "            get_hashtag(outline_test)\n",
    "\n",
    "    print('끝')\n",
    "\n",
    "    day_list2 = [] #전처리 후 업로드일\n",
    "\n",
    "    #업로드일 날짜형식으로 통일화\n",
    "    for day in day_list : \n",
    "        day = day.replace('.', '')\n",
    "        day = day.replace('최초 공개: ', '')\n",
    "        day = day.replace('실시간 스트리밍 시작일: ', '')\n",
    "        day = day.replace(' ', '-')\n",
    "        day_list2.append(day)\n",
    "\n",
    "    #df화\n",
    "    youtubeDic = {\n",
    "        '제목': name_list,\n",
    "        '업로드일': day_list2,\n",
    "        '주소': url_list,\n",
    "        '해시태그' : hashtag_list\n",
    "    }\n",
    "\n",
    "    youtubeDf = pd.DataFrame(youtubeDic)\n",
    "\n",
    "    # datetime 타입으로 변환\n",
    "    youtubeDf['업로드일'] = pd.to_datetime(youtubeDf['업로드일'])\n",
    "\n",
    "    # 중복값제거\n",
    "    youtubeDf = youtubeDf.drop_duplicates(['주소'], keep='first')\n",
    "\n",
    "    print(youtubeDf.tail())\n",
    "\n",
    "\n",
    "    #postgresql 접속\n",
    "    conn_string = \"host='localhost' dbname='postgres' user='postgres' password='admin'\"\n",
    "    conn = psycopg2.connect(conn_string)\n",
    "    cur = conn.cursor()\n",
    "\n",
    "    table = 'yt_books'\n",
    "\n",
    "    #table에 데이터 넣기\n",
    "    for i in range(len(youtubeDf)) :\n",
    "        cur.execute(insert_command(table), (youtubeDf.iloc[i][0], youtubeDf.iloc[i][1], youtubeDf.iloc[i][2], youtubeDf.iloc[i][3]))\n",
    "        conn.commit()\n",
    "\n",
    "    #db 연결 종료\n",
    "    conn.cursor().close()\n",
    "    conn.close()\n",
    "    "
   ]
  },
  {
   "cell_type": "code",
   "execution_count": 8,
   "metadata": {},
   "outputs": [
    {
     "name": "stdout",
     "output_type": "stream",
     "text": [
      "0 2022. 5. 9. / 1 2021. 7. 22. / 2 2022. 2. 8. / 3 2021. 9. 10. / 4 최초 공개: 2022. 4. 7. / 5 2021. 11. 28. / 6 2021. 8. 25. / 7 2021. 7. 13. / 8 2022. 3. 12. / 9 2021. 10. 3. / 10 2022. 5. 27. / 11 2021. 6. 28. / 12 2021. 11. 23. / 13 2021. 7. 4. / 14 2021. 10. 15. / 15 2021. 9. 18. / 16 2022. 2. 13. / 17 2022. 1. 7. / 18 스트리밍 시작: 40분 전 / 19 2022. 5. 29. / 20 2022. 2. 4. / 21 최초 공개: 2022. 4. 1. / 22 2021. 12. 29. / 23 2022. 5. 23. / 24 최초 공개: 2021. 7. 4. / 25 2021. 10. 24. / 26 2021. 11. 4. / 27 2022. 4. 7. / 28 2022. 1. 2. / 29 2022. 2. 20. / 30 2022. 2. 6. / 31 2021. 6. 11. / 32 최초 공개: 2021. 7. 2. / 33 2021. 8. 19. / 34 2022. 2. 23. / 35 2021. 12. 16. / 36 2021. 6. 20. / 37 2021. 9. 5. / 38 2021. 11. 11. / 39 2022. 3. 29. / 40 2021. 8. 5. / 41 2021. 8. 30. / 42 2022. 3. 30. / 43 최초 공개: 2022. 4. 27. / 44 2021. 10. 17. / 45 2021. 12. 2. / 46 2021. 9. 14. / 47 2022. 5. 17. / 48 2021. 7. 22. / 49 2022. 5. 21. / 50 2021. 8. 27. / 51 2021. 7. 25. / 52 2021. 10. 3. / 53 2022. 3. 6. / 54 2022. 3. 8. / 55 2021. 8. 29. / 56 2021. 10. 23. / 57 2021. 7. 3. / 58 최초 공개: 2021. 10. 25. / 59 2021. 7. 12. / 60 2022. 2. 24. / 61 2021. 12. 11. / 62 2021. 11. 25. / 63 2021. 8. 17. / 64 2021. 6. 25. / 65 2021. 9. 19. / 66 2021. 7. 13. / 67 2022. 2. 27. / 68 2021. 6. 24. / 69 2021. 10. 28. / 70 최초 공개: 2022. 4. 8. / 71 2021. 8. 14. / 72 2021. 8. 19. / 73 2022. 1. 27. / 74 2022. 4. 10. / 75 2022. 1. 30. / 76 2021. 8. 2. / 77 2021. 9. 11. / 78 2021. 8. 24. / 79 2022. 4. 25. / 80 2022. 1. 6. / 81 최초 공개: 2021. 10. 1. / 82 2022. 3. 3. / 83 2022. 2. 4. / 84 2021. 9. 18. / 85 2022. 1. 5. / 86 2022. 2. 3. / 87 2021. 9. 28. / 88 2021. 9. 3. / 89 2021. 9. 6. / 90 2022. 2. 15. / 91 2022. 2. 17. / 92 최초 공개: 2021. 8. 6. / 93 2021. 9. 12. / 94 2021. 7. 1. / 95 2022. 4. 5. / 96 최초 공개: 2021. 12. 3. / 97 2021. 8. 27. / 98 2021. 12. 26. / 99 최초 공개: 2021. 9. 3. / 100 2021. 6. 13. / 101 2021. 10. 25. / 102 2022. 5. 11. / 103 2021. 7. 2. / 104 2022. 6. 9. / 105 2021. 12. 8. / 106 2021. 6. 24. / 107 2021. 10. 1. / 108 2021. 9. 3. / 109 2021. 10. 24. / 110 2022. 5. 3. / 111 2021. 9. 30. / 112 2021. 7. 23. / 113 2022. 3. 5. / 114 2022. 1. 16. / 115 2021. 8. 24. / 116 2022. 2. 4. / 117 2021. 9. 2. / 118 2022. 2. 23. / 119 2022. 3. 30. / 120 최초 공개: 2022. 3. 4. / 121 2021. 6. 10. / 122 2021. 10. 14. / 123 2021. 6. 22. / 124 2022. 3. 31. / 125 2021. 8. 9. / 126 2021. 12. 28. / 127 2021. 8. 10. / 128 2021. 6. 21. / 129 2022. 3. 22. / 130 2022. 4. 19. / 131 2021. 11. 9. / 132 2021. 12. 26. / 133 2022. 2. 13. / 134 2022. 3. 2. / 135 2022. 3. 21. / 136 2022. 1. 1. / 137 2021. 10. 27. / 138 2022. 1. 16. / 139 2021. 10. 31. / 140 2021. 12. 28. / 141 2022. 3. 24. / 142 2021. 8. 24. / 143 2022. 1. 30. / 144 2022. 6. 5. / 145 2021. 7. 6. / 146 2022. 3. 15. / 147 2021. 12. 19. / 148 2021. 9. 16. / 149 2021. 11. 13. / 150 2021. 10. 21. / 151 2022. 5. 23. / 152 2022. 5. 25. / "
     ]
    }
   ],
   "source": [
    "for i in range(len(day_list)) :\n",
    "    print(i, day_list[i], end=' / ')\n",
    "\n",
    "day_list[18] = '2022-06-10'"
   ]
  },
  {
   "cell_type": "code",
   "execution_count": 32,
   "metadata": {},
   "outputs": [
    {
     "name": "stdout",
     "output_type": "stream",
     "text": [
      "                                                    제목       업로드일  \\\n",
      "144  지구를 지카자 프로젝트 11.26 아무것도 안사는날  필독서- 요셉의 작고 낡은 오... 2021-11-25   \n",
      "145                 [이트너스 북튜브] 2021년도 4분기 필독서 - 『일의 격』 2021-12-16   \n",
      "146                   4회)잊어 버렸던 만남4♡신앙인의 필독서,구속사 시리즈2권 2022-01-05   \n",
      "147   [이트너스 북튜브] 2021년도 4분기 필독서 - 『최고의 변화는 어떻게 만들어지는가』 2021-12-01   \n",
      "148                #마지막수업 #알퐁스도데 #초등필독서 #중등필독서 #세계명작단편 2022-01-12   \n",
      "\n",
      "                                              주소  \\\n",
      "144  https://www.youtube.com/watch?v=bOXD1J3KSZk   \n",
      "145  https://www.youtube.com/watch?v=2zcU3OGElN0   \n",
      "146  https://www.youtube.com/watch?v=2nDnPzqw8HY   \n",
      "147  https://www.youtube.com/watch?v=ok9ngTbH3Us   \n",
      "148  https://www.youtube.com/watch?v=_NQ_Gygsuhc   \n",
      "\n",
      "                                    해시태그  \n",
      "144                                       \n",
      "145                                       \n",
      "146                                       \n",
      "147                                       \n",
      "148  #마지막수업 #알퐁스도데 #초등필독서 #중등필독서 #세계명작단편  \n"
     ]
    }
   ],
   "source": [
    "day_list2 = [] #전처리 후 업로드일\n",
    "\n",
    "    #업로드일 날짜형식으로 통일화\n",
    "for day in day_list : \n",
    "    day = day.replace('.', '')\n",
    "    day = day.replace('최초 공개: ', '')\n",
    "    day = day.replace('최초 공개일: ', '')\n",
    "    day = day.replace('실시간 스트리밍 시작일: ', '')\n",
    "    day = day.replace(' ', '-')\n",
    "    day_list2.append(day)\n",
    "\n",
    "    #df화\n",
    "youtubeDic = {\n",
    "    '제목': name_list,\n",
    "    '업로드일': day_list2,\n",
    "    '주소': url_list,\n",
    "    '해시태그' : hashtag_list\n",
    "}\n",
    "\n",
    "youtubeDf = pd.DataFrame(youtubeDic)\n",
    "\n",
    "    # datetime 타입으로 변환\n",
    "youtubeDf['업로드일'] = pd.to_datetime(youtubeDf['업로드일'])\n",
    "\n",
    "    # 중복값제거\n",
    "youtubeDf = youtubeDf.drop_duplicates(['주소'], keep='first')\n",
    "\n",
    "print(youtubeDf.tail())\n",
    "\n",
    "\n",
    "    #postgresql 접속\n",
    "conn_string = \"host='localhost' dbname='postgres' user='postgres' password='admin'\"\n",
    "conn = psycopg2.connect(conn_string)\n",
    "cur = conn.cursor()\n",
    "\n",
    "table = 'yt_books'\n",
    "\n",
    "    #table에 데이터 넣기\n",
    "for i in range(len(youtubeDf)) :\n",
    "    cur.execute(insert_command(table), (youtubeDf.iloc[i][0], youtubeDf.iloc[i][1], youtubeDf.iloc[i][2], youtubeDf.iloc[i][3]))\n",
    "    conn.commit()\n",
    "\n",
    "    #db 연결 종료\n",
    "conn.cursor().close()\n",
    "conn.close()"
   ]
  },
  {
   "cell_type": "code",
   "execution_count": 31,
   "metadata": {},
   "outputs": [
    {
     "name": "stdout",
     "output_type": "stream",
     "text": [
      "0 12\n",
      "2 14\n",
      "3 26\n",
      "4 33\n",
      "13 40\n",
      "19 70\n",
      "24 85\n",
      "63 91\n",
      "68 112\n",
      "75 200\n",
      "96 356\n",
      "#기업분할 #인적분할 #물적분할 #주린이 #필독서 #주식투자자필독서 #삼성전자 #삼성바이오로직스 #삼성 #현대차 #카카오 #기아 #셀트리온 #현대모비스 #삼성물산 #카카오뱅크 #신한지주 #카카오페이 #셀트리온헬스케어 #에코프로비엠 #펄어비스 #엘앤에프 #카카오게임즈 #위메이드 #셀트리온제약 #씨젠 #천보 #리노공업 #스튜디오드래곤 #알테오젠 #에스티팜 #에코프로\n"
     ]
    }
   ],
   "source": [
    "#varchar(500) type에 안들어가면 실행\n",
    "b = 0\n",
    "\n",
    "for i in range(len(hashtag_list)) :\n",
    "    a = len(hashtag_list[i])\n",
    "\n",
    "    if a > b :\n",
    "        b = a\n",
    "        print(i, b)\n",
    "\n",
    "print(hashtag_list[141][:205])"
   ]
  },
  {
   "cell_type": "code",
   "execution_count": 30,
   "metadata": {},
   "outputs": [],
   "source": [
    "hashtag_list[132] = hashtag_list[132][:205]"
   ]
  },
  {
   "cell_type": "markdown",
   "metadata": {},
   "source": [
    "# #############여기까지만#############"
   ]
  },
  {
   "cell_type": "code",
   "execution_count": null,
   "metadata": {},
   "outputs": [],
   "source": [
    "#table 확인하기\n",
    "cur.execute(select_command(table))\n",
    "conn.commit()\n",
    "cur.fetchall()"
   ]
  },
  {
   "cell_type": "code",
   "execution_count": 65,
   "metadata": {},
   "outputs": [],
   "source": [
    "#db 연결 종료\n",
    "conn.cursor().close()\n",
    "conn.close()"
   ]
  },
  {
   "cell_type": "markdown",
   "metadata": {},
   "source": [
    "create table yt_clothes (\n",
    "\tid serial,\n",
    "\ttitle varchar(100),\n",
    "\tdate date,\n",
    "\turl varchar(200));"
   ]
  },
  {
   "cell_type": "markdown",
   "metadata": {},
   "source": []
  }
 ],
 "metadata": {
  "interpreter": {
   "hash": "f08154012ddadd8e950e6e9e035c7a7b32c136e7647e9b7c77e02eb723a8bedb"
  },
  "kernelspec": {
   "display_name": "Python 3.9.7 ('base')",
   "language": "python",
   "name": "python3"
  },
  "language_info": {
   "codemirror_mode": {
    "name": "ipython",
    "version": 3
   },
   "file_extension": ".py",
   "mimetype": "text/x-python",
   "name": "python",
   "nbconvert_exporter": "python",
   "pygments_lexer": "ipython3",
   "version": "3.9.7"
  },
  "orig_nbformat": 4
 },
 "nbformat": 4,
 "nbformat_minor": 2
}
