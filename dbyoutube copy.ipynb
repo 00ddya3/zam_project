{
 "cells": [
  {
   "cell_type": "markdown",
   "metadata": {},
   "source": [
    "# 유튜브 크롤링 후 DB 적재 자동화"
   ]
  },
  {
   "cell_type": "code",
   "execution_count": 3,
   "metadata": {},
   "outputs": [],
   "source": [
    "from selenium import webdriver\n",
    "from selenium.webdriver.common.keys import Keys\n",
    "from bs4 import BeautifulSoup\n",
    "import pandas as pd\n",
    "import time\n",
    "import warnings\n",
    "import psycopg2\n",
    "import re"
   ]
  },
  {
   "cell_type": "code",
   "execution_count": 4,
   "metadata": {},
   "outputs": [],
   "source": [
    "#스크롤 함수\n",
    "def scroll_down(driver):\n",
    "    driver.execute_script(\"window.scrollTo(0,6000);\")\n",
    "    time.sleep(2)\n",
    "\n",
    "# 해시태그 함수\n",
    "def get_hashtag(outline_test) :\n",
    "    # hash_tag가 안달려있는 영상이 있기때문에 오류 방지\n",
    "    try:\n",
    "        hash_tag = \" \".join(re.findall(\"#[가-힣]{1,}\", outline_test))\n",
    "        #print(hash_tag)\n",
    "        hashtag_list.append(hash_tag)\n",
    "            \n",
    "    except Exception as e:\n",
    "        hash_tag = \"\"\n",
    "        #print(hash_tag)\n",
    "        hashtag_list.append(hash_tag)\n",
    "\n",
    "#select문 만들기\n",
    "def select_command(table) :\n",
    "    command = 'select * from ' + table\n",
    "    return command\n",
    "\n",
    "#insert문 만들기\n",
    "def insert_command(table) :\n",
    "    command = 'insert into ' + table + ' (title, date, url, hashtag) values (%s, %s, %s, %s);'\n",
    "    return command"
   ]
  },
  {
   "cell_type": "markdown",
   "metadata": {},
   "source": [
    "뷔스티에 원피스, 롱패딩, 숏패딩, 롱코트, 숏코트, 잠옷, 홈웨어, 트위드자켓, 블레이저 자켓, 싱글 자켓, 크롭 자켓, 레더 자켓, 루즈핏, 테일러드 자켓, 린넨자켓, 반팔자켓, 라이더자켓, 오버핏자켓, 청자켓, 니트가디건, 볼레로, 아가일, 크롭가디건, 반팔가디건', '앙고라', '바람막이', '아노락', '윈드브레이커', '바시티자켓', '바시티점퍼', '야구점퍼', 후드집업, 투웨이집업, 여름아우터, 간절기아우터, 겨울아우터, 기모맨투맨, 니트맨투맨, 크롭 맨투맨', '남자 맨투맨', '반집업', 후드티, 남자후드, 꾸안꾸, 플리스, 반팔티, 크롭티, 블라우스, 와이셔츠, 셔츠, 체크셔츠, 타이다이, 옥스퍼드셔츠, 남방, 슬리브티, 니트, 남자니트, 조끼, '봄슬랙스', '여름슬랙스', '가을슬랙스', '겨울슬랙스', '간절기슬랙스', '데님팬츠', '연청', '진청', '중청', '흑청', '그레이진', '와이드팬츠', '밴딩바지', '스키니진', '린넨팬츠', '반바지', '하이웨스트', '로우웨스트', '부츠컷', '치노팬츠', '트레이닝복', '트레이닝바지', '조거팬츠', '카고바지', '일자팬츠', '냉장고바지', '멜빵바지', '오버롤팬츠', '찢청', '미니스커트', '미디스커트', '롱스커트', '플레어스커트', 'A라인 스커트', 'H라인 스커트', '청치마', '테니스스커트', '프릴스커트', '레더 스커트', '랩스커트', '데님스커트', '플리츠스커트', '미니원피스', '미디원피스', '롱원피스', '나시원피스', '코르셋', '셔츠원피스', '벨벳원피스', '꽃원피스', '골지원피스', '골지티', '쉬폰원피스', '쉬폰블라우스', '린넨원피스', '카라원피스', '랩원피스', '니트원피스', '후드원피스', '코듀로이', '반팔원피스', '점프슈트', '봄룩북', '봄옷쇼핑', '봄코디', '봄옷하울', '여름룩북', '여름옷쇼핑', '여름코디', '여름하울', '가을룩북', '가을옷쇼핑', '가을코디', '가을하울', '겨울룩북', '겨울옷쇼핑', '겨울코디', '겨울하울'"
   ]
  },
  {
   "cell_type": "markdown",
   "metadata": {},
   "source": [
    "keyword_list = ['블라인드', '롤스크린', '커튼', '러그', '카페트', '매트', '쿠션', '방석', '소파커버', '조명', 'led평판등', '천장등', '장스탠드', '단스탠드', '데스크스탠드', '무드등', '장식조명', '벽조명', '센서등', ]"
   ]
  },
  {
   "cell_type": "code",
   "execution_count": 1,
   "metadata": {},
   "outputs": [],
   "source": [
    "keyword_list = ['형광등', '집꾸미기', '방꾸미기', '인테리어']"
   ]
  },
  {
   "cell_type": "code",
   "execution_count": 7,
   "metadata": {},
   "outputs": [
    {
     "ename": "WebDriverException",
     "evalue": "Message: chrome not reachable\n  (Session info: chrome=102.0.5005.63)\nStacktrace:\nBacktrace:\n\tOrdinal0 [0x005FD953+2414931]\n\tOrdinal0 [0x0058F5E1+1963489]\n\tOrdinal0 [0x0047C580+836992]\n\tOrdinal0 [0x004701E2+786914]\n\tOrdinal0 [0x00470A18+789016]\n\tOrdinal0 [0x004722F2+795378]\n\tOrdinal0 [0x0046BCA9+769193]\n\tOrdinal0 [0x0047DA30+842288]\n\tOrdinal0 [0x004D3FF2+1196018]\n\tOrdinal0 [0x004C42B6+1131190]\n\tOrdinal0 [0x0049E860+976992]\n\tOrdinal0 [0x0049F756+980822]\n\tGetHandleVerifier [0x0086CC62+2510274]\n\tGetHandleVerifier [0x0085F760+2455744]\n\tGetHandleVerifier [0x0068EABA+551962]\n\tGetHandleVerifier [0x0068D916+547446]\n\tOrdinal0 [0x00595F3B+1990459]\n\tOrdinal0 [0x0059A898+2009240]\n\tOrdinal0 [0x0059A985+2009477]\n\tOrdinal0 [0x005A3AD1+2046673]\n\tBaseThreadInitThunk [0x77B5FA29+25]\n\tRtlGetAppContainerNamedObjectPath [0x77CA7A7E+286]\n\tRtlGetAppContainerNamedObjectPath [0x77CA7A4E+238]\n",
     "output_type": "error",
     "traceback": [
      "\u001b[1;31m---------------------------------------------------------------------------\u001b[0m",
      "\u001b[1;31mWebDriverException\u001b[0m                        Traceback (most recent call last)",
      "\u001b[1;32m~\\AppData\\Local\\Temp/ipykernel_2088/377547912.py\u001b[0m in \u001b[0;36m<module>\u001b[1;34m\u001b[0m\n\u001b[0;32m     28\u001b[0m \u001b[1;33m\u001b[0m\u001b[0m\n\u001b[0;32m     29\u001b[0m     \u001b[1;32mfor\u001b[0m \u001b[0mi\u001b[0m \u001b[1;32min\u001b[0m \u001b[0mrange\u001b[0m\u001b[1;33m(\u001b[0m\u001b[1;36m1\u001b[0m\u001b[1;33m,\u001b[0m\u001b[1;36m50\u001b[0m\u001b[1;33m)\u001b[0m\u001b[1;33m:\u001b[0m\u001b[1;33m\u001b[0m\u001b[1;33m\u001b[0m\u001b[0m\n\u001b[1;32m---> 30\u001b[1;33m         \u001b[0mbody\u001b[0m\u001b[1;33m.\u001b[0m\u001b[0msend_keys\u001b[0m\u001b[1;33m(\u001b[0m\u001b[0mKeys\u001b[0m\u001b[1;33m.\u001b[0m\u001b[0mPAGE_DOWN\u001b[0m\u001b[1;33m)\u001b[0m\u001b[1;33m\u001b[0m\u001b[1;33m\u001b[0m\u001b[0m\n\u001b[0m\u001b[0;32m     31\u001b[0m         \u001b[0mtime\u001b[0m\u001b[1;33m.\u001b[0m\u001b[0msleep\u001b[0m\u001b[1;33m(\u001b[0m\u001b[1;36m1\u001b[0m\u001b[1;33m)\u001b[0m\u001b[1;33m\u001b[0m\u001b[1;33m\u001b[0m\u001b[0m\n\u001b[0;32m     32\u001b[0m \u001b[1;33m\u001b[0m\u001b[0m\n",
      "\u001b[1;32mc:\\Users\\User\\anaconda3\\lib\\site-packages\\selenium\\webdriver\\remote\\webelement.py\u001b[0m in \u001b[0;36msend_keys\u001b[1;34m(self, *value)\u001b[0m\n\u001b[0;32m    538\u001b[0m                 \u001b[0mvalue\u001b[0m \u001b[1;33m=\u001b[0m \u001b[1;34m'\\n'\u001b[0m\u001b[1;33m.\u001b[0m\u001b[0mjoin\u001b[0m\u001b[1;33m(\u001b[0m\u001b[0mremote_files\u001b[0m\u001b[1;33m)\u001b[0m\u001b[1;33m\u001b[0m\u001b[1;33m\u001b[0m\u001b[0m\n\u001b[0;32m    539\u001b[0m \u001b[1;33m\u001b[0m\u001b[0m\n\u001b[1;32m--> 540\u001b[1;33m         self._execute(Command.SEND_KEYS_TO_ELEMENT,\n\u001b[0m\u001b[0;32m    541\u001b[0m                       {'text': \"\".join(keys_to_typing(value)),\n\u001b[0;32m    542\u001b[0m                        'value': keys_to_typing(value)})\n",
      "\u001b[1;32mc:\\Users\\User\\anaconda3\\lib\\site-packages\\selenium\\webdriver\\remote\\webelement.py\u001b[0m in \u001b[0;36m_execute\u001b[1;34m(self, command, params)\u001b[0m\n\u001b[0;32m    708\u001b[0m             \u001b[0mparams\u001b[0m \u001b[1;33m=\u001b[0m \u001b[1;33m{\u001b[0m\u001b[1;33m}\u001b[0m\u001b[1;33m\u001b[0m\u001b[1;33m\u001b[0m\u001b[0m\n\u001b[0;32m    709\u001b[0m         \u001b[0mparams\u001b[0m\u001b[1;33m[\u001b[0m\u001b[1;34m'id'\u001b[0m\u001b[1;33m]\u001b[0m \u001b[1;33m=\u001b[0m \u001b[0mself\u001b[0m\u001b[1;33m.\u001b[0m\u001b[0m_id\u001b[0m\u001b[1;33m\u001b[0m\u001b[1;33m\u001b[0m\u001b[0m\n\u001b[1;32m--> 710\u001b[1;33m         \u001b[1;32mreturn\u001b[0m \u001b[0mself\u001b[0m\u001b[1;33m.\u001b[0m\u001b[0m_parent\u001b[0m\u001b[1;33m.\u001b[0m\u001b[0mexecute\u001b[0m\u001b[1;33m(\u001b[0m\u001b[0mcommand\u001b[0m\u001b[1;33m,\u001b[0m \u001b[0mparams\u001b[0m\u001b[1;33m)\u001b[0m\u001b[1;33m\u001b[0m\u001b[1;33m\u001b[0m\u001b[0m\n\u001b[0m\u001b[0;32m    711\u001b[0m \u001b[1;33m\u001b[0m\u001b[0m\n\u001b[0;32m    712\u001b[0m     \u001b[1;32mdef\u001b[0m \u001b[0mfind_element\u001b[0m\u001b[1;33m(\u001b[0m\u001b[0mself\u001b[0m\u001b[1;33m,\u001b[0m \u001b[0mby\u001b[0m\u001b[1;33m=\u001b[0m\u001b[0mBy\u001b[0m\u001b[1;33m.\u001b[0m\u001b[0mID\u001b[0m\u001b[1;33m,\u001b[0m \u001b[0mvalue\u001b[0m\u001b[1;33m=\u001b[0m\u001b[1;32mNone\u001b[0m\u001b[1;33m)\u001b[0m\u001b[1;33m:\u001b[0m\u001b[1;33m\u001b[0m\u001b[1;33m\u001b[0m\u001b[0m\n",
      "\u001b[1;32mc:\\Users\\User\\anaconda3\\lib\\site-packages\\selenium\\webdriver\\remote\\webdriver.py\u001b[0m in \u001b[0;36mexecute\u001b[1;34m(self, driver_command, params)\u001b[0m\n\u001b[0;32m    423\u001b[0m         \u001b[0mresponse\u001b[0m \u001b[1;33m=\u001b[0m \u001b[0mself\u001b[0m\u001b[1;33m.\u001b[0m\u001b[0mcommand_executor\u001b[0m\u001b[1;33m.\u001b[0m\u001b[0mexecute\u001b[0m\u001b[1;33m(\u001b[0m\u001b[0mdriver_command\u001b[0m\u001b[1;33m,\u001b[0m \u001b[0mparams\u001b[0m\u001b[1;33m)\u001b[0m\u001b[1;33m\u001b[0m\u001b[1;33m\u001b[0m\u001b[0m\n\u001b[0;32m    424\u001b[0m         \u001b[1;32mif\u001b[0m \u001b[0mresponse\u001b[0m\u001b[1;33m:\u001b[0m\u001b[1;33m\u001b[0m\u001b[1;33m\u001b[0m\u001b[0m\n\u001b[1;32m--> 425\u001b[1;33m             \u001b[0mself\u001b[0m\u001b[1;33m.\u001b[0m\u001b[0merror_handler\u001b[0m\u001b[1;33m.\u001b[0m\u001b[0mcheck_response\u001b[0m\u001b[1;33m(\u001b[0m\u001b[0mresponse\u001b[0m\u001b[1;33m)\u001b[0m\u001b[1;33m\u001b[0m\u001b[1;33m\u001b[0m\u001b[0m\n\u001b[0m\u001b[0;32m    426\u001b[0m             response['value'] = self._unwrap_value(\n\u001b[0;32m    427\u001b[0m                 response.get('value', None))\n",
      "\u001b[1;32mc:\\Users\\User\\anaconda3\\lib\\site-packages\\selenium\\webdriver\\remote\\errorhandler.py\u001b[0m in \u001b[0;36mcheck_response\u001b[1;34m(self, response)\u001b[0m\n\u001b[0;32m    245\u001b[0m                 \u001b[0malert_text\u001b[0m \u001b[1;33m=\u001b[0m \u001b[0mvalue\u001b[0m\u001b[1;33m[\u001b[0m\u001b[1;34m'alert'\u001b[0m\u001b[1;33m]\u001b[0m\u001b[1;33m.\u001b[0m\u001b[0mget\u001b[0m\u001b[1;33m(\u001b[0m\u001b[1;34m'text'\u001b[0m\u001b[1;33m)\u001b[0m\u001b[1;33m\u001b[0m\u001b[1;33m\u001b[0m\u001b[0m\n\u001b[0;32m    246\u001b[0m             \u001b[1;32mraise\u001b[0m \u001b[0mexception_class\u001b[0m\u001b[1;33m(\u001b[0m\u001b[0mmessage\u001b[0m\u001b[1;33m,\u001b[0m \u001b[0mscreen\u001b[0m\u001b[1;33m,\u001b[0m \u001b[0mstacktrace\u001b[0m\u001b[1;33m,\u001b[0m \u001b[0malert_text\u001b[0m\u001b[1;33m)\u001b[0m  \u001b[1;31m# type: ignore[call-arg]  # mypy is not smart enough here\u001b[0m\u001b[1;33m\u001b[0m\u001b[1;33m\u001b[0m\u001b[0m\n\u001b[1;32m--> 247\u001b[1;33m         \u001b[1;32mraise\u001b[0m \u001b[0mexception_class\u001b[0m\u001b[1;33m(\u001b[0m\u001b[0mmessage\u001b[0m\u001b[1;33m,\u001b[0m \u001b[0mscreen\u001b[0m\u001b[1;33m,\u001b[0m \u001b[0mstacktrace\u001b[0m\u001b[1;33m)\u001b[0m\u001b[1;33m\u001b[0m\u001b[1;33m\u001b[0m\u001b[0m\n\u001b[0m\u001b[0;32m    248\u001b[0m \u001b[1;33m\u001b[0m\u001b[0m\n\u001b[0;32m    249\u001b[0m     \u001b[1;32mdef\u001b[0m \u001b[0m_value_or_default\u001b[0m\u001b[1;33m(\u001b[0m\u001b[0mself\u001b[0m\u001b[1;33m,\u001b[0m \u001b[0mobj\u001b[0m\u001b[1;33m:\u001b[0m \u001b[0mMapping\u001b[0m\u001b[1;33m[\u001b[0m\u001b[0m_KT\u001b[0m\u001b[1;33m,\u001b[0m \u001b[0m_VT\u001b[0m\u001b[1;33m]\u001b[0m\u001b[1;33m,\u001b[0m \u001b[0mkey\u001b[0m\u001b[1;33m:\u001b[0m \u001b[0m_KT\u001b[0m\u001b[1;33m,\u001b[0m \u001b[0mdefault\u001b[0m\u001b[1;33m:\u001b[0m \u001b[0m_VT\u001b[0m\u001b[1;33m)\u001b[0m \u001b[1;33m->\u001b[0m \u001b[0m_VT\u001b[0m\u001b[1;33m:\u001b[0m\u001b[1;33m\u001b[0m\u001b[1;33m\u001b[0m\u001b[0m\n",
      "\u001b[1;31mWebDriverException\u001b[0m: Message: chrome not reachable\n  (Session info: chrome=102.0.5005.63)\nStacktrace:\nBacktrace:\n\tOrdinal0 [0x005FD953+2414931]\n\tOrdinal0 [0x0058F5E1+1963489]\n\tOrdinal0 [0x0047C580+836992]\n\tOrdinal0 [0x004701E2+786914]\n\tOrdinal0 [0x00470A18+789016]\n\tOrdinal0 [0x004722F2+795378]\n\tOrdinal0 [0x0046BCA9+769193]\n\tOrdinal0 [0x0047DA30+842288]\n\tOrdinal0 [0x004D3FF2+1196018]\n\tOrdinal0 [0x004C42B6+1131190]\n\tOrdinal0 [0x0049E860+976992]\n\tOrdinal0 [0x0049F756+980822]\n\tGetHandleVerifier [0x0086CC62+2510274]\n\tGetHandleVerifier [0x0085F760+2455744]\n\tGetHandleVerifier [0x0068EABA+551962]\n\tGetHandleVerifier [0x0068D916+547446]\n\tOrdinal0 [0x00595F3B+1990459]\n\tOrdinal0 [0x0059A898+2009240]\n\tOrdinal0 [0x0059A985+2009477]\n\tOrdinal0 [0x005A3AD1+2046673]\n\tBaseThreadInitThunk [0x77B5FA29+25]\n\tRtlGetAppContainerNamedObjectPath [0x77CA7A7E+286]\n\tRtlGetAppContainerNamedObjectPath [0x77CA7A4E+238]\n"
     ]
    }
   ],
   "source": [
    "warnings.filterwarnings(action='ignore')\n",
    "\n",
    "driver = webdriver.Chrome('C:\\chromedriver.exe')\n",
    "\n",
    "for keyword in keyword_list :\n",
    "\n",
    "    # 키워드를 검색한 유튜브 주소 접속\n",
    "    url = 'https://www.youtube.com/results?search_query={}'.format(keyword)\n",
    "    driver.get(url)\n",
    "\n",
    "    #사이트 최대화\n",
    "    driver.maximize_window()\n",
    "\n",
    "    # 필터 클릭\n",
    "    driver.find_element_by_xpath('/html/body/ytd-app/div/ytd-page-manager/ytd-search/div[1]/ytd-two-column-search-results-renderer/div/ytd-section-list-renderer/div[1]/div[2]/ytd-search-sub-menu-renderer/div[1]/div/ytd-toggle-button-renderer/a/tp-yt-paper-button').click()\n",
    "    time.sleep(1)\n",
    "\n",
    "    # 구분 -> 동영상 클릭\n",
    "    driver.find_element_by_xpath('/html/body/ytd-app/div/ytd-page-manager/ytd-search/div[1]/ytd-two-column-search-results-renderer/div/ytd-section-list-renderer/div[1]/div[2]/ytd-search-sub-menu-renderer/div[1]/iron-collapse/div/ytd-search-filter-group-renderer[2]/ytd-search-filter-renderer[1]/a/div/yt-formatted-string').click()\n",
    "\n",
    "    # 업로드 날짜 -> 올해 클릭\n",
    "    driver.find_element_by_xpath('/html/body/ytd-app/div[1]/ytd-page-manager/ytd-search/div[1]/ytd-two-column-search-results-renderer/div/ytd-section-list-renderer/div[1]/div[2]/ytd-search-sub-menu-renderer/div[1]/iron-collapse/div/ytd-search-filter-group-renderer[1]/ytd-search-filter-renderer[5]/a').click()\n",
    "\n",
    "\n",
    "    # 스크롤 다운 50번 실행\n",
    "    body = driver.find_element_by_tag_name('body')\n",
    "    body.send_keys(Keys.PAGE_DOWN)\n",
    "\n",
    "    for i in range(1,50):\n",
    "        body.send_keys(Keys.PAGE_DOWN)\n",
    "        time.sleep(1)\n",
    "\n",
    "    soup = BeautifulSoup(driver.page_source, 'html.parser')\n",
    "    name = soup.select('a#video-title')\n",
    "    video_url = soup.select('a#video-title')\n",
    "\n",
    "    video_num_list = [] #영상번호\n",
    "    name_list = [] #영상제목\n",
    "    url_list = [] #영상주소\n",
    "\n",
    "    for i in range(len(name)):\n",
    "        video_num_list.append(i+1)\n",
    "        name_list.append(name[i].text.strip())\n",
    "\n",
    "    for i in video_url:\n",
    "        url_list.append('{}{}'.format('https://www.youtube.com',i.get('href')))\n",
    "\n",
    "    print(keyword, '영상 개수: ', len(name_list))\n",
    "\n",
    "    # 업로드일 & 해시태그 가져오기\n",
    "    day_list = [] #업로드일\n",
    "    hashtag_list = [] #해시태그\n",
    "\n",
    "    for i in range(0,len(name_list)):\n",
    "\n",
    "        print(i+1, end=' ')\n",
    "        \n",
    "        if url_list[i].split('/')[3] == 'shorts':  #쇼츠\n",
    "\n",
    "            html_source = driver.page_source\n",
    "            soup = BeautifulSoup(html_source, 'html.parser')\n",
    "            \n",
    "            driver.get(url_list[i])\n",
    "\n",
    "            time.sleep(2)\n",
    "\n",
    "            #더보기 클릭\n",
    "            driver.find_element_by_xpath('/html/body/ytd-app/div[1]/ytd-page-manager/ytd-shorts/div[1]/ytd-reel-video-renderer[1]/div[2]/ytd-reel-player-overlay-renderer/div[2]/div[1]/ytd-menu-renderer/yt-icon-button/button/yt-icon').click()\n",
    "            time.sleep(2)\n",
    "\n",
    "            #설명 클릭\n",
    "            driver.find_element_by_xpath('/html/body/ytd-app/ytd-popup-container/tp-yt-iron-dropdown/div/ytd-menu-popup-renderer/tp-yt-paper-listbox/ytd-menu-service-item-renderer/tp-yt-paper-item').click()\n",
    "            time.sleep(2)\n",
    "\n",
    "            #업로드일 정보 가져오기\n",
    "            day = driver.find_element_by_id(\"publish-time\").text.split(':')[1].strip()\n",
    "            day_list.append(day)\n",
    "\n",
    "            time.sleep(2) \n",
    "\n",
    "            # 해시태그 가져오기\n",
    "            outline_test = driver.find_element_by_class_name(\"style-scope ytd-reel-description-sheet-renderer\").text\n",
    "            get_hashtag(outline_test)\n",
    "\n",
    "        else :\n",
    "\n",
    "            driver.get(url_list[i])\n",
    "                \n",
    "            time.sleep(2)    \n",
    "\n",
    "            html_source = driver.page_source\n",
    "            soup = BeautifulSoup(html_source, 'html.parser')\n",
    "\n",
    "            time.sleep(2)  \n",
    "\n",
    "            #업로드일 정보 가져오기\n",
    "            #day = soup.select('#formatted-snippet-text > span:nth-child(3)')[0].text\n",
    "            day = driver.find_element_by_id(\"info-strings\").text.split('\\n')[0]\n",
    "            day_list.append(day)\n",
    "\n",
    "            if day == \"\" :\n",
    "                print('error in getting day')\n",
    "                break\n",
    "\n",
    "            time.sleep(2) \n",
    "\n",
    "            # 해시태그 가져오기\n",
    "            outline_test = soup.find(\"yt-formatted-string\", {\"class\":\"content style-scope ytd-video-secondary-info-renderer\"}).text    \n",
    "            get_hashtag(outline_test)\n",
    "\n",
    "    print('끝')\n",
    "\n",
    "    day_list2 = [] #전처리 후 업로드일\n",
    "\n",
    "    #업로드일 날짜형식으로 통일화\n",
    "    for day in day_list : \n",
    "        day = day.replace('.', '')\n",
    "        day = day.replace('최초 공개: ', '')\n",
    "        day = day.replace('실시간 스트리밍 시작일: ', '')\n",
    "        day = day.replace(' ', '-')\n",
    "        day_list2.append(day)\n",
    "\n",
    "    #df화\n",
    "    youtubeDic = {\n",
    "        '제목': name_list,\n",
    "        '업로드일': day_list2,\n",
    "        '주소': url_list,\n",
    "        '해시태그' : hashtag_list\n",
    "    }\n",
    "\n",
    "    youtubeDf = pd.DataFrame(youtubeDic)\n",
    "\n",
    "    # datetime 타입으로 변환\n",
    "    youtubeDf['업로드일'] = pd.to_datetime(youtubeDf['업로드일'])\n",
    "\n",
    "    # 중복값제거\n",
    "    youtubeDf = youtubeDf.drop_duplicates(['주소'], keep='first')\n",
    "\n",
    "    print(youtubeDf.tail())\n",
    "\n",
    "\n",
    "    #postgresql 접속\n",
    "    conn_string = \"host='localhost' dbname='postgres' user='postgres' password='admin'\"\n",
    "    conn = psycopg2.connect(conn_string)\n",
    "    cur = conn.cursor()\n",
    "\n",
    "    table = 'yt_interior'\n",
    "\n",
    "    #table에 데이터 넣기\n",
    "    for i in range(len(youtubeDf)) :\n",
    "        cur.execute(insert_command(table), (youtubeDf.iloc[i][0], youtubeDf.iloc[i][1], youtubeDf.iloc[i][2], youtubeDf.iloc[i][3]))\n",
    "        conn.commit()\n",
    "\n",
    "    #db 연결 종료\n",
    "    conn.cursor().close()\n",
    "    conn.close()\n",
    "    "
   ]
  },
  {
   "cell_type": "code",
   "execution_count": 53,
   "metadata": {},
   "outputs": [
    {
     "name": "stdout",
     "output_type": "stream",
     "text": [
      "                                                    제목       업로드일  \\\n",
      "132                                        멀티미니발판 땅꽂이용 2022-01-31   \n",
      "133                광고# 1분안에 스탠드조명 가성비 상품 추천순위 top10 정리 2022-04-29   \n",
      "134            버섯 독서등 책상 스탠드 엔틱 침실 침대 독서실 인테리어 단스탠드 조명 2021-09-25   \n",
      "135  2022년형 김치냉장고 비교 1탄 \"스탠드형, 뚜껑형 우리집에 맞는 김치냉장고?\" ... 2021-09-27   \n",
      "136  실내 정원을 위한 식물등을 추천합니다. 제가 제돈 주고 두 번이나 구매한 식물등은 ... 2021-10-11   \n",
      "\n",
      "                                              주소  \\\n",
      "132  https://www.youtube.com/watch?v=rkTjFDg8y-4   \n",
      "133  https://www.youtube.com/watch?v=Wx3HMceI-8c   \n",
      "134  https://www.youtube.com/watch?v=G6vsYcTuPT8   \n",
      "135  https://www.youtube.com/watch?v=u-_XQ272H5g   \n",
      "136  https://www.youtube.com/watch?v=ES_0Z5A9Ue4   \n",
      "\n",
      "                                                  해시태그  \n",
      "132                                                     \n",
      "133  #스피아노 #마켓비 #더숨 #코멧 #씨티오 #스피아노 #스피아노 #마켓비 #스피아노...  \n",
      "134                                                     \n",
      "135                              #김치냉장고비교 #전자랜드파워센터익산점  \n",
      "136                                                     \n"
     ]
    }
   ],
   "source": [
    "day_list2 = [] #전처리 후 업로드일\n",
    "\n",
    "    #업로드일 날짜형식으로 통일화\n",
    "for day in day_list : \n",
    "    day = day.replace('.', '')\n",
    "    day = day.replace('최초 공개: ', '')\n",
    "    day = day.replace('최초 공개일: ', '')\n",
    "    day = day.replace('실시간 스트리밍 시작일: ', '')\n",
    "    day = day.replace(' ', '-')\n",
    "    day_list2.append(day)\n",
    "\n",
    "    #df화\n",
    "youtubeDic = {\n",
    "    '제목': name_list,\n",
    "    '업로드일': day_list2,\n",
    "    '주소': url_list,\n",
    "    '해시태그' : hashtag_list\n",
    "}\n",
    "\n",
    "youtubeDf = pd.DataFrame(youtubeDic)\n",
    "\n",
    "    # datetime 타입으로 변환\n",
    "youtubeDf['업로드일'] = pd.to_datetime(youtubeDf['업로드일'])\n",
    "\n",
    "    # 중복값제거\n",
    "youtubeDf = youtubeDf.drop_duplicates(['주소'], keep='first')\n",
    "\n",
    "print(youtubeDf.tail())\n",
    "\n",
    "\n",
    "    #postgresql 접속\n",
    "conn_string = \"host='localhost' dbname='postgres' user='postgres' password='admin'\"\n",
    "conn = psycopg2.connect(conn_string)\n",
    "cur = conn.cursor()\n",
    "\n",
    "table = 'yt_interior'\n",
    "\n",
    "    #table에 데이터 넣기\n",
    "for i in range(len(youtubeDf)) :\n",
    "    cur.execute(insert_command(table), (youtubeDf.iloc[i][0], youtubeDf.iloc[i][1], youtubeDf.iloc[i][2], youtubeDf.iloc[i][3]))\n",
    "    conn.commit()\n",
    "\n",
    "    #db 연결 종료\n",
    "conn.cursor().close()\n",
    "conn.close()"
   ]
  },
  {
   "cell_type": "code",
   "execution_count": 14,
   "metadata": {},
   "outputs": [
    {
     "name": "stdout",
     "output_type": "stream",
     "text": [
      "4 88\n",
      "29 294\n",
      "84 521\n",
      "#옷만들기 #명품 #원피스 #홀터넥비키니수영복 #수영복코디 #수영복만들기 #여름코디 #올인원수영복 #명품 #수영 #홀터넥비키니수영복 #수영복코디 #수영복만들기 #여름코디 #데님반바지 #수영복 #청바지 #데님청수영복 #호피무늬 #비키니수영복 #랩스커트 #숄 #인싸템 #원피스리폼 #호피무늬수영복 #여름코디 #비키니룩북 #수영복리폼 #여름 #호피무늬코디 #수영복리폼 \n"
     ]
    }
   ],
   "source": [
    "#varchar(500) type에 안들어가면 실행\n",
    "b = 0\n",
    "\n",
    "for i in range(len(hashtag_list)) :\n",
    "    a = len(hashtag_list[i])\n",
    "\n",
    "    if a > b :\n",
    "        b = a\n",
    "        print(i, b)\n",
    "\n",
    "print(hashtag_list[84][:202])"
   ]
  },
  {
   "cell_type": "code",
   "execution_count": 478,
   "metadata": {},
   "outputs": [],
   "source": [
    "hashtag_list[112] = hashtag_list[112][:201]"
   ]
  },
  {
   "cell_type": "markdown",
   "metadata": {},
   "source": [
    "# #############여기까지만#############"
   ]
  },
  {
   "cell_type": "code",
   "execution_count": null,
   "metadata": {},
   "outputs": [],
   "source": [
    "#table 확인하기\n",
    "cur.execute(select_command(table))\n",
    "conn.commit()\n",
    "cur.fetchall()"
   ]
  },
  {
   "cell_type": "code",
   "execution_count": 65,
   "metadata": {},
   "outputs": [],
   "source": [
    "#db 연결 종료\n",
    "conn.cursor().close()\n",
    "conn.close()"
   ]
  },
  {
   "cell_type": "markdown",
   "metadata": {},
   "source": [
    "create table yt_clothes (\n",
    "\tid serial,\n",
    "\ttitle varchar(100),\n",
    "\tdate date,\n",
    "\turl varchar(200));"
   ]
  },
  {
   "cell_type": "markdown",
   "metadata": {},
   "source": []
  }
 ],
 "metadata": {
  "interpreter": {
   "hash": "f08154012ddadd8e950e6e9e035c7a7b32c136e7647e9b7c77e02eb723a8bedb"
  },
  "kernelspec": {
   "display_name": "Python 3.9.7 ('base')",
   "language": "python",
   "name": "python3"
  },
  "language_info": {
   "codemirror_mode": {
    "name": "ipython",
    "version": 3
   },
   "file_extension": ".py",
   "mimetype": "text/x-python",
   "name": "python",
   "nbconvert_exporter": "python",
   "pygments_lexer": "ipython3",
   "version": "3.9.7"
  },
  "orig_nbformat": 4
 },
 "nbformat": 4,
 "nbformat_minor": 2
}
