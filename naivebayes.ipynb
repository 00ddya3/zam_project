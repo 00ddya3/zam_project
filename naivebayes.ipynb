{
 "cells": [
  {
   "cell_type": "code",
   "execution_count": 1,
   "metadata": {},
   "outputs": [],
   "source": [
    "import psycopg2\n",
    "import pandas as pd\n",
    "import numpy as np\n",
    "from sklearn.feature_extraction.text import CountVectorizer\n",
    "from sklearn.feature_extraction.text import TfidfVectorizer\n",
    "from sklearn.model_selection import train_test_split\n",
    "from sklearn.naive_bayes import MultinomialNB\n",
    "from sklearn.metrics import classification_report\n",
    "import matplotlib.pyplot as plt\n",
    "from imblearn.over_sampling import RandomOverSampler"
   ]
  },
  {
   "cell_type": "code",
   "execution_count": 2,
   "metadata": {},
   "outputs": [],
   "source": [
    "#postgresql 접속\n",
    "conn_string = \"host='localhost' dbname='postgres' user='postgres' password='admin'\"\n",
    "conn = psycopg2.connect(conn_string)\n",
    "cur = conn.cursor()\n",
    "\n",
    "#데이터 가져오기\n",
    "cur.execute(\"select distinct title, date, url, hashtag from yt_clothes\")\n",
    "conn.commit()\n",
    "yy = cur.fetchall()\n",
    "\n",
    "#DF화\n",
    "yyy = pd.DataFrame(yy)\n",
    "yyy.columns = ['title', 'date', 'url', 'hashtag']\n",
    "\n",
    "#db 연결 종료\n",
    "conn.cursor().close()\n",
    "conn.close()"
   ]
  },
  {
   "cell_type": "code",
   "execution_count": 3,
   "metadata": {},
   "outputs": [
    {
     "name": "stdout",
     "output_type": "stream",
     "text": [
      "<class 'pandas.core.frame.DataFrame'>\n",
      "RangeIndex: 16596 entries, 0 to 16595\n",
      "Data columns (total 4 columns):\n",
      " #   Column   Non-Null Count  Dtype \n",
      "---  ------   --------------  ----- \n",
      " 0   title    16596 non-null  object\n",
      " 1   date     16596 non-null  object\n",
      " 2   url      16596 non-null  object\n",
      " 3   hashtag  16596 non-null  object\n",
      "dtypes: object(4)\n",
      "memory usage: 518.8+ KB\n"
     ]
    }
   ],
   "source": [
    "yyy.info()"
   ]
  },
  {
   "cell_type": "code",
   "execution_count": 4,
   "metadata": {},
   "outputs": [],
   "source": [
    "#yyy 데이터 20%만 샘플링\n",
    "yyy = yyy.sample(3200)\n",
    "\n",
    "#csv로 저장 후 class 열 눈코딩\n",
    "yyy.to_csv('./outputs/yt_clothes_sample.csv', encoding='utf-8-sig')"
   ]
  },
  {
   "cell_type": "code",
   "execution_count": 2,
   "metadata": {},
   "outputs": [
    {
     "data": {
      "text/html": [
       "<div>\n",
       "<style scoped>\n",
       "    .dataframe tbody tr th:only-of-type {\n",
       "        vertical-align: middle;\n",
       "    }\n",
       "\n",
       "    .dataframe tbody tr th {\n",
       "        vertical-align: top;\n",
       "    }\n",
       "\n",
       "    .dataframe thead th {\n",
       "        text-align: right;\n",
       "    }\n",
       "</style>\n",
       "<table border=\"1\" class=\"dataframe\">\n",
       "  <thead>\n",
       "    <tr style=\"text-align: right;\">\n",
       "      <th></th>\n",
       "      <th>title</th>\n",
       "      <th>date</th>\n",
       "      <th>url</th>\n",
       "      <th>hashtag</th>\n",
       "      <th>class</th>\n",
       "    </tr>\n",
       "  </thead>\n",
       "  <tbody>\n",
       "    <tr>\n",
       "      <th>0</th>\n",
       "      <td>행복여 | 블록 레터링 루즈핏 봄 맨투맨 티셔츠 | 15,600원 | 라이브방송 |...</td>\n",
       "      <td>2022-03-21</td>\n",
       "      <td>https://www.youtube.com/shorts/jdIctLzCWxA</td>\n",
       "      <td>NaN</td>\n",
       "      <td>1</td>\n",
       "    </tr>\n",
       "    <tr>\n",
       "      <th>1</th>\n",
       "      <td>FALL LOOKBOOK / 03년생 / 모자추천 / 가을룩북 ㅇㅈㄹ</td>\n",
       "      <td>2021-09-21</td>\n",
       "      <td>https://www.youtube.com/watch?v=EOTGHHoRp2w</td>\n",
       "      <td>NaN</td>\n",
       "      <td>1</td>\n",
       "    </tr>\n",
       "    <tr>\n",
       "      <th>2</th>\n",
       "      <td>존.예 겨울 원피스 하울~♥? 이쁘고 편한것만 골라와쏘?? (연말룩,하객룩,겨울코디)</td>\n",
       "      <td>2021-11-28</td>\n",
       "      <td>https://www.youtube.com/watch?v=DgZa_ttSqY8</td>\n",
       "      <td>#원피스하울 #겨울원피스 #겨울패션하울</td>\n",
       "      <td>1</td>\n",
       "    </tr>\n",
       "    <tr>\n",
       "      <th>3</th>\n",
       "      <td>가디건 이것만 알면 끝! - 가격대별 필수 가디건 추천 [코스/엘무드/일꼬르소/네이...</td>\n",
       "      <td>2022-03-17</td>\n",
       "      <td>https://www.youtube.com/watch?v=mpQEPl0qTiU</td>\n",
       "      <td>NaN</td>\n",
       "      <td>1</td>\n",
       "    </tr>\n",
       "    <tr>\n",
       "      <th>4</th>\n",
       "      <td>15분 초간단? 꾸안꾸 데일리 메이크업+스킨케어??</td>\n",
       "      <td>2022-02-05</td>\n",
       "      <td>https://www.youtube.com/watch?v=dNIHZPYP45A</td>\n",
       "      <td>#왕초보메이크업 #데일리메이크업 #화장잘먹는법</td>\n",
       "      <td>0</td>\n",
       "    </tr>\n",
       "  </tbody>\n",
       "</table>\n",
       "</div>"
      ],
      "text/plain": [
       "                                               title        date  \\\n",
       "0  행복여 | 블록 레터링 루즈핏 봄 맨투맨 티셔츠 | 15,600원 | 라이브방송 |...  2022-03-21   \n",
       "1             FALL LOOKBOOK / 03년생 / 모자추천 / 가을룩북 ㅇㅈㄹ  2021-09-21   \n",
       "2    존.예 겨울 원피스 하울~♥? 이쁘고 편한것만 골라와쏘?? (연말룩,하객룩,겨울코디)  2021-11-28   \n",
       "3  가디건 이것만 알면 끝! - 가격대별 필수 가디건 추천 [코스/엘무드/일꼬르소/네이...  2022-03-17   \n",
       "4                       15분 초간단? 꾸안꾸 데일리 메이크업+스킨케어??  2022-02-05   \n",
       "\n",
       "                                           url                    hashtag  \\\n",
       "0   https://www.youtube.com/shorts/jdIctLzCWxA                        NaN   \n",
       "1  https://www.youtube.com/watch?v=EOTGHHoRp2w                        NaN   \n",
       "2  https://www.youtube.com/watch?v=DgZa_ttSqY8      #원피스하울 #겨울원피스 #겨울패션하울   \n",
       "3  https://www.youtube.com/watch?v=mpQEPl0qTiU                        NaN   \n",
       "4  https://www.youtube.com/watch?v=dNIHZPYP45A  #왕초보메이크업 #데일리메이크업 #화장잘먹는법   \n",
       "\n",
       "   class  \n",
       "0      1  \n",
       "1      1  \n",
       "2      1  \n",
       "3      1  \n",
       "4      0  "
      ]
     },
     "execution_count": 2,
     "metadata": {},
     "output_type": "execute_result"
    }
   ],
   "source": [
    "# class 추가된 데이터 가져오기\n",
    "df = pd.read_csv('./outputs/yt_clothes_class.csv', encoding='cp949')\n",
    "df.drop(['Unnamed: 0'], axis=1, inplace=True)\n",
    "df.head()"
   ]
  },
  {
   "cell_type": "code",
   "execution_count": 101,
   "metadata": {},
   "outputs": [
    {
     "data": {
      "text/plain": [
       "(array([ 289.,    0.,    0.,    0.,    0.,    0.,    0.,    0.,    0.,\n",
       "        2911.]),\n",
       " array([0. , 0.1, 0.2, 0.3, 0.4, 0.5, 0.6, 0.7, 0.8, 0.9, 1. ]),\n",
       " <BarContainer object of 10 artists>)"
      ]
     },
     "execution_count": 101,
     "metadata": {},
     "output_type": "execute_result"
    },
    {
     "data": {
      "image/png": "[encoded data removed]",
      "text/plain": [
       "<Figure size 432x288 with 1 Axes>"
      ]
     },
     "metadata": {
      "needs_background": "light"
     },
     "output_type": "display_data"
    }
   ],
   "source": [
    "plt.hist(df['class'])"
   ]
  },
  {
   "cell_type": "code",
   "execution_count": 3,
   "metadata": {},
   "outputs": [],
   "source": [
    "# 영향을 주지 않는 열 지우기\n",
    "dff = df.drop(['date', 'url'], axis=1)\n",
    "\n",
    "# 해시태그가 없는 열은 공백으로 채우기\n",
    "dff = dff.fillna('')\n",
    "\n",
    "# 종속변수, 독립변수 분리\n",
    "dff_x = dff['title']\n",
    "dff_y = dff['class']"
   ]
  },
  {
   "cell_type": "code",
   "execution_count": 4,
   "metadata": {},
   "outputs": [],
   "source": [
    "# 데이터셋 분리\n",
    "X_train, X_test, y_train, y_test = train_test_split(dff_x, dff_y, test_size=0.3, random_state=25)\n",
    "\n",
    "# 훈련 데이터 오버샘플링\n",
    "oversample = RandomOverSampler(sampling_strategy='minority')\n",
    "\n",
    "#샘플러에 들어가기 위해 array 타입으로 바꾸기\n",
    "X_np_train = np.array(X_train) \n",
    "X_np_train = np.reshape(X_np_train, (len(X_train), 1))\n",
    "y_np_train = np.array(y_train)\n",
    "\n",
    "# resample\n",
    "X_sample_train, y_sample_train = oversample.fit_resample(X_np_train, y_np_train)\n",
    "\n",
    "# 다시 시리즈 형태로 만들어주기\n",
    "X_list_train = X_sample_train.tolist() # type(X_list_train[0]) : list\n",
    "X_train = []\n",
    "for i in range(len(X_list_train)) :\n",
    "    X_train.append(X_list_train[i][0])\n",
    "X_train = pd.Series(X_train)\n",
    "#X_train = list(chain.from_iterable(X_train))\n",
    "y_train = pd.Series(y_sample_train.tolist())"
   ]
  },
  {
   "cell_type": "code",
   "execution_count": 86,
   "metadata": {},
   "outputs": [
    {
     "name": "stdout",
     "output_type": "stream",
     "text": [
      "4048 4048 960 960\n"
     ]
    }
   ],
   "source": [
    "print(len(X_train), len(y_train), len(X_test), len(y_test))"
   ]
  },
  {
   "cell_type": "code",
   "execution_count": 5,
   "metadata": {},
   "outputs": [],
   "source": [
    "X = pd.concat([X_train, X_test], axis = 0)\n",
    "y = pd.concat([y_train, y_test], axis = 0)"
   ]
  },
  {
   "cell_type": "code",
   "execution_count": 6,
   "metadata": {},
   "outputs": [
    {
     "data": {
      "text/plain": [
       "array([[0, 0, 0, ..., 0, 0, 0],\n",
       "       [0, 0, 0, ..., 0, 0, 0],\n",
       "       [0, 0, 0, ..., 0, 0, 0],\n",
       "       ...,\n",
       "       [0, 0, 0, ..., 0, 0, 0],\n",
       "       [0, 0, 0, ..., 0, 0, 0],\n",
       "       [0, 0, 0, ..., 0, 0, 0]], dtype=int64)"
      ]
     },
     "execution_count": 6,
     "metadata": {},
     "output_type": "execute_result"
    }
   ],
   "source": [
    "# count vectorizer\n",
    "cv = CountVectorizer()\n",
    "X = cv.fit_transform(X) #fit the data\n",
    "\n",
    "X.toarray()\n",
    "\n",
    "# 정확도 90.52% 근데 이제 거짓을 거짓이라 예측하는게 42% 밖에 안돼"
   ]
  },
  {
   "cell_type": "code",
   "execution_count": 112,
   "metadata": {},
   "outputs": [
    {
     "data": {
      "text/plain": [
       "array([[0., 0., 0., ..., 0., 0., 0.],\n",
       "       [0., 0., 0., ..., 0., 0., 0.],\n",
       "       [0., 0., 0., ..., 0., 0., 0.],\n",
       "       ...,\n",
       "       [0., 0., 0., ..., 0., 0., 0.],\n",
       "       [0., 0., 0., ..., 0., 0., 0.],\n",
       "       [0., 0., 0., ..., 0., 0., 0.]])"
      ]
     },
     "execution_count": 112,
     "metadata": {},
     "output_type": "execute_result"
    }
   ],
   "source": [
    "# tfidf vectorizer\n",
    "tfidf = TfidfVectorizer()\n",
    "X = tfidf.fit_transform(X) #fit the data\n",
    "\n",
    "X.toarray()\n",
    "\n",
    "# 정확도 92.40% 근데 이제 모든 값을 관련있다고 예측하는,,,"
   ]
  },
  {
   "cell_type": "code",
   "execution_count": 7,
   "metadata": {},
   "outputs": [],
   "source": [
    "X_train = X[:4048]\n",
    "X_test = X[4048:]\n",
    "y_train = y[:4048]\n",
    "y_test = y[4048:]"
   ]
  },
  {
   "cell_type": "code",
   "execution_count": 8,
   "metadata": {},
   "outputs": [
    {
     "name": "stdout",
     "output_type": "stream",
     "text": [
      " Accuracy of Model : 90.94%\n",
      "              precision    recall  f1-score   support\n",
      "\n",
      "           0       0.44      0.71      0.54        73\n",
      "           1       0.98      0.93      0.95       887\n",
      "\n",
      "    accuracy                           0.91       960\n",
      "   macro avg       0.71      0.82      0.75       960\n",
      "weighted avg       0.93      0.91      0.92       960\n",
      "\n"
     ]
    }
   ],
   "source": [
    "# 나이브 베이즈 분류모델\n",
    "clf = MultinomialNB()\n",
    "clf.fit(X_train, y_train)\n",
    "clf.score(X_test,y_test)\n",
    "\n",
    "# 정확도\n",
    "print(\" Accuracy of Model : {:.2f}%\".format(clf.score(X_test,y_test)*100))\n",
    "\n",
    "# 혼동행렬\n",
    "predictions = clf.predict(X_test)\n",
    "print(classification_report(y_test, predictions))\n"
   ]
  },
  {
   "cell_type": "markdown",
   "metadata": {},
   "source": [
    "precision(정밀도) : 참 예측 중에서 진짜 참인 친구  \n",
    "recall(재현율) : 진짜 참 중에서 예측 참인 친구  \n",
    "f1-score : 정밀도+재현율, 둘다 고를 때 높게 나타남  \n",
    "\n",
    "\n",
    "스팸메일 분류 모델은 거짓인 모델을 참으로 예측했을때 영향을 줌 >> [0,recall]값이 높아야\n"
   ]
  },
  {
   "cell_type": "code",
   "execution_count": 68,
   "metadata": {},
   "outputs": [
    {
     "name": "stdout",
     "output_type": "stream",
     "text": [
      "브이로그 겨울 원피스 쇼핑 : 관련있음\n",
      "관련없는 말 : 관련없음\n"
     ]
    }
   ],
   "source": [
    "# test\n",
    "comment = '브이로그 겨울 원피스 쇼핑'\n",
    "vect = cv.transform([comment]).toarray()\n",
    "clf.predict(vect)\n",
    "\n",
    "if clf.predict(vect) == 1:\n",
    "    print(comment, ': 관련있음')\n",
    "else :\n",
    "    print(comment, ': 관련없음')\n",
    "\n",
    "# test2\n",
    "comment = '관련없는 말'\n",
    "vect = cv.transform([comment]).toarray()\n",
    "clf.predict(vect)\n",
    "\n",
    "if clf.predict(vect) == 1:\n",
    "    print(comment, ': 관련있음')\n",
    "else :\n",
    "    print(comment, ': 관련없음')"
   ]
  },
  {
   "cell_type": "code",
   "execution_count": 83,
   "metadata": {},
   "outputs": [
    {
     "name": "stdout",
     "output_type": "stream",
     "text": [
      "올리브영 세일 : 관련있음\n"
     ]
    }
   ],
   "source": [
    "import pickle\n",
    "\n",
    "# 모델 저장\n",
    "with open('NBmodel.pkl', 'wb') as f:\n",
    "    pickle.dump(clf, f)\n",
    "\n",
    "# 모델 로드\n",
    "with open('NBmodel.pkl', 'rb') as f:\n",
    "    model = pickle.load(f)\n",
    "\n",
    "# 모델 사용\n",
    "#comment = '천방지축 얼렁뚱땅 빙글빙글 돌아가는 짱구의하루'\n",
    "comment = '올리브영 세일'\n",
    "vect = cv.transform([comment]).toarray()\n",
    "model.predict(vect)\n",
    "\n",
    "if clf.predict(vect) == 1:\n",
    "    print(comment, ': 관련있음')\n",
    "else :\n",
    "    print(comment, ': 관련없음')"
   ]
  },
  {
   "cell_type": "code",
   "execution_count": null,
   "metadata": {},
   "outputs": [],
   "source": []
  }
 ],
 "metadata": {
  "interpreter": {
   "hash": "f08154012ddadd8e950e6e9e035c7a7b32c136e7647e9b7c77e02eb723a8bedb"
  },
  "kernelspec": {
   "display_name": "Python 3.9.7 ('base')",
   "language": "python",
   "name": "python3"
  },
  "language_info": {
   "codemirror_mode": {
    "name": "ipython",
    "version": 3
   },
   "file_extension": ".py",
   "mimetype": "text/x-python",
   "name": "python",
   "nbconvert_exporter": "python",
   "pygments_lexer": "ipython3",
   "version": "3.9.7"
  },
  "orig_nbformat": 4
 },
 "nbformat": 4,
 "nbformat_minor": 2
}
