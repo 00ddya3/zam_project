{
 "cells": [
  {
   "cell_type": "code",
   "execution_count": 2,
   "metadata": {},
   "outputs": [],
   "source": [
    "import pandas as pd\n",
    "import numpy as np\n",
    "from sklearn.model_selection import train_test_split\n",
    "import matplotlib.pyplot as plt\n",
    "from imblearn.over_sampling import RandomOverSampler\n",
    "from tensorflow.keras.layers import Embedding, GlobalAveragePooling1D, Dense, Dropout, LSTM, Bidirectional\n",
    "from tensorflow.keras.callbacks import EarlyStopping\n",
    "from tensorflow.keras.models import Sequential\n",
    "from konlpy.tag import Okt\n",
    "from tqdm import tqdm\n",
    "from tensorflow.keras.preprocessing.text import Tokenizer\n",
    "from tensorflow.keras.preprocessing.sequence import pad_sequences\n",
    "import re\n",
    "import warnings\n",
    "from keras.models import Sequential\n",
    "from keras.layers import Dense, LSTM, Embedding\n",
    "from sklearn.metrics import classification_report"
   ]
  },
  {
   "cell_type": "code",
   "execution_count": 3,
   "metadata": {},
   "outputs": [
    {
     "data": {
      "text/html": [
       "<div>\n",
       "<style scoped>\n",
       "    .dataframe tbody tr th:only-of-type {\n",
       "        vertical-align: middle;\n",
       "    }\n",
       "\n",
       "    .dataframe tbody tr th {\n",
       "        vertical-align: top;\n",
       "    }\n",
       "\n",
       "    .dataframe thead th {\n",
       "        text-align: right;\n",
       "    }\n",
       "</style>\n",
       "<table border=\"1\" class=\"dataframe\">\n",
       "  <thead>\n",
       "    <tr style=\"text-align: right;\">\n",
       "      <th></th>\n",
       "      <th>title</th>\n",
       "      <th>date</th>\n",
       "      <th>url</th>\n",
       "      <th>hashtag</th>\n",
       "      <th>class</th>\n",
       "    </tr>\n",
       "  </thead>\n",
       "  <tbody>\n",
       "    <tr>\n",
       "      <th>0</th>\n",
       "      <td>행복여 | 블록 레터링 루즈핏 봄 맨투맨 티셔츠 | 15,600원 | 라이브방송 |...</td>\n",
       "      <td>2022-03-21</td>\n",
       "      <td>https://www.youtube.com/shorts/jdIctLzCWxA</td>\n",
       "      <td>NaN</td>\n",
       "      <td>1</td>\n",
       "    </tr>\n",
       "    <tr>\n",
       "      <th>1</th>\n",
       "      <td>FALL LOOKBOOK / 03년생 / 모자추천 / 가을룩북 ㅇㅈㄹ</td>\n",
       "      <td>2021-09-21</td>\n",
       "      <td>https://www.youtube.com/watch?v=EOTGHHoRp2w</td>\n",
       "      <td>NaN</td>\n",
       "      <td>1</td>\n",
       "    </tr>\n",
       "    <tr>\n",
       "      <th>2</th>\n",
       "      <td>존.예 겨울 원피스 하울~♥? 이쁘고 편한것만 골라와쏘?? (연말룩,하객룩,겨울코디)</td>\n",
       "      <td>2021-11-28</td>\n",
       "      <td>https://www.youtube.com/watch?v=DgZa_ttSqY8</td>\n",
       "      <td>#원피스하울 #겨울원피스 #겨울패션하울</td>\n",
       "      <td>1</td>\n",
       "    </tr>\n",
       "    <tr>\n",
       "      <th>3</th>\n",
       "      <td>가디건 이것만 알면 끝! - 가격대별 필수 가디건 추천 [코스/엘무드/일꼬르소/네이...</td>\n",
       "      <td>2022-03-17</td>\n",
       "      <td>https://www.youtube.com/watch?v=mpQEPl0qTiU</td>\n",
       "      <td>NaN</td>\n",
       "      <td>1</td>\n",
       "    </tr>\n",
       "    <tr>\n",
       "      <th>4</th>\n",
       "      <td>15분 초간단? 꾸안꾸 데일리 메이크업+스킨케어??</td>\n",
       "      <td>2022-02-05</td>\n",
       "      <td>https://www.youtube.com/watch?v=dNIHZPYP45A</td>\n",
       "      <td>#왕초보메이크업 #데일리메이크업 #화장잘먹는법</td>\n",
       "      <td>0</td>\n",
       "    </tr>\n",
       "  </tbody>\n",
       "</table>\n",
       "</div>"
      ],
      "text/plain": [
       "                                               title        date  \\\n",
       "0  행복여 | 블록 레터링 루즈핏 봄 맨투맨 티셔츠 | 15,600원 | 라이브방송 |...  2022-03-21   \n",
       "1             FALL LOOKBOOK / 03년생 / 모자추천 / 가을룩북 ㅇㅈㄹ  2021-09-21   \n",
       "2    존.예 겨울 원피스 하울~♥? 이쁘고 편한것만 골라와쏘?? (연말룩,하객룩,겨울코디)  2021-11-28   \n",
       "3  가디건 이것만 알면 끝! - 가격대별 필수 가디건 추천 [코스/엘무드/일꼬르소/네이...  2022-03-17   \n",
       "4                       15분 초간단? 꾸안꾸 데일리 메이크업+스킨케어??  2022-02-05   \n",
       "\n",
       "                                           url                    hashtag  \\\n",
       "0   https://www.youtube.com/shorts/jdIctLzCWxA                        NaN   \n",
       "1  https://www.youtube.com/watch?v=EOTGHHoRp2w                        NaN   \n",
       "2  https://www.youtube.com/watch?v=DgZa_ttSqY8      #원피스하울 #겨울원피스 #겨울패션하울   \n",
       "3  https://www.youtube.com/watch?v=mpQEPl0qTiU                        NaN   \n",
       "4  https://www.youtube.com/watch?v=dNIHZPYP45A  #왕초보메이크업 #데일리메이크업 #화장잘먹는법   \n",
       "\n",
       "   class  \n",
       "0      1  \n",
       "1      1  \n",
       "2      1  \n",
       "3      1  \n",
       "4      0  "
      ]
     },
     "execution_count": 3,
     "metadata": {},
     "output_type": "execute_result"
    }
   ],
   "source": [
    "# class 추가된 데이터 가져오기\n",
    "df = pd.read_csv('./outputs/yt_clothes_class.csv', encoding='cp949')\n",
    "df.drop(['Unnamed: 0'], axis=1, inplace=True)\n",
    "df.head()"
   ]
  },
  {
   "cell_type": "code",
   "execution_count": 4,
   "metadata": {},
   "outputs": [],
   "source": [
    "# 영향을 주지 않는 열 지우기\n",
    "dff = df.drop(['date', 'url'], axis=1)\n",
    "\n",
    "# 해시태그가 없는 열은 공백으로 채우기\n",
    "dff = dff.fillna('')\n",
    "\n",
    "# 종속변수, 독립변수 분리\n",
    "dff_x = dff['title']\n",
    "dff_y = dff['class']"
   ]
  },
  {
   "cell_type": "markdown",
   "metadata": {},
   "source": [
    "## 데이터 불균형 처리"
   ]
  },
  {
   "cell_type": "code",
   "execution_count": 5,
   "metadata": {},
   "outputs": [],
   "source": [
    "# 데이터셋 분리\n",
    "X_train, X_test, y_train, y_test = train_test_split(dff_x, dff_y, test_size=0.3, random_state=25)\n",
    "\n",
    "# 훈련 데이터 오버샘플링\n",
    "oversample = RandomOverSampler(sampling_strategy='minority')\n",
    "\n",
    "#샘플러에 들어가기 위해 array 타입으로 바꾸기\n",
    "X_np_train = np.array(X_train) \n",
    "X_np_train = np.reshape(X_np_train, (len(X_train), 1))\n",
    "y_np_train = np.array(y_train)\n",
    "\n",
    "# resample\n",
    "X_sample_train, y_sample_train = oversample.fit_resample(X_np_train, y_np_train)\n",
    "\n",
    "# 다시 시리즈 형태로 만들어주기\n",
    "X_list_train = X_sample_train.tolist() # type(X_list_train[0]) : list\n",
    "X_train = []\n",
    "for i in range(len(X_list_train)) :\n",
    "    X_train.append(X_list_train[i][0])\n",
    "X_train = pd.Series(X_train)\n",
    "y_train = pd.Series(y_sample_train.tolist())"
   ]
  },
  {
   "cell_type": "markdown",
   "metadata": {},
   "source": [
    "## 토큰화"
   ]
  },
  {
   "cell_type": "code",
   "execution_count": 6,
   "metadata": {},
   "outputs": [
    {
     "name": "stderr",
     "output_type": "stream",
     "text": [
      "100%|██████████| 4048/4048 [00:10<00:00, 371.94it/s]\n"
     ]
    }
   ],
   "source": [
    "okt = Okt()\n",
    "\n",
    "def rmEmoji(inputData):\n",
    "\n",
    "    emoji_pattern = re.compile(\"[\"\n",
    "        u\"\\U00010000-\\U0010FFFF\"  #BMP characters 이외\n",
    "            \"]+\", flags=re.UNICODE)\n",
    "\n",
    "    return emoji_pattern.sub(r'', inputData) # no emoji\n",
    "\n",
    "#불용어 읽어오기\n",
    "stopwords = pd.read_csv(\"stopwords.txt\")\n",
    "stopwords = stopwords['word'].tolist()\n",
    "\n",
    "#불용어제거 + 토큰화\n",
    "tk = []\n",
    "for sentence in tqdm(X_train) :\n",
    "    sentence = rmEmoji(sentence) # 이모티콘 제거\n",
    "    tokenized_sentence = okt.morphs(sentence) # 토큰화\n",
    "    stopwords_removed_sentence = [word for word in tokenized_sentence if not word in stopwords] # 불용어 제거\n",
    "    tk.append(stopwords_removed_sentence)\n",
    "\n",
    "# 정수 인코딩\n",
    "tokenizer = Tokenizer()\n",
    "tokenizer.fit_on_texts(tk)\n",
    "word_dict = tokenizer.index_word"
   ]
  },
  {
   "cell_type": "code",
   "execution_count": 7,
   "metadata": {},
   "outputs": [
    {
     "name": "stdout",
     "output_type": "stream",
     "text": [
      "[[1465, 18, 128, 32, 17, 115, 120, 190, 1914, 536], [], [1750, 3277, 2521, 17], [2522, 877, 273], [217, 33, 33, 27, 14, 30]]\n",
      "0     30만원어치 미쏘 여름 신상 하울????트위드 자켓, 블라우스, 가디건, 탑 걱정 끝!\n",
      "1                          여름시즌 입기좋은 린넨재킷, 쿨피즈룩, 66사이즈\n",
      "2                                    애솔 - 말렌 셀린 바시티 자켓\n",
      "3                                       데니아 탄탄 스판 스키니진\n",
      "4    올 가을 유행은 가죽이라고 /가을 겨울 코디/ 옷 잘입는법여자/ 가죽자켓을 이용한 ...\n",
      "dtype: object\n",
      "미쏘 여름 신상 하울 자켓 블라우스 가디건 탑 걱정 끝 "
     ]
    }
   ],
   "source": [
    "X_train_seq = tokenizer.texts_to_sequences(X_train)\n",
    "X_test_seq = tokenizer.texts_to_sequences(X_test)\n",
    "\n",
    "print(X_train_seq[:5])\n",
    "print(X_train[:5])\n",
    "\n",
    "for el in X_train_seq[0]:\n",
    "    print(word_dict[el], end=' ')"
   ]
  },
  {
   "cell_type": "code",
   "execution_count": 8,
   "metadata": {},
   "outputs": [
    {
     "data": {
      "text/plain": [
       "(4048, 40)"
      ]
     },
     "execution_count": 8,
     "metadata": {},
     "output_type": "execute_result"
    }
   ],
   "source": [
    "# pad를 일정한 길이로 맞춰줌\n",
    "X_train_pad = pad_sequences(X_train_seq, maxlen=40, padding='post')\n",
    "X_test_pad = pad_sequences(X_test_seq, maxlen=40, padding='post')\n",
    "X_train_pad[:5]\n",
    "X_train_pad.shape"
   ]
  },
  {
   "cell_type": "markdown",
   "metadata": {},
   "source": [
    "## Dense 다층 퍼셉트론"
   ]
  },
  {
   "cell_type": "code",
   "execution_count": 10,
   "metadata": {},
   "outputs": [
    {
     "name": "stdout",
     "output_type": "stream",
     "text": [
      "Model: \"sequential_1\"\n",
      "_________________________________________________________________\n",
      "Layer (type)                 Output Shape              Param #   \n",
      "=================================================================\n",
      "embedding_1 (Embedding)      (None, 54, 16)            105360    \n",
      "_________________________________________________________________\n",
      "global_average_pooling1d_1 ( (None, 16)                0         \n",
      "_________________________________________________________________\n",
      "dense_2 (Dense)              (None, 24)                408       \n",
      "_________________________________________________________________\n",
      "dropout_1 (Dropout)          (None, 24)                0         \n",
      "_________________________________________________________________\n",
      "dense_3 (Dense)              (None, 1)                 25        \n",
      "=================================================================\n",
      "Total params: 105,793\n",
      "Trainable params: 105,793\n",
      "Non-trainable params: 0\n",
      "_________________________________________________________________\n"
     ]
    }
   ],
   "source": [
    "# Hyper Parameters\n",
    "max_len = max(len(word) for word in tk)\n",
    "vocab_size = len(word_dict)+1\n",
    "embeding_dim = 16\n",
    "drop_value = 0.2\n",
    "\n",
    "# Model Architecture for dense network\n",
    "model = Sequential()\n",
    "model.add(Embedding(vocab_size, embeding_dim, input_length=max_len))\n",
    "model.add(GlobalAveragePooling1D())\n",
    "model.add(Dense(24, activation='relu'))\n",
    "model.add(Dropout(drop_value))\n",
    "model.add(Dense(1, activation='sigmoid'))\n",
    "\n",
    "model.summary()"
   ]
  },
  {
   "cell_type": "code",
   "execution_count": 11,
   "metadata": {},
   "outputs": [
    {
     "name": "stdout",
     "output_type": "stream",
     "text": [
      "Epoch 1/10\n",
      "WARNING:tensorflow:Model was constructed with shape (None, 54) for input KerasTensor(type_spec=TensorSpec(shape=(None, 54), dtype=tf.float32, name='embedding_1_input'), name='embedding_1_input', description=\"created by layer 'embedding_1_input'\"), but it was called on an input with incompatible shape (None, 40).\n",
      "WARNING:tensorflow:Model was constructed with shape (None, 54) for input KerasTensor(type_spec=TensorSpec(shape=(None, 54), dtype=tf.float32, name='embedding_1_input'), name='embedding_1_input', description=\"created by layer 'embedding_1_input'\"), but it was called on an input with incompatible shape (None, 40).\n",
      "WARNING:tensorflow:Model was constructed with shape (None, 54) for input KerasTensor(type_spec=TensorSpec(shape=(None, 54), dtype=tf.float32, name='embedding_1_input'), name='embedding_1_input', description=\"created by layer 'embedding_1_input'\"), but it was called on an input with incompatible shape (32, 40).\n",
      "127/127 - 1s - loss: 0.6906 - accuracy: 0.5529 - val_loss: 0.6839 - val_accuracy: 0.7760\n",
      "Epoch 2/10\n",
      "127/127 - 0s - loss: 0.6543 - accuracy: 0.8174 - val_loss: 0.6150 - val_accuracy: 0.7760\n",
      "Epoch 3/10\n",
      "127/127 - 0s - loss: 0.5052 - accuracy: 0.8767 - val_loss: 0.4003 - val_accuracy: 0.9156\n",
      "Epoch 4/10\n",
      "127/127 - 0s - loss: 0.3280 - accuracy: 0.9150 - val_loss: 0.3360 - val_accuracy: 0.8510\n",
      "Epoch 5/10\n",
      "127/127 - 0s - loss: 0.2291 - accuracy: 0.9308 - val_loss: 0.2941 - val_accuracy: 0.8531\n",
      "Epoch 6/10\n",
      "127/127 - 0s - loss: 0.1725 - accuracy: 0.9491 - val_loss: 0.2803 - val_accuracy: 0.8521\n",
      "Epoch 7/10\n",
      "127/127 - 0s - loss: 0.1419 - accuracy: 0.9531 - val_loss: 0.2537 - val_accuracy: 0.8635\n",
      "Epoch 8/10\n",
      "127/127 - 0s - loss: 0.1176 - accuracy: 0.9597 - val_loss: 0.2328 - val_accuracy: 0.9135\n",
      "Epoch 9/10\n",
      "127/127 - 0s - loss: 0.1023 - accuracy: 0.9595 - val_loss: 0.2095 - val_accuracy: 0.9198\n",
      "Epoch 10/10\n",
      "127/127 - 0s - loss: 0.0899 - accuracy: 0.9644 - val_loss: 0.2363 - val_accuracy: 0.9094\n"
     ]
    }
   ],
   "source": [
    "warnings.filterwarnings('ignore')\n",
    "\n",
    "# Compiling the dense model\n",
    "model.compile(loss = 'binary_crossentropy', optimizer ='adam', metrics = ['accuracy'])\n",
    "\n",
    "num_epochs = 10\n",
    "early_stop = EarlyStopping(monitor = 'val_loss', patience = 3)\n",
    "\n",
    "history = model.fit(X_train_pad, y_train,\n",
    "                    epochs = num_epochs, validation_data = (X_test_pad, y_test),\n",
    "                    callbacks = [early_stop], verbose = 2)"
   ]
  },
  {
   "cell_type": "code",
   "execution_count": 12,
   "metadata": {},
   "outputs": [
    {
     "data": {
      "image/png": "[encoded data removed]",
      "text/plain": [
       "<Figure size 432x288 with 1 Axes>"
      ]
     },
     "metadata": {
      "needs_background": "light"
     },
     "output_type": "display_data"
    }
   ],
   "source": [
    "# Read the metrics as a dataframe \n",
    "metrics = pd.DataFrame(history.history)\n",
    "# Rename column for plotting\n",
    "metrics.rename(columns = {'loss': 'Training_Loss', 'accuracy': 'Training_Accuracy', 'val_loss': 'Validation_Loss', 'val_accuracy': 'Validation_Accuracy'}, inplace = True)\n",
    "\n",
    "def plot_graphs1(var1, var2, string):\n",
    "  \"\"\"\n",
    "  plots the graph of var1, var2 vs number of epochs \n",
    "  \"\"\"\n",
    "  metrics[[var1, var2]].plot()\n",
    "  plt.title('Training and Validation ' + string)\n",
    "  plt.xlabel ('Number of epochs')\n",
    "  plt.ylabel(string)\n",
    "  plt.legend([var1, var2])\n",
    "\n",
    "plot_graphs1('Training_Accuracy', 'Validation_Accuracy', 'accuracy')"
   ]
  },
  {
   "cell_type": "code",
   "execution_count": 13,
   "metadata": {},
   "outputs": [
    {
     "name": "stdout",
     "output_type": "stream",
     "text": [
      "WARNING:tensorflow:Model was constructed with shape (None, 54) for input KerasTensor(type_spec=TensorSpec(shape=(None, 54), dtype=tf.float32, name='embedding_1_input'), name='embedding_1_input', description=\"created by layer 'embedding_1_input'\"), but it was called on an input with incompatible shape (32, 40).\n",
      "              precision    recall  f1-score   support\n",
      "\n",
      "           0       0.40      0.37      0.38        73\n",
      "           1       0.95      0.95      0.95       887\n",
      "\n",
      "    accuracy                           0.91       960\n",
      "   macro avg       0.67      0.66      0.67       960\n",
      "weighted avg       0.91      0.91      0.91       960\n",
      "\n"
     ]
    }
   ],
   "source": [
    "# Predict(예측) 실행\n",
    "y_predict = model.predict(X_test_pad)\n",
    "\n",
    "y_predict2=[]\n",
    "for i in range(len(y_predict)) :\n",
    "    y_predict2.append(y_predict[i][0])\n",
    "y_predict2 = pd.Series(y_predict2)\n",
    "y_pred = y_predict2.apply(lambda x : 1 if x>=0.5 else 0)\n",
    "\n",
    "print(classification_report(y_test,y_pred))"
   ]
  },
  {
   "cell_type": "markdown",
   "metadata": {},
   "source": [
    "## LSTM"
   ]
  },
  {
   "cell_type": "code",
   "execution_count": 14,
   "metadata": {},
   "outputs": [
    {
     "name": "stdout",
     "output_type": "stream",
     "text": [
      "Epoch 1/10\n",
      "WARNING:tensorflow:Model was constructed with shape (None, 54) for input KerasTensor(type_spec=TensorSpec(shape=(None, 54), dtype=tf.float32, name='embedding_2_input'), name='embedding_2_input', description=\"created by layer 'embedding_2_input'\"), but it was called on an input with incompatible shape (None, 40).\n",
      "WARNING:tensorflow:Model was constructed with shape (None, 54) for input KerasTensor(type_spec=TensorSpec(shape=(None, 54), dtype=tf.float32, name='embedding_2_input'), name='embedding_2_input', description=\"created by layer 'embedding_2_input'\"), but it was called on an input with incompatible shape (None, 40).\n",
      "WARNING:tensorflow:Model was constructed with shape (None, 54) for input KerasTensor(type_spec=TensorSpec(shape=(None, 54), dtype=tf.float32, name='embedding_2_input'), name='embedding_2_input', description=\"created by layer 'embedding_2_input'\"), but it was called on an input with incompatible shape (32, 40).\n",
      "127/127 - 9s - loss: 0.6007 - accuracy: 0.6962 - val_loss: 0.2956 - val_accuracy: 0.9177\n",
      "Epoch 2/10\n",
      "127/127 - 4s - loss: 0.2576 - accuracy: 0.9368 - val_loss: 0.2867 - val_accuracy: 0.9209\n",
      "Epoch 3/10\n",
      "127/127 - 3s - loss: 0.1813 - accuracy: 0.9610 - val_loss: 0.4427 - val_accuracy: 0.8689\n",
      "Epoch 4/10\n",
      "127/127 - 2s - loss: 0.1613 - accuracy: 0.9646 - val_loss: 0.3072 - val_accuracy: 0.9164\n"
     ]
    }
   ],
   "source": [
    "# LSTM hyperparameters\n",
    "n_lstm = 10\n",
    "drop_lstm = 0.2\n",
    "\n",
    "# LSTM Spam detection architecture\n",
    "model1 = Sequential()\n",
    "model1.add(Embedding(vocab_size, embeding_dim, input_length=max_len))\n",
    "model1.add(LSTM(n_lstm, dropout=drop_lstm, return_sequences=True))\n",
    "model1.add(LSTM(n_lstm, dropout=drop_lstm, return_sequences=True))\n",
    "model1.add(Dense(1, activation='sigmoid'))\n",
    "\n",
    "# Compiling the LSTM Model\n",
    "model1.compile(loss = 'binary_crossentropy', optimizer = 'adam', metrics = ['accuracy'])\n",
    "\n",
    "# Training and evaluating the LSTM Model\n",
    "num_epochs = 10\n",
    "early_stop = EarlyStopping(monitor='val_loss', patience=2)\n",
    "history = model1.fit(X_train_pad, y_train,\n",
    "                     epochs=num_epochs, validation_data=(X_test_pad, y_test),\n",
    "                     callbacks =[early_stop], verbose=2)"
   ]
  },
  {
   "cell_type": "code",
   "execution_count": 15,
   "metadata": {},
   "outputs": [
    {
     "data": {
      "image/png": "[encoded data removed]",
      "text/plain": [
       "<Figure size 432x288 with 1 Axes>"
      ]
     },
     "metadata": {
      "needs_background": "light"
     },
     "output_type": "display_data"
    }
   ],
   "source": [
    "# Create a dataframe of metrics\n",
    "metrics = pd.DataFrame(history.history)\n",
    "# Rename columns for plotting\n",
    "metrics.rename(columns = {'loss': 'Training_Loss', 'accuracy': 'Training_Accuracy',\n",
    "                         'val_loss': 'Validation_Loss', 'val_accuracy': 'Validation_Accuracy'}, inplace = True)\n",
    "\n",
    "plot_graphs1('Training_Accuracy', 'Validation_Accuracy', 'accuracy')\n"
   ]
  },
  {
   "cell_type": "code",
   "execution_count": 16,
   "metadata": {},
   "outputs": [
    {
     "name": "stdout",
     "output_type": "stream",
     "text": [
      "WARNING:tensorflow:Model was constructed with shape (None, 54) for input KerasTensor(type_spec=TensorSpec(shape=(None, 54), dtype=tf.float32, name='embedding_2_input'), name='embedding_2_input', description=\"created by layer 'embedding_2_input'\"), but it was called on an input with incompatible shape (32, 40).\n",
      "              precision    recall  f1-score   support\n",
      "\n",
      "           0       0.18      0.63      0.28        73\n",
      "           1       0.96      0.77      0.85       887\n",
      "\n",
      "    accuracy                           0.76       960\n",
      "   macro avg       0.57      0.70      0.57       960\n",
      "weighted avg       0.90      0.76      0.81       960\n",
      "\n"
     ]
    }
   ],
   "source": [
    "# Predict(예측) 실행\n",
    "y_predict = model1.predict(X_test_pad)\n",
    "\n",
    "y_predict2=[]\n",
    "for i in range(len(y_predict)) :\n",
    "    y_predict2.append(y_predict[i][0])\n",
    "y_predict2 = pd.Series(y_predict2)\n",
    "y_pred = y_predict2.apply(lambda x : 1 if x>=0.5 else 0)\n",
    "\n",
    "print(classification_report(y_test,y_pred))"
   ]
  },
  {
   "cell_type": "markdown",
   "metadata": {},
   "source": [
    "## BiLSTM"
   ]
  },
  {
   "cell_type": "code",
   "execution_count": 17,
   "metadata": {},
   "outputs": [
    {
     "name": "stdout",
     "output_type": "stream",
     "text": [
      "Epoch 1/30\n",
      "WARNING:tensorflow:Model was constructed with shape (None, 54) for input KerasTensor(type_spec=TensorSpec(shape=(None, 54), dtype=tf.float32, name='embedding_3_input'), name='embedding_3_input', description=\"created by layer 'embedding_3_input'\"), but it was called on an input with incompatible shape (None, 40).\n",
      "WARNING:tensorflow:Model was constructed with shape (None, 54) for input KerasTensor(type_spec=TensorSpec(shape=(None, 54), dtype=tf.float32, name='embedding_3_input'), name='embedding_3_input', description=\"created by layer 'embedding_3_input'\"), but it was called on an input with incompatible shape (None, 40).\n",
      "WARNING:tensorflow:Model was constructed with shape (None, 54) for input KerasTensor(type_spec=TensorSpec(shape=(None, 54), dtype=tf.float32, name='embedding_3_input'), name='embedding_3_input', description=\"created by layer 'embedding_3_input'\"), but it was called on an input with incompatible shape (32, 40).\n",
      "127/127 - 7s - loss: 0.6474 - accuracy: 0.6602 - val_loss: 0.4353 - val_accuracy: 0.8372\n",
      "Epoch 2/30\n",
      "127/127 - 2s - loss: 0.2886 - accuracy: 0.9342 - val_loss: 0.3803 - val_accuracy: 0.8501\n",
      "Epoch 3/30\n",
      "127/127 - 2s - loss: 0.1745 - accuracy: 0.9603 - val_loss: 0.3578 - val_accuracy: 0.8718\n",
      "Epoch 4/30\n",
      "127/127 - 2s - loss: 0.1492 - accuracy: 0.9653 - val_loss: 0.4100 - val_accuracy: 0.8656\n",
      "Epoch 5/30\n",
      "127/127 - 2s - loss: 0.1406 - accuracy: 0.9660 - val_loss: 0.3106 - val_accuracy: 0.9055\n",
      "Epoch 6/30\n",
      "127/127 - 2s - loss: 0.1256 - accuracy: 0.9697 - val_loss: 0.4286 - val_accuracy: 0.8640\n",
      "Epoch 7/30\n",
      "127/127 - 2s - loss: 0.1204 - accuracy: 0.9726 - val_loss: 0.2911 - val_accuracy: 0.9293\n",
      "Epoch 8/30\n",
      "127/127 - 2s - loss: 0.1603 - accuracy: 0.9589 - val_loss: 0.2990 - val_accuracy: 0.9141\n",
      "Epoch 9/30\n",
      "127/127 - 2s - loss: 0.1317 - accuracy: 0.9641 - val_loss: 0.3032 - val_accuracy: 0.9171\n"
     ]
    }
   ],
   "source": [
    "# Biderectional LSTM Spam detection architecture\n",
    "model2 = Sequential()\n",
    "model2.add(Embedding(vocab_size, embeding_dim, input_length=max_len))\n",
    "model2.add(Bidirectional(LSTM(n_lstm, dropout=drop_lstm, return_sequences=True)))\n",
    "model2.add(Dense(1, activation='sigmoid'))\n",
    "\n",
    "# Compiling the Bi-LSTM Model\n",
    "model2.compile(loss = 'binary_crossentropy', optimizer = 'adam', metrics=['accuracy'])\n",
    "\n",
    "# Training and evaluating the Bi-LSTM model\n",
    "num_epochs = 30\n",
    "early_stop = EarlyStopping(monitor='val_loss', patience=2)\n",
    "history = model2.fit(X_train_pad, y_train, epochs=num_epochs, \n",
    "                    validation_data=(X_test_pad, y_test), \n",
    "                    callbacks =[early_stop], verbose=2)\n"
   ]
  },
  {
   "cell_type": "code",
   "execution_count": 18,
   "metadata": {},
   "outputs": [
    {
     "data": {
      "image/png": "[encoded data removed]",
      "text/plain": [
       "<Figure size 432x288 with 1 Axes>"
      ]
     },
     "metadata": {
      "needs_background": "light"
     },
     "output_type": "display_data"
    }
   ],
   "source": [
    "# Create a dataframe\n",
    "metrics = pd.DataFrame(history.history)\n",
    "\n",
    "# Rename column\n",
    "metrics.rename(columns = {'loss': 'Training_Loss', 'accuracy': 'Training_Accuracy',\n",
    "                         'val_loss': 'Validation_Loss', 'val_accuracy': 'Validation_Accuracy'}, inplace = True)\n",
    "\n",
    "plot_graphs1('Training_Accuracy', 'Validation_Accuracy', 'accuracy')"
   ]
  },
  {
   "cell_type": "code",
   "execution_count": 19,
   "metadata": {},
   "outputs": [
    {
     "name": "stdout",
     "output_type": "stream",
     "text": [
      "WARNING:tensorflow:Model was constructed with shape (None, 54) for input KerasTensor(type_spec=TensorSpec(shape=(None, 54), dtype=tf.float32, name='embedding_3_input'), name='embedding_3_input', description=\"created by layer 'embedding_3_input'\"), but it was called on an input with incompatible shape (32, 40).\n",
      "              precision    recall  f1-score   support\n",
      "\n",
      "           0       0.27      0.60      0.38        73\n",
      "           1       0.96      0.87      0.91       887\n",
      "\n",
      "    accuracy                           0.85       960\n",
      "   macro avg       0.62      0.74      0.64       960\n",
      "weighted avg       0.91      0.85      0.87       960\n",
      "\n"
     ]
    }
   ],
   "source": [
    "# Predict(예측) 실행\n",
    "y_predict = model2.predict(X_test_pad)\n",
    "\n",
    "y_predict2=[]\n",
    "for i in range(len(y_predict)) :\n",
    "    y_predict2.append(y_predict[i][0])\n",
    "y_predict2 = pd.Series(y_predict2)\n",
    "y_pred = y_predict2.apply(lambda x : 1 if x>=0.5 else 0)\n",
    "\n",
    "print(classification_report(y_test,y_pred))"
   ]
  },
  {
   "cell_type": "code",
   "execution_count": null,
   "metadata": {},
   "outputs": [],
   "source": []
  }
 ],
 "metadata": {
  "interpreter": {
   "hash": "f08154012ddadd8e950e6e9e035c7a7b32c136e7647e9b7c77e02eb723a8bedb"
  },
  "kernelspec": {
   "display_name": "Python 3.9.7 ('base')",
   "language": "python",
   "name": "python3"
  },
  "language_info": {
   "codemirror_mode": {
    "name": "ipython",
    "version": 3
   },
   "file_extension": ".py",
   "mimetype": "text/x-python",
   "name": "python",
   "nbconvert_exporter": "python",
   "pygments_lexer": "ipython3",
   "version": "3.9.7"
  },
  "orig_nbformat": 4
 },
 "nbformat": 4,
 "nbformat_minor": 2
}
