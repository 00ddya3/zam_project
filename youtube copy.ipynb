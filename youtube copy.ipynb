{
 "cells": [
  {
   "cell_type": "code",
   "execution_count": 8,
   "metadata": {},
   "outputs": [],
   "source": [
    "from selenium import webdriver\n",
    "from selenium.webdriver.common.keys import Keys\n",
    "from bs4 import BeautifulSoup\n",
    "import pandas as pd\n",
    "import time\n",
    "import warnings"
   ]
  },
  {
   "cell_type": "code",
   "execution_count": 9,
   "metadata": {},
   "outputs": [],
   "source": [
    "def scroll_down(driver):\n",
    "    driver.execute_script(\"window.scrollTo(0,6000);\")\n",
    "    time.sleep(2)"
   ]
  },
  {
   "cell_type": "code",
   "execution_count": 34,
   "metadata": {},
   "outputs": [],
   "source": [
    "#키워드 검색\n",
    "warnings.filterwarnings(action='ignore')\n",
    "\n",
    "driver = webdriver.Chrome('C:\\chromedriver.exe')\n",
    "\n",
    "# 키워드를 검색한 유튜브 주소 접속\n",
    "keyword = '뷔스티에 원피스'\n",
    "\n",
    "url = 'https://www.youtube.com/results?search_query={}'.format(keyword)\n",
    "driver.get(url)\n",
    "\n",
    "driver.maximize_window()\n",
    "\n",
    "# 필터 클릭\n",
    "driver.find_element_by_xpath('/html/body/ytd-app/div/ytd-page-manager/ytd-search/div[1]/ytd-two-column-search-results-renderer/div/ytd-section-list-renderer/div[1]/div[2]/ytd-search-sub-menu-renderer/div[1]/div/ytd-toggle-button-renderer/a/tp-yt-paper-button').click()\n",
    "time.sleep(1)\n",
    "\n",
    "# 구분 -> 동영상 클릭\n",
    "driver.find_element_by_xpath('/html/body/ytd-app/div/ytd-page-manager/ytd-search/div[1]/ytd-two-column-search-results-renderer/div/ytd-section-list-renderer/div[1]/div[2]/ytd-search-sub-menu-renderer/div[1]/iron-collapse/div/ytd-search-filter-group-renderer[2]/ytd-search-filter-renderer[1]/a/div/yt-formatted-string').click()\n",
    "\n",
    "# 업로드 날짜 -> 올해 클릭\n",
    "driver.find_element_by_xpath('/html/body/ytd-app/div[1]/ytd-page-manager/ytd-search/div[1]/ytd-two-column-search-results-renderer/div/ytd-section-list-renderer/div[1]/div[2]/ytd-search-sub-menu-renderer/div[1]/iron-collapse/div/ytd-search-filter-group-renderer[1]/ytd-search-filter-renderer[5]/a').click()"
   ]
  },
  {
   "cell_type": "code",
   "execution_count": 35,
   "metadata": {},
   "outputs": [],
   "source": [
    "# 제목 & 링크 크롤링\n",
    "\n",
    "# 스크롤 다운 10번 실행\n",
    "body = driver.find_element_by_tag_name('body')\n",
    "body.send_keys(Keys.PAGE_DOWN)\n",
    "\n",
    "for i in range(1,3):\n",
    "    body.send_keys(Keys.PAGE_DOWN)\n",
    "    time.sleep(0.5)\n",
    "\n",
    "soup = BeautifulSoup(driver.page_source, 'html.parser')\n",
    "name = soup.select('a#video-title')\n",
    "video_url = soup.select('a#video-title')\n",
    "\n",
    "video_num_list = [] #영상번호\n",
    "name_list = [] #영상제목\n",
    "url_list = [] #영상주소\n",
    "\n",
    "for i in range(len(name)):\n",
    "    video_num_list.append(i+1)\n",
    "    name_list.append(name[i].text.strip())\n",
    "\n",
    "for i in video_url:\n",
    "    url_list.append('{}{}'.format('https://www.youtube.com',i.get('href')))\n"
   ]
  },
  {
   "cell_type": "code",
   "execution_count": 20,
   "metadata": {},
   "outputs": [
    {
     "name": "stdout",
     "output_type": "stream",
     "text": [
      "0 : 일반\n",
      "2021. 11. 19.\n",
      "1 : 일반\n",
      "2021. 7. 29.\n",
      "2 : 일반\n",
      "2022. 4. 5.\n",
      "3 : 일반\n",
      "2021. 8. 7.\n"
     ]
    }
   ],
   "source": [
    "#업로드일 가져오기\n",
    "day_list = [] #업로드일\n",
    "\n",
    "#업로드 일자 가져오기\n",
    "for i in range(0,len(name_list)):\n",
    "    if url_list[i].split('/')[3] == 'shorts':  #쇼츠\n",
    "\n",
    "        print(i, ': 쇼츠')\n",
    "        html_source = driver.page_source\n",
    "        soup = BeautifulSoup(html_source, 'html.parser')\n",
    "        \n",
    "        driver.get(url_list[i])\n",
    "\n",
    "        time.sleep(3)\n",
    "\n",
    "        #더보기 클릭\n",
    "        driver.find_element_by_xpath('/html/body/ytd-app/div[1]/ytd-page-manager/ytd-shorts/div[1]/ytd-reel-video-renderer[1]/div[2]/ytd-reel-player-overlay-renderer/div[2]/div[1]/ytd-menu-renderer/yt-icon-button/button/yt-icon').click()\n",
    "        time.sleep(2)\n",
    "\n",
    "        #설명 클릭\n",
    "        driver.find_element_by_xpath('/html/body/ytd-app/ytd-popup-container/tp-yt-iron-dropdown/div/ytd-menu-popup-renderer/tp-yt-paper-listbox/ytd-menu-service-item-renderer/tp-yt-paper-item').click()\n",
    "        time.sleep(4)\n",
    "\n",
    "        #업로드일 정보 가져오기\n",
    "        day = driver.find_element_by_id(\"publish-time\").text.split(':')[1].strip()\n",
    "\n",
    "        print(day)\n",
    "        day = day.replace('. ', '-')\n",
    "        day_list.append(day)\n",
    "        time.sleep(3)\n",
    "\n",
    "    else :\n",
    "        print(i, ': 일반')\n",
    "\n",
    "        driver.get(url_list[i])\n",
    "            \n",
    "        time.sleep(3)    \n",
    "\n",
    "        html_source = driver.page_source\n",
    "        soup = BeautifulSoup(html_source, 'html.parser')\n",
    "\n",
    "        time.sleep(3)  \n",
    "\n",
    "        #업로드일 정보 가져오기\n",
    "        #day = soup.select('#formatted-snippet-text > span:nth-child(3)')[0].text\n",
    "        day = driver.find_element_by_id(\"info-strings\").text.split('\\n')[0]\n",
    "        \n",
    "        print(day)\n",
    "        day = day.replace('. ', '-')\n",
    "        day_list.append(day)\n",
    "        time.sleep(3)"
   ]
  },
  {
   "cell_type": "code",
   "execution_count": 31,
   "metadata": {},
   "outputs": [
    {
     "data": {
      "text/html": [
       "<div>\n",
       "<style scoped>\n",
       "    .dataframe tbody tr th:only-of-type {\n",
       "        vertical-align: middle;\n",
       "    }\n",
       "\n",
       "    .dataframe tbody tr th {\n",
       "        vertical-align: top;\n",
       "    }\n",
       "\n",
       "    .dataframe thead th {\n",
       "        text-align: right;\n",
       "    }\n",
       "</style>\n",
       "<table border=\"1\" class=\"dataframe\">\n",
       "  <thead>\n",
       "    <tr style=\"text-align: right;\">\n",
       "      <th></th>\n",
       "      <th>제목</th>\n",
       "      <th>업로드일</th>\n",
       "      <th>주소</th>\n",
       "    </tr>\n",
       "  </thead>\n",
       "  <tbody>\n",
       "    <tr>\n",
       "      <th>0</th>\n",
       "      <td>150 / 160 / 170cm 다양한 소재의 원피스 핏 보여드려요👗 (+원피스코디...</td>\n",
       "      <td>2021-11-19</td>\n",
       "      <td>https://www.youtube.com/watch?v=KYJj06Ly9Ao</td>\n",
       "    </tr>\n",
       "    <tr>\n",
       "      <th>1</th>\n",
       "      <td>2172978)뷔스티에 롱 원피스/패턴,Bustier Long Dress</td>\n",
       "      <td>2021-07-29</td>\n",
       "      <td>https://www.youtube.com/watch?v=I7UOVYz9C0M</td>\n",
       "    </tr>\n",
       "    <tr>\n",
       "      <th>2</th>\n",
       "      <td>뷔스티에원피스 추천 판매순위 Top10 || 가격 평점 후기 비교</td>\n",
       "      <td>2022-04-05</td>\n",
       "      <td>https://www.youtube.com/watch?v=0z7UMFSWyN8</td>\n",
       "    </tr>\n",
       "    <tr>\n",
       "      <th>3</th>\n",
       "      <td>여름엔 원피스 하나로 충분해! 베스트 중 베스트만 모았다💚 77사이즈 통통녀 여름 ...</td>\n",
       "      <td>2021-08-07</td>\n",
       "      <td>https://www.youtube.com/watch?v=oZr5DTD4fM0</td>\n",
       "    </tr>\n",
       "  </tbody>\n",
       "</table>\n",
       "</div>"
      ],
      "text/plain": [
       "                                                  제목       업로드일  \\\n",
       "0  150 / 160 / 170cm 다양한 소재의 원피스 핏 보여드려요👗 (+원피스코디... 2021-11-19   \n",
       "1           2172978)뷔스티에 롱 원피스/패턴,Bustier Long Dress 2021-07-29   \n",
       "2               뷔스티에원피스 추천 판매순위 Top10 || 가격 평점 후기 비교 2022-04-05   \n",
       "3  여름엔 원피스 하나로 충분해! 베스트 중 베스트만 모았다💚 77사이즈 통통녀 여름 ... 2021-08-07   \n",
       "\n",
       "                                            주소  \n",
       "0  https://www.youtube.com/watch?v=KYJj06Ly9Ao  \n",
       "1  https://www.youtube.com/watch?v=I7UOVYz9C0M  \n",
       "2  https://www.youtube.com/watch?v=0z7UMFSWyN8  \n",
       "3  https://www.youtube.com/watch?v=oZr5DTD4fM0  "
      ]
     },
     "execution_count": 31,
     "metadata": {},
     "output_type": "execute_result"
    }
   ],
   "source": [
    "youtubeDic = {\n",
    "    '제목': name_list,\n",
    "    '업로드일': day_list,\n",
    "    '주소': url_list,\n",
    "}\n",
    "\n",
    "youtubeDf = pd.DataFrame(youtubeDic)\n",
    "youtubeDf['업로드일'] = pd.to_datetime(youtubeDf['업로드일'])\n",
    "youtubeDf.head()"
   ]
  },
  {
   "cell_type": "code",
   "execution_count": 24,
   "metadata": {},
   "outputs": [
    {
     "name": "stdout",
     "output_type": "stream",
     "text": [
      "<class 'pandas.core.frame.DataFrame'>\n",
      "RangeIndex: 4 entries, 0 to 3\n",
      "Data columns (total 4 columns):\n",
      " #   Column  Non-Null Count  Dtype         \n",
      "---  ------  --------------  -----         \n",
      " 0   영상 번호   4 non-null      int64         \n",
      " 1   제목      4 non-null      object        \n",
      " 2   업로드일    4 non-null      datetime64[ns]\n",
      " 3   주소      4 non-null      object        \n",
      "dtypes: datetime64[ns](1), int64(1), object(2)\n",
      "memory usage: 256.0+ bytes\n"
     ]
    }
   ],
   "source": [
    "youtubeDf.info()"
   ]
  },
  {
   "cell_type": "code",
   "execution_count": 32,
   "metadata": {},
   "outputs": [],
   "source": [
    "youtubeDf.to_csv('C:\\jupiter_workspace\\zam_project\\outputs/youtube_'+keyword +'.csv', encoding='utf-8-sig', index=False)"
   ]
  },
  {
   "cell_type": "code",
   "execution_count": null,
   "metadata": {},
   "outputs": [],
   "source": []
  }
 ],
 "metadata": {
  "interpreter": {
   "hash": "f08154012ddadd8e950e6e9e035c7a7b32c136e7647e9b7c77e02eb723a8bedb"
  },
  "kernelspec": {
   "display_name": "Python 3.9.7 ('base')",
   "language": "python",
   "name": "python3"
  },
  "language_info": {
   "codemirror_mode": {
    "name": "ipython",
    "version": 3
   },
   "file_extension": ".py",
   "mimetype": "text/x-python",
   "name": "python",
   "nbconvert_exporter": "python",
   "pygments_lexer": "ipython3",
   "version": "3.9.7"
  },
  "orig_nbformat": 4
 },
 "nbformat": 4,
 "nbformat_minor": 2
}
