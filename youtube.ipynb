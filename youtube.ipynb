{
 "cells": [
  {
   "cell_type": "code",
   "execution_count": 44,
   "metadata": {},
   "outputs": [],
   "source": [
    "from selenium import webdriver\n",
    "from selenium.webdriver.common.keys import Keys\n",
    "from bs4 import BeautifulSoup\n",
    "import pandas as pd\n",
    "import time\n",
    "import warnings"
   ]
  },
  {
   "cell_type": "code",
   "execution_count": 42,
   "metadata": {},
   "outputs": [],
   "source": [
    "def scroll_down(driver):\n",
    "    driver.execute_script(\"window.scrollTo(0,6000);\")\n",
    "    time.sleep(2)"
   ]
  },
  {
   "cell_type": "code",
   "execution_count": 45,
   "metadata": {},
   "outputs": [],
   "source": [
    "warnings.filterwarnings(action='ignore')\n",
    "\n",
    "driver = webdriver.Chrome('C:\\chromedriver.exe', options=chrome_options)\n",
    "\n",
    "# 키워드를 검색한 유튜브 주소 접속\n",
    "keyword = '원피스'\n",
    "\n",
    "url = 'https://www.youtube.com/results?search_query={}'.format(keyword)\n",
    "\n",
    "driver.get(url)\n",
    "\n",
    "#driver.maximize_window()"
   ]
  },
  {
   "cell_type": "code",
   "execution_count": 46,
   "metadata": {},
   "outputs": [],
   "source": [
    "# 필터 클릭\n",
    "driver.find_element_by_xpath('/html/body/ytd-app/div/ytd-page-manager/ytd-search/div[1]/ytd-two-column-search-results-renderer/div/ytd-section-list-renderer/div[1]/div[2]/ytd-search-sub-menu-renderer/div[1]/div/ytd-toggle-button-renderer/a/tp-yt-paper-button').click()\n",
    "\n",
    "time.sleep(1)\n",
    "\n",
    "# 구분 -> 동영상 클릭\n",
    "driver.find_element_by_xpath('/html/body/ytd-app/div/ytd-page-manager/ytd-search/div[1]/ytd-two-column-search-results-renderer/div/ytd-section-list-renderer/div[1]/div[2]/ytd-search-sub-menu-renderer/div[1]/iron-collapse/div/ytd-search-filter-group-renderer[2]/ytd-search-filter-renderer[1]/a/div/yt-formatted-string').click()"
   ]
  },
  {
   "cell_type": "code",
   "execution_count": 54,
   "metadata": {},
   "outputs": [
    {
     "data": {
      "text/html": [
       "<div>\n",
       "<style scoped>\n",
       "    .dataframe tbody tr th:only-of-type {\n",
       "        vertical-align: middle;\n",
       "    }\n",
       "\n",
       "    .dataframe tbody tr th {\n",
       "        vertical-align: top;\n",
       "    }\n",
       "\n",
       "    .dataframe thead th {\n",
       "        text-align: right;\n",
       "    }\n",
       "</style>\n",
       "<table border=\"1\" class=\"dataframe\">\n",
       "  <thead>\n",
       "    <tr style=\"text-align: right;\">\n",
       "      <th></th>\n",
       "      <th>영상 번호</th>\n",
       "      <th>제목</th>\n",
       "      <th>주소</th>\n",
       "    </tr>\n",
       "  </thead>\n",
       "  <tbody>\n",
       "    <tr>\n",
       "      <th>0</th>\n",
       "      <td>1</td>\n",
       "      <td>[원피스 3가지 떡밥 분석]키자루를 능가하는 럭키루의 사기적인 능력 그리고 드디어 ...</td>\n",
       "      <td>https://www.youtube.com/watch?v=zdW6L09sY1c</td>\n",
       "    </tr>\n",
       "    <tr>\n",
       "      <th>1</th>\n",
       "      <td>2</td>\n",
       "      <td>[원피스 1048화 풀버전 리뷰 및 분석]드디어 나오는 카이도와 루피의 마지막 필살...</td>\n",
       "      <td>https://www.youtube.com/watch?v=y--osDQfXrc</td>\n",
       "    </tr>\n",
       "    <tr>\n",
       "      <th>2</th>\n",
       "      <td>3</td>\n",
       "      <td>[원피스 1048화 최신화 풀버전 리뷰]드디어 탄생하는 역대 최연소 바다의 황제 루...</td>\n",
       "      <td>https://www.youtube.com/watch?v=Wq0hDqgVfXw</td>\n",
       "    </tr>\n",
       "    <tr>\n",
       "      <th>3</th>\n",
       "      <td>4</td>\n",
       "      <td>[원피스 분석]  정상결전 보다 더 거대한 전쟁에 원피스 매력적인 빌런들이 전부 등...</td>\n",
       "      <td>https://www.youtube.com/watch?v=qEEkLh05I30</td>\n",
       "    </tr>\n",
       "    <tr>\n",
       "      <th>4</th>\n",
       "      <td>5</td>\n",
       "      <td>원피스 캐릭터 싸움 실력 서열 정하기</td>\n",
       "      <td>https://www.youtube.com/watch?v=-skXi3GaUBg</td>\n",
       "    </tr>\n",
       "  </tbody>\n",
       "</table>\n",
       "</div>"
      ],
      "text/plain": [
       "   영상 번호                                                 제목  \\\n",
       "0      1  [원피스 3가지 떡밥 분석]키자루를 능가하는 럭키루의 사기적인 능력 그리고 드디어 ...   \n",
       "1      2  [원피스 1048화 풀버전 리뷰 및 분석]드디어 나오는 카이도와 루피의 마지막 필살...   \n",
       "2      3  [원피스 1048화 최신화 풀버전 리뷰]드디어 탄생하는 역대 최연소 바다의 황제 루...   \n",
       "3      4  [원피스 분석]  정상결전 보다 더 거대한 전쟁에 원피스 매력적인 빌런들이 전부 등...   \n",
       "4      5                               원피스 캐릭터 싸움 실력 서열 정하기   \n",
       "\n",
       "                                            주소  \n",
       "0  https://www.youtube.com/watch?v=zdW6L09sY1c  \n",
       "1  https://www.youtube.com/watch?v=y--osDQfXrc  \n",
       "2  https://www.youtube.com/watch?v=Wq0hDqgVfXw  \n",
       "3  https://www.youtube.com/watch?v=qEEkLh05I30  \n",
       "4  https://www.youtube.com/watch?v=-skXi3GaUBg  "
      ]
     },
     "execution_count": 54,
     "metadata": {},
     "output_type": "execute_result"
    }
   ],
   "source": [
    "# 제목 & 링크 크롤링\n",
    "\n",
    "# 스크롤 다운 50번 실행\n",
    "body = driver.find_element_by_tag_name('body')\n",
    "body.send_keys(Keys.PAGE_DOWN)\n",
    "\n",
    "for i in range(1,10):\n",
    "    body.send_keys(Keys.PAGE_DOWN)\n",
    "    time.sleep(0.5)\n",
    "\n",
    "soup = BeautifulSoup(driver.page_source, 'html.parser')\n",
    "name = soup.select('a#video-title')\n",
    "video_url = soup.select('a#video-title')\n",
    "\n",
    "video_num_list = [] #영상번호\n",
    "name_list = [] #영상제목\n",
    "url_list = [] #영상주소\n",
    "watch_list = []\n",
    "\n",
    "for i in range(len(name)):\n",
    "    video_num_list.append(i+1)\n",
    "    name_list.append(name[i].text.strip())\n",
    "\n",
    "\n",
    "for i in video_url:\n",
    "    url_list.append('{}{}'.format('https://www.youtube.com',i.get('href')))\n",
    "    watch_list.append('{}{}'.format('https://www.youtube.com',i.get('aria-label')))\n",
    "    \n",
    "    \n",
    "youtubeDic = {\n",
    "    '영상 번호' : video_num_list,\n",
    "    '제목': name_list,\n",
    "    '주소': url_list,\n",
    "}\n",
    "\n",
    "youtubeDf = pd.DataFrame(youtubeDic)\n",
    "youtubeDf.head()"
   ]
  },
  {
   "cell_type": "code",
   "execution_count": 55,
   "metadata": {},
   "outputs": [
    {
     "data": {
      "text/plain": [
       "['https://www.youtube.com[원피스 3가지 떡밥 분석]키자루를 능가하는 럭키루의 사기적인 능력 그리고 드디어 등장하는 로저해적단의 3인자 스코퍼가반 게시자: 조야tv 1시간 전 8분 12초 조회수 15,967회',\n",
       " 'https://www.youtube.com[원피스 1048화 풀버전 리뷰 및 분석]드디어 나오는 카이도와 루피의 마지막 필살기 그리고 서서히 밝혀지는 악마의 열매의 정체 게시자: 조야tv 2일 전 8분 25초 조회수 238,092회',\n",
       " 'https://www.youtube.com[원피스 1048화 최신화 풀버전 리뷰]드디어 탄생하는 역대 최연소 바다의 황제 루피와 해군원수 아카이누를 격파할 패왕색 류오 게시자: 드원패밀리 4시간 전 8분 28초 조회수 33,185회',\n",
       " 'https://www.youtube.com[원피스 분석]  정상결전 보다 더 거대한 전쟁에 원피스 매력적인 빌런들이 전부 등장한다고? 매력적인 빌런 최근 근황과 재등장 떡밥 게시자: 랜덤TV 1일 전 9분 조회수 126,348회',\n",
       " 'https://www.youtube.com원피스 캐릭터 싸움 실력 서열 정하기 게시자: 침착맨 2일 전 32분 조회수 665,494회',\n",
       " 'https://www.youtube.com원피스 애니 1화~1005화 40분만에 다보기 게시자: 쵸파 TV 1년 전 40분 조회수 2,567,538회',\n",
       " 'https://www.youtube.com[원피스 1048화 최신근황 리뷰]무려 루피 기어5 VS 용왕 카이도 역대급 최후의 기술 패왕색 패기 전투신 공개 게시자: 드원패밀리 2일 전 4분 9초 조회수 83,224회',\n",
       " 'https://www.youtube.com[원피스 분석] 원피스에서 가장 강한 10명의 검사.. 매의 눈 미호크도 방심할 수 없는 최강의 검사들은!? 게시자: 상디의 게임 이야기 17시간 전 9분 43초 조회수 18,123회',\n",
       " 'https://www.youtube.com[원피스 1047화 심층분석]티치의 각성으로 순록으로 돌아가는 쵸파 그리고 쵸파 열매의 최종각성 만병통치약 게시자: 조야tv 13일 전 14분 19초 조회수 280,323회',\n",
       " 'https://www.youtube.com[원피스 정보와 분석] 원피스 결말 정상결전보다 더 거대한 전쟁의 주역 신들의 전쟁 사황도 꺾은 최악의 세대의 충격적인 최근 근황과 앞으로의 행보 그리고 강함 게시자: 랜덤TV 2주 전 11분 57초 조회수 162,272회',\n",
       " 'https://www.youtube.com[원피스 1049화 미리보기!] 카이도우의 패배는 예정되어 있었다? 길었던 와노쿠니 편의 충격적인 마지막 전투! 태양신 루피와 화룡왕 카이도우 최후의 패왕색 충돌! 게시자: 키득여우TV 23시간 전 3분 25초 조회수 18,767회',\n",
       " 'https://www.youtube.com[원피스 분석] 루피의 엄마는 크로커다일!? 루피 엄마에 대한 충격적인 추측들!! 게시자: 상디의 게임 이야기 3시간 전 5분 19초 조회수 5,807회',\n",
       " 'https://www.youtube.com[원피스 1046화 심층분석] 대해를 가르는 전쟁에서 티치를 상대로 루피와 손을잡을 카타쿠리와 밝혀지는 새로운 고대병기 천둥의 신 쥬피터 몽키 D 루피! 게시자: 랜덤TV 3주 전 8분 13초 조회수 263,053회',\n",
       " 'https://www.youtube.com[원피스 최신분석]드디어 전설급 해적 루피 앞에 등장하는 패기의 강자 칠무해 위블과 해군대장 로쿠규... 게시자: 드원패밀리 6일 전 6분 12초 조회수 213,618회',\n",
       " 'https://www.youtube.com[원피스 정보] 서서히 밝혀지는 원피스 과거 스토리 최근 회수된 원피스 중요한 떡밥 5가지 게시자: 랜덤TV 7일 전 8분 26초 조회수 222,682회',\n",
       " 'https://www.youtube.com[원피스 1048화 풀버전 리뷰와 자세한 분석] 원피스 연재 25년만에 밝혀진 소름돋는 루피의 비밀 니카 열매도 버티는 카이도의 사기적인 능력 게시자: 랜덤TV 2일 전 8분 1초 조회수 166,293회',\n",
       " 'https://www.youtube.com[원피스 1047화 최신화 풀버전 리뷰]세계관 최강의 패기 보유자 해적왕 로저 그리고 믿을 수 없는 루피의 역대급 사기적 능력과 전투신 공개 게시자: 드원패밀리 2주 전 8분 40초 조회수 192,683회',\n",
       " 'https://www.youtube.com[원피스 1048화 풀버전 리뷰 및 분석!] 마침내 공개된 기어5 루피 최후의 기술! 루피 최후의 기술과 격돌하는 카이도우가 숨겨둔 역대급 최강의 각성 능력! 게시자: 키득여우TV 3일 전 3분 43초 조회수 37,373회',\n",
       " 'https://www.youtube.com[원피스] - 1048화까지 공개된 기어5 태양신 니카모드 총정리, 1부부터 착실히 쌓아온 떡밥 게시자: 만화보는 혁이 : Comics Hyeok 18시간 전 9분 20초 조회수 2,198회',\n",
       " 'https://www.youtube.com[원피스 1015화] 카이도우 한테 핵 꿀밤 날리는 루피 게시자: 카마도 춘식 10일 전 6분 4초 조회수 42,145회',\n",
       " 'https://www.youtube.com마프르서버 쟁이 터졌다고 하네요! 원피스 vs 더킹 - 【리니지2레볼루션 天堂2:革命】 게시자: 진투레볼루션 15시간 전 56분 조회수 506회',\n",
       " 'https://www.youtube.com[원피스 분석] 오다도 놀랐다 서서히 밝혀지는 원피스 정체와 최근 논란중인 충격적인 원피스 결말 게시자: 랜덤TV 3주 전 9분 41초 조회수 204,503회',\n",
       " 'https://www.youtube.comNew 코드 [로블록스] S+ 등급 후지토라 중력 세트 등장 !! 어원피스  A 0ne Piece Game 게시자: [PitBull]핏불 17시간 전 5분 39초 조회수 6,643회',\n",
       " 'https://www.youtube.com[원피스 1046화 풀버전 리뷰와 자세한분석] 드디어 밝혀지는 고무고무 열매(사람사람 열매 환수종 모델 니카) 각성 조건 제우스의 번개의 힘을 사용하는 루피의 진짜 각성 능력 게시자: 랜덤TV 4주 전 8분 15초 조회수 369,732회',\n",
       " 'https://www.youtube.com패션 여름중년코디원피스쉬폰원피스  초여름옷 40. 60패션 게시자: 모란tv 16시간 전 7분 49초 조회수 2,679회',\n",
       " 'https://www.youtube.com[원피스 최신근황]전투력 폭발 최강 밀짚모자 해적단 탄생!? 뇌신 루피 염왕 조로 혈통인자 각성 상디 강함 근황... 게시자: 드원패밀리 3주 전 9분 2초 조회수 203,695회',\n",
       " 'https://www.youtube.comEX LUFFY IS BACK, Happy Birthday! 350 GEMS SUMMON But Should You? 🤔 | ONE PIECE Bounty Rush (OPBR) 게시자: OPLuqman 21시간 전 10분 15초 조회수 13,465회',\n",
       " 'https://www.youtube.com[원피스 분석] 보아 핸콕을 노리는 대장 후지토라와 코비 대령.. 해군 최고 전력 SSG의 역습과 체포 당하는 핸콕!? 게시자: 상디의 게임 이야기 9일 전 5분 10초 조회수 48,190회',\n",
       " 'https://www.youtube.com[원피스 1047화 심층분석] 루피의 거대한 주먹을 받아칠 카이도의 최후의 기술 그리고 패기로만 검은수염 티치를 제압할 해적 몽키 D 루피와 해군 코비 게시자: 랜덤TV 10일 전 8분 16초 조회수 151,086회',\n",
       " 'https://www.youtube.com💖H&M 원피스 언박싱💖 | 신상 원피스 이쁜거 왤케 많아?👗 게시자: wanda show 21시간 전 10분 30초 조회수 35,205회',\n",
       " 'https://www.youtube.com땀 많고 더위 많이 타는 중년여성패션코디.린넨 민소매원피스. 린넨 맞춤옷. 린넨 레이어드. Linen sleeveless dress. linen tailoring. 게시자: 꽃중년 Fashion Gardening 23시간 전 11분 59초 조회수 1,403회',\n",
       " 'https://www.youtube.com로블록스 어 원피스 최신 5월 사용가능 코드 총정리 2022 [어피스/사이트] 게시자: 케헤헤TV 20시간 전 1분 3초 조회수 648회',\n",
       " 'https://www.youtube.com원피스게임 그랜드 피라티스 오늘나온 신규코드 !! 게시자: 겜뉴비TV 17시간 전 1분 28초 조회수 1,044회',\n",
       " 'https://www.youtube.com스트리머로 원피스 수배서를 만든다면 3 게시자: 손슈건 19시간 전 1분 47초 조회수 1,353회',\n",
       " 'https://www.youtube.com[원피스 1047화 풀버전 리뷰와 자세한 분석]  원피스 연재 25년만에 공개되는 골 D 로저(샹크스)의 능력 그리고 해적왕 골 D 로저와 샹크스의 패기를 넘어서는 루피! 게시자: 랜덤TV 2주 전 8분 48초 조회수 253,394회',\n",
       " 'https://www.youtube.com[센언니쇼타임] 엄마에게, 딸에게 선물하기 좋은! 가정의달 기념 시원한 쿨 원피스 추천!! 하나씩 선물하고 같이 입으세요~ 게시자: 지센 10분 전 8분 58초 조회수 없음',\n",
       " 'https://www.youtube.com[짧분] 원피스 나미 [Onepiece] 게시자: 누르끼끼FBJ 22시간 전 52초 조회수 22,605회 - Shorts 동영상 재생',\n",
       " 'https://www.youtube.com#11 쇼핑몰 포장영상 VLOG / 늘어나는 주문건 / 원피스 맛집 게시자: 꼬니날다 1시간 전 10분 12초 조회수 8회',\n",
       " 'https://www.youtube.com아이싱쿠키로 원피스 루피 피규어 만들기 게시자: 쿼카민 43분 전 13분 12초 조회수 없음',\n",
       " 'https://www.youtube.com[원피스 1047화 풀버전 리뷰 및 자세한 분석]드디어 밝혀진 해적왕 로저 능력의 정체 그리고 티치의 최종각성으로 악마의 능력을 잃는 루피 게시자: 조야tv 2주 전 9분 59초 조회수 392,953회',\n",
       " 'https://www.youtube.com[원피스 1046화 최신화 풀버전 리뷰]드디어 뇌신 루피와 사황 카이도 마지막 전투 그리고 모든 것을 끝내기 위한 루피 최후의 기술 공개 게시자: 드원패밀리 4주 전 8분 47초 조회수 357,999회',\n",
       " 'https://www.youtube.com[원피스 1048화 리뷰 및 분석] 카이도의 최종각성 일대일 최강자는 누구? 패왕색 사용자가 4명인 해적단 탄생?! 게시자: 나미TV-애니 리뷰 3일 전 4분 24초 조회수 155,657회',\n",
       " 'https://www.youtube.com[원피스 분석] 오다가 최근 공개한 몽키 D 드래곤의 관한 소름돋는 정보 그리고 서서히 밝혀지는 몽키 D 드래곤의 열매와 능력 게시자: 랜덤TV 2주 전 8분 24초 조회수 268,403회',\n",
       " 'https://www.youtube.com[원피스 랭킹] 2022년 최신 원피스 최강의 열매 TOP 10 (태양의 신 니카의 열매 등장) 게시자: 랜덤TV 1개월 전 9분 22초 조회수 265,343회',\n",
       " 'https://www.youtube.com[원피스 1044화 심층분석 1부]태양의 힘을 사용하는 루피의 진정한 각성 그리고 드디어 밝혀지는 샹크스의 정체 게시자: 조야tv 1개월 전 14분 3초 조회수 552,200회',\n",
       " 'https://www.youtube.com[원피스] 2022년 새로운 미친떡밥 5가지 게시자: 쵸파 TV 1개월 전 9분 8초 조회수 353,304회',\n",
       " 'https://www.youtube.com[원피스 1046화 심층분석]루피가 먹은 열매의 정체 고대병기 우라노스 그리고 토트랜드에 침입한 검은수염해적단 게시자: 조야tv 3주 전 11분 21초 조회수 275,766회',\n",
       " 'https://www.youtube.com[원피스 분석] 등장해서는 안될 최강의 인물의 등장 게시자: 원도원피스도서관 3주 전 6분 54초 조회수 56,259회',\n",
       " 'https://www.youtube.com[원피스 1045화 풀버전 리뷰와 자세한 분석] 어둠의 신 티치의 어둠어둠 열매 각성 능력과 자신의 생명으로 사람을 치유하는 태양의 신 루피 그리고 이무의 열매 능력 게시자: 랜덤TV 1개월 전 8분 1초 조회수 310,481회',\n",
       " 'https://www.youtube.com[원피스 분석] 지상최강의 생물 사황 카이도를 가지곤 논 개사기 열매 몽키 D 루피에게 신의 능력을 준 오다의 의도 게시자: 랜덤TV 1개월 전 8분 43초 조회수 351,313회',\n",
       " 'https://www.youtube.com[원피스 분석]그림자그림자 열매의 숨어있는 충격적인 비밀 그리고 세계를 뒤집으려는 티치의 계획 게시자: 조야tv 9일 전 9분 37초 조회수 137,710회',\n",
       " 'https://www.youtube.com짝퉁 원피스, 당신이 몰랐던 11가지 사실 게시자: 괴인협회 1일 전 5분 38초 조회수 450,288회',\n",
       " 'https://www.youtube.com[원피스 1046화 풀버전 리뷰 및 분석]뇌신의 힘을 사용하는 명왕 루피 그리고 드디어 각성하기 시작하는 저승의 왕 조로의 흑도 게시자: 조야tv 4주 전 10분 34초 조회수 477,659회',\n",
       " 'https://www.youtube.com[원피스 1043화 최신화 풀버전 리뷰]25년만에 처음으로 밝혀진 주인공 루피의 진짜 정체 미친 근황... 게시자: 드원패밀리 1개월 전 9분 12초 조회수 303,943회',\n",
       " 'https://www.youtube.com[원피스 분석] 레전드 떡밥3가지 2탄 이무의 악마의 열매 그리고 조로 왼쪽 눈 게시자: 조야tv 3주 전 15분 조회수 236,467회',\n",
       " 'https://www.youtube.com[원피스 분석] 환수종 태양신 니카의 힘을 쓰는 각성 루피.. 자연계, 초인계, 동물계 3개의 능력을 얻다!! 게시자: 상디의 게임 이야기 1개월 전 8분 58초 조회수 685,824회',\n",
       " 'https://www.youtube.com[원피스 최신분석]사황 샹크스 해군원수 아카이누에게 패배하는 루피!? 그리고 전설급 패기 사용자로 탄생하게 될 루피 최후의 패왕색 류오 각성 게시자: 드원패밀리 10일 전 6분 16초 조회수 116,483회',\n",
       " 'https://www.youtube.com[원피스 분석] 서서히 밝혀지는 원피스 유일한 역대 사기 능력 태양의 신 몽키 D 루피의 진정한 태양의 힘 그리고 D의 이름과 밀짚모자의 의미 게시자: 랜덤TV 1개월 전 8분 34초 조회수 350,396회',\n",
       " 'https://www.youtube.com[원피스 분석]루피의 사람사람열매 모델 니카를 잇는 또 하나의 전설의 열매 쵸파의 사람사람열매 게시자: 조야tv 1개월 전 13분 4초 조회수 415,623회',\n",
       " 'https://www.youtube.com[원피스 1047화 미리보기!] 마침내 공개되는 카이도우와 충돌한 기어5 루피 새로운 최강의 기술과 오니가시마의 폭발로 동료들의 죽음의 위기에 각성하기 시작하는 조로! 게시자: 키득여우TV 3주 전 4분 17초 조회수 77,428회',\n",
       " 'https://www.youtube.com[원피스 1045화 최신근황 리뷰]미쳐버린 루피의 전투력!? 사황 카이도를 압도하는 신의경지급 기어5 사기적 능력 공개 게시자: 드원패밀리 1개월 전 3분 40초 조회수 136,934회',\n",
       " 'https://www.youtube.com[원피스 1044화 풀버전 리뷰 및 자세한분석] 원피스 세계관 역대 사기 능력 드디어 밝혀진 세계정부가 두려워 한 열매 능력 태양신 각성 대륙을 하나로 만드는 루피! 게시자: 랜덤TV 1개월 전 8분 22초 조회수 447,921회',\n",
       " 'https://www.youtube.com[원피스 분석]모네의 열매 자연계 눈눈열매를 먹는 나미 그리고 고대병기 플루톤과 함께 등장하는 갓 에넬 게시자: 조야tv 2주 전 11분 25초 조회수 316,340회',\n",
       " 'https://www.youtube.com[원피스 분석] 드디어 밝혀지는 태양의 신 루피의 고무고무 열매 각성 능력과 고무고무 열매의 진짜 이름! 게시자: 랜덤TV 1개월 전 8분 23초 조회수 548,721회',\n",
       " 'https://www.youtube.com[원피스 1044화 심층분석 2부]루피 각성의 숨겨진 밀짚모자의 비밀 그리고 루피열매의 선대주인 록스. D. 지벡 게시자: 조야tv 1개월 전 15분 조회수 491,788회',\n",
       " 'https://www.youtube.com[원피스 분석] 패기가 최강의 능력이라고? 2022년 현재까지 새롭게 밝혀진 충격적인 원피스 최강의 능력! 게시자: 키득여우TV 3일 전 4분 30초 조회수 10,585회',\n",
       " \"https://www.youtube.com[원피스 1047화 최신 스포] 태양신 루피의 '고무고무 번개'와 상상을 초월하는 신기술.. 로저의 능력에 대해 언급하는 카이도!! 게시자: 상디의 게임 이야기 2주 전 2분 19초 조회수 165,798회\",\n",
       " 'https://www.youtube.com[원피스 분석] 25년만에 밝혀질 원피스의 정체는 \"마법의 동화책\" 게시자: 쵸파 TV 3주 전 10분 41초 조회수 165,860회',\n",
       " \"https://www.youtube.com[원피스 분석] 태양의 신 루피 vs 바다의 신 이무 최종결전!? 악마가 아닌 '신'의 힘이 담긴 니카 열매!! 게시자: 상디의 게임 이야기 1개월 전 5분 36초 조회수 186,317회\",\n",
       " 'https://www.youtube.com[원피스 분석]무려 800년만에 세계정부와 싸우는 사황 샹크스와 뇌신 루피 최후의 전투와 마지막 운명!! 게시자: 드원패밀리 2주 전 4분 32초 조회수 74,066회',\n",
       " 'https://www.youtube.com[원피스 1046화 근황 및 최신정보]새롭게 밝혀진 루피와 샹크스의 진실과 뇌신 루피 등장!! 게시자: 드원패밀리 4주 전 3분 33초 조회수 136,086회',\n",
       " \"https://www.youtube.com[원피스 1048화 추가 스포] 루피의 신기술 '고무고무 원숭이 신총', 화염 용이 된 카이도의 새로운 모습.. 점점 끝나는 와노쿠니편!! 게시자: 상디의 게임 이야기 3일 전 2분 17초 조회수 39,220회\",\n",
       " \"https://www.youtube.com[원피스 정보] 샹크스에게 숨겨진 딸이 있었다!? 필름 레드의 보스 '우타'와 사황 샹크스의 충격적인 관계!! 게시자: 상디의 게임 이야기 3주 전 3분 49초 조회수 128,773회\",\n",
       " 'https://www.youtube.com[원피스 분석]연재 25년만에 탄생하는 태양의 신 루피의 사기적 능력과 완벽히 부활하는 염왕 조로의 믿을 수 없는 강함... 게시자: 드원패밀리 1개월 전 6분 6초 조회수 271,891회',\n",
       " 'https://www.youtube.com[원피스 순위예상]현상금 최신버전 와노쿠니 전투 이후 밀짚모자 해적단과 루피연합 로우 키드의 현상금 순위 예상 반응 조로,루피,상디,프랑키,로빈,우솝,쵸파,나미,브룩,야마토,징베 게시자: 불사조 마르코 2주 전 10분 18초 조회수 82,445회',\n",
       " 'https://www.youtube.com[원피스 1044화 심층분석] 세가지 열매의 특성을 가질 제천대성 손오공 루피와 수술수술열매 궁극의 기술 불로수술을 사용할 로우 그리고 드러나는 니카의 정체와 악마의 열매의 비밀 게시자: 랜덤TV 1개월 전 9분 24초 조회수 327,452회',\n",
       " 'https://www.youtube.com[원피스 1046화 확정 스포 최신 정보!] 드디어 공개되는 에이스보다 강력한 태양을 던지는 기어5 최후의 기술? 라이조의 활약으로 시작되는 카이도우와 루피의 마지막 전투! 게시자: 키득여우TV 1개월 전 2분 36초 조회수 61,716회',\n",
       " 'https://www.youtube.com20년만에 밝혀지는 로저의 능력 [드디어 원피스 1047화 전체내용 공개] 게시자: 원도원피스도서관 2주 전 4분 19초 조회수 12,746회',\n",
       " 'https://www.youtube.com[원피스 분석] 카이도, 세계정부도 막을 수 없는 태양신 루피.. 조이보이의 진정한 힘과 즈니샤의 정체는 환수종 능력자!? 게시자: 상디의 게임 이야기 3주 전 6분 6초 조회수 173,556회',\n",
       " 'https://www.youtube.com[원피스 최신정보]드디어 공개 된 원피스 최강의 열매 태양신 루피의 탄생으로 난리난 현재상황 게시자: 드원패밀리 1개월 전 3분 27초 조회수 115,930회',\n",
       " 'https://www.youtube.com[원피스 분석] 로저가 본 원피스의 정체와 태양신 에이스를 계획한 샹크스.. 샹크스는 과연 흑막일까? 게시자: 상디의 게임 이야기 1개월 전 8분 35초 조회수 222,842회',\n",
       " 'https://www.youtube.com[원피스 1045화 심층분석]몽키 D 레드라인을 창조해낸 충격적인 이무의 열매 사람사람열매 모델 환수종 대지의 신 게시자: 조야tv 1개월 전 11분 4초 조회수 284,823회',\n",
       " 'https://www.youtube.com[원피스 분석] 사황, 해군 대장도 방심할 수 없는 세최검 미호크.. 샹크스의 영원한 라이벌, 미호크 명장면 모음!! 게시자: 상디의 게임 이야기 4일 전 4분 53초 조회수 39,446회',\n",
       " 'https://www.youtube.com[원피스 분석] 태양신 루피 vs 어둠신 검은수염 최후의 결전.. 원피스를 눈 앞에 둔 밀짚모자 일당과 검은수염 해적단 전투!! 게시자: 상디의 게임 이야기 3주 전 8분 51초 조회수 74,766회',\n",
       " 'https://www.youtube.com[원피스 1045화 풀버전 리뷰 및 분석]거인으로 변신해 카이도를 압도하는 루피 그리고 자신과 모두를 치유하는 루피의 마지막 각성 게시자: 조야tv 1개월 전 8분 2초 조회수 413,279회',\n",
       " 'https://www.youtube.com[원피스 1046화 최신 스포] 태양신 루피 vs 사황 카이도 계속되는 싸움.. 이번화 주인공은 ███ !! 게시자: 상디의 게임 이야기 1개월 전 2분 7초 조회수 169,460회',\n",
       " 'https://www.youtube.com[원피스 1044화 풀버전 리뷰 및 분석] 충격적인 루피의 기어5와 니카 열매 각성.. 대장, 사황보다 강해진 루피 강함!! 게시자: 상디의 게임 이야기 1개월 전 8분 55초 조회수 375,462회',\n",
       " 'https://www.youtube.com[원피스 1045화 심층분석]  태양의 신 니카의 동료 싸움의 신 엘바프 그리고 최초의 해적 조이보이 빙크스의 후손 붉은머리 샹크스의 출생의 비밀 하얀머리 몽키 D 루피! 게시자: 랜덤TV 1개월 전 8분 26초 조회수 207,415회',\n",
       " 'https://www.youtube.com가장 위험한 상성을 파괴하는 고무고무 열매의 천적    [ 원피스 ] 게시자: 원도원피스도서관 2주 전 7분 28초 조회수 46,442회',\n",
       " 'https://www.youtube.com[원피스 1048화 미리보기!] 카이도우를 쓰러뜨리고 마침내 해적왕 로저를 뛰어넘은 기어5 루피! 드디어 탄생하는 조로의 흑도 역대 최강 최상명검! 게시자: 키득여우TV 13일 전 3분 28초 조회수 87,063회',\n",
       " 'https://www.youtube.com[원피스 분석] 니카열매를 갖고있던 샹크스의 충격적 비밀 게시자: 쵸파 TV 1개월 전 8분 9초 조회수 386,890회',\n",
       " 'https://www.youtube.com[원피스 애니 1015화 명장면 자막X] 카이도를 패버리고, \"본인은 해적왕이 될 남자\" 라고 외치는 루피! 게시자: 원나블TV 12일 전 1분 1초 조회수 240,673회',\n",
       " 'https://www.youtube.com[원피스 1047화 최신근황 리뷰] 처음으로 25년만에 밝혀진 역대급 사기적 능력자 루피를 뛰어넘는 전설의 해적왕 로저의 비밀 게시자: 드원패밀리 2주 전 3분 53초 조회수 138,951회',\n",
       " 'https://www.youtube.com[원피스 1048화 예측] 태양신 루피의 필살기를 버티는 카이도.. 해적왕 로저를 뛰어넘으려는 루피와 최후의 패기 싸움!! 게시자: 상디의 게임 이야기 11일 전 4분 20초 조회수 43,735회',\n",
       " 'https://www.youtube.com[원피스 1043화 심층분석] 원피스 연재 시작부터 계획된 오다 에이치로의 소름돋는 설정 타인을 재생하는 루피? 조이보이의 영혼? 방긋방긋 열매 능력자 태양의 신 루피! 게시자: 랜덤TV 1개월 전 8분 39초 조회수 297,670회',\n",
       " 'https://www.youtube.com[원피스 1048화 최신 스포] 최강 카이도를 향한 루피의 초대형 공격.. 드디어 최후를 맞이한 오로치!? 게시자: 상디의 게임 이야기 5일 전 2분 11초 조회수 75,291회',\n",
       " 'https://www.youtube.com[원피스 1043화 풀버전 리뷰와 자세한 분석] 원피스 연재 25년만에 등장하는 고무고무 열매의 정체 그리고 고무고무 열매 각성 태양의 신이 된 루피! 게시자: 랜덤TV 1개월 전 8분 1초 조회수 478,926회',\n",
       " 'https://www.youtube.com[원피스 1044화 최신근황 리뷰]드디어 진짜 미쳐버린 태양의 신 루피 기어5 탄생과 사기적 능력 공개... 게시자: 드원패밀리 1개월 전 3분 32초 조회수 180,409회',\n",
       " 'https://www.youtube.com[원피스 1048화 풀버젼 리뷰 및 분석] 루피와 카이도 최종전 돌입과 점점 다가오는 와노쿠니 결말.. 아카이누보다 강한 카이도의 초대형 화염용!! 게시자: 상디의 게임 이야기 2일 전 8분 19초 조회수 33,843회',\n",
       " 'https://www.youtube.com[원피스 1048화 확정 스포 최신 정보!] 죽음의 위기에 직면한 히요리의 눈앞에 나타난 의외의 인물과 루피의 마지막 공격에 최악의 위기에 빠진 오니가시마! 게시자: 키득여우TV 6일 전 2분 10초 조회수 26,804회',\n",
       " 'https://www.youtube.com[원피스 1046화] 죽음의 위기에 빠진 조로! 번개의 힘까지 사용하는 사기루피 ㅋㅋㅋ 게시자: 나미TV-애니 리뷰 4주 전 2분 26초 조회수 47,590회',\n",
       " 'https://www.youtube.com[원피스 1039화 풀버전 리뷰 및 자세한 분석]사황체제의 몰락 그리고 새로운 오황 체제 샹크스 티치 루피와 함께 오황이 되는 로우 키드 게시자: 조야tv 3개월 전 10분 34초 조회수 224,865회',\n",
       " 'https://www.youtube.com[원피스 분석] 태양신 니카의 정체가 밝혀졌다!? 루피의 몸에서 나온 액체의 정체는 ████ !! 게시자: 상디의 게임 이야기 1개월 전 4분 26초 조회수 227,240회',\n",
       " 'https://www.youtube.com[원피스 분석] 태양신 루피와 혁명군 드래곤의 만남!? 사보의 충격적인 근황과 와노쿠니 편 이후 사보를 구하는 에피소드 시작!! 게시자: 상디의 게임 이야기 2주 전 6분 17초 조회수 214,719회',\n",
       " 'https://www.youtube.com[원피스1048화 공개] 가장 강력한 악마의 열매와 패기의 충돌의 비밀 게시자: 원도원피스도서관 3일 전 8분 23초 조회수 34,648회',\n",
       " 'https://www.youtube.com[원피스 1038화 풀버전 리뷰] 키드, 로 최후의 공격과 빅맘의 충격적인 패배.. 새로운 사황의 탄생!? 게시자: 상디의 게임 이야기 3개월 전 8분 59초 조회수 85,308회',\n",
       " 'https://www.youtube.com[원피스 1037화 심층분석] 연재 25년만에 밝혀지는 충격전개 루피가 먹은 열매는 고무고무 열매가 아니다? 게시자: 랜덤TV 3개월 전 9분 38초 조회수 601,335회',\n",
       " 'https://www.youtube.com[원피스 1037화 최신정보 및 자세한 분석]와노쿠니에 등장하는 검은수염 해적단 그리고 티치가 찾는 마지막 록스 D 지벡의 열매 게시자: 조야tv 3개월 전 10분 14초 조회수 222,402회',\n",
       " \"https://www.youtube.com[원피스 1043화 풀버전리뷰 및 자세한 분석]드디어 시작되는 루피의 최종각성 그리고 고무고무 열매에 봉인된 '태양의 신 니카' 게시자: 조야tv 1개월 전 12분 25초 조회수 661,360회\",\n",
       " 'https://www.youtube.com원피스 전투력 티어표 [上] 게시자: 누르끼끼FBJ 1일 전 11분 25초 조회수 13,007회',\n",
       " 'https://www.youtube.com[원피스 분석] 연재 25년 만에 샹크스까지 모두 공개된 사황의 아이들! 부모를 뛰어넘는 역대급 최강의 능력! 게시자: 키득여우TV 2주 전 4분 27초 조회수 15,635회',\n",
       " 'https://www.youtube.com[원피스 분석] 밀짚모자 해적단에 패왕색 사용자가 6명인 이유 세계 최강의 일당이 되야한다면 게시자: 원잘알 2주 전 8분 57초 조회수 211,047회',\n",
       " 'https://www.youtube.com최근 난리난 원피스 결말떡밥, 루피의 각성이 주는 힌트!? 게시자: 심킹 4주 전 14분 29초 조회수 64,547회',\n",
       " 'https://www.youtube.com[원피스 1047화 확정 스포 최신 정보!] 연재 25년 만에 로저 능력 논란 종결! 카이도우의 회상으로 마침내 밝혀진 충격적인 로저 능력의 진실! 게시자: 키득여우TV 2주 전 2분 10초 조회수 30,849회',\n",
       " 'https://www.youtube.com고무고무 열매의 진정한 주인의 등장 게시자: 원도원피스도서관 10일 전 10분 5초 조회수 52,084회',\n",
       " 'https://www.youtube.com[원피스 1046화 풀버전 리뷰(그림포함)] 오다오다 열매를 먹고 신이 된 루피.. 레드라인도 부서지기 쉽게 만드는 사기능력?!! 게시자: 나미TV-애니 리뷰 4주 전 5분 35초 조회수 70,490회',\n",
       " 'https://www.youtube.com[원피스]아는 사람만 아는 재밌고 놀라운 사실들!! 게시자: 심킹 1개월 전 8분 4초 조회수 91,236회',\n",
       " 'https://www.youtube.com[원피스 분석] 세계에 절망한 어긋난 샹크스의 의지! 마침내 밝혀지는 샹크스의 충격적인 과거와 새롭게 밝혀진 샹크스의 딸 우타의 세계를 멸망시킬 끔찍한 계획! 게시자: 키득여우TV 3주 전 2분 34초 조회수 22,610회',\n",
       " 'https://www.youtube.com[원피스 분석] 태양신 루피의 새로운 각성 기술!? 자연계 번개와 패왕색을 두르는 루피의 힘!! (1047화 예측) 게시자: 상디의 게임 이야기 3주 전 5분 7초 조회수 132,484회',\n",
       " 'https://www.youtube.com[원피스 분석] 자연계 최강의 번개까지 쓰는 뇌신 루피.. 무한대의 힘을 가진 태양신 루피의 힘과 점점 다가오는 카이도의 최후!! 게시자: 상디의 게임 이야기 4주 전 8분 39초 조회수 101,823회',\n",
       " 'https://www.youtube.com[가상대결] 현시점 루피가 정상결전에 참전 한다면? 게시자: 누르끼끼FBJ 3주 전 13분 49초 조회수 178,607회',\n",
       " 'https://www.youtube.com[원피스 1042화 최신화 풀버전 리뷰]믿을 수 없는 루피의 충격적인 패배 그리고 죽음의 위기에서 탄생하는 최후의 기어5... 게시자: 드원패밀리 2개월 전 9분 6초 조회수 147,527회',\n",
       " 'https://www.youtube.com[원피스분석]드디어 등장하는 루피의 산하해적단 그리고 시작되는 정상전쟁이 귀여운 대결전 게시자: 조야tv 1개월 전 8분 34초 조회수 302,925회',\n",
       " 'https://www.youtube.com[원피스 1044화 풀버전 리뷰 및 관전 포인트!] 오로성이 직접 밝힌 원피스 세계관 사상 최강의 능력! 마침내 밝혀지는 루피 열매의 정체와 각성한 최후의 기술 기어5! 게시자: 키득여우TV 1개월 전 8분 59초 조회수 61,099회',\n",
       " 'https://www.youtube.com당신이 몰랐던 2022년 원피스에서 새롭게 밝혀진 재미있는 설정들 ㅋㅋㅋ 게시자: 키득여우TV 10일 전 4분 14초 조회수 39,524회',\n",
       " 'https://www.youtube.com[원피스 분석] 지금까지 원피스 완결을 못 찾은 이유가 있었네! 연재 25년 만에 마침내 새롭게 밝혀진 충격적인 원피스의 결말! 게시자: 키득여우TV 1개월 전 3분 38초 조회수 33,064회',\n",
       " 'https://www.youtube.com[명품분석] 원피스 록스 D 지벡 [Onepiece] 게시자: 누르끼끼FBJ 10일 전 10분 13초 조회수 41,521회',\n",
       " 'https://www.youtube.com[원피스 분석] 카이도를 꺾고 새로운 사황이 된 태양신 루피.. 샹크스, 아카이누, 로쿠규의 등장과 전 세계가 난리난 상황!! 게시자: 상디의 게임 이야기 3주 전 5분 51초 조회수 318,917회',\n",
       " 'https://www.youtube.com[원피스 1047화 풀버전 리뷰] 카이도를 벌벌 떨게한 주먹왕 거프의 손자 루피 마무리! 사황전이 정말로 끝날 것으로 보이네요! 게시자: 나미TV-애니 리뷰 2주 전 3분 40초 조회수 45,578회',\n",
       " 'https://www.youtube.com[원피스 분석] 카이도를 꺾은 태양신 루피의 다음 현상금.. 역사상 가장 높은 현상금을 가진 루피!? 게시자: 상디의 게임 이야기 1개월 전 5분 12초 조회수 411,796회']"
      ]
     },
     "execution_count": 55,
     "metadata": {},
     "output_type": "execute_result"
    }
   ],
   "source": [
    "watch_list"
   ]
  },
  {
   "cell_type": "code",
   "execution_count": 5,
   "metadata": {},
   "outputs": [
    {
     "name": "stdout",
     "output_type": "stream",
     "text": [
      "['https://www.youtube.', '[원피스 3가지 떡밥 분석]키자루를 능가하는 럭키루의 사기적인 능력 그리고 드디어 등장하는 로저해적단의 3인자 스코퍼가반 게시자: 조야tv 1시간 전 8분 12초 조회수 15,967회'] \n",
      "\n",
      "\n",
      "['[원피스 3가지 떡밥 분석]키자루를 능가하는 럭키루의 사기적인 능력 그리고 드디어 등장하는 로저해적단의 3인자 스코퍼가반 ', '조야tv 1시간 전 8분 12초 조회수 15,967회'] \n",
      "\n",
      "\n",
      "['조야tv 1시간 전 8분 12초 ', '15,967회'] /n\n",
      "\n"
     ]
    }
   ],
   "source": [
    "text = 'https://www.youtube.com[원피스 3가지 떡밥 분석]키자루를 능가하는 럭키루의 사기적인 능력 그리고 드디어 등장하는 로저해적단의 3인자 스코퍼가반 게시자: 조야tv 1시간 전 8분 12초 조회수 15,967회'\n",
    "a = text.split('com')\n",
    "print(a, '\\n\\n')\n",
    "aa = a[1].split('게시자: ')\n",
    "print(aa, '\\n\\n')\n",
    "aaa = aa[1].split('조회수 ')\n",
    "print(aaa, '\\n\\n')"
   ]
  },
  {
   "cell_type": "code",
   "execution_count": 50,
   "metadata": {},
   "outputs": [
    {
     "data": {
      "text/plain": [
       "'[원피스 3가지 떡밥 분석]키자루를 능가하는 럭키루의 사기적인 능력 그리고 드디어 등장하는 로저해적단의 3인자 스코퍼가반'"
      ]
     },
     "execution_count": 50,
     "metadata": {},
     "output_type": "execute_result"
    }
   ],
   "source": [
    "youtubeDf.iloc[0,1]"
   ]
  },
  {
   "cell_type": "code",
   "execution_count": 48,
   "metadata": {},
   "outputs": [
    {
     "data": {
      "text/plain": [
       "130"
      ]
     },
     "execution_count": 48,
     "metadata": {},
     "output_type": "execute_result"
    }
   ],
   "source": [
    "len(youtubeDf)"
   ]
  },
  {
   "cell_type": "code",
   "execution_count": null,
   "metadata": {},
   "outputs": [],
   "source": [
    "# 댓글 크롤링\n",
    "video_num = 0\n",
    "video_idex=[]\n",
    "video_comm = []\n",
    "\n",
    "\n",
    "for i in range(len(name_list)):\n",
    "    driver.get(url_list[i])\n",
    "    \n",
    "    time.sleep(5)\n",
    "    \n",
    "    try :\n",
    "        # 동영상 재생 멈추기 \n",
    "        body = driver.find_element_by_tag_name('body')\n",
    "        body.send_keys(Keys.SPACE)\n",
    "    except: # 스페이스 누르기 안되면 직접 일시중지 클릭\n",
    "        driver.find_element_by_xpath('/html/body/ytd-app/div/ytd-page-manager/ytd-watch-flexy/div[5]/div[1]/div/div[1]/div/div/div/ytd-player/div/div/div[1]/video').click()\n",
    "        \n",
    "    # 유튜브 프리미엄 팝업창 닫기\n",
    "    try:\n",
    "        driver.find_element_by_css_selector(\"#dismiss-button > a\").click()\n",
    "    except:\n",
    "        pass\n",
    "\n"
   ]
  },
  {
   "cell_type": "code",
   "execution_count": null,
   "metadata": {},
   "outputs": [],
   "source": [
    "#CSV형태로 저장하기\n",
    "youtubeDf.to_csv('./'+'유튜브_'+keyword+'_크롤링.csv', encoding='utf-8-sig', index=False)"
   ]
  }
 ],
 "metadata": {
  "interpreter": {
   "hash": "f08154012ddadd8e950e6e9e035c7a7b32c136e7647e9b7c77e02eb723a8bedb"
  },
  "kernelspec": {
   "display_name": "Python 3.9.7 ('base')",
   "language": "python",
   "name": "python3"
  },
  "language_info": {
   "codemirror_mode": {
    "name": "ipython",
    "version": 3
   },
   "file_extension": ".py",
   "mimetype": "text/x-python",
   "name": "python",
   "nbconvert_exporter": "python",
   "pygments_lexer": "ipython3",
   "version": "3.9.7"
  },
  "orig_nbformat": 4
 },
 "nbformat": 4,
 "nbformat_minor": 2
}
