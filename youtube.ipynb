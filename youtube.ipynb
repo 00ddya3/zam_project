{
 "cells": [
  {
   "cell_type": "code",
   "execution_count": 1,
   "metadata": {},
   "outputs": [],
   "source": [
    "from selenium import webdriver\n",
    "from selenium.webdriver.common.keys import Keys\n",
    "from bs4 import BeautifulSoup\n",
    "import pandas as pd\n",
    "import time\n",
    "import warnings\n",
    "import numpy as np"
   ]
  },
  {
   "cell_type": "code",
   "execution_count": 2,
   "metadata": {},
   "outputs": [],
   "source": [
    "def scroll_down(driver):\n",
    "    driver.execute_script(\"window.scrollTo(0,6000);\")\n",
    "    time.sleep(2)"
   ]
  },
  {
   "cell_type": "code",
   "execution_count": 3,
   "metadata": {},
   "outputs": [],
   "source": [
    "#업로더 검색\n",
    "warnings.filterwarnings(action='ignore')\n",
    "\n",
    "driver = webdriver.Chrome('C:\\chromedriver.exe')\n",
    "\n",
    "#업로더 홈페이지 접속\n",
    "url = 'https://www.youtube.com/c/%ED%95%8F%EB%8D%94%EC%82%AC%EC%9D%B4%EC%A6%88/videos'\n",
    "driver.get(url)\n",
    "\n",
    "#driver.maximize_window()"
   ]
  },
  {
   "cell_type": "code",
   "execution_count": 4,
   "metadata": {},
   "outputs": [],
   "source": [
    "#카테고리 리스트\n",
    "keyword_list = ['조명', '무드등', '형광등', '방등', '거실등', \\\n",
    "    '침구', '매트리스', '블라인드', '커튼', '러그', '매트', '쿠션', '소파', \\\n",
    "    '테이블', '식탁', '책상', '거실장', '서랍', '진열장', '책장', '선반', '행거', '옷장', '의자', '화장대', '거울']"
   ]
  },
  {
   "cell_type": "code",
   "execution_count": 10,
   "metadata": {},
   "outputs": [],
   "source": [
    "#키워드 검색\n",
    "warnings.filterwarnings(action='ignore')\n",
    "\n",
    "driver = webdriver.Chrome('C:\\chromedriver.exe')\n",
    "\n",
    "# 키워드를 검색한 유튜브 주소 접속\n",
    "keyword = '조명 추천'\n",
    "\n",
    "url = 'https://www.youtube.com/results?search_query={}'.format(keyword)\n",
    "driver.get(url)\n",
    "\n",
    "#driver.maximize_window()\n",
    "\n",
    "# 필터 클릭\n",
    "driver.find_element_by_xpath('/html/body/ytd-app/div/ytd-page-manager/ytd-search/div[1]/ytd-two-column-search-results-renderer/div/ytd-section-list-renderer/div[1]/div[2]/ytd-search-sub-menu-renderer/div[1]/div/ytd-toggle-button-renderer/a/tp-yt-paper-button').click()\n",
    "time.sleep(1)\n",
    "\n",
    "# 구분 -> 동영상 클릭\n",
    "driver.find_element_by_xpath('/html/body/ytd-app/div/ytd-page-manager/ytd-search/div[1]/ytd-two-column-search-results-renderer/div/ytd-section-list-renderer/div[1]/div[2]/ytd-search-sub-menu-renderer/div[1]/iron-collapse/div/ytd-search-filter-group-renderer[2]/ytd-search-filter-renderer[1]/a/div/yt-formatted-string').click()\n",
    "\n",
    "# 업로드 날짜 -> 올해 클릭\n",
    "driver.find_element_by_xpath('/html/body/ytd-app/div[1]/ytd-page-manager/ytd-search/div[1]/ytd-two-column-search-results-renderer/div/ytd-section-list-renderer/div[1]/div[2]/ytd-search-sub-menu-renderer/div[1]/iron-collapse/div/ytd-search-filter-group-renderer[1]/ytd-search-filter-renderer[5]/a').click()"
   ]
  },
  {
   "cell_type": "code",
   "execution_count": 11,
   "metadata": {},
   "outputs": [
    {
     "data": {
      "text/html": [
       "<div>\n",
       "<style scoped>\n",
       "    .dataframe tbody tr th:only-of-type {\n",
       "        vertical-align: middle;\n",
       "    }\n",
       "\n",
       "    .dataframe tbody tr th {\n",
       "        vertical-align: top;\n",
       "    }\n",
       "\n",
       "    .dataframe thead th {\n",
       "        text-align: right;\n",
       "    }\n",
       "</style>\n",
       "<table border=\"1\" class=\"dataframe\">\n",
       "  <thead>\n",
       "    <tr style=\"text-align: right;\">\n",
       "      <th></th>\n",
       "      <th>영상 번호</th>\n",
       "      <th>제목</th>\n",
       "      <th>주소</th>\n",
       "    </tr>\n",
       "  </thead>\n",
       "  <tbody>\n",
       "    <tr>\n",
       "      <th>0</th>\n",
       "      <td>1</td>\n",
       "      <td>조명추천💡조명만 몇백 개 본 리빙 편집숍 디자인팀이 추천하는 조명</td>\n",
       "      <td>https://www.youtube.com/watch?v=Bz0PEb5CSTo</td>\n",
       "    </tr>\n",
       "    <tr>\n",
       "      <th>1</th>\n",
       "      <td>2</td>\n",
       "      <td>[소장각💡조명 추천] 이케아에서 꼭 사야하는 조명 3가지!!</td>\n",
       "      <td>https://www.youtube.com/watch?v=EcW4py8igtg</td>\n",
       "    </tr>\n",
       "    <tr>\n",
       "      <th>2</th>\n",
       "      <td>3</td>\n",
       "      <td>인테리어 조명 추천 8 | 루이스폴센 판텔라, 루이스폴센 PH 4/3, 아르떼미데 ...</td>\n",
       "      <td>https://www.youtube.com/watch?v=N35VRUbu6_E</td>\n",
       "    </tr>\n",
       "    <tr>\n",
       "      <th>3</th>\n",
       "      <td>4</td>\n",
       "      <td>내돈내산 1만원~90만원대 인테리어 조명 추천 5가지 | 루이스폴센, 우메이, 이케...</td>\n",
       "      <td>https://www.youtube.com/watch?v=bAgtZteiQAw</td>\n",
       "    </tr>\n",
       "    <tr>\n",
       "      <th>4</th>\n",
       "      <td>5</td>\n",
       "      <td>우리집 분위기 담당✨ 인테리어 조명 추천 &amp; 리뷰 | 렉슨, 일광전구, 이케아, 선...</td>\n",
       "      <td>https://www.youtube.com/watch?v=EP8tbIzeBFs</td>\n",
       "    </tr>\n",
       "  </tbody>\n",
       "</table>\n",
       "</div>"
      ],
      "text/plain": [
       "   영상 번호                                                 제목  \\\n",
       "0      1               조명추천💡조명만 몇백 개 본 리빙 편집숍 디자인팀이 추천하는 조명   \n",
       "1      2                  [소장각💡조명 추천] 이케아에서 꼭 사야하는 조명 3가지!!   \n",
       "2      3  인테리어 조명 추천 8 | 루이스폴센 판텔라, 루이스폴센 PH 4/3, 아르떼미데 ...   \n",
       "3      4  내돈내산 1만원~90만원대 인테리어 조명 추천 5가지 | 루이스폴센, 우메이, 이케...   \n",
       "4      5  우리집 분위기 담당✨ 인테리어 조명 추천 & 리뷰 | 렉슨, 일광전구, 이케아, 선...   \n",
       "\n",
       "                                            주소  \n",
       "0  https://www.youtube.com/watch?v=Bz0PEb5CSTo  \n",
       "1  https://www.youtube.com/watch?v=EcW4py8igtg  \n",
       "2  https://www.youtube.com/watch?v=N35VRUbu6_E  \n",
       "3  https://www.youtube.com/watch?v=bAgtZteiQAw  \n",
       "4  https://www.youtube.com/watch?v=EP8tbIzeBFs  "
      ]
     },
     "execution_count": 11,
     "metadata": {},
     "output_type": "execute_result"
    }
   ],
   "source": [
    "# 제목 & 링크 크롤링\n",
    "\n",
    "# 스크롤 다운 10번 실행\n",
    "body = driver.find_element_by_tag_name('body')\n",
    "body.send_keys(Keys.PAGE_DOWN)\n",
    "\n",
    "for i in range(1,10):\n",
    "    body.send_keys(Keys.PAGE_DOWN)\n",
    "    time.sleep(0.5)\n",
    "\n",
    "soup = BeautifulSoup(driver.page_source, 'html.parser')\n",
    "name = soup.select('a#video-title')\n",
    "video_url = soup.select('a#video-title')\n",
    "\n",
    "video_num_list = [] #영상번호\n",
    "name_list = [] #영상제목\n",
    "url_list = [] #영상주소\n",
    "\n",
    "for i in range(len(name)):\n",
    "    video_num_list.append(i+1)\n",
    "    name_list.append(name[i].text.strip())\n",
    "\n",
    "for i in video_url:\n",
    "    url_list.append('{}{}'.format('https://www.youtube.com',i.get('href')))\n",
    "    \n",
    "youtubeDic = {\n",
    "    '영상 번호' : video_num_list,\n",
    "    '제목': name_list,\n",
    "    '주소': url_list,\n",
    "}\n",
    "\n",
    "youtubeDf = pd.DataFrame(youtubeDic)\n",
    "youtubeDf.head()"
   ]
  },
  {
   "cell_type": "code",
   "execution_count": 16,
   "metadata": {},
   "outputs": [],
   "source": [
    "youtubeDf.to_csv('C:\\jupiter_workspace\\zam_project\\outputs/유튜브_'+keyword + '.csv', encoding='utf-8-sig', index=False)"
   ]
  },
  {
   "cell_type": "markdown",
   "metadata": {},
   "source": [
    "# #############여기까지만#############"
   ]
  },
  {
   "cell_type": "code",
   "execution_count": 12,
   "metadata": {},
   "outputs": [
    {
     "ename": "KeyboardInterrupt",
     "evalue": "",
     "output_type": "error",
     "traceback": [
      "\u001b[1;31m---------------------------------------------------------------------------\u001b[0m",
      "\u001b[1;31mKeyboardInterrupt\u001b[0m                         Traceback (most recent call last)",
      "\u001b[1;32m~\\AppData\\Local\\Temp/ipykernel_11868/1388721165.py\u001b[0m in \u001b[0;36m<module>\u001b[1;34m\u001b[0m\n\u001b[0;32m     26\u001b[0m     \u001b[0mtime\u001b[0m\u001b[1;33m.\u001b[0m\u001b[0msleep\u001b[0m\u001b[1;33m(\u001b[0m\u001b[1;36m1\u001b[0m\u001b[1;33m)\u001b[0m\u001b[1;33m\u001b[0m\u001b[1;33m\u001b[0m\u001b[0m\n\u001b[0;32m     27\u001b[0m     \u001b[0mdriver\u001b[0m\u001b[1;33m.\u001b[0m\u001b[0mexecute_script\u001b[0m\u001b[1;33m(\u001b[0m\u001b[1;34m\"window.scrollTo(0,800);\"\u001b[0m\u001b[1;33m)\u001b[0m\u001b[1;33m\u001b[0m\u001b[1;33m\u001b[0m\u001b[0m\n\u001b[1;32m---> 28\u001b[1;33m     \u001b[0mtime\u001b[0m\u001b[1;33m.\u001b[0m\u001b[0msleep\u001b[0m\u001b[1;33m(\u001b[0m\u001b[1;36m8\u001b[0m\u001b[1;33m)\u001b[0m\u001b[1;33m\u001b[0m\u001b[1;33m\u001b[0m\u001b[0m\n\u001b[0m\u001b[0;32m     29\u001b[0m \u001b[1;33m\u001b[0m\u001b[0m\n\u001b[0;32m     30\u001b[0m     \u001b[0mlast_height\u001b[0m \u001b[1;33m=\u001b[0m \u001b[0mdriver\u001b[0m\u001b[1;33m.\u001b[0m\u001b[0mexecute_script\u001b[0m\u001b[1;33m(\u001b[0m\u001b[1;34m\"return document.documentElement.scrollHeight\"\u001b[0m\u001b[1;33m)\u001b[0m\u001b[1;33m\u001b[0m\u001b[1;33m\u001b[0m\u001b[0m\n",
      "\u001b[1;31mKeyboardInterrupt\u001b[0m: "
     ]
    }
   ],
   "source": [
    "# 댓글 크롤링\n",
    "video_num = 0\n",
    "video_idex=[]\n",
    "video_comm = []\n",
    "\n",
    "\n",
    "for i in range(len(name_list)):\n",
    "    driver.get(url_list[i])\n",
    "    \n",
    "    time.sleep(3)\n",
    "    \n",
    "    try :\n",
    "        # 동영상 재생 멈추기 \n",
    "        body = driver.find_element_by_tag_name('body')\n",
    "        body.send_keys(Keys.SPACE)\n",
    "    except: # 스페이스 누르기 안되면 직접 일시중지 클릭\n",
    "        driver.find_element_by_xpath('/html/body/ytd-app/div/ytd-page-manager/ytd-watch-flexy/div[5]/div[1]/div/div[1]/div/div/div/ytd-player/div/div/div[1]/video').click()\n",
    "        \n",
    "    # 유튜브 프리미엄 팝업창 닫기\n",
    "    try:\n",
    "        driver.find_element_by_css_selector(\"#dismiss-button > a\").click()\n",
    "    except:\n",
    "        pass\n",
    "\n",
    "    # 댓글 보이게 하기(밑으로 내리기)\n",
    "    time.sleep(1)\n",
    "    driver.execute_script(\"window.scrollTo(0,800);\")\n",
    "    time.sleep(8)\n",
    "    \n",
    "    last_height = driver.execute_script(\"return document.documentElement.scrollHeight\")\n",
    "\n",
    "    while True:\n",
    "        driver.execute_script(\"window.scrollTo(0, document.documentElement.scrollHeight);\")\n",
    "        time.sleep(3)\n",
    "\n",
    "        new_height = driver.execute_script(\"return document.documentElement.scrollHeight\")\n",
    "        if new_height == last_height:\n",
    "            break\n",
    "        last_height = new_height\n",
    "\n",
    "    time.sleep(5)\n",
    "    \n",
    "        \n",
    "    html_source = driver.page_source\n",
    "    soup = BeautifulSoup(html_source, 'html.parser')\n",
    "\n",
    "    comment_list = soup.select(\"yt-formatted-string#content-text\")\n",
    "\n",
    "    comment_final = []\n",
    "\n",
    "    for i in range(len(comment_list)):\n",
    "        temp_comment = comment_list[i].text\n",
    "        temp_comment = temp_comment.replace('\\n', '')\n",
    "        temp_comment = temp_comment.replace('\\t', '')\n",
    "        temp_comment = temp_comment.replace('    ', '')\n",
    "        temp_comment = temp_comment.replace('\\xa0@', '')\n",
    "        temp_comment = temp_comment.replace('\\xa0', '')\n",
    "        temp_comment = temp_comment.replace('\\r', '')\n",
    "        comment_final.append(temp_comment)\n",
    "    \n",
    "    video_idex.append(video_num)\n",
    "    video_comm.append(comment_final)\n",
    "    video_num += 1\n"
   ]
  },
  {
   "cell_type": "code",
   "execution_count": 23,
   "metadata": {},
   "outputs": [],
   "source": [
    "df = []\n",
    "for i in range(len(video_idex)):\n",
    "    if len(video_comm[i]) != 0:\n",
    "        n = np.full((len(video_comm[i])),i+1)\n",
    "        temp = pd.DataFrame([ x for x in zip(n,video_comm[i])])\n",
    "        df.append(temp)"
   ]
  },
  {
   "cell_type": "code",
   "execution_count": 24,
   "metadata": {},
   "outputs": [
    {
     "data": {
      "text/html": [
       "<div>\n",
       "<style scoped>\n",
       "    .dataframe tbody tr th:only-of-type {\n",
       "        vertical-align: middle;\n",
       "    }\n",
       "\n",
       "    .dataframe tbody tr th {\n",
       "        vertical-align: top;\n",
       "    }\n",
       "\n",
       "    .dataframe thead th {\n",
       "        text-align: right;\n",
       "    }\n",
       "</style>\n",
       "<table border=\"1\" class=\"dataframe\">\n",
       "  <thead>\n",
       "    <tr style=\"text-align: right;\">\n",
       "      <th></th>\n",
       "      <th>영상 번호</th>\n",
       "      <th>댓글</th>\n",
       "    </tr>\n",
       "  </thead>\n",
       "  <tbody>\n",
       "    <tr>\n",
       "      <th>0</th>\n",
       "      <td>1</td>\n",
       "      <td>이런 컨텐츠 좋은 거 같아요~몰랐던 브래드도 알고 메인템도 알아서 좋네요~</td>\n",
       "    </tr>\n",
       "    <tr>\n",
       "      <th>1</th>\n",
       "      <td>1</td>\n",
       "      <td>각 브랜드에서 매력있는 아이템들이 많은걸 알아서 좋았네요 ㅎㅎ</td>\n",
       "    </tr>\n",
       "    <tr>\n",
       "      <th>2</th>\n",
       "      <td>1</td>\n",
       "      <td>형 이런 컨셉 유료광고면 한달에 3번 이상 유료광고 받아도 볼만한 느낌… 짱이다 형️</td>\n",
       "    </tr>\n",
       "    <tr>\n",
       "      <th>3</th>\n",
       "      <td>1</td>\n",
       "      <td>마지막 바지 예뻐서 사려고봤더니 품절이네요 ㅠㅠ 재입고되면 바로사야지 !</td>\n",
       "    </tr>\n",
       "    <tr>\n",
       "      <th>4</th>\n",
       "      <td>1</td>\n",
       "      <td>와 데님셔츠는 가격대비 미치긴한듯</td>\n",
       "    </tr>\n",
       "  </tbody>\n",
       "</table>\n",
       "</div>"
      ],
      "text/plain": [
       "   영상 번호                                               댓글\n",
       "0      1        이런 컨텐츠 좋은 거 같아요~몰랐던 브래드도 알고 메인템도 알아서 좋네요~\n",
       "1      1               각 브랜드에서 매력있는 아이템들이 많은걸 알아서 좋았네요 ㅎㅎ\n",
       "2      1  형 이런 컨셉 유료광고면 한달에 3번 이상 유료광고 받아도 볼만한 느낌… 짱이다 형️\n",
       "3      1         마지막 바지 예뻐서 사려고봤더니 품절이네요 ㅠㅠ 재입고되면 바로사야지 !\n",
       "4      1                               와 데님셔츠는 가격대비 미치긴한듯"
      ]
     },
     "execution_count": 24,
     "metadata": {},
     "output_type": "execute_result"
    }
   ],
   "source": [
    "comment_df = df[0]\n",
    "for i in range(1, len(df)):\n",
    "    comment_df = pd.concat([comment_df, df[i]])\n",
    "    \n",
    "comment_df.columns = ['영상 번호', '댓글']\n",
    "comment_df.head()"
   ]
  },
  {
   "cell_type": "code",
   "execution_count": 11,
   "metadata": {},
   "outputs": [],
   "source": [
    "#CSV형태로 저장하기\n",
    "youtubeDf.to_csv('./'+'유튜브_핏더사이즈_크롤링.csv', encoding='utf-8-sig', index=False)\n",
    "comment_df.to_csv('./'+'유튜브_핏더사이즈_댓글.csv', encoding='utf-8-sig', index=False)"
   ]
  },
  {
   "cell_type": "code",
   "execution_count": null,
   "metadata": {},
   "outputs": [],
   "source": []
  }
 ],
 "metadata": {
  "interpreter": {
   "hash": "f08154012ddadd8e950e6e9e035c7a7b32c136e7647e9b7c77e02eb723a8bedb"
  },
  "kernelspec": {
   "display_name": "Python 3.9.7 ('base')",
   "language": "python",
   "name": "python3"
  },
  "language_info": {
   "codemirror_mode": {
    "name": "ipython",
    "version": 3
   },
   "file_extension": ".py",
   "mimetype": "text/x-python",
   "name": "python",
   "nbconvert_exporter": "python",
   "pygments_lexer": "ipython3",
   "version": "3.9.7"
  },
  "orig_nbformat": 4
 },
 "nbformat": 4,
 "nbformat_minor": 2
}
