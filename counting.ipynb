{
 "cells": [
  {
   "cell_type": "code",
   "execution_count": 2,
   "metadata": {},
   "outputs": [],
   "source": [
    "import psycopg2\n",
    "import pandas as pd\n",
    "from tqdm import tqdm\n",
    "from tensorflow.keras.preprocessing.text import Tokenizer\n",
    "import matplotlib.pyplot as plt\n",
    "import numpy as np\n",
    "import re\n",
    "from ckonlpy.tag import Twitter\n",
    "from pykospacing import Spacing"
   ]
  },
  {
   "cell_type": "code",
   "execution_count": 52,
   "metadata": {},
   "outputs": [],
   "source": [
    "def tokenWord(keyword) :\n",
    "    \"\"\"\n",
    "    사용자가 입력한 단어를 형태소 단위로 자르고 사이에 %를 삽입하여 DB에서 검색할 수 있도록 변환\n",
    "    ...\n",
    "    parameters\n",
    "        keyword : 검색할 단어 (str)\n",
    "    ...\n",
    "    returns\n",
    "        clean_word : 형태소 단위로 정제된 단어 (str)\n",
    "    \"\"\"\n",
    "    \n",
    "    twitter = Twitter()\n",
    "    spacing = Spacing()\n",
    "\n",
    "    #외래어 읽어오기\n",
    "    loanwords = pd.read_csv('loanwords.txt', encoding = 'cp949')\n",
    "    loanwords = loanwords['word'].tolist()\n",
    "    for word in loanwords :\n",
    "        twitter.add_dictionary(word, 'Noun')\n",
    "\n",
    "    #불용어제거 + 토큰화 + %\n",
    "    clean_word = '%'\n",
    "    kospacing_word = spacing(keyword) # 띄워쓰기 보완\n",
    "    tokenized_word = twitter.morphs(kospacing_word) # 토큰화\n",
    "    for tk in tokenized_word :\n",
    "        clean_word = clean_word + tk + '%'\n",
    "    # 여름원피스 -> 여름 원피스 -> ['여름', '원피스'] -> %여름%원피스%\n",
    "    # 크롭자켓 -> 크롭자켓 -> ['크롭', '자켓'] -> %크롭%자켓%\n",
    "    \n",
    "    return clean_word, tokenized_word"
   ]
  },
  {
   "cell_type": "code",
   "execution_count": 53,
   "metadata": {},
   "outputs": [
    {
     "name": "stderr",
     "output_type": "stream",
     "text": [
      "c:\\Users\\User\\anaconda3\\lib\\site-packages\\konlpy\\tag\\_okt.py:17: UserWarning: \"Twitter\" has changed to \"Okt\" since KoNLPy v0.4.5.\n",
      "  warn('\"Twitter\" has changed to \"Okt\" since KoNLPy v0.4.5.')\n"
     ]
    }
   ],
   "source": [
    "keyword = '반팔티셔츠'\n",
    "clean_word, tokenized_word = tokenWord(keyword)"
   ]
  },
  {
   "cell_type": "markdown",
   "metadata": {},
   "source": [
    "# 포스팅 수 가져오기"
   ]
  },
  {
   "cell_type": "code",
   "execution_count": 71,
   "metadata": {},
   "outputs": [],
   "source": [
    "def getTitleData(table, clean_word) :\n",
    "    \"\"\"\n",
    "    DB에서 검색 단어가 포함된 데이터를 불러오고 dataFrame 생성 \n",
    "    ...\n",
    "    parameters\n",
    "        table : 데이터가 저장되어 있는 DB 내 테이블 명 (str)\n",
    "        clean_word : 형태소 단위로 정제된 단어 (str)\n",
    "    ...\n",
    "    returns\n",
    "        df : DB에서 가져온 데이터가 담긴 데이터프레임 (dataFrame; shape[n,4])\n",
    "    \"\"\"\n",
    "    #postgresql 접속\n",
    "    conn_string = \"host='localhost' dbname='postgres' user='postgres' password='admin'\"\n",
    "    conn = psycopg2.connect(conn_string)\n",
    "    cur = conn.cursor()\n",
    "\n",
    "    #데이터 가져오기\n",
    "    command = \"select distinct title, date, url, hashtag from \" + table + \" where title like '\" + clean_word + \"'\"\n",
    "    print(command)\n",
    "    cur.execute(command)\n",
    "    conn.commit()\n",
    "    data = cur.fetchall()\n",
    "\n",
    "    #DF화\n",
    "    df = pd.DataFrame(data)\n",
    "    df.columns = ['title', 'date', 'url', 'hashtag']\n",
    "\n",
    "    #db 연결 종료\n",
    "    conn.cursor().close()\n",
    "    conn.close()\n",
    "\n",
    "    return df"
   ]
  },
  {
   "cell_type": "code",
   "execution_count": 69,
   "metadata": {},
   "outputs": [],
   "source": [
    "def getHashData(table, keyword) :\n",
    "    \"\"\"\n",
    "    DB에서 검색 단어가 포함된 데이터를 불러오고 dataFrame 생성 \n",
    "    ...\n",
    "    parameters\n",
    "        table : 데이터가 저장되어 있는 DB 내 테이블 명 (str)\n",
    "        keyword : 검색할 단어 (str)\n",
    "    ...\n",
    "    returns\n",
    "        df : DB에서 가져온 데이터가 담긴 데이터프레임 (dataFrame; shape[n,4])\n",
    "    \"\"\"\n",
    "    #postgresql 접속\n",
    "    conn_string = \"host='localhost' dbname='postgres' user='postgres' password='admin'\"\n",
    "    conn = psycopg2.connect(conn_string)\n",
    "    cur = conn.cursor()\n",
    "\n",
    "    #데이터 가져오기\n",
    "    command = \"select distinct title, date, url, hashtag from \" + table + \" where hashtag like '%\" + keyword + \"%'\"\n",
    "    cur.execute(command)\n",
    "    conn.commit()\n",
    "    data = cur.fetchall()\n",
    "\n",
    "    #DF화\n",
    "    df = pd.DataFrame(data)\n",
    "    df.columns = ['title', 'date', 'url', 'hashtag']\n",
    "\n",
    "    #db 연결 종료\n",
    "    conn.cursor().close()\n",
    "    conn.close()\n",
    "\n",
    "    return df"
   ]
  },
  {
   "cell_type": "code",
   "execution_count": 18,
   "metadata": {},
   "outputs": [],
   "source": [
    "def dropIrrel(df) :\n",
    "\n",
    "    #관련 없는 단어 읽어오기\n",
    "    irrelwords = pd.read_csv('irrelwords.txt')\n",
    "    irrelwords = irrelwords['word'].tolist()\n",
    "\n",
    "    #단어가 포함되어 있는 열 삭제\n",
    "    for word in irrelwords :\n",
    "        irreldata = df[df['title'].str.contains(word, case = False)].index\n",
    "        df.drop(irreldata, inplace=True)\n",
    "    \n",
    "    return df"
   ]
  },
  {
   "cell_type": "code",
   "execution_count": 72,
   "metadata": {},
   "outputs": [
    {
     "name": "stdout",
     "output_type": "stream",
     "text": [
      "select distinct title, date, url, hashtag from yt_clothes where title like '%반팔%티셔츠%'\n",
      "최근 1년 유튜브 게시 영상 수 : 70\n"
     ]
    }
   ],
   "source": [
    "yt_title = getTitleData('yt_clothes', clean_word)           #title에 검색어가 포함된 데이터\n",
    "yt_hash = getHashData('yt_clothes', keyword)                #hashtag에 검색어가 포함된 데이터\n",
    "yt_data = pd.concat([yt_title, yt_hash], axis=0)            #두 데이터를 합침\n",
    "yt_data = yt_data.drop_duplicates(['url'])                  #url을 기준으로 중복 데이터 삭제\n",
    "yt_data = dropIrrel(yt_data)\n",
    "print('최근 1년 유튜브 게시 영상 수 :', yt_data.shape[0])    #1년 동안의 영상수 반환"
   ]
  },
  {
   "cell_type": "code",
   "execution_count": 55,
   "metadata": {},
   "outputs": [
    {
     "name": "stdout",
     "output_type": "stream",
     "text": [
      "select distinct title, date, url, hashtag from view_clothes where title like '%반팔%티셔츠%'\n",
      "최근 1년 네이버뷰 게시글 수 : 191\n"
     ]
    }
   ],
   "source": [
    "view_title = getTitleData('view_clothes', clean_word)\n",
    "view_hash = getHashData('view_clothes', keyword)\n",
    "view_data = pd.concat([view_title, view_hash], axis=0)\n",
    "view_data = view_data.drop_duplicates(['url'])\n",
    "view_data = dropIrrel(view_data)\n",
    "print('최근 1년 네이버뷰 게시글 수 :', view_data.shape[0])"
   ]
  },
  {
   "cell_type": "markdown",
   "metadata": {},
   "source": [
    "# 워드클라우드"
   ]
  },
  {
   "cell_type": "code",
   "execution_count": 21,
   "metadata": {},
   "outputs": [],
   "source": [
    "from collections import Counter\n",
    "\n",
    "def rmEmoji(inputData):\n",
    "    \"\"\"\n",
    "    텍스트에서 이모지 제거\n",
    "    ...\n",
    "    parameters\n",
    "        inputData : 텍스트 (str)\n",
    "    ...\n",
    "    returns\n",
    "        data : 이모지가 제거된 텍스트 (str)\n",
    "    \"\"\"\n",
    "\n",
    "    emoji_pattern = re.compile(\"[\"\n",
    "        u\"\\U00010000-\\U0010FFFF\"  #BMP characters 이외\n",
    "            \"]+\", flags=re.UNICODE)\n",
    "\n",
    "    data = emoji_pattern.sub(r'', inputData) # no emoji\n",
    "\n",
    "    return data"
   ]
  },
  {
   "cell_type": "code",
   "execution_count": 56,
   "metadata": {},
   "outputs": [
    {
     "name": "stderr",
     "output_type": "stream",
     "text": [
      "100%|██████████| 70/70 [00:04<00:00, 16.19it/s]\n"
     ]
    },
    {
     "data": {
      "text/plain": [
       "{'반팔': 90,\n",
       " '티셔츠': 84,\n",
       " '여름': 50,\n",
       " '코디': 39,\n",
       " '추천': 35,\n",
       " '티': 35,\n",
       " '옷': 19,\n",
       " '여자': 14,\n",
       " '하울': 13,\n",
       " '-': 11,\n",
       " '니트': 11,\n",
       " '원피스': 10,\n",
       " '사이즈': 10,\n",
       " '블라우스': 8,\n",
       " '리뷰': 8}"
      ]
     },
     "execution_count": 56,
     "metadata": {},
     "output_type": "execute_result"
    }
   ],
   "source": [
    "titles = yt_data['title'].tolist()\n",
    "\n",
    "twitter = Twitter()\n",
    "spacing = Spacing()\n",
    "\n",
    "#불용어 읽어오기\n",
    "stopwords = pd.read_csv(\"stopwords.txt\")\n",
    "stopwords = stopwords['word'].tolist()\n",
    "stopwords.extend([',', '.', '+', '[', ']', '!', '?', '(', ')', '|', '_', '~', '#', '/', 'ㅣ'])\n",
    "\n",
    "#외래어 읽어오기\n",
    "loanwords = pd.read_csv('loanwords.txt', encoding = 'cp949')\n",
    "loanwords = loanwords['word'].tolist()\n",
    "for word in loanwords :\n",
    "    twitter.add_dictionary(word, 'Noun')\n",
    "\n",
    "#불용어제거 + 토큰화\n",
    "tks = []\n",
    "for sentence in tqdm(titles) :\n",
    "    reEmoji_sent = rmEmoji(sentence) # 이모티콘 제거\n",
    "    kospacing_sent = spacing(reEmoji_sent) # 띄워쓰기 보완\n",
    "    tokenized_sent = twitter.morphs(kospacing_sent) # 토큰화\n",
    "    stopwords_removed_sentence = [word for word in tokenized_sent if not word in stopwords] # 불용어 제거\n",
    "    tks.append(stopwords_removed_sentence)\n",
    "\n",
    "# 정수 인코딩\n",
    "tokenizer = Tokenizer()\n",
    "tokenizer.fit_on_texts(tks)\n",
    "\n",
    "top15 = Counter(tokenizer.word_counts).most_common(15)\n",
    "\n",
    "words = dict((x, y) for x, y in top15)\n",
    "words"
   ]
  },
  {
   "cell_type": "code",
   "execution_count": 57,
   "metadata": {},
   "outputs": [
    {
     "data": {
      "text/plain": [
       "[{'text': '여름', 'value': 50},\n",
       " {'text': '코디', 'value': 39},\n",
       " {'text': '추천', 'value': 35},\n",
       " {'text': '티', 'value': 35},\n",
       " {'text': '옷', 'value': 19},\n",
       " {'text': '여자', 'value': 14},\n",
       " {'text': '하울', 'value': 13},\n",
       " {'text': '-', 'value': 11},\n",
       " {'text': '니트', 'value': 11},\n",
       " {'text': '원피스', 'value': 10},\n",
       " {'text': '사이즈', 'value': 10},\n",
       " {'text': '블라우스', 'value': 8},\n",
       " {'text': '리뷰', 'value': 8},\n",
       " {'text': '가지', 'value': 7},\n",
       " {'text': '패션', 'value': 7},\n",
       " {'text': '&', 'value': 7},\n",
       " {'text': '남자', 'value': 7},\n",
       " {'text': '내', 'value': 7}]"
      ]
     },
     "execution_count": 57,
     "metadata": {},
     "output_type": "execute_result"
    }
   ],
   "source": [
    "#상위 20개 추출\n",
    "top20 = Counter(tokenizer.word_counts).most_common(20)\n",
    "\n",
    "words = []\n",
    "for top in top20 :\n",
    "\n",
    "    if top[0] in tokenized_word :\n",
    "        continue #검색어 제거\n",
    "    else:\n",
    "        words.append(dict(text=top[0], value=top[1])) #연관어만 딕셔너리화\n",
    "\n",
    "words"
   ]
  },
  {
   "cell_type": "markdown",
   "metadata": {},
   "source": [
    "# 연간 포스팅 추이 \n",
    "csv 저장 후 태블로에서 진행 예정"
   ]
  },
  {
   "cell_type": "code",
   "execution_count": 58,
   "metadata": {},
   "outputs": [],
   "source": [
    "#날짜순 정렬\n",
    "yt_data = yt_data.sort_values(by = 'date')\n",
    "view_data = view_data.sort_values(by = 'date')\n"
   ]
  },
  {
   "cell_type": "code",
   "execution_count": 84,
   "metadata": {},
   "outputs": [
    {
     "data": {
      "text/html": [
       "<div>\n",
       "<style scoped>\n",
       "    .dataframe tbody tr th:only-of-type {\n",
       "        vertical-align: middle;\n",
       "    }\n",
       "\n",
       "    .dataframe tbody tr th {\n",
       "        vertical-align: top;\n",
       "    }\n",
       "\n",
       "    .dataframe thead th {\n",
       "        text-align: right;\n",
       "    }\n",
       "</style>\n",
       "<table border=\"1\" class=\"dataframe\">\n",
       "  <thead>\n",
       "    <tr style=\"text-align: right;\">\n",
       "      <th></th>\n",
       "      <th>month</th>\n",
       "      <th>num</th>\n",
       "    </tr>\n",
       "  </thead>\n",
       "  <tbody>\n",
       "    <tr>\n",
       "      <th>0</th>\n",
       "      <td>1</td>\n",
       "      <td>1</td>\n",
       "    </tr>\n",
       "    <tr>\n",
       "      <th>1</th>\n",
       "      <td>3</td>\n",
       "      <td>4</td>\n",
       "    </tr>\n",
       "    <tr>\n",
       "      <th>2</th>\n",
       "      <td>4</td>\n",
       "      <td>9</td>\n",
       "    </tr>\n",
       "    <tr>\n",
       "      <th>3</th>\n",
       "      <td>5</td>\n",
       "      <td>34</td>\n",
       "    </tr>\n",
       "    <tr>\n",
       "      <th>4</th>\n",
       "      <td>6</td>\n",
       "      <td>10</td>\n",
       "    </tr>\n",
       "    <tr>\n",
       "      <th>5</th>\n",
       "      <td>7</td>\n",
       "      <td>7</td>\n",
       "    </tr>\n",
       "    <tr>\n",
       "      <th>6</th>\n",
       "      <td>8</td>\n",
       "      <td>3</td>\n",
       "    </tr>\n",
       "    <tr>\n",
       "      <th>7</th>\n",
       "      <td>10</td>\n",
       "      <td>1</td>\n",
       "    </tr>\n",
       "    <tr>\n",
       "      <th>8</th>\n",
       "      <td>11</td>\n",
       "      <td>1</td>\n",
       "    </tr>\n",
       "  </tbody>\n",
       "</table>\n",
       "</div>"
      ],
      "text/plain": [
       "   month  num\n",
       "0      1    1\n",
       "1      3    4\n",
       "2      4    9\n",
       "3      5   34\n",
       "4      6   10\n",
       "5      7    7\n",
       "6      8    3\n",
       "7     10    1\n",
       "8     11    1"
      ]
     },
     "execution_count": 84,
     "metadata": {},
     "output_type": "execute_result"
    }
   ],
   "source": [
    "yt_data.date = pd.to_datetime(yt_data.date)     #datetime type으로 변환\n",
    "yt_data['month'] = yt_data['date'].dt.month     #월추출\n",
    "yt_count = yt_data.groupby('month').count()     #월별 게시글 개수 카운팅\n",
    "yt_count = yt_count.reset_index()               #인덱스 초기화\n",
    "yt_count = yt_count[['month', 'title']]         #필요한 열만 추출\n",
    "yt_count.columns = ['month', 'num']             #컬럼명 교체\n",
    "yt_count"
   ]
  },
  {
   "cell_type": "code",
   "execution_count": 78,
   "metadata": {},
   "outputs": [
    {
     "data": {
      "text/plain": [
       "[10, 7, 3, 0, 1, 1, 0, 1, 0, 4, 9, 34]"
      ]
     },
     "execution_count": 78,
     "metadata": {},
     "output_type": "execute_result"
    }
   ],
   "source": [
    "yt_data.date = pd.to_datetime(yt_data.date)     #datetime type으로 변환\n",
    "yt_data['month'] = yt_data['date'].dt.month     #월추출\n",
    "\n",
    "months = ['2021-6','2021-7','2021-8', '2021-9', '2021-10', '2021-11', '2021-12', '2022-1', '2022-2', '2022-3', '2022-4', '2022-5']\n",
    "cnts = []\n",
    "    \n",
    "for month in months :\n",
    "    month = month.split('-')[1]\n",
    "    cnt = yt_data[yt_data['month'] == int(month)].shape[0]\n",
    "    cnts.append(cnt)\n",
    "\n",
    "cnts"
   ]
  },
  {
   "cell_type": "code",
   "execution_count": 66,
   "metadata": {},
   "outputs": [
    {
     "data": {
      "text/html": [
       "<div>\n",
       "<style scoped>\n",
       "    .dataframe tbody tr th:only-of-type {\n",
       "        vertical-align: middle;\n",
       "    }\n",
       "\n",
       "    .dataframe tbody tr th {\n",
       "        vertical-align: top;\n",
       "    }\n",
       "\n",
       "    .dataframe thead th {\n",
       "        text-align: right;\n",
       "    }\n",
       "</style>\n",
       "<table border=\"1\" class=\"dataframe\">\n",
       "  <thead>\n",
       "    <tr style=\"text-align: right;\">\n",
       "      <th></th>\n",
       "      <th>count</th>\n",
       "    </tr>\n",
       "  </thead>\n",
       "  <tbody>\n",
       "    <tr>\n",
       "      <th>6</th>\n",
       "      <td>10</td>\n",
       "    </tr>\n",
       "    <tr>\n",
       "      <th>7</th>\n",
       "      <td>7</td>\n",
       "    </tr>\n",
       "    <tr>\n",
       "      <th>8</th>\n",
       "      <td>3</td>\n",
       "    </tr>\n",
       "    <tr>\n",
       "      <th>9</th>\n",
       "      <td>0</td>\n",
       "    </tr>\n",
       "    <tr>\n",
       "      <th>10</th>\n",
       "      <td>1</td>\n",
       "    </tr>\n",
       "    <tr>\n",
       "      <th>11</th>\n",
       "      <td>1</td>\n",
       "    </tr>\n",
       "    <tr>\n",
       "      <th>12</th>\n",
       "      <td>0</td>\n",
       "    </tr>\n",
       "    <tr>\n",
       "      <th>1</th>\n",
       "      <td>1</td>\n",
       "    </tr>\n",
       "    <tr>\n",
       "      <th>2</th>\n",
       "      <td>0</td>\n",
       "    </tr>\n",
       "    <tr>\n",
       "      <th>3</th>\n",
       "      <td>4</td>\n",
       "    </tr>\n",
       "    <tr>\n",
       "      <th>4</th>\n",
       "      <td>9</td>\n",
       "    </tr>\n",
       "    <tr>\n",
       "      <th>5</th>\n",
       "      <td>34</td>\n",
       "    </tr>\n",
       "  </tbody>\n",
       "</table>\n",
       "</div>"
      ],
      "text/plain": [
       "    count\n",
       "6      10\n",
       "7       7\n",
       "8       3\n",
       "9       0\n",
       "10      1\n",
       "11      1\n",
       "12      0\n",
       "1       1\n",
       "2       0\n",
       "3       4\n",
       "4       9\n",
       "5      34"
      ]
     },
     "execution_count": 66,
     "metadata": {},
     "output_type": "execute_result"
    }
   ],
   "source": [
    "df_count = pd.DataFrame(data = {'count' : cnts}, index=months)\n",
    "df_count"
   ]
  },
  {
   "cell_type": "code",
   "execution_count": 100,
   "metadata": {},
   "outputs": [
    {
     "data": {
      "image/png": "[encoded data removed]",
      "text/plain": [
       "<Figure size 864x432 with 1 Axes>"
      ]
     },
     "metadata": {
      "needs_background": "light"
     },
     "output_type": "display_data"
    }
   ],
   "source": [
    "plt.rc('font', family='Malgun Gothic')\n",
    "plt.figure(figsize=(12, 6))\n",
    "\n",
    "plt.plot(months, cnts, 'b^--')\n",
    "\n",
    "for i, v in enumerate(months):\n",
    "    plt.text(v, cnts[i], cnts[i],                 # 좌표 (x축 = v, y축 = y[0]..y[1], 표시 = y[0]..y[1])\n",
    "             fontsize = 12, \n",
    "             color='blue',\n",
    "             horizontalalignment='right',  # horizontalalignment (left, center, right)\n",
    "             verticalalignment='bottom')    # verticalalignment (top, center, bottom)\n",
    "\n",
    "plt.title(keyword + ' SNS 반응 추이', fontsize=15)\n",
    "plt.xlabel ('months', fontsize=12)\n",
    "plt.ylabel('contents', fontsize=12)\n",
    "\n",
    "plt.show()"
   ]
  },
  {
   "cell_type": "code",
   "execution_count": 85,
   "metadata": {},
   "outputs": [
    {
     "data": {
      "text/plain": [
       "Text(0, 0.5, 'contents')"
      ]
     },
     "execution_count": 85,
     "metadata": {},
     "output_type": "execute_result"
    },
    {
     "data": {
      "image/png": "[encoded data removed]",
      "text/plain": [
       "<Figure size 864x432 with 1 Axes>"
      ]
     },
     "metadata": {
      "needs_background": "light"
     },
     "output_type": "display_data"
    }
   ],
   "source": [
    "#날짜순 정렬\n",
    "yt_data = yt_data.sort_values(by = 'date')\n",
    "view_data = view_data.sort_values(by = 'date')\n",
    "\n",
    "#날짜별 count\n",
    "y_day = yt_data['date'].unique()\n",
    "y_count = yt_data['date'].value_counts().sort_index()\n",
    "v_day = view_data['date'].unique()\n",
    "v_count = view_data['date'].value_counts().sort_index()\n",
    "\n",
    "plt.rc('font', family='Malgun Gothic')\n",
    "plt.figure(figsize=(12, 6))\n",
    "\n",
    "plt.hist(y_day)\n",
    "plt.hist(v_day)\n",
    "\n",
    "plt.title(keyword + ' SNS 반응 추이')\n",
    "plt.legend(labels = ['YOUTUBE', 'NAVER VIEW'], loc='best')\n",
    "plt.xlabel ('months')\n",
    "plt.ylabel('contents')\n",
    "\n",
    "#plt.plot(y_day, y_count, 'r--')\n",
    "#plt.plot(y_day, y_count, 'r--', v_day, v_count, 'b^')"
   ]
  },
  {
   "cell_type": "markdown",
   "metadata": {},
   "source": [
    "# 제목 nlp"
   ]
  },
  {
   "cell_type": "code",
   "execution_count": 103,
   "metadata": {},
   "outputs": [
    {
     "data": {
      "text/plain": [
       "181                올 겨울 주목하면 좋을 아우터!? + 아이템 추천까지! 【패션토크】\n",
       "184    옷장 속 26가지 가을/겨울 아우터 몽땅 입어보기🧥🍁 FW 자켓, 트렌치, 코트, ...\n",
       "90     가을,겨울 필수템 / 아우터를 활용한 가을코디 (feat. 남자 가디건 코디 bes...\n",
       "12     [가을 룩북🍁] FW 아우터 8종 패션하울 l 한섬 아우터 최대 85% 싸게 사는 ...\n",
       "144                             따라하기 쉬운 가을&겨울 아우터 코디 6가지\n",
       "                             ...                        \n",
       "211    한섬 팩토리 아울렛 | 겨울 아우터, 무스탕, 코트 70+30% | 타임, 마인, ...\n",
       "67     Volg.일상 브이로그, 휘뚤 마뚤 겨울 아우터 lo61 퍼코트, 긴 겨울 나름의 ...\n",
       "55     haul. 겨울 신상 아이템 하울 | 롱코트 러버가 추천하는 4가지 아우터 🧶 | ...\n",
       "152    미국 살면 나이키 싸게 사냐구요? ( 겨울 아우터 부터 여름 원피스까지 나이키하울 ...\n",
       "116    겨울과 봄 사이 패션하울🌷💖 인생 아우터, 니트, 신발, 원피스발견 | 에이블리, ...\n",
       "Name: title, Length: 214, dtype: object"
      ]
     },
     "execution_count": 103,
     "metadata": {},
     "output_type": "execute_result"
    }
   ],
   "source": [
    "yyy['title']"
   ]
  },
  {
   "cell_type": "code",
   "execution_count": 98,
   "metadata": {},
   "outputs": [],
   "source": [
    "kkma = Kkma()\n",
    "\n",
    "def rmEmoji(inputData):\n",
    "\n",
    "    emoji_pattern = re.compile(\"[\"\n",
    "        u\"\\U00010000-\\U0010FFFF\"  #BMP characters 이외\n",
    "            \"]+\", flags=re.UNICODE)\n",
    "\n",
    "    return emoji_pattern.sub(r'', inputData) # no emoji\n"
   ]
  },
  {
   "cell_type": "code",
   "execution_count": 122,
   "metadata": {},
   "outputs": [
    {
     "name": "stderr",
     "output_type": "stream",
     "text": [
      "100%|██████████| 214/214 [00:10<00:00, 19.89it/s]\n"
     ]
    },
    {
     "data": {
      "text/plain": [
       "[['ㄹ',\n",
       "  '겨울',\n",
       "  '주목',\n",
       "  '면',\n",
       "  '좋',\n",
       "  '아우터',\n",
       "  '!',\n",
       "  '?',\n",
       "  '+',\n",
       "  '아이템',\n",
       "  '추천',\n",
       "  '!',\n",
       "  '【',\n",
       "  '패션',\n",
       "  '토크',\n",
       "  '】'],\n",
       " ['옷장',\n",
       "  '속',\n",
       "  '26',\n",
       "  '가지',\n",
       "  '가을',\n",
       "  '/',\n",
       "  '겨울',\n",
       "  '아우터',\n",
       "  '몽땅',\n",
       "  '입',\n",
       "  '보',\n",
       "  '기',\n",
       "  'FW',\n",
       "  '자켓',\n",
       "  ',',\n",
       "  '트렌치',\n",
       "  ',',\n",
       "  '코트',\n",
       "  ',',\n",
       "  '푸',\n",
       "  '자켓',\n",
       "  ',',\n",
       "  '패딩',\n",
       "  '!'],\n",
       " ['가을',\n",
       "  ',',\n",
       "  '겨울',\n",
       "  '필수',\n",
       "  '템',\n",
       "  '/',\n",
       "  '아우터',\n",
       "  '활용',\n",
       "  'ㄴ',\n",
       "  '가을',\n",
       "  '코디',\n",
       "  '(',\n",
       "  'feat',\n",
       "  '.',\n",
       "  '남자',\n",
       "  '디',\n",
       "  '건',\n",
       "  '코디',\n",
       "  'best',\n",
       "  '20',\n",
       "  ')']]"
      ]
     },
     "execution_count": 122,
     "metadata": {},
     "output_type": "execute_result"
    }
   ],
   "source": [
    "#불용어 읽어오기\n",
    "stopwords = pd.read_csv(\"stopwords.txt\")\n",
    "stopwords = stopwords['word'].tolist()\n",
    "\n",
    "#불용어제거 + 토큰화\n",
    "tk = []\n",
    "for sentence in tqdm(yyy['title']) :\n",
    "    sentence = rmEmoji(sentence) # 이모티콘 제거\n",
    "    tokenized_sentence = kkma.morphs(sentence) # 토큰화\n",
    "    stopwords_removed_sentence = [word for word in tokenized_sentence if not word in stopwords] # 불용어 제거\n",
    "    tk.append(stopwords_removed_sentence)\n",
    "\n",
    "# 정수 인코딩\n",
    "tokenizer = Tokenizer()\n",
    "tokenizer.fit_on_texts(tk)"
   ]
  },
  {
   "cell_type": "markdown",
   "metadata": {},
   "source": [
    "# 최근 2개 반환"
   ]
  },
  {
   "cell_type": "code",
   "execution_count": null,
   "metadata": {},
   "outputs": [],
   "source": [
    "#날짜순 정렬\n",
    "yt_data = yt_data.sort_values(by = 'date')\n",
    "view_data = view_data.sort_values(by = 'date')"
   ]
  },
  {
   "cell_type": "code",
   "execution_count": 113,
   "metadata": {},
   "outputs": [
    {
     "data": {
      "text/plain": [
       "['https://www.youtube.com/watch?v=DqL0JBoydgc',\n",
       " 'https://www.youtube.com/watch?v=abA5qmSX43c']"
      ]
     },
     "execution_count": 113,
     "metadata": {},
     "output_type": "execute_result"
    }
   ],
   "source": [
    "urllist = yt_data.tail(2)['url'].tolist()\n",
    "urllist"
   ]
  },
  {
   "cell_type": "code",
   "execution_count": null,
   "metadata": {},
   "outputs": [],
   "source": [
    "titlelist = yt_data.tail(2)['title'].tolist()"
   ]
  },
  {
   "cell_type": "code",
   "execution_count": 112,
   "metadata": {},
   "outputs": [
    {
     "data": {
      "text/plain": [
       "['https://blog.naver.com/rhksgn/222751577597',\n",
       " 'https://blog.naver.com/kagama007/222748977223']"
      ]
     },
     "execution_count": 112,
     "metadata": {},
     "output_type": "execute_result"
    }
   ],
   "source": [
    "urllist = view_data.tail(2)['url'].tolist()\n",
    "urllist"
   ]
  },
  {
   "cell_type": "code",
   "execution_count": 118,
   "metadata": {},
   "outputs": [
    {
     "name": "stdout",
     "output_type": "stream",
     "text": [
      "href={'https://www.youtube.com/watch?v=DqL0JBoydgc/'}\n",
      "<a href=\"{url}\">\n"
     ]
    }
   ],
   "source": [
    "url = 'https://www.youtube.com/watch?v=DqL0JBoydgc'+'/'\n",
    "print(\"\"\"href={'%s'}\"\"\"%url)\n",
    "print('<a href=\"{url}\">')"
   ]
  },
  {
   "cell_type": "code",
   "execution_count": null,
   "metadata": {},
   "outputs": [],
   "source": []
  }
 ],
 "metadata": {
  "interpreter": {
   "hash": "f08154012ddadd8e950e6e9e035c7a7b32c136e7647e9b7c77e02eb723a8bedb"
  },
  "kernelspec": {
   "display_name": "Python 3.9.7 ('base')",
   "language": "python",
   "name": "python3"
  },
  "language_info": {
   "codemirror_mode": {
    "name": "ipython",
    "version": 3
   },
   "file_extension": ".py",
   "mimetype": "text/x-python",
   "name": "python",
   "nbconvert_exporter": "python",
   "pygments_lexer": "ipython3",
   "version": "3.9.7"
  },
  "orig_nbformat": 4
 },
 "nbformat": 4,
 "nbformat_minor": 2
}
