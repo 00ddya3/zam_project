{
 "cells": [
  {
   "cell_type": "code",
   "execution_count": 1,
   "metadata": {},
   "outputs": [],
   "source": [
    "from selenium import webdriver\n",
    "from selenium.webdriver.common.keys import Keys\n",
    "from bs4 import BeautifulSoup\n",
    "import pandas as pd\n",
    "import time\n",
    "import warnings\n",
    "import psycopg2"
   ]
  },
  {
   "cell_type": "code",
   "execution_count": 2,
   "metadata": {},
   "outputs": [],
   "source": [
    "#스크롤 함수\n",
    "def scroll_down(driver):\n",
    "    driver.execute_script(\"window.scrollTo(0,6000);\")\n",
    "    time.sleep(2)"
   ]
  },
  {
   "cell_type": "markdown",
   "metadata": {},
   "source": [
    "뷔스티에 원피스, 롱패딩, 숏패딩, 롱코트, 숏코트, 잠옷, 홈웨어, 트위드자켓, 블레이저 자켓\n",
    "자켓 해야함 안돌림~~~"
   ]
  },
  {
   "cell_type": "code",
   "execution_count": 73,
   "metadata": {},
   "outputs": [],
   "source": [
    "warnings.filterwarnings(action='ignore')\n",
    "\n",
    "driver = webdriver.Chrome('C:\\chromedriver.exe')\n",
    "\n",
    "# 키워드를 검색한 유튜브 주소 접속\n",
    "keyword = '블레이저 자켓'\n",
    "url = 'https://www.youtube.com/results?search_query={}'.format(keyword)\n",
    "driver.get(url)\n",
    "\n",
    "#사이트 최대화\n",
    "driver.maximize_window()\n",
    "\n",
    "# 필터 클릭\n",
    "driver.find_element_by_xpath('/html/body/ytd-app/div/ytd-page-manager/ytd-search/div[1]/ytd-two-column-search-results-renderer/div/ytd-section-list-renderer/div[1]/div[2]/ytd-search-sub-menu-renderer/div[1]/div/ytd-toggle-button-renderer/a/tp-yt-paper-button').click()\n",
    "time.sleep(1)\n",
    "\n",
    "# 구분 -> 동영상 클릭\n",
    "driver.find_element_by_xpath('/html/body/ytd-app/div/ytd-page-manager/ytd-search/div[1]/ytd-two-column-search-results-renderer/div/ytd-section-list-renderer/div[1]/div[2]/ytd-search-sub-menu-renderer/div[1]/iron-collapse/div/ytd-search-filter-group-renderer[2]/ytd-search-filter-renderer[1]/a/div/yt-formatted-string').click()\n",
    "\n",
    "# 업로드 날짜 -> 올해 클릭\n",
    "driver.find_element_by_xpath('/html/body/ytd-app/div[1]/ytd-page-manager/ytd-search/div[1]/ytd-two-column-search-results-renderer/div/ytd-section-list-renderer/div[1]/div[2]/ytd-search-sub-menu-renderer/div[1]/iron-collapse/div/ytd-search-filter-group-renderer[1]/ytd-search-filter-renderer[5]/a').click()"
   ]
  },
  {
   "cell_type": "code",
   "execution_count": 74,
   "metadata": {},
   "outputs": [
    {
     "name": "stdout",
     "output_type": "stream",
     "text": [
      "영상 개수:  58\n"
     ]
    }
   ],
   "source": [
    "# 제목 & 링크 크롤링\n",
    "\n",
    "# 스크롤 다운 50번 실행\n",
    "body = driver.find_element_by_tag_name('body')\n",
    "body.send_keys(Keys.PAGE_DOWN)\n",
    "\n",
    "for i in range(1,50):\n",
    "    body.send_keys(Keys.PAGE_DOWN)\n",
    "    time.sleep(1)\n",
    "\n",
    "soup = BeautifulSoup(driver.page_source, 'html.parser')\n",
    "name = soup.select('a#video-title')\n",
    "video_url = soup.select('a#video-title')\n",
    "\n",
    "video_num_list = [] #영상번호\n",
    "name_list = [] #영상제목\n",
    "url_list = [] #영상주소\n",
    "\n",
    "for i in range(len(name)):\n",
    "    video_num_list.append(i+1)\n",
    "    name_list.append(name[i].text.strip())\n",
    "\n",
    "for i in video_url:\n",
    "    url_list.append('{}{}'.format('https://www.youtube.com',i.get('href')))\n",
    "\n",
    "print('영상 개수: ', len(name_list))"
   ]
  },
  {
   "cell_type": "code",
   "execution_count": null,
   "metadata": {},
   "outputs": [],
   "source": [
    "#업로드일 가져오기\n",
    "day_list = [] #업로드일\n",
    "\n",
    "#업로드 일자 가져오기\n",
    "for i in range(0,len(name_list)):\n",
    "    \n",
    "    if url_list[i].split('/')[3] == 'shorts':  #쇼츠\n",
    "\n",
    "        print(i+1, ': 쇼츠', end=' ')\n",
    "\n",
    "        html_source = driver.page_source\n",
    "        soup = BeautifulSoup(html_source, 'html.parser')\n",
    "        \n",
    "        driver.get(url_list[i])\n",
    "\n",
    "        time.sleep(2)\n",
    "\n",
    "        #더보기 클릭\n",
    "        driver.find_element_by_xpath('/html/body/ytd-app/div[1]/ytd-page-manager/ytd-shorts/div[1]/ytd-reel-video-renderer[1]/div[2]/ytd-reel-player-overlay-renderer/div[2]/div[1]/ytd-menu-renderer/yt-icon-button/button/yt-icon').click()\n",
    "        time.sleep(2)\n",
    "\n",
    "        #설명 클릭\n",
    "        driver.find_element_by_xpath('/html/body/ytd-app/ytd-popup-container/tp-yt-iron-dropdown/div/ytd-menu-popup-renderer/tp-yt-paper-listbox/ytd-menu-service-item-renderer/tp-yt-paper-item').click()\n",
    "        time.sleep(2)\n",
    "\n",
    "        #업로드일 정보 가져오기\n",
    "        day = driver.find_element_by_id(\"publish-time\").text.split(':')[1].strip()\n",
    "\n",
    "        print(day)\n",
    "        day_list.append(day)\n",
    "\n",
    "    else :\n",
    "        print(i+1, ': 일반', end=' ')\n",
    "\n",
    "        driver.get(url_list[i])\n",
    "            \n",
    "        time.sleep(2)    \n",
    "\n",
    "        html_source = driver.page_source\n",
    "        soup = BeautifulSoup(html_source, 'html.parser')\n",
    "\n",
    "        time.sleep(2)  \n",
    "\n",
    "        #업로드일 정보 가져오기\n",
    "        day = soup.select('#formatted-snippet-text > span:nth-child(3)')[0].text\n",
    "        #day = driver.find_element_by_id(\"info-strings\").text.split('\\n')[0]\n",
    "        \n",
    "        time.sleep(2) \n",
    "\n",
    "        print(day)\n",
    "        day_list.append(day)"
   ]
  },
  {
   "cell_type": "code",
   "execution_count": 66,
   "metadata": {},
   "outputs": [
    {
     "data": {
      "text/html": [
       "<div>\n",
       "<style scoped>\n",
       "    .dataframe tbody tr th:only-of-type {\n",
       "        vertical-align: middle;\n",
       "    }\n",
       "\n",
       "    .dataframe tbody tr th {\n",
       "        vertical-align: top;\n",
       "    }\n",
       "\n",
       "    .dataframe thead th {\n",
       "        text-align: right;\n",
       "    }\n",
       "</style>\n",
       "<table border=\"1\" class=\"dataframe\">\n",
       "  <thead>\n",
       "    <tr style=\"text-align: right;\">\n",
       "      <th></th>\n",
       "      <th>제목</th>\n",
       "      <th>업로드일</th>\n",
       "      <th>주소</th>\n",
       "    </tr>\n",
       "  </thead>\n",
       "  <tbody>\n",
       "    <tr>\n",
       "      <th>149</th>\n",
       "      <td>[DIY] 봄맞이 트위드 자켓 만들기🧵｜모노테이프★ #shorts</td>\n",
       "      <td>2022-02-24</td>\n",
       "      <td>https://www.youtube.com/shorts/bfrfruGEss8</td>\n",
       "    </tr>\n",
       "    <tr>\n",
       "      <th>150</th>\n",
       "      <td>샤넬 트위드자켓 보이런던백 목걸이 팔찌 언박싱 CHANEL</td>\n",
       "      <td>2021-07-20</td>\n",
       "      <td>https://www.youtube.com/watch?v=agptHTT7V9I</td>\n",
       "    </tr>\n",
       "    <tr>\n",
       "      <th>151</th>\n",
       "      <td>트렌디한 트위드 자켓! 셀린 스타일 #Shorts #셀린자켓 #celine</td>\n",
       "      <td>2021-10-21</td>\n",
       "      <td>https://www.youtube.com/shorts/k6HUbjxQR0M</td>\n",
       "    </tr>\n",
       "    <tr>\n",
       "      <th>152</th>\n",
       "      <td>일상 브이로그 | 자라 하울을 곁들인 트위드 자켓 소개 | 밀키트로 요리하는 하루 ...</td>\n",
       "      <td>2022-03-16</td>\n",
       "      <td>https://www.youtube.com/watch?v=3XfpHbJjSMk</td>\n",
       "    </tr>\n",
       "    <tr>\n",
       "      <th>153</th>\n",
       "      <td>1분안에 트위드자켓 가성비 상품 추천순위 top10 정리</td>\n",
       "      <td>2022-04-21</td>\n",
       "      <td>https://www.youtube.com/watch?v=9p9vkYAE23E</td>\n",
       "    </tr>\n",
       "  </tbody>\n",
       "</table>\n",
       "</div>"
      ],
      "text/plain": [
       "                                                    제목       업로드일  \\\n",
       "149               [DIY] 봄맞이 트위드 자켓 만들기🧵｜모노테이프★ #shorts 2022-02-24   \n",
       "150                   샤넬 트위드자켓 보이런던백 목걸이 팔찌 언박싱 CHANEL 2021-07-20   \n",
       "151          트렌디한 트위드 자켓! 셀린 스타일 #Shorts #셀린자켓 #celine 2021-10-21   \n",
       "152  일상 브이로그 | 자라 하울을 곁들인 트위드 자켓 소개 | 밀키트로 요리하는 하루 ... 2022-03-16   \n",
       "153                    1분안에 트위드자켓 가성비 상품 추천순위 top10 정리 2022-04-21   \n",
       "\n",
       "                                              주소  \n",
       "149   https://www.youtube.com/shorts/bfrfruGEss8  \n",
       "150  https://www.youtube.com/watch?v=agptHTT7V9I  \n",
       "151   https://www.youtube.com/shorts/k6HUbjxQR0M  \n",
       "152  https://www.youtube.com/watch?v=3XfpHbJjSMk  \n",
       "153  https://www.youtube.com/watch?v=9p9vkYAE23E  "
      ]
     },
     "execution_count": 66,
     "metadata": {},
     "output_type": "execute_result"
    }
   ],
   "source": [
    "day_list2 = [] #전처리 후 업로드일\n",
    "\n",
    "#업로드일 날짜형식으로 통일화\n",
    "for day in day_list : \n",
    "    day = day.replace('.', '')\n",
    "    day = day.replace('최초 공개: ', '')\n",
    "    day = day.replace('실시간 스트리밍 시작일: ', '')\n",
    "    day = day.replace(' ', '-')\n",
    "    day_list2.append(day)\n",
    "\n",
    "#df화\n",
    "youtubeDic = {\n",
    "    '제목': name_list,\n",
    "    '업로드일': day_list2,\n",
    "    '주소': url_list,\n",
    "}\n",
    "\n",
    "youtubeDf = pd.DataFrame(youtubeDic)\n",
    "youtubeDf['업로드일'] = pd.to_datetime(youtubeDf['업로드일'])\n",
    "youtubeDf.tail()"
   ]
  },
  {
   "cell_type": "code",
   "execution_count": 59,
   "metadata": {},
   "outputs": [],
   "source": [
    "#select문 만들기\n",
    "def select_command(table) :\n",
    "    command = 'select * from ' + table\n",
    "    return command\n",
    "\n",
    "#insert문 만들기\n",
    "def insert_command(table) :\n",
    "    command = 'insert into ' + table + ' (title, date, url) values (%s, %s, %s);'\n",
    "    return command"
   ]
  },
  {
   "cell_type": "code",
   "execution_count": 67,
   "metadata": {},
   "outputs": [],
   "source": [
    "#postgresql 접속\n",
    "conn_string = \"host='localhost' dbname='postgres' user='postgres' password='admin'\"\n",
    "conn = psycopg2.connect(conn_string)\n",
    "cur = conn.cursor()\n",
    "\n",
    "table = input('테이블명 입력 :')\n",
    "\n",
    "#table에 데이터 넣기\n",
    "for i in range(len(youtubeDf)) :\n",
    "    cur.execute(insert_command(table), (youtubeDf.iloc[i][0], youtubeDf.iloc[i][1], youtubeDf.iloc[i][2]))\n",
    "    conn.commit()\n"
   ]
  },
  {
   "cell_type": "code",
   "execution_count": 70,
   "metadata": {},
   "outputs": [
    {
     "ename": "InterfaceError",
     "evalue": "cursor already closed",
     "output_type": "error",
     "traceback": [
      "\u001b[1;31m---------------------------------------------------------------------------\u001b[0m",
      "\u001b[1;31mInterfaceError\u001b[0m                            Traceback (most recent call last)",
      "\u001b[1;32m~\\AppData\\Local\\Temp/ipykernel_5988/1053661121.py\u001b[0m in \u001b[0;36m<module>\u001b[1;34m\u001b[0m\n\u001b[0;32m      1\u001b[0m \u001b[1;31m#table 확인하기\u001b[0m\u001b[1;33m\u001b[0m\u001b[1;33m\u001b[0m\u001b[0m\n\u001b[1;32m----> 2\u001b[1;33m \u001b[0mcur\u001b[0m\u001b[1;33m.\u001b[0m\u001b[0mexecute\u001b[0m\u001b[1;33m(\u001b[0m\u001b[0mselect_command\u001b[0m\u001b[1;33m(\u001b[0m\u001b[0mtable\u001b[0m\u001b[1;33m)\u001b[0m\u001b[1;33m)\u001b[0m\u001b[1;33m\u001b[0m\u001b[1;33m\u001b[0m\u001b[0m\n\u001b[0m\u001b[0;32m      3\u001b[0m \u001b[0mconn\u001b[0m\u001b[1;33m.\u001b[0m\u001b[0mcommit\u001b[0m\u001b[1;33m(\u001b[0m\u001b[1;33m)\u001b[0m\u001b[1;33m\u001b[0m\u001b[1;33m\u001b[0m\u001b[0m\n\u001b[0;32m      4\u001b[0m \u001b[0mcur\u001b[0m\u001b[1;33m.\u001b[0m\u001b[0mfetchall\u001b[0m\u001b[1;33m(\u001b[0m\u001b[1;33m)\u001b[0m\u001b[1;33m\u001b[0m\u001b[1;33m\u001b[0m\u001b[0m\n",
      "\u001b[1;31mInterfaceError\u001b[0m: cursor already closed"
     ]
    }
   ],
   "source": [
    "#table 확인하기\n",
    "cur.execute(select_command(table))\n",
    "conn.commit()\n",
    "cur.fetchall()"
   ]
  },
  {
   "cell_type": "code",
   "execution_count": 69,
   "metadata": {},
   "outputs": [],
   "source": [
    "#db 연결 종료\n",
    "conn.cursor().close()\n",
    "conn.close()"
   ]
  },
  {
   "cell_type": "markdown",
   "metadata": {},
   "source": [
    "create table yt_clothes (\n",
    "\tid serial,\n",
    "\ttitle varchar(100),\n",
    "\tdate date,\n",
    "\turl varchar(200));"
   ]
  },
  {
   "cell_type": "markdown",
   "metadata": {},
   "source": []
  }
 ],
 "metadata": {
  "interpreter": {
   "hash": "f08154012ddadd8e950e6e9e035c7a7b32c136e7647e9b7c77e02eb723a8bedb"
  },
  "kernelspec": {
   "display_name": "Python 3.9.7 ('base')",
   "language": "python",
   "name": "python3"
  },
  "language_info": {
   "codemirror_mode": {
    "name": "ipython",
    "version": 3
   },
   "file_extension": ".py",
   "mimetype": "text/x-python",
   "name": "python",
   "nbconvert_exporter": "python",
   "pygments_lexer": "ipython3",
   "version": "3.9.7"
  },
  "orig_nbformat": 4
 },
 "nbformat": 4,
 "nbformat_minor": 2
}
